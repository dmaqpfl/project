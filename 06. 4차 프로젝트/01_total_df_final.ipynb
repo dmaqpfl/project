{
 "cells": [
  {
   "cell_type": "code",
   "execution_count": 1,
   "id": "94144890",
   "metadata": {},
   "outputs": [],
   "source": [
    "import os\n",
    "import pandas as pd\n",
    "import numpy as np\n",
    "import matplotlib.pyplot as plt\n",
    "import seaborn as sns\n",
    "import datetime as dt\n",
    "import re"
   ]
  },
  {
   "cell_type": "code",
   "execution_count": 2,
   "id": "8d8a4211",
   "metadata": {
    "collapsed": true
   },
   "outputs": [
    {
     "data": {
      "text/plain": [
       "['01_CNY_KRW_내역',\n",
       " '01_EUR_KRW_내역',\n",
       " '01_USD_KRW_내역',\n",
       " '02_Dow_Jones_30_선물_과거_데이터',\n",
       " '02_Euro_Stoxx_선물_과거_데이터',\n",
       " '02_네덜란드_AEX_선물_과거_데이터',\n",
       " '02_노르웨이_OBX_선물_과거_데이터',\n",
       " '02_독일_DAX_선물_과거_데이터',\n",
       " '02_인도_니프티_선물_과거_데이터',\n",
       " '02_일본_닛케이_선물_과거_데이터',\n",
       " '02_코스피200_선물_(F)_선물_과거_데이터',\n",
       " '02_프랑스_CAC_선물_과거_데이터',\n",
       " '02_호주_S&P_ASX_선물_과거_데이터',\n",
       " '03_WTI유_선물_내역',\n",
       " '03_두바이유_내역',\n",
       " '03_브렌트유_선물_내역',\n",
       " '03_천연가스_선물_내역',\n",
       " '04_구리_선물_내역',\n",
       " '04_금_선물_내역',\n",
       " '04_런던_설탕_선물_내역',\n",
       " '04_런던_소맥_선물_내역',\n",
       " '04_런던_커피_선물_내역',\n",
       " '04_미국_옥수수_선물_내역',\n",
       " '04_육우_선물_내역',\n",
       " '04_은_선물_내역',\n",
       " '05_Bitcoin_비트코인_과거_데이터',\n",
       " '05_다우존스_내역',\n",
       " '05_유로_스톡스_50_내역',\n",
       " 'y_탄소배출권_선물_내역']"
      ]
     },
     "execution_count": 2,
     "metadata": {},
     "output_type": "execute_result"
    }
   ],
   "source": [
    "x_list = []\n",
    "for i in os.listdir('./files') :\n",
    "    x_list.append(i.split('.')[0])\n",
    "x_list"
   ]
  },
  {
   "cell_type": "code",
   "execution_count": 3,
   "id": "8fee4a30",
   "metadata": {},
   "outputs": [
    {
     "data": {
      "text/plain": [
       "datetime.timedelta(days=2130)"
      ]
     },
     "execution_count": 3,
     "metadata": {},
     "output_type": "execute_result"
    }
   ],
   "source": [
    "dt.datetime(2021,10,31) - dt.datetime(2016,1,1)"
   ]
  },
  {
   "cell_type": "code",
   "execution_count": 4,
   "id": "78060250",
   "metadata": {
    "scrolled": true
   },
   "outputs": [
    {
     "data": {
      "text/plain": [
       "DatetimeIndex(['2021-10-31', '2021-10-30', '2021-10-29', '2021-10-28',\n",
       "               '2021-10-27', '2021-10-26', '2021-10-25', '2021-10-24',\n",
       "               '2021-10-23', '2021-10-22',\n",
       "               ...\n",
       "               '2016-01-10', '2016-01-09', '2016-01-08', '2016-01-07',\n",
       "               '2016-01-06', '2016-01-05', '2016-01-04', '2016-01-03',\n",
       "               '2016-01-02', '2016-01-01'],\n",
       "              dtype='datetime64[ns]', length=2131, freq='-1D')"
      ]
     },
     "execution_count": 4,
     "metadata": {},
     "output_type": "execute_result"
    }
   ],
   "source": [
    "dateline = pd.date_range('2016-01-01',periods = 2131, freq = 'D' ).sort_values(ascending = False)\n",
    "dateline"
   ]
  },
  {
   "cell_type": "code",
   "execution_count": 5,
   "id": "0f249a5c",
   "metadata": {},
   "outputs": [],
   "source": [
    "def date_change(t):\n",
    "    t = re.sub(\"[^\\s0-9\\s]\", '', t)\n",
    "    return t"
   ]
  },
  {
   "cell_type": "code",
   "execution_count": 6,
   "id": "78c9c637",
   "metadata": {
    "collapsed": true
   },
   "outputs": [
    {
     "name": "stdout",
     "output_type": "stream",
     "text": [
      "(1521, 2)\n",
      "x_01_CNY_KRW_내역\n",
      "(1521, 2)\n",
      "x_01_EUR_KRW_내역\n",
      "(1521, 2)\n",
      "x_01_USD_KRW_내역\n",
      "(1549, 2)\n",
      "x_02_Dow_Jones_30_선물_과거_데이터\n",
      "(1491, 2)\n",
      "x_02_Euro_Stoxx_선물_과거_데이터\n",
      "(1492, 2)\n",
      "x_02_네덜란드_AEX_선물_과거_데이터\n",
      "(1461, 2)\n",
      "x_02_노르웨이_OBX_선물_과거_데이터\n",
      "(1497, 2)\n",
      "x_02_독일_DAX_선물_과거_데이터\n",
      "(1516, 2)\n",
      "x_02_인도_니프티_선물_과거_데이터\n",
      "(1555, 2)\n",
      "x_02_일본_닛케이_선물_과거_데이터\n",
      "(1431, 2)\n",
      "x_02_코스피200_선물_(F)_선물_과거_데이터\n",
      "(1492, 2)\n",
      "x_02_프랑스_CAC_선물_과거_데이터\n",
      "(1523, 2)\n",
      "x_02_호주_S&P_ASX_선물_과거_데이터\n",
      "(1538, 2)\n",
      "x_03_WTI유_선물_내역\n",
      "(1466, 2)\n",
      "x_03_두바이유_내역\n",
      "(1505, 2)\n",
      "x_03_브렌트유_선물_내역\n",
      "(1537, 2)\n",
      "x_03_천연가스_선물_내역\n",
      "(1506, 2)\n",
      "x_04_구리_선물_내역\n",
      "(1543, 2)\n",
      "x_04_금_선물_내역\n",
      "(1479, 2)\n",
      "x_04_런던_설탕_선물_내역\n",
      "(1475, 2)\n",
      "x_04_런던_소맥_선물_내역\n",
      "(1486, 2)\n",
      "x_04_런던_커피_선물_내역\n",
      "(1491, 2)\n",
      "x_04_미국_옥수수_선물_내역\n",
      "(1475, 2)\n",
      "x_04_육우_선물_내역\n",
      "(1815, 2)\n",
      "x_04_은_선물_내역\n",
      "(2131, 2)\n",
      "x_05_Bitcoin_비트코인_과거_데이터\n",
      "(1468, 2)\n",
      "x_05_다우존스_내역\n",
      "(1495, 2)\n",
      "x_05_유로_스톡스_50_내역\n",
      "(1497, 2)\n",
      "x_y_탄소배출권_선물_내역\n"
     ]
    }
   ],
   "source": [
    "total_df = pd.DataFrame()\n",
    "total_df['날짜'] = dateline\n",
    "\n",
    "\n",
    "for i in range(len(x_list)):\n",
    "    globals()['x_{}'.format(x_list[i])]= pd.read_csv('./files/'+x_list[i]+'.csv')[['날짜','종가']]\n",
    "    globals()['x_{}'.format(x_list[i])].columns = ['날짜','{}종가'.format(x_list[i])]\n",
    "    globals()['x_{}'.format(x_list[i])]['날짜'] = globals()['x_{}'.format(x_list[i])]['날짜'].apply(lambda x : date_change(x))\n",
    "    globals()['x_{}'.format(x_list[i])]['날짜'] = globals()['x_{}'.format(x_list[i])]['날짜'].astype('datetime64[ns]')\n",
    "    print(globals()['x_{}'.format(x_list[i])].shape)\n",
    "#     total_df = pd.concat([total_df,globals()['x_{}'.format(x_list[i])]], axis = 1)\n",
    "    total_df = pd.merge(total_df, globals()['x_{}'.format(x_list[i])], how = 'outer' )\n",
    "    print('x_{}'.format(x_list[i]))"
   ]
  },
  {
   "cell_type": "code",
   "execution_count": 7,
   "id": "bb3d9b2d",
   "metadata": {},
   "outputs": [],
   "source": [
    "total_df = total_df.dropna()"
   ]
  },
  {
   "cell_type": "code",
   "execution_count": 8,
   "id": "cf8af2f0",
   "metadata": {
    "scrolled": true
   },
   "outputs": [
    {
     "data": {
      "text/plain": [
       "날짜                              0\n",
       "01_CNY_KRW_내역종가                 0\n",
       "01_EUR_KRW_내역종가                 0\n",
       "01_USD_KRW_내역종가                 0\n",
       "02_Dow_Jones_30_선물_과거_데이터종가     0\n",
       "02_Euro_Stoxx_선물_과거_데이터종가       0\n",
       "02_네덜란드_AEX_선물_과거_데이터종가         0\n",
       "02_노르웨이_OBX_선물_과거_데이터종가         0\n",
       "02_독일_DAX_선물_과거_데이터종가           0\n",
       "02_인도_니프티_선물_과거_데이터종가           0\n",
       "02_일본_닛케이_선물_과거_데이터종가           0\n",
       "02_코스피200_선물_(F)_선물_과거_데이터종가    0\n",
       "02_프랑스_CAC_선물_과거_데이터종가          0\n",
       "02_호주_S&P_ASX_선물_과거_데이터종가       0\n",
       "03_WTI유_선물_내역종가                 0\n",
       "03_두바이유_내역종가                    0\n",
       "03_브렌트유_선물_내역종가                 0\n",
       "03_천연가스_선물_내역종가                 0\n",
       "04_구리_선물_내역종가                   0\n",
       "04_금_선물_내역종가                    0\n",
       "04_런던_설탕_선물_내역종가                0\n",
       "04_런던_소맥_선물_내역종가                0\n",
       "04_런던_커피_선물_내역종가                0\n",
       "04_미국_옥수수_선물_내역종가               0\n",
       "04_육우_선물_내역종가                   0\n",
       "04_은_선물_내역종가                    0\n",
       "05_Bitcoin_비트코인_과거_데이터종가        0\n",
       "05_다우존스_내역종가                    0\n",
       "05_유로_스톡스_50_내역종가               0\n",
       "y_탄소배출권_선물_내역종가                 0\n",
       "dtype: int64"
      ]
     },
     "execution_count": 8,
     "metadata": {},
     "output_type": "execute_result"
    }
   ],
   "source": [
    "total_df.isnull().sum()"
   ]
  },
  {
   "cell_type": "code",
   "execution_count": 9,
   "id": "a06a38f8",
   "metadata": {
    "scrolled": false
   },
   "outputs": [],
   "source": [
    "i = 0\n",
    "while i < len(total_df.columns) :\n",
    "    try : \n",
    "        if total_df.iloc[:,i].dtypes == 'object':\n",
    "            total_df.iloc[:,i] = total_df.iloc[:,i].apply(lambda x : x.replace(',', ''))\n",
    "            total_df.iloc[:,i] = total_df.iloc[:,i].astype('float64')       \n",
    "    except : \n",
    "        pass\n",
    "    i +=1\n",
    "#     print(i)"
   ]
  },
  {
   "cell_type": "code",
   "execution_count": 10,
   "id": "a976400f",
   "metadata": {},
   "outputs": [
    {
     "name": "stdout",
     "output_type": "stream",
     "text": [
      "<class 'pandas.core.frame.DataFrame'>\n",
      "Int64Index: 1336 entries, 2 to 2127\n",
      "Data columns (total 30 columns):\n",
      " #   Column                        Non-Null Count  Dtype         \n",
      "---  ------                        --------------  -----         \n",
      " 0   날짜                            1336 non-null   datetime64[ns]\n",
      " 1   01_CNY_KRW_내역종가               1336 non-null   float64       \n",
      " 2   01_EUR_KRW_내역종가               1336 non-null   float64       \n",
      " 3   01_USD_KRW_내역종가               1336 non-null   float64       \n",
      " 4   02_Dow_Jones_30_선물_과거_데이터종가   1336 non-null   float64       \n",
      " 5   02_Euro_Stoxx_선물_과거_데이터종가     1336 non-null   float64       \n",
      " 6   02_네덜란드_AEX_선물_과거_데이터종가       1336 non-null   float64       \n",
      " 7   02_노르웨이_OBX_선물_과거_데이터종가       1336 non-null   float64       \n",
      " 8   02_독일_DAX_선물_과거_데이터종가         1336 non-null   float64       \n",
      " 9   02_인도_니프티_선물_과거_데이터종가         1336 non-null   float64       \n",
      " 10  02_일본_닛케이_선물_과거_데이터종가         1336 non-null   float64       \n",
      " 11  02_코스피200_선물_(F)_선물_과거_데이터종가  1336 non-null   float64       \n",
      " 12  02_프랑스_CAC_선물_과거_데이터종가        1336 non-null   float64       \n",
      " 13  02_호주_S&P_ASX_선물_과거_데이터종가     1336 non-null   float64       \n",
      " 14  03_WTI유_선물_내역종가               1336 non-null   float64       \n",
      " 15  03_두바이유_내역종가                  1336 non-null   float64       \n",
      " 16  03_브렌트유_선물_내역종가               1336 non-null   float64       \n",
      " 17  03_천연가스_선물_내역종가               1336 non-null   float64       \n",
      " 18  04_구리_선물_내역종가                 1336 non-null   float64       \n",
      " 19  04_금_선물_내역종가                  1336 non-null   float64       \n",
      " 20  04_런던_설탕_선물_내역종가              1336 non-null   float64       \n",
      " 21  04_런던_소맥_선물_내역종가              1336 non-null   float64       \n",
      " 22  04_런던_커피_선물_내역종가              1336 non-null   float64       \n",
      " 23  04_미국_옥수수_선물_내역종가             1336 non-null   float64       \n",
      " 24  04_육우_선물_내역종가                 1336 non-null   float64       \n",
      " 25  04_은_선물_내역종가                  1336 non-null   float64       \n",
      " 26  05_Bitcoin_비트코인_과거_데이터종가      1336 non-null   float64       \n",
      " 27  05_다우존스_내역종가                  1336 non-null   float64       \n",
      " 28  05_유로_스톡스_50_내역종가             1336 non-null   float64       \n",
      " 29  y_탄소배출권_선물_내역종가               1336 non-null   float64       \n",
      "dtypes: datetime64[ns](1), float64(29)\n",
      "memory usage: 323.6 KB\n"
     ]
    }
   ],
   "source": [
    "total_df.info()"
   ]
  },
  {
   "cell_type": "code",
   "execution_count": 378,
   "id": "daae56c9",
   "metadata": {},
   "outputs": [],
   "source": [
    "total_df.to_csv('total_df.csv', encoding = 'utf-8-sig')"
   ]
  },
  {
   "cell_type": "code",
   "execution_count": null,
   "id": "e5ce8cbf",
   "metadata": {},
   "outputs": [],
   "source": []
  },
  {
   "cell_type": "code",
   "execution_count": null,
   "id": "fb597793",
   "metadata": {},
   "outputs": [],
   "source": []
  },
  {
   "cell_type": "code",
   "execution_count": null,
   "id": "f564bbc0",
   "metadata": {},
   "outputs": [],
   "source": []
  }
 ],
 "metadata": {
  "kernelspec": {
   "display_name": "Python 3",
   "language": "python",
   "name": "python3"
  },
  "language_info": {
   "codemirror_mode": {
    "name": "ipython",
    "version": 3
   },
   "file_extension": ".py",
   "mimetype": "text/x-python",
   "name": "python",
   "nbconvert_exporter": "python",
   "pygments_lexer": "ipython3",
   "version": "3.8.8"
  }
 },
 "nbformat": 4,
 "nbformat_minor": 5
}
