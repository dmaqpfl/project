{
 "cells": [
  {
   "cell_type": "code",
   "execution_count": 2,
   "id": "d75aee01",
   "metadata": {},
   "outputs": [],
   "source": [
    "import numpy as np\n",
    "import pandas as pd"
   ]
  },
  {
   "cell_type": "code",
   "execution_count": 3,
   "id": "69226d0b",
   "metadata": {},
   "outputs": [],
   "source": [
    "import matplotlib.pyplot as plt"
   ]
  },
  {
   "cell_type": "code",
   "execution_count": 4,
   "id": "cf0cb41b",
   "metadata": {},
   "outputs": [],
   "source": [
    "import matplotlib as mpl\n",
    "import matplotlib.font_manager as fm\n",
    "\n",
    "mpl.rcParams['axes.unicode_minus']= False\n",
    "\n",
    "path = 'C:/Windows/Fonts/malgun.ttf'\n",
    "font_name = fm.FontProperties(fname = path, size = 50).get_name()\n",
    "plt.rc('font', family=font_name)"
   ]
  },
  {
   "cell_type": "code",
   "execution_count": 5,
   "id": "8b764322",
   "metadata": {
    "collapsed": true
   },
   "outputs": [
    {
     "data": {
      "text/html": [
       "<div>\n",
       "<style scoped>\n",
       "    .dataframe tbody tr th:only-of-type {\n",
       "        vertical-align: middle;\n",
       "    }\n",
       "\n",
       "    .dataframe tbody tr th {\n",
       "        vertical-align: top;\n",
       "    }\n",
       "\n",
       "    .dataframe thead th {\n",
       "        text-align: right;\n",
       "    }\n",
       "</style>\n",
       "<table border=\"1\" class=\"dataframe\">\n",
       "  <thead>\n",
       "    <tr style=\"text-align: right;\">\n",
       "      <th></th>\n",
       "      <th>상가업소번호</th>\n",
       "      <th>상호명</th>\n",
       "      <th>지점명</th>\n",
       "      <th>상권업종대분류코드</th>\n",
       "      <th>상권업종대분류명</th>\n",
       "      <th>상권업종중분류코드</th>\n",
       "      <th>상권업종중분류명</th>\n",
       "      <th>상권업종소분류코드</th>\n",
       "      <th>상권업종소분류명</th>\n",
       "      <th>표준산업분류코드</th>\n",
       "      <th>...</th>\n",
       "      <th>건물관리번호</th>\n",
       "      <th>건물명</th>\n",
       "      <th>도로명주소</th>\n",
       "      <th>구우편번호</th>\n",
       "      <th>신우편번호</th>\n",
       "      <th>동정보</th>\n",
       "      <th>층정보</th>\n",
       "      <th>호정보</th>\n",
       "      <th>경도</th>\n",
       "      <th>위도</th>\n",
       "    </tr>\n",
       "  </thead>\n",
       "  <tbody>\n",
       "    <tr>\n",
       "      <th>0</th>\n",
       "      <td>17174175</td>\n",
       "      <td>비지트</td>\n",
       "      <td>NaN</td>\n",
       "      <td>Q</td>\n",
       "      <td>음식</td>\n",
       "      <td>Q01</td>\n",
       "      <td>한식</td>\n",
       "      <td>Q01A01</td>\n",
       "      <td>한식/백반/한정식</td>\n",
       "      <td>I56111</td>\n",
       "      <td>...</td>\n",
       "      <td>1165010100108540018009586</td>\n",
       "      <td>상랑의빌딩</td>\n",
       "      <td>서울특별시 서초구 동광로18길 82</td>\n",
       "      <td>137837</td>\n",
       "      <td>6572.0</td>\n",
       "      <td>NaN</td>\n",
       "      <td>1</td>\n",
       "      <td>NaN</td>\n",
       "      <td>126.991394</td>\n",
       "      <td>37.488375</td>\n",
       "    </tr>\n",
       "    <tr>\n",
       "      <th>1</th>\n",
       "      <td>17174119</td>\n",
       "      <td>쓰리에프</td>\n",
       "      <td>NaN</td>\n",
       "      <td>Q</td>\n",
       "      <td>음식</td>\n",
       "      <td>Q01</td>\n",
       "      <td>한식</td>\n",
       "      <td>Q01A01</td>\n",
       "      <td>한식/백반/한정식</td>\n",
       "      <td>I56111</td>\n",
       "      <td>...</td>\n",
       "      <td>1159010700101390073009536</td>\n",
       "      <td>NaN</td>\n",
       "      <td>서울특별시 동작구 동작대로27가길 12</td>\n",
       "      <td>156816</td>\n",
       "      <td>7008.0</td>\n",
       "      <td>NaN</td>\n",
       "      <td>NaN</td>\n",
       "      <td>NaN</td>\n",
       "      <td>126.980952</td>\n",
       "      <td>37.487105</td>\n",
       "    </tr>\n",
       "  </tbody>\n",
       "</table>\n",
       "<p>2 rows × 39 columns</p>\n",
       "</div>"
      ],
      "text/plain": [
       "     상가업소번호   상호명  지점명 상권업종대분류코드 상권업종대분류명 상권업종중분류코드 상권업종중분류명 상권업종소분류코드  \\\n",
       "0  17174175   비지트  NaN         Q       음식       Q01       한식    Q01A01   \n",
       "1  17174119  쓰리에프  NaN         Q       음식       Q01       한식    Q01A01   \n",
       "\n",
       "    상권업종소분류명 표준산업분류코드  ...                     건물관리번호    건물명  \\\n",
       "0  한식/백반/한정식   I56111  ...  1165010100108540018009586  상랑의빌딩   \n",
       "1  한식/백반/한정식   I56111  ...  1159010700101390073009536    NaN   \n",
       "\n",
       "                   도로명주소   구우편번호   신우편번호  동정보  층정보  호정보          경도         위도  \n",
       "0    서울특별시 서초구 동광로18길 82  137837  6572.0  NaN    1  NaN  126.991394  37.488375  \n",
       "1  서울특별시 동작구 동작대로27가길 12  156816  7008.0  NaN  NaN  NaN  126.980952  37.487105  \n",
       "\n",
       "[2 rows x 39 columns]"
      ]
     },
     "execution_count": 5,
     "metadata": {},
     "output_type": "execute_result"
    }
   ],
   "source": [
    "df =pd.read_csv('./pandas_project_소상공인상권정보_21년 6월_210819.csv')\n",
    "df.head(2)"
   ]
  },
  {
   "cell_type": "code",
   "execution_count": 6,
   "id": "d60d4a17",
   "metadata": {},
   "outputs": [
    {
     "data": {
      "text/plain": [
       "Index(['상가업소번호', '상호명', '지점명', '상권업종대분류코드', '상권업종대분류명', '상권업종중분류코드',\n",
       "       '상권업종중분류명', '상권업종소분류코드', '상권업종소분류명', '표준산업분류코드', '표준산업분류명', '시도코드',\n",
       "       '시도명', '시군구코드', '시군구명', '행정동코드', '행정동명', '법정동코드', '법정동명', '지번코드',\n",
       "       '대지구분코드', '대지구분명', '지번본번지', '지번부번지', '지번주소', '도로명코드', '도로명', '건물본번지',\n",
       "       '건물부번지', '건물관리번호', '건물명', '도로명주소', '구우편번호', '신우편번호', '동정보', '층정보',\n",
       "       '호정보', '경도', '위도'],\n",
       "      dtype='object')"
      ]
     },
     "execution_count": 6,
     "metadata": {},
     "output_type": "execute_result"
    }
   ],
   "source": [
    "df.columns"
   ]
  },
  {
   "cell_type": "code",
   "execution_count": 7,
   "id": "9d65ec50",
   "metadata": {
    "collapsed": true
   },
   "outputs": [
    {
     "data": {
      "text/html": [
       "<div>\n",
       "<style scoped>\n",
       "    .dataframe tbody tr th:only-of-type {\n",
       "        vertical-align: middle;\n",
       "    }\n",
       "\n",
       "    .dataframe tbody tr th {\n",
       "        vertical-align: top;\n",
       "    }\n",
       "\n",
       "    .dataframe thead th {\n",
       "        text-align: right;\n",
       "    }\n",
       "</style>\n",
       "<table border=\"1\" class=\"dataframe\">\n",
       "  <thead>\n",
       "    <tr style=\"text-align: right;\">\n",
       "      <th></th>\n",
       "      <th>상가업소번호</th>\n",
       "      <th>상호명</th>\n",
       "      <th>상권업종대분류명</th>\n",
       "      <th>상권업종중분류코드</th>\n",
       "      <th>상권업종중분류명</th>\n",
       "      <th>상권업종소분류코드</th>\n",
       "      <th>상권업종소분류명</th>\n",
       "      <th>표준산업분류코드</th>\n",
       "      <th>표준산업분류명</th>\n",
       "      <th>시도코드</th>\n",
       "      <th>시도명</th>\n",
       "      <th>시군구코드</th>\n",
       "      <th>시군구명</th>\n",
       "    </tr>\n",
       "  </thead>\n",
       "  <tbody>\n",
       "    <tr>\n",
       "      <th>0</th>\n",
       "      <td>17174175</td>\n",
       "      <td>비지트</td>\n",
       "      <td>음식</td>\n",
       "      <td>Q01</td>\n",
       "      <td>한식</td>\n",
       "      <td>Q01A01</td>\n",
       "      <td>한식/백반/한정식</td>\n",
       "      <td>I56111</td>\n",
       "      <td>한식 음식점업</td>\n",
       "      <td>11</td>\n",
       "      <td>서울특별시</td>\n",
       "      <td>11650</td>\n",
       "      <td>서초구</td>\n",
       "    </tr>\n",
       "    <tr>\n",
       "      <th>1</th>\n",
       "      <td>17174119</td>\n",
       "      <td>쓰리에프</td>\n",
       "      <td>음식</td>\n",
       "      <td>Q01</td>\n",
       "      <td>한식</td>\n",
       "      <td>Q01A01</td>\n",
       "      <td>한식/백반/한정식</td>\n",
       "      <td>I56111</td>\n",
       "      <td>한식 음식점업</td>\n",
       "      <td>11</td>\n",
       "      <td>서울특별시</td>\n",
       "      <td>11590</td>\n",
       "      <td>동작구</td>\n",
       "    </tr>\n",
       "    <tr>\n",
       "      <th>2</th>\n",
       "      <td>17174096</td>\n",
       "      <td>채움</td>\n",
       "      <td>음식</td>\n",
       "      <td>Q01</td>\n",
       "      <td>한식</td>\n",
       "      <td>Q01A01</td>\n",
       "      <td>한식/백반/한정식</td>\n",
       "      <td>I56111</td>\n",
       "      <td>한식 음식점업</td>\n",
       "      <td>11</td>\n",
       "      <td>서울특별시</td>\n",
       "      <td>11110</td>\n",
       "      <td>종로구</td>\n",
       "    </tr>\n",
       "    <tr>\n",
       "      <th>3</th>\n",
       "      <td>17174062</td>\n",
       "      <td>호구의주방</td>\n",
       "      <td>소매</td>\n",
       "      <td>D07</td>\n",
       "      <td>가정/주방/인테리어</td>\n",
       "      <td>D07A17</td>\n",
       "      <td>주방가구판매</td>\n",
       "      <td>G47520</td>\n",
       "      <td>가구 소매업</td>\n",
       "      <td>11</td>\n",
       "      <td>서울특별시</td>\n",
       "      <td>11560</td>\n",
       "      <td>영등포구</td>\n",
       "    </tr>\n",
       "    <tr>\n",
       "      <th>4</th>\n",
       "      <td>17174040</td>\n",
       "      <td>다향</td>\n",
       "      <td>음식</td>\n",
       "      <td>Q01</td>\n",
       "      <td>한식</td>\n",
       "      <td>Q01A01</td>\n",
       "      <td>한식/백반/한정식</td>\n",
       "      <td>I56111</td>\n",
       "      <td>한식 음식점업</td>\n",
       "      <td>11</td>\n",
       "      <td>서울특별시</td>\n",
       "      <td>11650</td>\n",
       "      <td>서초구</td>\n",
       "    </tr>\n",
       "  </tbody>\n",
       "</table>\n",
       "</div>"
      ],
      "text/plain": [
       "     상가업소번호    상호명 상권업종대분류명 상권업종중분류코드    상권업종중분류명 상권업종소분류코드   상권업종소분류명  \\\n",
       "0  17174175    비지트       음식       Q01          한식    Q01A01  한식/백반/한정식   \n",
       "1  17174119   쓰리에프       음식       Q01          한식    Q01A01  한식/백반/한정식   \n",
       "2  17174096     채움       음식       Q01          한식    Q01A01  한식/백반/한정식   \n",
       "3  17174062  호구의주방       소매       D07  가정/주방/인테리어    D07A17     주방가구판매   \n",
       "4  17174040     다향       음식       Q01          한식    Q01A01  한식/백반/한정식   \n",
       "\n",
       "  표준산업분류코드  표준산업분류명  시도코드    시도명  시군구코드  시군구명  \n",
       "0   I56111  한식 음식점업    11  서울특별시  11650   서초구  \n",
       "1   I56111  한식 음식점업    11  서울특별시  11590   동작구  \n",
       "2   I56111  한식 음식점업    11  서울특별시  11110   종로구  \n",
       "3   G47520   가구 소매업    11  서울특별시  11560  영등포구  \n",
       "4   I56111  한식 음식점업    11  서울특별시  11650   서초구  "
      ]
     },
     "execution_count": 7,
     "metadata": {},
     "output_type": "execute_result"
    }
   ],
   "source": [
    "# 불필요한 컬럼 삭제\n",
    "df.drop(['지점명', '상권업종대분류코드', '행정동코드', '행정동명', '법정동코드', '법정동명', '지번코드',\n",
    "       '대지구분코드', '대지구분명', '지번본번지', '지번부번지', '지번주소', '도로명코드', '도로명', '건물본번지',\n",
    "       '건물부번지', '건물관리번호', '건물명', '도로명주소', '구우편번호', '신우편번호', '동정보', '층정보',\n",
    "       '호정보', '경도', '위도'], axis=1, inplace=True)\n",
    "df.head()"
   ]
  },
  {
   "cell_type": "code",
   "execution_count": 8,
   "id": "815294d4",
   "metadata": {
    "collapsed": true
   },
   "outputs": [
    {
     "data": {
      "text/html": [
       "<div>\n",
       "<style scoped>\n",
       "    .dataframe tbody tr th:only-of-type {\n",
       "        vertical-align: middle;\n",
       "    }\n",
       "\n",
       "    .dataframe tbody tr th {\n",
       "        vertical-align: top;\n",
       "    }\n",
       "\n",
       "    .dataframe thead th {\n",
       "        text-align: right;\n",
       "    }\n",
       "</style>\n",
       "<table border=\"1\" class=\"dataframe\">\n",
       "  <thead>\n",
       "    <tr style=\"text-align: right;\">\n",
       "      <th></th>\n",
       "      <th>상가업소번호</th>\n",
       "      <th>상호명</th>\n",
       "      <th>상권업종대분류명</th>\n",
       "      <th>상권업종중분류명</th>\n",
       "      <th>상권업종소분류명</th>\n",
       "      <th>표준산업분류명</th>\n",
       "      <th>시군구코드</th>\n",
       "      <th>시군구명</th>\n",
       "    </tr>\n",
       "  </thead>\n",
       "  <tbody>\n",
       "    <tr>\n",
       "      <th>0</th>\n",
       "      <td>17174175</td>\n",
       "      <td>비지트</td>\n",
       "      <td>음식</td>\n",
       "      <td>한식</td>\n",
       "      <td>한식/백반/한정식</td>\n",
       "      <td>한식 음식점업</td>\n",
       "      <td>11650</td>\n",
       "      <td>서초구</td>\n",
       "    </tr>\n",
       "    <tr>\n",
       "      <th>1</th>\n",
       "      <td>17174119</td>\n",
       "      <td>쓰리에프</td>\n",
       "      <td>음식</td>\n",
       "      <td>한식</td>\n",
       "      <td>한식/백반/한정식</td>\n",
       "      <td>한식 음식점업</td>\n",
       "      <td>11590</td>\n",
       "      <td>동작구</td>\n",
       "    </tr>\n",
       "    <tr>\n",
       "      <th>2</th>\n",
       "      <td>17174096</td>\n",
       "      <td>채움</td>\n",
       "      <td>음식</td>\n",
       "      <td>한식</td>\n",
       "      <td>한식/백반/한정식</td>\n",
       "      <td>한식 음식점업</td>\n",
       "      <td>11110</td>\n",
       "      <td>종로구</td>\n",
       "    </tr>\n",
       "    <tr>\n",
       "      <th>3</th>\n",
       "      <td>17174062</td>\n",
       "      <td>호구의주방</td>\n",
       "      <td>소매</td>\n",
       "      <td>가정/주방/인테리어</td>\n",
       "      <td>주방가구판매</td>\n",
       "      <td>가구 소매업</td>\n",
       "      <td>11560</td>\n",
       "      <td>영등포구</td>\n",
       "    </tr>\n",
       "    <tr>\n",
       "      <th>4</th>\n",
       "      <td>17174040</td>\n",
       "      <td>다향</td>\n",
       "      <td>음식</td>\n",
       "      <td>한식</td>\n",
       "      <td>한식/백반/한정식</td>\n",
       "      <td>한식 음식점업</td>\n",
       "      <td>11650</td>\n",
       "      <td>서초구</td>\n",
       "    </tr>\n",
       "  </tbody>\n",
       "</table>\n",
       "</div>"
      ],
      "text/plain": [
       "     상가업소번호    상호명 상권업종대분류명    상권업종중분류명   상권업종소분류명  표준산업분류명  시군구코드  시군구명\n",
       "0  17174175    비지트       음식          한식  한식/백반/한정식  한식 음식점업  11650   서초구\n",
       "1  17174119   쓰리에프       음식          한식  한식/백반/한정식  한식 음식점업  11590   동작구\n",
       "2  17174096     채움       음식          한식  한식/백반/한정식  한식 음식점업  11110   종로구\n",
       "3  17174062  호구의주방       소매  가정/주방/인테리어     주방가구판매   가구 소매업  11560  영등포구\n",
       "4  17174040     다향       음식          한식  한식/백반/한정식  한식 음식점업  11650   서초구"
      ]
     },
     "execution_count": 8,
     "metadata": {},
     "output_type": "execute_result"
    }
   ],
   "source": [
    "df.drop(['상권업종중분류코드', '상권업종소분류코드', '표준산업분류코드','시도코드','시도명'], axis=1, inplace=True)\n",
    "df.head()"
   ]
  },
  {
   "cell_type": "code",
   "execution_count": 9,
   "id": "1cd2a970",
   "metadata": {},
   "outputs": [],
   "source": [
    "# 불필요한 컬럼 삭제\n",
    "df.drop(['표준산업분류명'], axis=1, inplace=True)"
   ]
  },
  {
   "cell_type": "code",
   "execution_count": 10,
   "id": "45947783",
   "metadata": {
    "scrolled": true
   },
   "outputs": [],
   "source": [
    "# 필요정보 nan값 로우 삭제\n",
    "df.dropna(inplace=True)"
   ]
  },
  {
   "cell_type": "code",
   "execution_count": 11,
   "id": "841d7267",
   "metadata": {},
   "outputs": [
    {
     "data": {
      "text/plain": [
       "상가업소번호      0\n",
       "상호명         0\n",
       "상권업종대분류명    0\n",
       "상권업종중분류명    0\n",
       "상권업종소분류명    0\n",
       "시군구코드       0\n",
       "시군구명        0\n",
       "dtype: int64"
      ]
     },
     "execution_count": 11,
     "metadata": {},
     "output_type": "execute_result"
    }
   ],
   "source": [
    "df.isnull().sum()"
   ]
  },
  {
   "cell_type": "code",
   "execution_count": 12,
   "id": "d660b91a",
   "metadata": {},
   "outputs": [],
   "source": [
    "# 음식정보만 따로 DataFrame 분리\n",
    "df_meal = df[df['상권업종대분류명'] == '음식']"
   ]
  },
  {
   "cell_type": "code",
   "execution_count": 13,
   "id": "6558025b",
   "metadata": {
    "scrolled": true
   },
   "outputs": [
    {
     "data": {
      "text/plain": [
       "array(['한식', '유흥주점', '커피점/카페', '패스트푸드', '닭/오리요리', '일식/수산물', '제과제빵떡케익',\n",
       "       '분식', '양식', '별식/퓨전요리', '기타음식업', '부페', '중식', '음식배달서비스'],\n",
       "      dtype=object)"
      ]
     },
     "execution_count": 13,
     "metadata": {},
     "output_type": "execute_result"
    }
   ],
   "source": [
    "df_meal['상권업종중분류명'].unique()"
   ]
  },
  {
   "cell_type": "code",
   "execution_count": 14,
   "id": "c46b9084",
   "metadata": {},
   "outputs": [
    {
     "name": "stderr",
     "output_type": "stream",
     "text": [
      "C:\\anaconda3\\lib\\site-packages\\pandas\\core\\frame.py:4308: SettingWithCopyWarning: \n",
      "A value is trying to be set on a copy of a slice from a DataFrame\n",
      "\n",
      "See the caveats in the documentation: https://pandas.pydata.org/pandas-docs/stable/user_guide/indexing.html#returning-a-view-versus-a-copy\n",
      "  return super().drop(\n"
     ]
    },
    {
     "data": {
      "text/html": [
       "<div>\n",
       "<style scoped>\n",
       "    .dataframe tbody tr th:only-of-type {\n",
       "        vertical-align: middle;\n",
       "    }\n",
       "\n",
       "    .dataframe tbody tr th {\n",
       "        vertical-align: top;\n",
       "    }\n",
       "\n",
       "    .dataframe thead th {\n",
       "        text-align: right;\n",
       "    }\n",
       "</style>\n",
       "<table border=\"1\" class=\"dataframe\">\n",
       "  <thead>\n",
       "    <tr style=\"text-align: right;\">\n",
       "      <th></th>\n",
       "      <th>상가업소번호</th>\n",
       "      <th>상호명</th>\n",
       "      <th>상권업종중분류명</th>\n",
       "      <th>시군구명</th>\n",
       "    </tr>\n",
       "  </thead>\n",
       "  <tbody>\n",
       "    <tr>\n",
       "      <th>0</th>\n",
       "      <td>17174175</td>\n",
       "      <td>비지트</td>\n",
       "      <td>한식</td>\n",
       "      <td>서초구</td>\n",
       "    </tr>\n",
       "    <tr>\n",
       "      <th>1</th>\n",
       "      <td>17174119</td>\n",
       "      <td>쓰리에프</td>\n",
       "      <td>한식</td>\n",
       "      <td>동작구</td>\n",
       "    </tr>\n",
       "    <tr>\n",
       "      <th>2</th>\n",
       "      <td>17174096</td>\n",
       "      <td>채움</td>\n",
       "      <td>한식</td>\n",
       "      <td>종로구</td>\n",
       "    </tr>\n",
       "    <tr>\n",
       "      <th>4</th>\n",
       "      <td>17174040</td>\n",
       "      <td>다향</td>\n",
       "      <td>한식</td>\n",
       "      <td>서초구</td>\n",
       "    </tr>\n",
       "    <tr>\n",
       "      <th>11</th>\n",
       "      <td>17163092</td>\n",
       "      <td>도전최강달인왕만두</td>\n",
       "      <td>한식</td>\n",
       "      <td>강동구</td>\n",
       "    </tr>\n",
       "    <tr>\n",
       "      <th>...</th>\n",
       "      <td>...</td>\n",
       "      <td>...</td>\n",
       "      <td>...</td>\n",
       "      <td>...</td>\n",
       "    </tr>\n",
       "    <tr>\n",
       "      <th>316072</th>\n",
       "      <td>16982170</td>\n",
       "      <td>한그륵</td>\n",
       "      <td>한식</td>\n",
       "      <td>마포구</td>\n",
       "    </tr>\n",
       "    <tr>\n",
       "      <th>316073</th>\n",
       "      <td>16982165</td>\n",
       "      <td>김씨네주방</td>\n",
       "      <td>한식</td>\n",
       "      <td>서대문구</td>\n",
       "    </tr>\n",
       "    <tr>\n",
       "      <th>316074</th>\n",
       "      <td>16980995</td>\n",
       "      <td>핫플레이스</td>\n",
       "      <td>한식</td>\n",
       "      <td>마포구</td>\n",
       "    </tr>\n",
       "    <tr>\n",
       "      <th>316076</th>\n",
       "      <td>16991493</td>\n",
       "      <td>솔시카고피자</td>\n",
       "      <td>패스트푸드</td>\n",
       "      <td>동작구</td>\n",
       "    </tr>\n",
       "    <tr>\n",
       "      <th>316077</th>\n",
       "      <td>16990345</td>\n",
       "      <td>피자버거플러스</td>\n",
       "      <td>패스트푸드</td>\n",
       "      <td>용산구</td>\n",
       "    </tr>\n",
       "  </tbody>\n",
       "</table>\n",
       "<p>126202 rows × 4 columns</p>\n",
       "</div>"
      ],
      "text/plain": [
       "          상가업소번호        상호명 상권업종중분류명  시군구명\n",
       "0       17174175        비지트       한식   서초구\n",
       "1       17174119       쓰리에프       한식   동작구\n",
       "2       17174096         채움       한식   종로구\n",
       "4       17174040         다향       한식   서초구\n",
       "11      17163092  도전최강달인왕만두       한식   강동구\n",
       "...          ...        ...      ...   ...\n",
       "316072  16982170        한그륵       한식   마포구\n",
       "316073  16982165      김씨네주방       한식  서대문구\n",
       "316074  16980995      핫플레이스       한식   마포구\n",
       "316076  16991493     솔시카고피자    패스트푸드   동작구\n",
       "316077  16990345    피자버거플러스    패스트푸드   용산구\n",
       "\n",
       "[126202 rows x 4 columns]"
      ]
     },
     "execution_count": 14,
     "metadata": {},
     "output_type": "execute_result"
    }
   ],
   "source": [
    "# 불필요한 컬럼 삭제\n",
    "df_meal.drop(['상권업종대분류명', '상권업종소분류명', '시군구코드'],axis=1, inplace=True)\n",
    "df_meal"
   ]
  },
  {
   "cell_type": "code",
   "execution_count": 42,
   "id": "0a9c85d6",
   "metadata": {
    "scrolled": false
   },
   "outputs": [
    {
     "data": {
      "text/html": [
       "<div>\n",
       "<style scoped>\n",
       "    .dataframe tbody tr th:only-of-type {\n",
       "        vertical-align: middle;\n",
       "    }\n",
       "\n",
       "    .dataframe tbody tr th {\n",
       "        vertical-align: top;\n",
       "    }\n",
       "\n",
       "    .dataframe thead th {\n",
       "        text-align: right;\n",
       "    }\n",
       "</style>\n",
       "<table border=\"1\" class=\"dataframe\">\n",
       "  <thead>\n",
       "    <tr style=\"text-align: right;\">\n",
       "      <th></th>\n",
       "      <th>상가업소번호</th>\n",
       "      <th>상호명</th>\n",
       "      <th>상권업종중분류명</th>\n",
       "      <th>시군구명</th>\n",
       "    </tr>\n",
       "  </thead>\n",
       "  <tbody>\n",
       "    <tr>\n",
       "      <th>0</th>\n",
       "      <td>17174175</td>\n",
       "      <td>비지트</td>\n",
       "      <td>한식</td>\n",
       "      <td>서초구</td>\n",
       "    </tr>\n",
       "    <tr>\n",
       "      <th>1</th>\n",
       "      <td>17174119</td>\n",
       "      <td>쓰리에프</td>\n",
       "      <td>한식</td>\n",
       "      <td>동작구</td>\n",
       "    </tr>\n",
       "    <tr>\n",
       "      <th>2</th>\n",
       "      <td>17174096</td>\n",
       "      <td>채움</td>\n",
       "      <td>한식</td>\n",
       "      <td>종로구</td>\n",
       "    </tr>\n",
       "    <tr>\n",
       "      <th>4</th>\n",
       "      <td>17174040</td>\n",
       "      <td>다향</td>\n",
       "      <td>한식</td>\n",
       "      <td>서초구</td>\n",
       "    </tr>\n",
       "    <tr>\n",
       "      <th>11</th>\n",
       "      <td>17163092</td>\n",
       "      <td>도전최강달인왕만두</td>\n",
       "      <td>한식</td>\n",
       "      <td>강동구</td>\n",
       "    </tr>\n",
       "  </tbody>\n",
       "</table>\n",
       "</div>"
      ],
      "text/plain": [
       "      상가업소번호        상호명 상권업종중분류명 시군구명\n",
       "0   17174175        비지트       한식  서초구\n",
       "1   17174119       쓰리에프       한식  동작구\n",
       "2   17174096         채움       한식  종로구\n",
       "4   17174040         다향       한식  서초구\n",
       "11  17163092  도전최강달인왕만두       한식  강동구"
      ]
     },
     "execution_count": 42,
     "metadata": {},
     "output_type": "execute_result"
    }
   ],
   "source": [
    "df_meal.head()"
   ]
  },
  {
   "cell_type": "code",
   "execution_count": 77,
   "id": "a0743070",
   "metadata": {
    "collapsed": true
   },
   "outputs": [
    {
     "data": {
      "text/plain": [
       "<AxesSubplot:xlabel='상권업종중분류명,시군구명'>"
      ]
     },
     "execution_count": 77,
     "metadata": {},
     "output_type": "execute_result"
    },
    {
     "data": {
      "image/png": "[encoded data removed]",
      "text/plain": [
       "<Figure size 432x288 with 1 Axes>"
      ]
     },
     "metadata": {
      "needs_background": "light"
     },
     "output_type": "display_data"
    }
   ],
   "source": [
    "# 구별 음식점 근황에 대해서 표를 그리니 너무 표가 번잡해짐\n",
    "df_meal.groupby(['상권업종중분류명','시군구명' ]).상호명.count().plot(kind='bar')"
   ]
  },
  {
   "cell_type": "code",
   "execution_count": 15,
   "id": "b6830185",
   "metadata": {},
   "outputs": [
    {
     "data": {
      "text/plain": [
       "array(['한식', '유흥주점', '커피점/카페', '패스트푸드', '닭/오리요리', '일식/수산물', '제과제빵떡케익',\n",
       "       '분식', '양식', '별식/퓨전요리', '기타음식업', '부페', '중식', '음식배달서비스'],\n",
       "      dtype=object)"
      ]
     },
     "execution_count": 15,
     "metadata": {},
     "output_type": "execute_result"
    }
   ],
   "source": [
    "df_meal['상권업종중분류명'].unique()"
   ]
  },
  {
   "cell_type": "code",
   "execution_count": 16,
   "id": "0d3dcf9b",
   "metadata": {},
   "outputs": [],
   "source": [
    "# 음식점 분류별로 구별 현황 파악\n",
    "df_meal_korea = df_meal[df_meal['상권업종중분류명']=='한식']\n",
    "df_meal_china = df_meal[df_meal['상권업종중분류명']=='중식']\n",
    "\n",
    "df_meal_alcohol = df_meal[df_meal['상권업종중분류명']=='유흥주점']\n",
    "df_meal_cafe = df_meal[df_meal['상권업종중분류명']=='커피점/카페']\n",
    "\n",
    "df_meal_fast = df_meal[df_meal['상권업종중분류명']=='패스트푸드']\n",
    "df_meal_chicken = df_meal[df_meal['상권업종중분류명']=='닭/오리요리']\n",
    "df_meal_japan = df_meal[df_meal['상권업종중분류명']=='일식/수산물']\n",
    "\n",
    "df_meal_bread = df_meal[df_meal['상권업종중분류명']=='제과제빵떡케익']\n",
    "df_meal_gimbab = df_meal[df_meal['상권업종중분류명']=='분식']\n",
    "df_meal_western = df_meal[df_meal['상권업종중분류명']=='양식']\n",
    "\n",
    "df_meal_fusion = df_meal[df_meal['상권업종중분류명']=='별식/퓨전요리']\n",
    "df_meal_etc = df_meal[df_meal['상권업종중분류명']=='기타음식업']\n",
    "df_meal_buffet = df_meal[df_meal['상권업종중분류명']=='부페']\n",
    "df_meal_delivery = df_meal[df_meal['상권업종중분류명']=='음식배달서비스']"
   ]
  },
  {
   "cell_type": "code",
   "execution_count": 82,
   "id": "53feb73a",
   "metadata": {},
   "outputs": [
    {
     "data": {
      "text/html": [
       "<div>\n",
       "<style scoped>\n",
       "    .dataframe tbody tr th:only-of-type {\n",
       "        vertical-align: middle;\n",
       "    }\n",
       "\n",
       "    .dataframe tbody tr th {\n",
       "        vertical-align: top;\n",
       "    }\n",
       "\n",
       "    .dataframe thead th {\n",
       "        text-align: right;\n",
       "    }\n",
       "</style>\n",
       "<table border=\"1\" class=\"dataframe\">\n",
       "  <thead>\n",
       "    <tr style=\"text-align: right;\">\n",
       "      <th></th>\n",
       "      <th>상가업소번호</th>\n",
       "      <th>상호명</th>\n",
       "      <th>상권업종중분류명</th>\n",
       "      <th>시군구명</th>\n",
       "    </tr>\n",
       "  </thead>\n",
       "  <tbody>\n",
       "    <tr>\n",
       "      <th>0</th>\n",
       "      <td>17174175</td>\n",
       "      <td>비지트</td>\n",
       "      <td>한식</td>\n",
       "      <td>서초구</td>\n",
       "    </tr>\n",
       "    <tr>\n",
       "      <th>1</th>\n",
       "      <td>17174119</td>\n",
       "      <td>쓰리에프</td>\n",
       "      <td>한식</td>\n",
       "      <td>동작구</td>\n",
       "    </tr>\n",
       "    <tr>\n",
       "      <th>2</th>\n",
       "      <td>17174096</td>\n",
       "      <td>채움</td>\n",
       "      <td>한식</td>\n",
       "      <td>종로구</td>\n",
       "    </tr>\n",
       "    <tr>\n",
       "      <th>4</th>\n",
       "      <td>17174040</td>\n",
       "      <td>다향</td>\n",
       "      <td>한식</td>\n",
       "      <td>서초구</td>\n",
       "    </tr>\n",
       "    <tr>\n",
       "      <th>11</th>\n",
       "      <td>17163092</td>\n",
       "      <td>도전최강달인왕만두</td>\n",
       "      <td>한식</td>\n",
       "      <td>강동구</td>\n",
       "    </tr>\n",
       "    <tr>\n",
       "      <th>...</th>\n",
       "      <td>...</td>\n",
       "      <td>...</td>\n",
       "      <td>...</td>\n",
       "      <td>...</td>\n",
       "    </tr>\n",
       "    <tr>\n",
       "      <th>316070</th>\n",
       "      <td>16993438</td>\n",
       "      <td>프리모프리</td>\n",
       "      <td>한식</td>\n",
       "      <td>용산구</td>\n",
       "    </tr>\n",
       "    <tr>\n",
       "      <th>316071</th>\n",
       "      <td>16982188</td>\n",
       "      <td>동명</td>\n",
       "      <td>한식</td>\n",
       "      <td>구로구</td>\n",
       "    </tr>\n",
       "    <tr>\n",
       "      <th>316072</th>\n",
       "      <td>16982170</td>\n",
       "      <td>한그륵</td>\n",
       "      <td>한식</td>\n",
       "      <td>마포구</td>\n",
       "    </tr>\n",
       "    <tr>\n",
       "      <th>316073</th>\n",
       "      <td>16982165</td>\n",
       "      <td>김씨네주방</td>\n",
       "      <td>한식</td>\n",
       "      <td>서대문구</td>\n",
       "    </tr>\n",
       "    <tr>\n",
       "      <th>316074</th>\n",
       "      <td>16980995</td>\n",
       "      <td>핫플레이스</td>\n",
       "      <td>한식</td>\n",
       "      <td>마포구</td>\n",
       "    </tr>\n",
       "  </tbody>\n",
       "</table>\n",
       "<p>43769 rows × 4 columns</p>\n",
       "</div>"
      ],
      "text/plain": [
       "          상가업소번호        상호명 상권업종중분류명  시군구명\n",
       "0       17174175        비지트       한식   서초구\n",
       "1       17174119       쓰리에프       한식   동작구\n",
       "2       17174096         채움       한식   종로구\n",
       "4       17174040         다향       한식   서초구\n",
       "11      17163092  도전최강달인왕만두       한식   강동구\n",
       "...          ...        ...      ...   ...\n",
       "316070  16993438      프리모프리       한식   용산구\n",
       "316071  16982188         동명       한식   구로구\n",
       "316072  16982170        한그륵       한식   마포구\n",
       "316073  16982165      김씨네주방       한식  서대문구\n",
       "316074  16980995      핫플레이스       한식   마포구\n",
       "\n",
       "[43769 rows x 4 columns]"
      ]
     },
     "execution_count": 82,
     "metadata": {},
     "output_type": "execute_result"
    }
   ],
   "source": [
    "df_meal_korea"
   ]
  },
  {
   "cell_type": "code",
   "execution_count": 83,
   "id": "1cda7f60",
   "metadata": {},
   "outputs": [
    {
     "data": {
      "text/html": [
       "<div>\n",
       "<style scoped>\n",
       "    .dataframe tbody tr th:only-of-type {\n",
       "        vertical-align: middle;\n",
       "    }\n",
       "\n",
       "    .dataframe tbody tr th {\n",
       "        vertical-align: top;\n",
       "    }\n",
       "\n",
       "    .dataframe thead th {\n",
       "        text-align: right;\n",
       "    }\n",
       "</style>\n",
       "<table border=\"1\" class=\"dataframe\">\n",
       "  <thead>\n",
       "    <tr style=\"text-align: right;\">\n",
       "      <th></th>\n",
       "      <th>상가업소번호</th>\n",
       "      <th>상호명</th>\n",
       "      <th>상권업종중분류명</th>\n",
       "      <th>시군구명</th>\n",
       "    </tr>\n",
       "  </thead>\n",
       "  <tbody>\n",
       "    <tr>\n",
       "      <th>709</th>\n",
       "      <td>20665198</td>\n",
       "      <td>산동성</td>\n",
       "      <td>중식</td>\n",
       "      <td>은평구</td>\n",
       "    </tr>\n",
       "    <tr>\n",
       "      <th>1425</th>\n",
       "      <td>19983941</td>\n",
       "      <td>용궁</td>\n",
       "      <td>중식</td>\n",
       "      <td>도봉구</td>\n",
       "    </tr>\n",
       "    <tr>\n",
       "      <th>1539</th>\n",
       "      <td>20035668</td>\n",
       "      <td>향림각중화요리</td>\n",
       "      <td>중식</td>\n",
       "      <td>영등포구</td>\n",
       "    </tr>\n",
       "    <tr>\n",
       "      <th>2285</th>\n",
       "      <td>20018975</td>\n",
       "      <td>자금성</td>\n",
       "      <td>중식</td>\n",
       "      <td>성동구</td>\n",
       "    </tr>\n",
       "    <tr>\n",
       "      <th>2528</th>\n",
       "      <td>20026304</td>\n",
       "      <td>중화요리일품</td>\n",
       "      <td>중식</td>\n",
       "      <td>강남구</td>\n",
       "    </tr>\n",
       "    <tr>\n",
       "      <th>...</th>\n",
       "      <td>...</td>\n",
       "      <td>...</td>\n",
       "      <td>...</td>\n",
       "      <td>...</td>\n",
       "    </tr>\n",
       "    <tr>\n",
       "      <th>315841</th>\n",
       "      <td>16984313</td>\n",
       "      <td>미혜식당</td>\n",
       "      <td>중식</td>\n",
       "      <td>서대문구</td>\n",
       "    </tr>\n",
       "    <tr>\n",
       "      <th>315842</th>\n",
       "      <td>16985350</td>\n",
       "      <td>중화가정</td>\n",
       "      <td>중식</td>\n",
       "      <td>용산구</td>\n",
       "    </tr>\n",
       "    <tr>\n",
       "      <th>315843</th>\n",
       "      <td>16983961</td>\n",
       "      <td>황비홍마라탕</td>\n",
       "      <td>중식</td>\n",
       "      <td>동작구</td>\n",
       "    </tr>\n",
       "    <tr>\n",
       "      <th>315961</th>\n",
       "      <td>23775671</td>\n",
       "      <td>색다른탕수육</td>\n",
       "      <td>중식</td>\n",
       "      <td>노원구</td>\n",
       "    </tr>\n",
       "    <tr>\n",
       "      <th>316066</th>\n",
       "      <td>23170769</td>\n",
       "      <td>임금님손짜장</td>\n",
       "      <td>중식</td>\n",
       "      <td>양천구</td>\n",
       "    </tr>\n",
       "  </tbody>\n",
       "</table>\n",
       "<p>3468 rows × 4 columns</p>\n",
       "</div>"
      ],
      "text/plain": [
       "          상가업소번호      상호명 상권업종중분류명  시군구명\n",
       "709     20665198      산동성       중식   은평구\n",
       "1425    19983941       용궁       중식   도봉구\n",
       "1539    20035668  향림각중화요리       중식  영등포구\n",
       "2285    20018975      자금성       중식   성동구\n",
       "2528    20026304   중화요리일품       중식   강남구\n",
       "...          ...      ...      ...   ...\n",
       "315841  16984313     미혜식당       중식  서대문구\n",
       "315842  16985350     중화가정       중식   용산구\n",
       "315843  16983961   황비홍마라탕       중식   동작구\n",
       "315961  23775671   색다른탕수육       중식   노원구\n",
       "316066  23170769   임금님손짜장       중식   양천구\n",
       "\n",
       "[3468 rows x 4 columns]"
      ]
     },
     "execution_count": 83,
     "metadata": {},
     "output_type": "execute_result"
    }
   ],
   "source": [
    "df_meal_china"
   ]
  },
  {
   "cell_type": "code",
   "execution_count": 59,
   "id": "fdd067d8",
   "metadata": {},
   "outputs": [
    {
     "data": {
      "text/plain": [
       "<AxesSubplot:xlabel='시군구명'>"
      ]
     },
     "execution_count": 59,
     "metadata": {},
     "output_type": "execute_result"
    },
    {
     "data": {
      "image/png": "[encoded data removed]",
      "text/plain": [
       "<Figure size 432x288 with 1 Axes>"
      ]
     },
     "metadata": {
      "needs_background": "light"
     },
     "output_type": "display_data"
    }
   ],
   "source": [
    "# 한식분류 음식점의 음식점 현황\n",
    "df_meal_korea.groupby('시군구명').상호명.count().plot(kind='bar')"
   ]
  },
  {
   "cell_type": "code",
   "execution_count": 84,
   "id": "234f70cc",
   "metadata": {
    "scrolled": true
   },
   "outputs": [
    {
     "data": {
      "text/plain": [
       "<AxesSubplot:xlabel='시군구명'>"
      ]
     },
     "execution_count": 84,
     "metadata": {},
     "output_type": "execute_result"
    },
    {
     "data": {
      "image/png": "[encoded data removed]",
      "text/plain": [
       "<Figure size 432x288 with 1 Axes>"
      ]
     },
     "metadata": {
      "needs_background": "light"
     },
     "output_type": "display_data"
    }
   ],
   "source": [
    "# 중식분류 음식점의 음식점 현황\n",
    "df_meal_china.groupby('시군구명').상호명.count().plot(kind='bar')"
   ]
  },
  {
   "cell_type": "code",
   "execution_count": 85,
   "id": "3540dbee",
   "metadata": {},
   "outputs": [
    {
     "data": {
      "text/plain": [
       "<AxesSubplot:xlabel='상권업종중분류명'>"
      ]
     },
     "execution_count": 85,
     "metadata": {},
     "output_type": "execute_result"
    },
    {
     "data": {
      "image/png": "[encoded data removed]",
      "text/plain": [
       "<Figure size 432x288 with 1 Axes>"
      ]
     },
     "metadata": {
      "needs_background": "light"
     },
     "output_type": "display_data"
    }
   ],
   "source": [
    "# 서울의 전체 음식점 분류별 현황\n",
    "df_meal.groupby('상권업종중분류명').상호명.count().plot(kind='bar')"
   ]
  },
  {
   "cell_type": "code",
   "execution_count": 17,
   "id": "3eb15966",
   "metadata": {},
   "outputs": [
    {
     "data": {
      "text/plain": [
       "<AxesSubplot:xlabel='시군구명'>"
      ]
     },
     "execution_count": 17,
     "metadata": {},
     "output_type": "execute_result"
    },
    {
     "data": {
      "image/png": "[encoded data removed]",
      "text/plain": [
       "<Figure size 432x288 with 1 Axes>"
      ]
     },
     "metadata": {
      "needs_background": "light"
     },
     "output_type": "display_data"
    }
   ],
   "source": [
    "# 구별 음식점 현황\n",
    "df_meal.groupby('시군구명').상호명.count().plot(kind='bar')"
   ]
  },
  {
   "cell_type": "code",
   "execution_count": null,
   "id": "c3100c28",
   "metadata": {},
   "outputs": [],
   "source": []
  },
  {
   "cell_type": "code",
   "execution_count": null,
   "id": "2af97462",
   "metadata": {},
   "outputs": [],
   "source": []
  }
 ],
 "metadata": {
  "kernelspec": {
   "display_name": "Python 3",
   "language": "python",
   "name": "python3"
  },
  "language_info": {
   "codemirror_mode": {
    "name": "ipython",
    "version": 3
   },
   "file_extension": ".py",
   "mimetype": "text/x-python",
   "name": "python",
   "nbconvert_exporter": "python",
   "pygments_lexer": "ipython3",
   "version": "3.8.8"
  }
 },
 "nbformat": 4,
 "nbformat_minor": 5
}
