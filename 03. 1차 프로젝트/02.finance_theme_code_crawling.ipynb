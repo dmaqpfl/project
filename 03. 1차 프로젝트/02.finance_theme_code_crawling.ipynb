{
 "cells": [
  {
   "cell_type": "code",
   "execution_count": 3,
   "id": "29e0e402",
   "metadata": {},
   "outputs": [],
   "source": [
    "import requests\n",
    "import pandas as pd\n",
    "from bs4 import BeautifulSoup\n",
    "from selenium import webdriver\n",
    "from datetime import datetime\n",
    "import json"
   ]
  },
  {
   "cell_type": "code",
   "execution_count": 4,
   "id": "b78d8df8",
   "metadata": {},
   "outputs": [
    {
     "name": "stderr",
     "output_type": "stream",
     "text": [
      "<ipython-input-4-df8d00eebc9e>:66: FutureWarning: The pandas.datetime class is deprecated and will be removed from pandas in a future version. Import from datetime module instead.\n",
      "  today = pd.datetime.now()\n"
     ]
    }
   ],
   "source": [
    "theme_nm = [] # 테마명 저장을 위한 리스트 생성\n",
    "link = [] # 테마별 묶음 페이지 링크를 위한 리스크 생성\n",
    "k = True # 테마명, 테마별 링크 추출 루프 진행\n",
    "i = 1 # 페이지 변경\n",
    "fin_cd = [] # 코드와 테마의 묶음 단위 추출을 위한 리스트 생성\n",
    "# 테마명 및 테마별 리스트 추출\n",
    "while k :\n",
    "    url = 'https://finance.naver.com/sise/theme.naver?&page={}'.format(i)\n",
    "\n",
    "    headers = {\n",
    "        'user-agent':'Mozilla/5.0 (Windows NT 10.0; Win64; x64) AppleWebKit/537.36 (KHTML, like Gecko) Chrome/94.0.4606.81 Safari/537.36',\n",
    "        'referer': 'https://finance.naver.com/sise/theme.naver?&page=7','upgrade-insecure-requests': '1'\n",
    "    }\n",
    "    res = requests.get(url, headers = headers)\n",
    "    soup = BeautifulSoup(res.text, 'html.parser')\n",
    "\n",
    "    path1 = '#contentarea_left > table.type_1.theme > tr > td.col_type1 > a'\n",
    "    link_path = soup.select(path1)\n",
    "    \n",
    "    # 마지막 페이지일 시 해당 루프가 마지막으로 돌도록 k값 변환\n",
    "    if len(link_path) != 40 :\n",
    "        k = False\n",
    "    \n",
    "    # 추출한 테마명 및 링크값 저장\n",
    "    for j in range(len(link_path)) : \n",
    "        theme_nm.append(link_path[j].text)\n",
    "        link.append(link_path[j].get('href'))\n",
    "    i += 1\n",
    "# 테마별 페이지 내 종목별 코드 추출\n",
    "for o in range(len(link)) :\n",
    "    # 링크 이동\n",
    "    url = 'https://finance.naver.com{}'.format(link[o])\n",
    "\n",
    "    headers = {\n",
    "        'user-agent':'Mozilla/5.0 (Windows NT 10.0; Win64; x64) AppleWebKit/537.36 (KHTML, like Gecko) Chrome/94.0.4606.81 Safari/537.36',\n",
    "        'referer': 'https://finance.naver.com/sise/theme.naver?&page=7','upgrade-insecure-requests': '1'\n",
    "    }\n",
    "    res = requests.get(url, headers = headers)\n",
    "    soup = BeautifulSoup(res.text, 'html.parser')\n",
    "\n",
    "    path2 = '#contentarea > div > table > tbody > tr > td.name > div > a'\n",
    "\n",
    "    link_path2 = soup.select(path2)\n",
    "    # 테마별로 리스트 생성을 위해 fin_cd 리스트 초기화\n",
    "\n",
    "    for k in range(len(link_path2)) :\n",
    "        # 링크의 마지막 코드만 추출 및 fin_cd 리스트 내 추가\n",
    "        cd = link_path2[k].get('href')[-6:]\n",
    "        # 같은 종목이 다른 테마에도 있을 수 있어 코드와 테마를 묶어 unique하게 str로 저장\n",
    "        list_cd = cd+'_'+theme_nm[o]\n",
    "        fin_cd.append(list_cd)\n",
    "\n",
    "\n",
    "# unique한 fin_cd을 구분하여 DataFrame에 저장\n",
    "fin_theme_cd = pd.DataFrame(columns=['cd','theme'])\n",
    "cd_list = [] # 종목코드 저장 리스트 생성\n",
    "theme_list = [] # 테마 저장 리스트 생성\n",
    "for cd_theme in fin_cd :\n",
    "    # 위에서 저장한 값을 split 하여 각각 구분\n",
    "    cd_list.append(cd_theme.split('_')[0])\n",
    "    theme_list.append(cd_theme.split('_')[1])\n",
    "# 구분한 종목코드 및 테마명 DataFrame에 추가\n",
    "fin_theme_cd['cd'] = cd_list\n",
    "fin_theme_cd['theme'] = theme_list\n",
    "\n",
    "today = pd.datetime.now()\n",
    "today_str = str(today)[:10].replace('-','')\n",
    "\n",
    "path = 'cd_theme_data_{}.csv'.format(today_str)\n",
    "fin_theme_cd.to_csv(path, encoding=\"utf-8-sig\")"
   ]
  },
  {
   "cell_type": "code",
   "execution_count": 55,
   "id": "0f1b6f62",
   "metadata": {},
   "outputs": [],
   "source": [
    "theme_list = ['자동차 대표주', '항공기부품', '생명보험', '조선','LNG(액화천연가스)', '원자력발전','정유', 'LPG(액화석유가스)',\n",
    "              '방위산업/전쟁 및 테러','제습기','핵융합에너지','SNS(소셜네트워크서비스)','클라우드 컴퓨팅', '건설 대표주', \n",
    "              '겨울','공기청정기', '의료기기','풍력에너지', '태양광에너지', '전력설비', '재난/안전(지진 등)', '도시가스',\n",
    "              '콜드체인(저온 유통)', '타이어','여행','희귀금속(희토류 등)','여름','페인트','시멘트/레미콘','황사/미세먼지', \n",
    "              '태풍 및 장마', '블록체인','인터넷 대표주',  '핀테크(FinTech)', '4차산업 수혜주' ,'T 대표주']\n",
    "# 테마가 너무 다양해 일부만 진행"
   ]
  },
  {
   "cell_type": "code",
   "execution_count": 57,
   "id": "4411e19e",
   "metadata": {},
   "outputs": [],
   "source": [
    "# 테마별로 종목의 주식정보 가져오기\n",
    "# theme_list = ['자동차 대표주', '항공기부품', '생명보험']\n",
    "fin_theme_cd = pd.read_csv('cd_theme_data_20211021.csv',index_col=0)\n",
    "fin_theme_cd.cd = fin_theme_cd.cd.apply(lambda x : str(x).zfill(6))\n",
    "import FinanceDataReader as fdr\n",
    "\n",
    "for theme_name in theme_list :\n",
    "    theme_nm = theme_name\n",
    "\n",
    "    loop_len =  int(fin_theme_cd.cd[fin_theme_cd['theme'] == theme_nm].count())\n",
    "    df_theme_code_result = pd.DataFrame()\n",
    "\n",
    "    for i in fin_theme_cd[fin_theme_cd['theme'] == theme_nm].cd :\n",
    "        search_cd = i\n",
    "        df_fin = fdr.DataReader(search_cd, '2000','2021-10-20').iloc[:,-3:]\n",
    "        df_fin['cd'] = search_cd\n",
    "        df_fin = df_fin.reset_index()\n",
    "\n",
    "        df_theme_code_result = pd.concat([df_theme_code_result,df_fin])\n",
    "    # 테마명 내 / 문자가 있으면 path 오류 발생하여 문자 변경\n",
    "    theme_nm = theme_nm.replace('/','_')\n",
    "    path = './테마별 주식데이터/{}_list_{}.csv'.format(theme_nm, today_str)\n",
    "    df_theme_code_result.to_csv(path, encoding=\"utf-8-sig\")"
   ]
  },
  {
   "cell_type": "code",
   "execution_count": null,
   "id": "90cdb8f9",
   "metadata": {},
   "outputs": [],
   "source": []
  },
  {
   "cell_type": "code",
   "execution_count": null,
   "id": "9efd9a49",
   "metadata": {},
   "outputs": [],
   "source": []
  },
  {
   "cell_type": "code",
   "execution_count": null,
   "id": "f83688a3",
   "metadata": {},
   "outputs": [],
   "source": []
  },
  {
   "cell_type": "code",
   "execution_count": null,
   "id": "e3c990ba",
   "metadata": {},
   "outputs": [],
   "source": []
  },
  {
   "cell_type": "code",
   "execution_count": null,
   "id": "df89235d",
   "metadata": {},
   "outputs": [],
   "source": []
  },
  {
   "cell_type": "code",
   "execution_count": null,
   "id": "3c9849f9",
   "metadata": {},
   "outputs": [],
   "source": []
  },
  {
   "cell_type": "code",
   "execution_count": null,
   "id": "8adfdaf1",
   "metadata": {},
   "outputs": [],
   "source": []
  },
  {
   "cell_type": "code",
   "execution_count": null,
   "id": "fda7e6a9",
   "metadata": {},
   "outputs": [],
   "source": []
  }
 ],
 "metadata": {
  "kernelspec": {
   "display_name": "Python 3",
   "language": "python",
   "name": "python3"
  },
  "language_info": {
   "codemirror_mode": {
    "name": "ipython",
    "version": 3
   },
   "file_extension": ".py",
   "mimetype": "text/x-python",
   "name": "python",
   "nbconvert_exporter": "python",
   "pygments_lexer": "ipython3",
   "version": "3.8.8"
  }
 },
 "nbformat": 4,
 "nbformat_minor": 5
}
