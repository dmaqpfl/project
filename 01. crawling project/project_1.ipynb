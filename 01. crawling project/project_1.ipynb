{
 "cells": [
  {
   "cell_type": "code",
   "execution_count": 432,
   "id": "bf4c0133",
   "metadata": {},
   "outputs": [
    {
     "name": "stdout",
     "output_type": "stream",
     "text": [
      "종목코드 : 035720\n"
     ]
    },
    {
     "name": "stderr",
     "output_type": "stream",
     "text": [
      "<ipython-input-432-20ab0b19eff7>:27: DeprecationWarning: use driver.switch_to.frame instead\n",
      "  driver.switch_to_frame(iframe)\n"
     ]
    },
    {
     "name": "stdout",
     "output_type": "stream",
     "text": [
      "날짜 : 2021.08.10 , 금액 : 146,500\n",
      "날짜 : 2021.08.09 , 금액 : 148,000\n",
      "날짜 : 2021.08.06 , 금액 : 145,500\n",
      "날짜 : 2021.08.05 , 금액 : 149,000\n",
      "날짜 : 2021.08.04 , 금액 : 149,500\n",
      "날짜 : 2021.08.03 , 금액 : 144,000\n",
      "날짜 : 2021.08.02 , 금액 : 146,000\n",
      "날짜 : 2021.07.30 , 금액 : 147,000\n",
      "날짜 : 2021.07.29 , 금액 : 148,500\n",
      "날짜 : 2021.07.28 , 금액 : 148,000\n",
      "날짜 : 2021.07.27 , 금액 : 148,000\n",
      "날짜 : 2021.07.26 , 금액 : 147,500\n",
      "날짜 : 2021.07.23 , 금액 : 149,500\n",
      "날짜 : 2021.07.22 , 금액 : 147,500\n",
      "날짜 : 2021.07.21 , 금액 : 145,000\n",
      "날짜 : 2021.07.20 , 금액 : 152,000\n",
      "날짜 : 2021.07.19 , 금액 : 154,000\n",
      "날짜 : 2021.07.16 , 금액 : 157,000\n",
      "날짜 : 2021.07.15 , 금액 : 159,500\n",
      "날짜 : 2021.07.14 , 금액 : 162,000\n",
      "날짜 : 2021.07.13 , 금액 : 161,000\n",
      "날짜 : 2021.07.12 , 금액 : 162,000\n",
      "날짜 : 2021.07.09 , 금액 : 160,500\n",
      "날짜 : 2021.07.08 , 금액 : 163,000\n",
      "날짜 : 2021.07.07 , 금액 : 161,000\n",
      "날짜 : 2021.07.06 , 금액 : 157,500\n",
      "날짜 : 2021.07.05 , 금액 : 157,000\n",
      "날짜 : 2021.07.02 , 금액 : 159,500\n",
      "날짜 : 2021.07.01 , 금액 : 160,000\n",
      "날짜 : 2021.06.30 , 금액 : 163,000\n",
      "날짜 : 2021.06.29 , 금액 : 158,000\n",
      "날짜 : 2021.06.28 , 금액 : 155,000\n",
      "날짜 : 2021.06.25 , 금액 : 154,500\n",
      "날짜 : 2021.06.24 , 금액 : 157,000\n",
      "날짜 : 2021.06.23 , 금액 : 169,500\n",
      "날짜 : 2021.06.22 , 금액 : 159,000\n",
      "날짜 : 2021.06.21 , 금액 : 155,000\n",
      "날짜 : 2021.06.18 , 금액 : 155,000\n",
      "날짜 : 2021.06.17 , 금액 : 148,000\n",
      "날짜 : 2021.06.16 , 금액 : 143,000\n"
     ]
    }
   ],
   "source": [
    "code = input('종목코드 : ')\n",
    "\n",
    "import requests\n",
    "from bs4 import BeautifulSoup\n",
    "from selenium import webdriver\n",
    "import time\n",
    "# -------------- 크롤링할 페이지 실행 --------------\n",
    "\n",
    "url = 'https://finance.naver.com/'\n",
    "driver=webdriver.Chrome()\n",
    "driver.get(url)\n",
    "time.sleep(2) # 페이지 오픈 2초 대기\n",
    "\n",
    "# -------------- 종목 검색 및 페이지 시세 페이지 이동 --------------\n",
    "try : \n",
    "    elem=driver.find_element_by_xpath('//*[@id=\"stock_items\"]')\n",
    "    elem.send_keys(code) # 찾으려는 종목 코드 입력\n",
    "    driver.find_element_by_xpath('//*[@id=\"header\"]/div[1]/div/div[2]/form/fieldset/div/button').click()\n",
    "\n",
    "    time.sleep(2) # 검색 2초 대기\n",
    "\n",
    "    driver.find_element_by_xpath('//*[@id=\"content\"]/ul/li[2]/a').click() # 시세 확인을 위한 탭 이동\n",
    "\n",
    "    # -------------- 해당 일별 데이터 iframe 이동 --------------\n",
    "\n",
    "    iframe = driver.find_element_by_xpath('//*[@id=\"content\"]/div[2]/iframe[2]')\n",
    "    driver.switch_to_frame(iframe)\n",
    "\n",
    "\n",
    "    # -------------- 데이터 크롤링 --------------\n",
    "\n",
    "    j=1\n",
    "    for _ in range(4) : \n",
    "    # -------------- 해당 페이지 html 파싱 --------------\n",
    "        html = driver.page_source\n",
    "        soup = BeautifulSoup(html,'html.parser')\n",
    "        post = soup.select('table.type2 > tbody > tr')\n",
    "\n",
    "    # -------------- 불필요한 라인 삭제 -------------- \n",
    "        del post[1]\n",
    "        del post[6]\n",
    "        del post[6]\n",
    "        del post[6]\n",
    "        del post[11]\n",
    "        k=0\n",
    "        for i in post :\n",
    "            if k!=0 :\n",
    "                date = i.select('td')[0].text\n",
    "                price = i.select('td')[1].text\n",
    "                print('날짜 : {} , 금액 : {}'.format(date, price))\n",
    "            k+=1\n",
    "\n",
    "        page = '/html/body/table[2]/tbody/tr/td[{}]/a'.format(j+1)\n",
    "    # -------------- 페이지 이동 시 '맨 앞'이라는 항목이 생겨 xpath가 바뀜 --------------   \n",
    "        if j >= 2:\n",
    "            page = '/html/body/table[2]/tbody/tr/td[{}]/a'.format(j+2)\n",
    "\n",
    "        driver.find_element_by_xpath(page).click()\n",
    "        time.sleep(0.5)\n",
    "        j+=1\n",
    "except :\n",
    "    print('없는 종목 코드 입니다')\n",
    "    pass\n"
   ]
  },
  {
   "cell_type": "code",
   "execution_count": null,
   "id": "13482b7f",
   "metadata": {},
   "outputs": [],
   "source": []
  }
 ],
 "metadata": {
  "kernelspec": {
   "display_name": "Python 3",
   "language": "python",
   "name": "python3"
  },
  "language_info": {
   "codemirror_mode": {
    "name": "ipython",
    "version": 3
   },
   "file_extension": ".py",
   "mimetype": "text/x-python",
   "name": "python",
   "nbconvert_exporter": "python",
   "pygments_lexer": "ipython3",
   "version": "3.8.8"
  }
 },
 "nbformat": 4,
 "nbformat_minor": 5
}
