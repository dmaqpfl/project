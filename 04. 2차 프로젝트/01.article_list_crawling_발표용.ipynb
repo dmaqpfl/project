{
 "cells": [
  {
   "cell_type": "code",
   "execution_count": 1,
   "id": "119efd20",
   "metadata": {},
   "outputs": [],
   "source": [
    "import requests\n",
    "from bs4 import BeautifulSoup\n",
    "from selenium import webdriver\n",
    "from datetime import datetime\n",
    "import json\n",
    "\n",
    "import pandas as pd\n",
    "import numpy as np\n",
    "import matplotlib.pyplot as plt\n",
    "import seaborn as sns"
   ]
  },
  {
   "cell_type": "code",
   "execution_count": 118,
   "id": "0554967a",
   "metadata": {},
   "outputs": [],
   "source": [
    "article_df = pd.DataFrame(columns=['date','category','link'])"
   ]
  },
  {
   "cell_type": "code",
   "execution_count": 119,
   "id": "6fb6b1f7",
   "metadata": {},
   "outputs": [],
   "source": [
    "list_url = 'https://www.digitaltoday.co.kr/news/articleList.html?page={}&total=119506&box_idxno=&view_type=sm'.format(1)\n",
    "\n",
    "article_df = pd.DataFrame(columns=['date','category','link'])\n",
    "\n",
    "try :\n",
    "    for num in range(1, 2415) :\n",
    "        list_url=\"http://www.digitaltoday.co.kr/news/articleList.html?page={}&total=119514&sc_order_by=E\".format(num)\n",
    "\n",
    "        res = requests.get(list_url)\n",
    "        soup = BeautifulSoup(res.text, 'html.parser')\n",
    "        path = '#section-list ul li'\n",
    "        list_select = soup.select(path)\n",
    "\n",
    "        for i in range(len(list_select)) :\n",
    "            date = list_select[i].select('em.replace-date')[0].text\n",
    "            category = list_select[i].select('em.replace-section')[0].text\n",
    "            link = list_select[i].select('a')[0]['href']\n",
    "            data = {'date':date, 'category':category, 'link':link}\n",
    "            article_df = article_df.append(data, ignore_index=True)\n",
    "\n",
    "except :\n",
    "    print('{} 페이지 오류 확인 바람'.format(num))\n",
    "\n",
    "article_df.to_csv('article_list.csv', encoding='utf-8-sig')"
   ]
  },
  {
   "cell_type": "code",
   "execution_count": 157,
   "id": "6ee307e7",
   "metadata": {
    "collapsed": true
   },
   "outputs": [
    {
     "data": {
      "text/html": [
       "<div>\n",
       "<style scoped>\n",
       "    .dataframe tbody tr th:only-of-type {\n",
       "        vertical-align: middle;\n",
       "    }\n",
       "\n",
       "    .dataframe tbody tr th {\n",
       "        vertical-align: top;\n",
       "    }\n",
       "\n",
       "    .dataframe thead th {\n",
       "        text-align: right;\n",
       "    }\n",
       "</style>\n",
       "<table border=\"1\" class=\"dataframe\">\n",
       "  <thead>\n",
       "    <tr style=\"text-align: right;\">\n",
       "      <th></th>\n",
       "      <th>date</th>\n",
       "      <th>category</th>\n",
       "      <th>link</th>\n",
       "    </tr>\n",
       "  </thead>\n",
       "  <tbody>\n",
       "    <tr>\n",
       "      <th>0</th>\n",
       "      <td>2021.11.02 16:01</td>\n",
       "      <td>종합</td>\n",
       "      <td>/news/articleView.html?idxno=423223</td>\n",
       "    </tr>\n",
       "    <tr>\n",
       "      <th>1</th>\n",
       "      <td>2021.11.02 16:00</td>\n",
       "      <td>종합</td>\n",
       "      <td>/news/articleView.html?idxno=423216</td>\n",
       "    </tr>\n",
       "    <tr>\n",
       "      <th>2</th>\n",
       "      <td>2021.11.02 15:59</td>\n",
       "      <td>블록체인</td>\n",
       "      <td>/news/articleView.html?idxno=423219</td>\n",
       "    </tr>\n",
       "    <tr>\n",
       "      <th>3</th>\n",
       "      <td>2021.11.02 15:41</td>\n",
       "      <td>종합</td>\n",
       "      <td>/news/articleView.html?idxno=423188</td>\n",
       "    </tr>\n",
       "    <tr>\n",
       "      <th>4</th>\n",
       "      <td>2021.11.02 15:38</td>\n",
       "      <td>산업</td>\n",
       "      <td>/news/articleView.html?idxno=423202</td>\n",
       "    </tr>\n",
       "    <tr>\n",
       "      <th>...</th>\n",
       "      <td>...</td>\n",
       "      <td>...</td>\n",
       "      <td>...</td>\n",
       "    </tr>\n",
       "    <tr>\n",
       "      <th>48255</th>\n",
       "      <td>2017.10.02 09:07</td>\n",
       "      <td>산업</td>\n",
       "      <td>/news/articleView.html?idxno=111789</td>\n",
       "    </tr>\n",
       "    <tr>\n",
       "      <th>48256</th>\n",
       "      <td>2017.10.02 08:57</td>\n",
       "      <td>산업</td>\n",
       "      <td>/news/articleView.html?idxno=111869</td>\n",
       "    </tr>\n",
       "    <tr>\n",
       "      <th>48257</th>\n",
       "      <td>2017.10.01 16:00</td>\n",
       "      <td>정보통신</td>\n",
       "      <td>/news/articleView.html?idxno=111859</td>\n",
       "    </tr>\n",
       "    <tr>\n",
       "      <th>48258</th>\n",
       "      <td>2017.10.01 15:24</td>\n",
       "      <td>인사</td>\n",
       "      <td>/news/articleView.html?idxno=111858</td>\n",
       "    </tr>\n",
       "    <tr>\n",
       "      <th>48259</th>\n",
       "      <td>2017.10.01 14:23</td>\n",
       "      <td>정보통신</td>\n",
       "      <td>/news/articleView.html?idxno=111854</td>\n",
       "    </tr>\n",
       "  </tbody>\n",
       "</table>\n",
       "<p>48260 rows × 3 columns</p>\n",
       "</div>"
      ],
      "text/plain": [
       "                   date category                                 link\n",
       "0      2021.11.02 16:01       종합  /news/articleView.html?idxno=423223\n",
       "1      2021.11.02 16:00       종합  /news/articleView.html?idxno=423216\n",
       "2      2021.11.02 15:59     블록체인  /news/articleView.html?idxno=423219\n",
       "3      2021.11.02 15:41       종합  /news/articleView.html?idxno=423188\n",
       "4      2021.11.02 15:38       산업  /news/articleView.html?idxno=423202\n",
       "...                 ...      ...                                  ...\n",
       "48255  2017.10.02 09:07       산업  /news/articleView.html?idxno=111789\n",
       "48256  2017.10.02 08:57       산업  /news/articleView.html?idxno=111869\n",
       "48257  2017.10.01 16:00     정보통신  /news/articleView.html?idxno=111859\n",
       "48258  2017.10.01 15:24       인사  /news/articleView.html?idxno=111858\n",
       "48259  2017.10.01 14:23     정보통신  /news/articleView.html?idxno=111854\n",
       "\n",
       "[48260 rows x 3 columns]"
      ]
     },
     "execution_count": 157,
     "metadata": {},
     "output_type": "execute_result"
    }
   ],
   "source": [
    "article_df"
   ]
  },
  {
   "cell_type": "code",
   "execution_count": null,
   "id": "ab626ddc",
   "metadata": {},
   "outputs": [],
   "source": [
    "for i in range(len(article_df['date'])) :\n",
    "    if len(article_df['date'][i]) == 11 :\n",
    "        article_df['date'][i] = '2021.'+ article_df['date'][i]"
   ]
  },
  {
   "cell_type": "code",
   "execution_count": 1,
   "id": "a4add087",
   "metadata": {
    "collapsed": true
   },
   "outputs": [
    {
     "ename": "NameError",
     "evalue": "name 'article_df' is not defined",
     "output_type": "error",
     "traceback": [
      "\u001b[1;31m---------------------------------------------------------------------------\u001b[0m",
      "\u001b[1;31mNameError\u001b[0m                                 Traceback (most recent call last)",
      "\u001b[1;32m<ipython-input-1-487eadd070ac>\u001b[0m in \u001b[0;36m<module>\u001b[1;34m\u001b[0m\n\u001b[1;32m----> 1\u001b[1;33m \u001b[0marticle_df\u001b[0m\u001b[1;33m.\u001b[0m\u001b[0mto_csv\u001b[0m\u001b[1;33m(\u001b[0m\u001b[1;34m'article_list.csv'\u001b[0m\u001b[1;33m,\u001b[0m \u001b[0mencoding\u001b[0m\u001b[1;33m=\u001b[0m\u001b[1;34m'utf-8-sig'\u001b[0m\u001b[1;33m)\u001b[0m\u001b[1;33m\u001b[0m\u001b[1;33m\u001b[0m\u001b[0m\n\u001b[0m",
      "\u001b[1;31mNameError\u001b[0m: name 'article_df' is not defined"
     ]
    }
   ],
   "source": [
    "article_df.to_csv('article_list.csv', encoding='utf-8-sig')"
   ]
  },
  {
   "cell_type": "code",
   "execution_count": 10,
   "id": "6027ae7d",
   "metadata": {
    "collapsed": true
   },
   "outputs": [
    {
     "data": {
      "text/html": [
       "<div>\n",
       "<style scoped>\n",
       "    .dataframe tbody tr th:only-of-type {\n",
       "        vertical-align: middle;\n",
       "    }\n",
       "\n",
       "    .dataframe tbody tr th {\n",
       "        vertical-align: top;\n",
       "    }\n",
       "\n",
       "    .dataframe thead th {\n",
       "        text-align: right;\n",
       "    }\n",
       "</style>\n",
       "<table border=\"1\" class=\"dataframe\">\n",
       "  <thead>\n",
       "    <tr style=\"text-align: right;\">\n",
       "      <th></th>\n",
       "      <th>date</th>\n",
       "      <th>category</th>\n",
       "      <th>link</th>\n",
       "    </tr>\n",
       "  </thead>\n",
       "  <tbody>\n",
       "    <tr>\n",
       "      <th>0</th>\n",
       "      <td>2021.11.02 16:01</td>\n",
       "      <td>종합</td>\n",
       "      <td>/news/articleView.html?idxno=423223</td>\n",
       "    </tr>\n",
       "    <tr>\n",
       "      <th>1</th>\n",
       "      <td>2021.11.02 16:00</td>\n",
       "      <td>종합</td>\n",
       "      <td>/news/articleView.html?idxno=423216</td>\n",
       "    </tr>\n",
       "    <tr>\n",
       "      <th>2</th>\n",
       "      <td>2021.11.02 15:59</td>\n",
       "      <td>블록체인</td>\n",
       "      <td>/news/articleView.html?idxno=423219</td>\n",
       "    </tr>\n",
       "    <tr>\n",
       "      <th>3</th>\n",
       "      <td>2021.11.02 15:41</td>\n",
       "      <td>종합</td>\n",
       "      <td>/news/articleView.html?idxno=423188</td>\n",
       "    </tr>\n",
       "    <tr>\n",
       "      <th>4</th>\n",
       "      <td>2021.11.02 15:38</td>\n",
       "      <td>산업</td>\n",
       "      <td>/news/articleView.html?idxno=423202</td>\n",
       "    </tr>\n",
       "    <tr>\n",
       "      <th>...</th>\n",
       "      <td>...</td>\n",
       "      <td>...</td>\n",
       "      <td>...</td>\n",
       "    </tr>\n",
       "    <tr>\n",
       "      <th>48275</th>\n",
       "      <td>2017.09.29 14:32</td>\n",
       "      <td>정보통신</td>\n",
       "      <td>/news/articleView.html?idxno=111788</td>\n",
       "    </tr>\n",
       "    <tr>\n",
       "      <th>48276</th>\n",
       "      <td>2017.09.29 14:30</td>\n",
       "      <td>인물/동정</td>\n",
       "      <td>/news/articleView.html?idxno=111785</td>\n",
       "    </tr>\n",
       "    <tr>\n",
       "      <th>48277</th>\n",
       "      <td>2017.09.29 13:27</td>\n",
       "      <td>인터넷</td>\n",
       "      <td>/news/articleView.html?idxno=111782</td>\n",
       "    </tr>\n",
       "    <tr>\n",
       "      <th>48278</th>\n",
       "      <td>2017.09.29 13:26</td>\n",
       "      <td>인터넷</td>\n",
       "      <td>/news/articleView.html?idxno=111781</td>\n",
       "    </tr>\n",
       "    <tr>\n",
       "      <th>48279</th>\n",
       "      <td>2017.09.29 13:25</td>\n",
       "      <td>정보통신</td>\n",
       "      <td>/news/articleView.html?idxno=111777</td>\n",
       "    </tr>\n",
       "  </tbody>\n",
       "</table>\n",
       "<p>48280 rows × 3 columns</p>\n",
       "</div>"
      ],
      "text/plain": [
       "                   date category                                 link\n",
       "0      2021.11.02 16:01       종합  /news/articleView.html?idxno=423223\n",
       "1      2021.11.02 16:00       종합  /news/articleView.html?idxno=423216\n",
       "2      2021.11.02 15:59     블록체인  /news/articleView.html?idxno=423219\n",
       "3      2021.11.02 15:41       종합  /news/articleView.html?idxno=423188\n",
       "4      2021.11.02 15:38       산업  /news/articleView.html?idxno=423202\n",
       "...                 ...      ...                                  ...\n",
       "48275  2017.09.29 14:32     정보통신  /news/articleView.html?idxno=111788\n",
       "48276  2017.09.29 14:30    인물/동정  /news/articleView.html?idxno=111785\n",
       "48277  2017.09.29 13:27      인터넷  /news/articleView.html?idxno=111782\n",
       "48278  2017.09.29 13:26      인터넷  /news/articleView.html?idxno=111781\n",
       "48279  2017.09.29 13:25     정보통신  /news/articleView.html?idxno=111777\n",
       "\n",
       "[48280 rows x 3 columns]"
      ]
     },
     "execution_count": 10,
     "metadata": {},
     "output_type": "execute_result"
    }
   ],
   "source": [
    "article_df = pd.read_csv('article_list.csv', index_col =0)\n",
    "article_df"
   ]
  },
  {
   "cell_type": "code",
   "execution_count": 4,
   "id": "1908207f",
   "metadata": {
    "collapsed": true
   },
   "outputs": [
    {
     "data": {
      "text/html": [
       "<div>\n",
       "<style scoped>\n",
       "    .dataframe tbody tr th:only-of-type {\n",
       "        vertical-align: middle;\n",
       "    }\n",
       "\n",
       "    .dataframe tbody tr th {\n",
       "        vertical-align: top;\n",
       "    }\n",
       "\n",
       "    .dataframe thead th {\n",
       "        text-align: right;\n",
       "    }\n",
       "</style>\n",
       "<table border=\"1\" class=\"dataframe\">\n",
       "  <thead>\n",
       "    <tr style=\"text-align: right;\">\n",
       "      <th></th>\n",
       "      <th>idxno</th>\n",
       "      <th>title</th>\n",
       "      <th>contents</th>\n",
       "    </tr>\n",
       "  </thead>\n",
       "  <tbody>\n",
       "    <tr>\n",
       "      <th>0</th>\n",
       "      <td>/news/articleView.html?idxno=423223</td>\n",
       "      <td>[데일리픽] 투자 \"주식만 있는 건 아니다\"…가상자산 과세 1년 연기?</td>\n",
       "      <td>\\n\\n\\n\\n\\n\\n\\n\\n[사진: 뮤직카우]\\n\\n\\n■ 저작권, 한우 등 이색...</td>\n",
       "    </tr>\n",
       "    <tr>\n",
       "      <th>1</th>\n",
       "      <td>/news/articleView.html?idxno=423216</td>\n",
       "      <td>과기정통부, 네트워크 안정성 대책 TF 첫 회의 가져</td>\n",
       "      <td>\\n\\n\\n\\n\\n\\n[디지털투데이 정유림 기자] 과학기술정보통신부는 지난 10월 ...</td>\n",
       "    </tr>\n",
       "    <tr>\n",
       "      <th>2</th>\n",
       "      <td>/news/articleView.html?idxno=423219</td>\n",
       "      <td>가상자산 과세 연기되나...여당 \"1년  유예 추진\"</td>\n",
       "      <td>\\n\\n\\n여당인 더불어민주당이 가상자산 과세를 1년 유예하는 방안을 추진하고 있다...</td>\n",
       "    </tr>\n",
       "    <tr>\n",
       "      <th>3</th>\n",
       "      <td>/news/articleView.html?idxno=423188</td>\n",
       "      <td>AI 연구·인재 양성 싱크탱크 '인공지능 혁신 허브' 출범</td>\n",
       "      <td>\\n\\n\\n임혜숙 과학기술정보통신부 장관이 2일 오후 서울 성북구 고려대학교 미래융...</td>\n",
       "    </tr>\n",
       "    <tr>\n",
       "      <th>4</th>\n",
       "      <td>/news/articleView.html?idxno=423202</td>\n",
       "      <td>에이지엣랩스, 뮤신 콜라겐으로 이너뷰티 시장 파고든다</td>\n",
       "      <td>\\n\\n\\n\\n \\n[디지털투데이 이병희 객원기자]  생명기술(BT)에 대한 기업의...</td>\n",
       "    </tr>\n",
       "    <tr>\n",
       "      <th>...</th>\n",
       "      <td>...</td>\n",
       "      <td>...</td>\n",
       "      <td>...</td>\n",
       "    </tr>\n",
       "    <tr>\n",
       "      <th>48275</th>\n",
       "      <td>/news/articleView.html?idxno=111788</td>\n",
       "      <td>SKT, ‘웹툰 자유이용권+데이터 3GB’ 서비스 출시</td>\n",
       "      <td>\\n[디지털투데이 정명섭 기자] SK텔레콤이 유료 웹툰 이용권에 추가 데이터를 제공...</td>\n",
       "    </tr>\n",
       "    <tr>\n",
       "      <th>48276</th>\n",
       "      <td>/news/articleView.html?idxno=111785</td>\n",
       "      <td>SKT, ICT 전시관 티움 개관식 개최</td>\n",
       "      <td>\\n[디지털투데이 정명섭 기자] SK텔레콤 최첨단 정보통신기술(ICT) 체험관 ‘티...</td>\n",
       "    </tr>\n",
       "    <tr>\n",
       "      <th>48277</th>\n",
       "      <td>/news/articleView.html?idxno=111782</td>\n",
       "      <td>‘배틀그라운드’ 성공가도 블루홀 조직개편 단행</td>\n",
       "      <td>\\n[디지털투데이 김동규 기자] 블루홀의 신임 대표로 김효섭 현 블루홀 경영기획 실...</td>\n",
       "    </tr>\n",
       "    <tr>\n",
       "      <th>48278</th>\n",
       "      <td>/news/articleView.html?idxno=111781</td>\n",
       "      <td>카카오내비, \"귀성길은 3일 오후~저녁, 귀경길은 4일 저녁 출발 추천\"</td>\n",
       "      <td>\\n[디지털투데이 홍하나 기자] 이번 추석 귀성길은 10월 3일 오후부터 저녁, 귀...</td>\n",
       "    </tr>\n",
       "    <tr>\n",
       "      <th>48279</th>\n",
       "      <td>/news/articleView.html?idxno=111777</td>\n",
       "      <td>재팬디스플레이의 풀액티브 LCD, 애플 내년 아이폰 사용 검토</td>\n",
       "      <td>\\n[디지털투데이 백연식 기자] 애플은 재팬디스플레이의 풀액티브 LCD 디스플레이를...</td>\n",
       "    </tr>\n",
       "  </tbody>\n",
       "</table>\n",
       "<p>48280 rows × 3 columns</p>\n",
       "</div>"
      ],
      "text/plain": [
       "                                     idxno  \\\n",
       "0      /news/articleView.html?idxno=423223   \n",
       "1      /news/articleView.html?idxno=423216   \n",
       "2      /news/articleView.html?idxno=423219   \n",
       "3      /news/articleView.html?idxno=423188   \n",
       "4      /news/articleView.html?idxno=423202   \n",
       "...                                    ...   \n",
       "48275  /news/articleView.html?idxno=111788   \n",
       "48276  /news/articleView.html?idxno=111785   \n",
       "48277  /news/articleView.html?idxno=111782   \n",
       "48278  /news/articleView.html?idxno=111781   \n",
       "48279  /news/articleView.html?idxno=111777   \n",
       "\n",
       "                                          title  \\\n",
       "0       [데일리픽] 투자 \"주식만 있는 건 아니다\"…가상자산 과세 1년 연기?   \n",
       "1                 과기정통부, 네트워크 안정성 대책 TF 첫 회의 가져   \n",
       "2                 가상자산 과세 연기되나...여당 \"1년  유예 추진\"   \n",
       "3              AI 연구·인재 양성 싱크탱크 '인공지능 혁신 허브' 출범   \n",
       "4                 에이지엣랩스, 뮤신 콜라겐으로 이너뷰티 시장 파고든다   \n",
       "...                                         ...   \n",
       "48275            SKT, ‘웹툰 자유이용권+데이터 3GB’ 서비스 출시   \n",
       "48276                    SKT, ICT 전시관 티움 개관식 개최   \n",
       "48277                 ‘배틀그라운드’ 성공가도 블루홀 조직개편 단행   \n",
       "48278  카카오내비, \"귀성길은 3일 오후~저녁, 귀경길은 4일 저녁 출발 추천\"   \n",
       "48279        재팬디스플레이의 풀액티브 LCD, 애플 내년 아이폰 사용 검토   \n",
       "\n",
       "                                                contents  \n",
       "0      \\n\\n\\n\\n\\n\\n\\n\\n[사진: 뮤직카우]\\n\\n\\n■ 저작권, 한우 등 이색...  \n",
       "1      \\n\\n\\n\\n\\n\\n[디지털투데이 정유림 기자] 과학기술정보통신부는 지난 10월 ...  \n",
       "2      \\n\\n\\n여당인 더불어민주당이 가상자산 과세를 1년 유예하는 방안을 추진하고 있다...  \n",
       "3      \\n\\n\\n임혜숙 과학기술정보통신부 장관이 2일 오후 서울 성북구 고려대학교 미래융...  \n",
       "4      \\n\\n\\n\\n \\n[디지털투데이 이병희 객원기자]  생명기술(BT)에 대한 기업의...  \n",
       "...                                                  ...  \n",
       "48275  \\n[디지털투데이 정명섭 기자] SK텔레콤이 유료 웹툰 이용권에 추가 데이터를 제공...  \n",
       "48276  \\n[디지털투데이 정명섭 기자] SK텔레콤 최첨단 정보통신기술(ICT) 체험관 ‘티...  \n",
       "48277  \\n[디지털투데이 김동규 기자] 블루홀의 신임 대표로 김효섭 현 블루홀 경영기획 실...  \n",
       "48278  \\n[디지털투데이 홍하나 기자] 이번 추석 귀성길은 10월 3일 오후부터 저녁, 귀...  \n",
       "48279  \\n[디지털투데이 백연식 기자] 애플은 재팬디스플레이의 풀액티브 LCD 디스플레이를...  \n",
       "\n",
       "[48280 rows x 3 columns]"
      ]
     },
     "execution_count": 4,
     "metadata": {},
     "output_type": "execute_result"
    }
   ],
   "source": [
    "article_contents_df = pd.DataFrame(columns=['idxno','title','contents'])\n",
    "\n",
    "for k in range(len(article_df)) : \n",
    "    article_url = 'https://www.digitaltoday.co.kr{}'.format(article_df['link'][k])\n",
    "    \n",
    "    res = requests.get(article_url)\n",
    "    soup = BeautifulSoup(res.text, 'html.parser')\n",
    "    idxno = article_df['link'][k]\n",
    "    title = soup.select('#article-view > div > header > h3')[0].text\n",
    "    contents = soup.select('#article-view-content-div')[0].text\n",
    "    \n",
    "    data = {'idxno':idxno, 'title':title, 'contents':contents}\n",
    "    \n",
    "    article_contents_df = article_contents_df.append(data, ignore_index=True)\n",
    "article_contents_df"
   ]
  },
  {
   "cell_type": "code",
   "execution_count": 5,
   "id": "0dbbf845",
   "metadata": {},
   "outputs": [],
   "source": [
    "article_contents_df.to_csv('article_contents_df.csv', encoding='utf-8-sig')"
   ]
  },
  {
   "cell_type": "code",
   "execution_count": 58,
   "id": "4d67454c",
   "metadata": {},
   "outputs": [],
   "source": [
    "import matplotlib as mpl\n",
    "import matplotlib.font_manager as fm\n",
    "\n",
    "mpl.rcParams['axes.unicode_minus']= False\n",
    "\n",
    "path = 'C:/Windows/Fonts/malgun.ttf'\n",
    "font_name = fm.FontProperties(fname = path, size = 50).get_name()\n",
    "plt.rc('font', family=font_name)"
   ]
  },
  {
   "cell_type": "code",
   "execution_count": null,
   "id": "ff4bf308",
   "metadata": {},
   "outputs": [],
   "source": []
  },
  {
   "cell_type": "code",
   "execution_count": 2,
   "id": "944f81cf",
   "metadata": {},
   "outputs": [],
   "source": [
    "article_contents_df = pd.read_csv('article_contents_df.csv', index_col=0)\n",
    "article_df = pd.read_csv('article_list.csv', index_col=0)"
   ]
  },
  {
   "cell_type": "code",
   "execution_count": 3,
   "id": "a0cae46e",
   "metadata": {},
   "outputs": [],
   "source": [
    "article_df['date'] = pd.to_datetime(article_df['date'])\n",
    "article_df.columns = ['date', 'category', 'idxno']\n",
    "article_df_merge = pd.merge(article_df, article_contents_df, on='idxno')"
   ]
  },
  {
   "cell_type": "code",
   "execution_count": 88,
   "id": "779fee64",
   "metadata": {
    "collapsed": true
   },
   "outputs": [
    {
     "name": "stderr",
     "output_type": "stream",
     "text": [
      "<ipython-input-88-72ef01dad29e>:1: FutureWarning: The pandas.datetime class is deprecated and will be removed from pandas in a future version. Import from datetime module instead.\n",
      "  article_df_merge_del = article_df_merge[article_df_merge['date'] < pd.datetime(2021,11,1)]\n",
      "<ipython-input-88-72ef01dad29e>:2: FutureWarning: The pandas.datetime class is deprecated and will be removed from pandas in a future version. Import from datetime module instead.\n",
      "  article_df_merge_del = article_df_merge_del[article_df_merge_del['date'] > pd.datetime(2017,9,30,23,59)]\n"
     ]
    },
    {
     "data": {
      "text/html": [
       "<div>\n",
       "<style scoped>\n",
       "    .dataframe tbody tr th:only-of-type {\n",
       "        vertical-align: middle;\n",
       "    }\n",
       "\n",
       "    .dataframe tbody tr th {\n",
       "        vertical-align: top;\n",
       "    }\n",
       "\n",
       "    .dataframe thead th {\n",
       "        text-align: right;\n",
       "    }\n",
       "</style>\n",
       "<table border=\"1\" class=\"dataframe\">\n",
       "  <thead>\n",
       "    <tr style=\"text-align: right;\">\n",
       "      <th></th>\n",
       "      <th>date</th>\n",
       "      <th>category</th>\n",
       "      <th>idxno</th>\n",
       "      <th>title</th>\n",
       "      <th>contents</th>\n",
       "    </tr>\n",
       "  </thead>\n",
       "  <tbody>\n",
       "    <tr>\n",
       "      <th>139</th>\n",
       "      <td>2021-10-31 17:31:00</td>\n",
       "      <td>종합</td>\n",
       "      <td>/news/articleView.html?idxno=422946</td>\n",
       "      <td>[데일리픽] G20 디지털세 도입…11월부터 ‘위드코로나’ 1단계</td>\n",
       "      <td>\\n\\n\\n\\n\\n\\n\\n\\nG20 정상회의 [사진: 디지털투데이]\\n\\n\\n■ G...</td>\n",
       "    </tr>\n",
       "    <tr>\n",
       "      <th>140</th>\n",
       "      <td>2021-10-31 16:26:00</td>\n",
       "      <td>종합</td>\n",
       "      <td>/news/articleView.html?idxno=422945</td>\n",
       "      <td>G20 정상들, 디지털세 도입 합의안 추인</td>\n",
       "      <td>\\n\\n\\nG20 정상회의 [사진: 디지털투데이]\\n\\n\\n[디지털투데이 문정은 기...</td>\n",
       "    </tr>\n",
       "    <tr>\n",
       "      <th>141</th>\n",
       "      <td>2021-10-31 13:45:00</td>\n",
       "      <td>금융·핀테크</td>\n",
       "      <td>/news/articleView.html?idxno=422941</td>\n",
       "      <td>금융권, 고객들에 연 2회 금리인하요구권 안내</td>\n",
       "      <td>\\n\\n\\n금융위원회 [사진: 연합뉴스]\\n\\n\\n[디지털투데이 강진규 기자] 앞으...</td>\n",
       "    </tr>\n",
       "    <tr>\n",
       "      <th>142</th>\n",
       "      <td>2021-10-31 10:44:00</td>\n",
       "      <td>금융·핀테크</td>\n",
       "      <td>/news/articleView.html?idxno=422940</td>\n",
       "      <td>기업은행, 혁신 테스트베드 'IBK 퍼스트랩' 3기 기업 모집</td>\n",
       "      <td>\\n\\n\\nIBK기업은행이 퍼스트 랩 3기 참여기업을 모집한다. [사진: IBK기업...</td>\n",
       "    </tr>\n",
       "    <tr>\n",
       "      <th>143</th>\n",
       "      <td>2021-10-31 10:44:00</td>\n",
       "      <td>금융·핀테크</td>\n",
       "      <td>/news/articleView.html?idxno=422939</td>\n",
       "      <td>하나은행, 소상공인 사이버금융범죄 피해보상보험 지원</td>\n",
       "      <td>\\n\\n\\n하나은행이 소상공인 사이버금융범죄 피해보상보험 무상 가입 지원 서비스를 ...</td>\n",
       "    </tr>\n",
       "    <tr>\n",
       "      <th>...</th>\n",
       "      <td>...</td>\n",
       "      <td>...</td>\n",
       "      <td>...</td>\n",
       "      <td>...</td>\n",
       "      <td>...</td>\n",
       "    </tr>\n",
       "    <tr>\n",
       "      <th>48261</th>\n",
       "      <td>2017-10-02 09:07:00</td>\n",
       "      <td>산업</td>\n",
       "      <td>/news/articleView.html?idxno=111789</td>\n",
       "      <td>[단독] 삼성SDI, 헝가리 공장에 배터리 신공정 도입</td>\n",
       "      <td>\\n[디지털투데이 박찬길 기자] 삼성SDI가 내년 상반기 양산 가동 예정인 헝가리 ...</td>\n",
       "    </tr>\n",
       "    <tr>\n",
       "      <th>48262</th>\n",
       "      <td>2017-10-02 08:57:00</td>\n",
       "      <td>산업</td>\n",
       "      <td>/news/articleView.html?idxno=111869</td>\n",
       "      <td>길 안내만 하는 내비게이션은 '옛 이야기'...AI·빅데이터 첨단기술 무장</td>\n",
       "      <td>\\n[디지털투데이 정명섭 기자] 우리나라 민족 고유의 명절 추석은 귀성 인파가 몰려...</td>\n",
       "    </tr>\n",
       "    <tr>\n",
       "      <th>48263</th>\n",
       "      <td>2017-10-01 16:00:00</td>\n",
       "      <td>정보통신</td>\n",
       "      <td>/news/articleView.html?idxno=111859</td>\n",
       "      <td>단통법 지원금 상한제 폐지 첫날, KT '갤럭시J7' 첫 수혜</td>\n",
       "      <td>\\n[디지털투데이 백연식 기자] 지원금 상한제가 폐지된 첫 날(1일) SK텔레콤, ...</td>\n",
       "    </tr>\n",
       "    <tr>\n",
       "      <th>48264</th>\n",
       "      <td>2017-10-01 15:24:00</td>\n",
       "      <td>인사</td>\n",
       "      <td>/news/articleView.html?idxno=111858</td>\n",
       "      <td>[인사] 방송통신위원회</td>\n",
       "      <td>\\n◇실장급 전보 ▲사무처장 조경식</td>\n",
       "    </tr>\n",
       "    <tr>\n",
       "      <th>48265</th>\n",
       "      <td>2017-10-01 14:23:00</td>\n",
       "      <td>정보통신</td>\n",
       "      <td>/news/articleView.html?idxno=111854</td>\n",
       "      <td>아이폰8과 아이폰8플러스 ...특징과 아쉬운점은</td>\n",
       "      <td>\\n[디지털투데이 김동규 기자] 아이폰8과 아이폰8플러스에 대해 상세히 분석한 내용...</td>\n",
       "    </tr>\n",
       "  </tbody>\n",
       "</table>\n",
       "<p>48127 rows × 5 columns</p>\n",
       "</div>"
      ],
      "text/plain": [
       "                     date category                                idxno  \\\n",
       "139   2021-10-31 17:31:00       종합  /news/articleView.html?idxno=422946   \n",
       "140   2021-10-31 16:26:00       종합  /news/articleView.html?idxno=422945   \n",
       "141   2021-10-31 13:45:00   금융·핀테크  /news/articleView.html?idxno=422941   \n",
       "142   2021-10-31 10:44:00   금융·핀테크  /news/articleView.html?idxno=422940   \n",
       "143   2021-10-31 10:44:00   금융·핀테크  /news/articleView.html?idxno=422939   \n",
       "...                   ...      ...                                  ...   \n",
       "48261 2017-10-02 09:07:00       산업  /news/articleView.html?idxno=111789   \n",
       "48262 2017-10-02 08:57:00       산업  /news/articleView.html?idxno=111869   \n",
       "48263 2017-10-01 16:00:00     정보통신  /news/articleView.html?idxno=111859   \n",
       "48264 2017-10-01 15:24:00       인사  /news/articleView.html?idxno=111858   \n",
       "48265 2017-10-01 14:23:00     정보통신  /news/articleView.html?idxno=111854   \n",
       "\n",
       "                                           title  \\\n",
       "139         [데일리픽] G20 디지털세 도입…11월부터 ‘위드코로나’ 1단계   \n",
       "140                      G20 정상들, 디지털세 도입 합의안 추인   \n",
       "141                    금융권, 고객들에 연 2회 금리인하요구권 안내   \n",
       "142           기업은행, 혁신 테스트베드 'IBK 퍼스트랩' 3기 기업 모집   \n",
       "143                 하나은행, 소상공인 사이버금융범죄 피해보상보험 지원   \n",
       "...                                          ...   \n",
       "48261             [단독] 삼성SDI, 헝가리 공장에 배터리 신공정 도입   \n",
       "48262  길 안내만 하는 내비게이션은 '옛 이야기'...AI·빅데이터 첨단기술 무장   \n",
       "48263         단통법 지원금 상한제 폐지 첫날, KT '갤럭시J7' 첫 수혜   \n",
       "48264                               [인사] 방송통신위원회   \n",
       "48265                 아이폰8과 아이폰8플러스 ...특징과 아쉬운점은   \n",
       "\n",
       "                                                contents  \n",
       "139    \\n\\n\\n\\n\\n\\n\\n\\nG20 정상회의 [사진: 디지털투데이]\\n\\n\\n■ G...  \n",
       "140    \\n\\n\\nG20 정상회의 [사진: 디지털투데이]\\n\\n\\n[디지털투데이 문정은 기...  \n",
       "141    \\n\\n\\n금융위원회 [사진: 연합뉴스]\\n\\n\\n[디지털투데이 강진규 기자] 앞으...  \n",
       "142    \\n\\n\\nIBK기업은행이 퍼스트 랩 3기 참여기업을 모집한다. [사진: IBK기업...  \n",
       "143    \\n\\n\\n하나은행이 소상공인 사이버금융범죄 피해보상보험 무상 가입 지원 서비스를 ...  \n",
       "...                                                  ...  \n",
       "48261  \\n[디지털투데이 박찬길 기자] 삼성SDI가 내년 상반기 양산 가동 예정인 헝가리 ...  \n",
       "48262  \\n[디지털투데이 정명섭 기자] 우리나라 민족 고유의 명절 추석은 귀성 인파가 몰려...  \n",
       "48263  \\n[디지털투데이 백연식 기자] 지원금 상한제가 폐지된 첫 날(1일) SK텔레콤, ...  \n",
       "48264                             \\n◇실장급 전보 ▲사무처장 조경식     \n",
       "48265  \\n[디지털투데이 김동규 기자] 아이폰8과 아이폰8플러스에 대해 상세히 분석한 내용...  \n",
       "\n",
       "[48127 rows x 5 columns]"
      ]
     },
     "execution_count": 88,
     "metadata": {},
     "output_type": "execute_result"
    }
   ],
   "source": [
    "article_df_merge_del = article_df_merge[article_df_merge['date'] < pd.datetime(2021,11,1)]\n",
    "article_df_merge_del = article_df_merge_del[article_df_merge_del['date'] > pd.datetime(2017,9,30,23,59)]\n",
    "article_df_merge_del"
   ]
  },
  {
   "cell_type": "code",
   "execution_count": 84,
   "id": "730d1d3e",
   "metadata": {},
   "outputs": [],
   "source": [
    "from konlpy.tag import Komoran, Okt, Kkma, Hannanum\n",
    "\n",
    "kor = Komoran()\n",
    "okt = Okt()\n",
    "kkma = Kkma()\n",
    "han = Hannanum()"
   ]
  },
  {
   "cell_type": "code",
   "execution_count": 103,
   "id": "6d17752f",
   "metadata": {},
   "outputs": [
    {
     "name": "stderr",
     "output_type": "stream",
     "text": [
      "<ipython-input-103-3073703528f5>:1: FutureWarning: The pandas.datetime class is deprecated and will be removed from pandas in a future version. Import from datetime module instead.\n",
      "  article_df_merge_del_2021 = article_df_merge_del[article_df_merge_del['date'] > pd.datetime(2020,12,31,23,59)]\n"
     ]
    }
   ],
   "source": [
    "article_df_merge_del_2021 = article_df_merge_del[article_df_merge_del['date'] > pd.datetime(2020,12,31,23,59)]"
   ]
  },
  {
   "cell_type": "code",
   "execution_count": 112,
   "id": "56ff2492",
   "metadata": {},
   "outputs": [],
   "source": [
    "article_df_merge_del_2021.reset_index(drop=True, inplace=True)"
   ]
  },
  {
   "cell_type": "code",
   "execution_count": 115,
   "id": "a798d988",
   "metadata": {
    "collapsed": true
   },
   "outputs": [
    {
     "data": {
      "text/plain": [
       "\"\\n\\n\\n\\n\\n\\n\\n\\nG20 정상회의 [사진: 디지털투데이]\\n\\n\\n■ G20 정상들, 디지털세 도입 합의\\n주요 20개국(G20) 정상들이 로마에서 열린 정상회의에서 디지털세 합의안을 추인했다고 외신들이 보도했다.\\n디지털세 합의안은 \\xa0'매출발생국 과세권 배분'과 '글로벌 최저한세 도입'으로 구성된다.\\n매출발생국 과세권 배분은 연간 기준 연결매출액이 200억유로, 약 27조원, 이익률이 10% 이상인 대기업 매출에 대한 과세권을 시장 소재국에 배분한다는 내용이다.\\xa0\\n적용 대상 기업은 2023년부터 글로벌 매출 가운데 통상이익률 10%를 웃도는 초과 이익의 25%에 대한 세금을 각 시장 소재국에 내야 한다.\\n글로벌 최저한세는 2023년부터 연결매출액이 7억5000만유로 약 1조원 이상인 다국적 기업에 대해 15%의 글로벌 최저한세율을 적용하기로 한 내용이다.\\xa0\\n어느 국가에서 사업을 하더라도 15% 이상의 세금을 내야 한다. 디지털세 시행 시점은 2023년이다.\\xa0\\n■ 편의점 점포 내놓은 '신한·하나\\n시중은행이 유통업계와 손잡고 '편의점 은행'을 속속 선보이고 있다. 은행권 점포 축소로 인한 금융소외계층 피해를 최소화하고 생활금융 서비스 경쟁력을 높이기 위한 행보다.\\n이달 하나은행은 BGF리테일과 금융 업무 처리가 가능한 CU마천파크점을 연데 이어 신한은행은 GS리테일과 강원 정선군 고한읍에 GS25편의점 혁신점포 1호점을 열었다.\\n두 은행은 공통적으로 편의점 은행을 통해 비대면 금융 확산으로 인한 금융 소외층을 포용하겠다는 목적을 갖고 있다.\\xa0\\n최근 모바일뱅킹 등 비대면 거래가 확대됨에 따라 은행들은 기존 점포를 줄여나가고 있다.\\n앞으로도 편의점을 오프라인 인프라로 활용하는 금융권들은 지속 나올 것으로 예상된다.\\xa0\\n이미 일본의 대표적인 편의점인 '세븐일레븐'을 중심으로 설립된 세븐은행은 세븐일레븐 점포를 활용해 언제나 사용할 수 있는 ATM 네트워크를 구축하고 정기예금 가입, 해외송금 등을 가능케 했다.\\xa0\\n■ 네이버·카카오 AI 베팅 '지속'\\n국내 양대 인터넷 기업 네이버와 카카오가 인공지능 관련 투자를 이어가고 있다.\\n카카오 인공지능 연구 자회사 카카오브레인은 최근 취업 연계형 주니어 육성 프로그램 '카카오브레인 패스파인더'를 열고 두 자릿수 규모 지원자 모집을 시작했다.\\xa0\\n인재 육성을 목표로 다양한 연구 기회를 제공하는 차원에서 올해 처음 프로그램을 마련하게 됐단 설명이다.\\n네이버 기업형 액셀러레이터 D2 스타트업 팩토리도 다양한 스타트업에 대한 투자를 이어가고 있다.\\xa0\\n10월 현재까지 D2 스타트업 팩토리가 신규 투자한 스타트업은 17곳이다. 이 가운데 인공지능 관련 스타트업은 저반이 넘는 11곳이다.\\xa0\\n네이버 서비스 전반에 걸쳐 인공지능가 다양하게 활용되는 모습도 두드러진다.\\xa0\\n■ ISA 도입 5년만에 가입금액 10조원\\n금융투자협회는 개인종합자산관리계좌인 ISA 가입 금액이 2016년 상품 도입 이후 처음 10조원을 돌파했다고 밝혔다. 가입자 수는 272만6098명이다.\\n투자 금액은 작년 말 6조4029억원에서 올해 들어서만 4조원 이상 늘었다. 같은 기간 가입자도 193만9102명에서 약 79만명 증가했다.\\n올해 7월 발표된 비과세 적용 등 세제 개선 효과로 중개형 ISA를 중심으로 가입이 급증했다고 협회는 설명했다.\\n일임형 개인 ISA의 9월 말 기준 누적 수익률은 한 달 전보다 0.77%포인트 하락한 평균 29.95%로 집계됐다.\\n세계 증시가 인플레이션 장기화 우려와 금리 상승 영향으로 성장주를 중심으로 하락해 ISA 수익률도 소폭 내렸다.\\n회사별 평균 누적수익률은 메리츠증권이 39.74%로 가장 높았다. 모델포트폴리오 중에는 키움증권의 '기본투자형'이 누적수익률 117.27%로 1위에 올랐다.\\r\\n\\xa0\\n\\n\\n리튬인산철(LFP) 배터리 [사진: CATL]\\n\\n\\n■ 테슬라, 중국 CATL로부터 LFP 배터리 대량 조달\\n테슬라가 중국 배터리 업체 CATL로부터 45기가와트시에 달하는 리튬인산철 배터리 셀을 대량 주문한 것으로 파악됐다.\\n이는 테슬라 모델3 스탠다드 레인지 차량을 기준으로 약 70만대에서 최대 80만대의 차량에 탑재할 수 있는 분량이다.\\xa0\\n테슬라는 최근 일론 머스크 최고경영자(CEO)의 언급을 통해 전기차에 리튬인산철 배터리 채택 범위를 더욱 늘릴 계획이라고 밝힌 바 있다.\\xa0\\n최근 리튬인산철 배터리의 성능이 향상되고 중단거리 저가형 전기차 보급이 확대됨에 따라 전기차용 배터리로 채택하는 사례가 늘고 있다.\\xa0\\n또한 리튬인산철 배터리와 리튬이온 배러티를 조합해 사용하는 경우, 충전 인프라가 잘 완비된 도심 운행용으로 리튬인산철 배터리 기반 전기차가 어느 정도 경쟁력을 갖출 수 있게 됐다.\\n테슬라는 이미 중국 내수용 모델3와 모델Y 스탠다드 레인지 차량의 경우 리튬인산철 배터리 셀을 장착해 판매하고 있다. 실제 운행 면에서 큰 차이를 보이지 않는다는 판단 때문이다.\\xa0\\n테슬라는 리튬인산철 배터리를 미국 프리몬트 공장에서 생산 중인 내수용 모델3 스탠다드 레인지 차량까지 확대할 방침이다.\\xa0\\n■ 베이징 증권거래소 11월 15일 정식 출범\\n중국이 상하이와 선전에 이어 베이징에 신설한 새 증권거래소가 11월 15일 출범할 예정이다.\\n신화통신에 따르면 중국 증권 감독당국은 전날 저녁 기업공개, 자금 재조달, 감독 등 베이징 증권거래소와 관련한 규정을 발표했다.\\n베이징 증권거래소는 중소혁신기업을 대상으로 한다. 2013년부터 운영되던 장외 창업 기업 전용 주식 거래소 신삼판의 우수 기업을 기반으로 하며, 상장 대상은 신삼판에서 거래된 지 12개월 된 혁신 기업이다.\\n신삼판(新三板)의 69개 넘는 기업이 베이징 증권거래소로 들어올 예정이다.\\n증권감독관리위원회는 베이징 증권거래소 설립은 중국의 자본시장을 발전시키려는 시진핑 국가 주석의 전략적 계획의 일부라고 강조했다.\\n■ 11월부터 ‘위드코로나’ 1단계\\n11월 1일 오전 5시부터 단계적 일상회복 ‘위드 코로나’ 첫 단계 방역완화 계획이 시작된다.\\n위드 코로나 첫 단계 시행에 따라 수도권은 10명까지, 비수도권은 12명까지 모일 수 있고, 식당·카페 등 대부분 시설의 영업 제한이 풀려 24시간 영업이 가능하다.\\n감염 고위험시설인 유흥시설, 콜라텍, 무도장만 밤 12시 영업 제한을 받는다.\\n하지만, 18세 이하, 코로나19 완치자, 의학적인 이유로 접종을 하지 못한 사람은 방역패스 예외 대상이어서 증명서가 없어도 시설 출입에 제한을 받지 않는다.\\n접종완료 증명은 질병관리청 앱이나 포털사이트가 제공하는 전자출입명부 플랫폼에서 발급한 전자증명서로 가능하다.\\xa0\\n보건소에서 발급하는 종이증명서나 신분증에 부착하는 예방접종스티커를 사용해도 된다.\\xa0\\n행사·집회 인원도 1단계에서 늘어나 미접종자를 포함할 경우에는 99명까지, 접종완료자나 음성확인자만 참여하면 최대 499명까지 모일 수 있다.\\xa0\\n\\n\\n\\n\\n\\n디지털 경제 미디어 디지털투데이에서 매일 주요 뉴스를 오디오 서비스합니다. 오디오클립과 팟빵 데일리픽 채널에서 만나보세요. (평일 ~0600시 업로드) \""
      ]
     },
     "execution_count": 115,
     "metadata": {},
     "output_type": "execute_result"
    }
   ],
   "source": [
    "article_df_merge_del_2021['contents'].iloc[0]"
   ]
  },
  {
   "cell_type": "code",
   "execution_count": 142,
   "id": "72657d90",
   "metadata": {},
   "outputs": [],
   "source": [
    "kor_nouns = kor.nouns(\"\\n\".join([s for s in article_df_merge_del_2021['contents'].iloc[0].split(\"\\n\") if s]))\n",
    "okt_nouns = okt.nouns(article_df_merge_del_2021['contents'].iloc[0])"
   ]
  },
  {
   "cell_type": "code",
   "execution_count": 143,
   "id": "7532fd5c",
   "metadata": {},
   "outputs": [],
   "source": [
    "kkma_nouns = kkma.nouns(article_df_merge_del_2021['contents'].iloc[0])\n",
    "han_nouns = han.nouns(article_df_merge_del_2021['contents'].iloc[0])"
   ]
  },
  {
   "cell_type": "code",
   "execution_count": 198,
   "id": "b18c50b1",
   "metadata": {},
   "outputs": [],
   "source": [
    "import re\n",
    "\n",
    "def text_clean(doc):\n",
    "    doc =re.sub(\"[^a-zA-Zㄱ-ㅎㅏ-ㅣ가-힣 ]\", \"\", doc)\n",
    "    return doc"
   ]
  },
  {
   "cell_type": "code",
   "execution_count": 224,
   "id": "9281e635",
   "metadata": {
    "collapsed": true
   },
   "outputs": [
    {
     "data": {
      "text/plain": [
       "'G 정상회의 사진 디지털투데이 G 정상들 디지털세 도입 합의주요 개국G 정상들이 로마에서 열린 정상회의에서 디지털세 합의안을 추인했다고 외신들이 보도했다디지털세 합의안은 매출발생국 과세권 배분과 글로벌 최저한세 도입으로 구성된다매출발생국 과세권 배분은 연간 기준 연결매출액이 억유로 약 조원 이익률이  이상인 대기업 매출에 대한 과세권을 시장 소재국에 배분한다는 내용이다적용 대상 기업은 년부터 글로벌 매출 가운데 통상이익률 를 웃도는 초과 이익의 에 대한 세금을 각 시장 소재국에 내야 한다글로벌 최저한세는 년부터 연결매출액이 억만유로 약 조원 이상인 다국적 기업에 대해 의 글로벌 최저한세율을 적용하기로 한 내용이다어느 국가에서 사업을 하더라도  이상의 세금을 내야 한다 디지털세 시행 시점은 년이다 편의점 점포 내놓은 신한하나시중은행이 유통업계와 손잡고 편의점 은행을 속속 선보이고 있다 은행권 점포 축소로 인한 금융소외계층 피해를 최소화하고 생활금융 서비스 경쟁력을 높이기 위한 행보다이달 하나은행은 BGF리테일과 금융 업무 처리가 가능한 CU마천파크점을 연데 이어 신한은행은 GS리테일과 강원 정선군 고한읍에 GS편의점 혁신점포 호점을 열었다두 은행은 공통적으로 편의점 은행을 통해 비대면 금융 확산으로 인한 금융 소외층을 포용하겠다는 목적을 갖고 있다최근 모바일뱅킹 등 비대면 거래가 확대됨에 따라 은행들은 기존 점포를 줄여나가고 있다앞으로도 편의점을 오프라인 인프라로 활용하는 금융권들은 지속 나올 것으로 예상된다이미 일본의 대표적인 편의점인 세븐일레븐을 중심으로 설립된 세븐은행은 세븐일레븐 점포를 활용해 언제나 사용할 수 있는 ATM 네트워크를 구축하고 정기예금 가입 해외송금 등을 가능케 했다 네이버카카오 AI 베팅 지속국내 양대 인터넷 기업 네이버와 카카오가 인공지능 관련 투자를 이어가고 있다카카오 인공지능 연구 자회사 카카오브레인은 최근 취업 연계형 주니어 육성 프로그램 카카오브레인 패스파인더를 열고 두 자릿수 규모 지원자 모집을 시작했다인재 육성을 목표로 다양한 연구 기회를 제공하는 차원에서 올해 처음 프로그램을 마련하게 됐단 설명이다네이버 기업형 액셀러레이터 D 스타트업 팩토리도 다양한 스타트업에 대한 투자를 이어가고 있다월 현재까지 D 스타트업 팩토리가 신규 투자한 스타트업은 곳이다 이 가운데 인공지능 관련 스타트업은 저반이 넘는 곳이다네이버 서비스 전반에 걸쳐 인공지능가 다양하게 활용되는 모습도 두드러진다 ISA 도입 년만에 가입금액 조원금융투자협회는 개인종합자산관리계좌인 ISA 가입 금액이 년 상품 도입 이후 처음 조원을 돌파했다고 밝혔다 가입자 수는 만명이다투자 금액은 작년 말 조억원에서 올해 들어서만 조원 이상 늘었다 같은 기간 가입자도 만명에서 약 만명 증가했다올해 월 발표된 비과세 적용 등 세제 개선 효과로 중개형 ISA를 중심으로 가입이 급증했다고 협회는 설명했다일임형 개인 ISA의 월 말 기준 누적 수익률은 한 달 전보다 포인트 하락한 평균 로 집계됐다세계 증시가 인플레이션 장기화 우려와 금리 상승 영향으로 성장주를 중심으로 하락해 ISA 수익률도 소폭 내렸다회사별 평균 누적수익률은 메리츠증권이 로 가장 높았다 모델포트폴리오 중에는 키움증권의 기본투자형이 누적수익률 로 위에 올랐다리튬인산철LFP 배터리 사진 CATL 테슬라 중국 CATL로부터 LFP 배터리 대량 조달테슬라가 중국 배터리 업체 CATL로부터 기가와트시에 달하는 리튬인산철 배터리 셀을 대량 주문한 것으로 파악됐다이는 테슬라 모델 스탠다드 레인지 차량을 기준으로 약 만대에서 최대 만대의 차량에 탑재할 수 있는 분량이다테슬라는 최근 일론 머스크 최고경영자CEO의 언급을 통해 전기차에 리튬인산철 배터리 채택 범위를 더욱 늘릴 계획이라고 밝힌 바 있다최근 리튬인산철 배터리의 성능이 향상되고 중단거리 저가형 전기차 보급이 확대됨에 따라 전기차용 배터리로 채택하는 사례가 늘고 있다또한 리튬인산철 배터리와 리튬이온 배러티를 조합해 사용하는 경우 충전 인프라가 잘 완비된 도심 운행용으로 리튬인산철 배터리 기반 전기차가 어느 정도 경쟁력을 갖출 수 있게 됐다테슬라는 이미 중국 내수용 모델와 모델Y 스탠다드 레인지 차량의 경우 리튬인산철 배터리 셀을 장착해 판매하고 있다 실제 운행 면에서 큰 차이를 보이지 않는다는 판단 때문이다테슬라는 리튬인산철 배터리를 미국 프리몬트 공장에서 생산 중인 내수용 모델 스탠다드 레인지 차량까지 확대할 방침이다 베이징 증권거래소 월 일 정식 출범중국이 상하이와 선전에 이어 베이징에 신설한 새 증권거래소가 월 일 출범할 예정이다신화통신에 따르면 중국 증권 감독당국은 전날 저녁 기업공개 자금 재조달 감독 등 베이징 증권거래소와 관련한 규정을 발표했다베이징 증권거래소는 중소혁신기업을 대상으로 한다 년부터 운영되던 장외 창업 기업 전용 주식 거래소 신삼판의 우수 기업을 기반으로 하며 상장 대상은 신삼판에서 거래된 지 개월 된 혁신 기업이다신삼판의 개 넘는 기업이 베이징 증권거래소로 들어올 예정이다증권감독관리위원회는 베이징 증권거래소 설립은 중국의 자본시장을 발전시키려는 시진핑 국가 주석의 전략적 계획의 일부라고 강조했다 월부터 위드코로나 단계월 일 오전 시부터 단계적 일상회복 위드 코로나 첫 단계 방역완화 계획이 시작된다위드 코로나 첫 단계 시행에 따라 수도권은 명까지 비수도권은 명까지 모일 수 있고 식당카페 등 대부분 시설의 영업 제한이 풀려 시간 영업이 가능하다감염 고위험시설인 유흥시설 콜라텍 무도장만 밤 시 영업 제한을 받는다하지만 세 이하 코로나 완치자 의학적인 이유로 접종을 하지 못한 사람은 방역패스 예외 대상이어서 증명서가 없어도 시설 출입에 제한을 받지 않는다접종완료 증명은 질병관리청 앱이나 포털사이트가 제공하는 전자출입명부 플랫폼에서 발급한 전자증명서로 가능하다보건소에서 발급하는 종이증명서나 신분증에 부착하는 예방접종스티커를 사용해도 된다행사집회 인원도 단계에서 늘어나 미접종자를 포함할 경우에는 명까지 접종완료자나 음성확인자만 참여하면 최대 명까지 모일 수 있다디지털 경제 미디어 디지털투데이에서 매일 주요 뉴스를 오디오 서비스합니다 오디오클립과 팟빵 데일리픽 채널에서 만나보세요 평일 시 업로드 '"
      ]
     },
     "execution_count": 224,
     "metadata": {},
     "output_type": "execute_result"
    }
   ],
   "source": [
    "text_clean(article_df_merge_del_2021['contents'].iloc[0])"
   ]
  },
  {
   "cell_type": "code",
   "execution_count": null,
   "id": "92c5c30e",
   "metadata": {},
   "outputs": [],
   "source": [
    "# for i in range(len(article_df_merge_del_2021)) :\n",
    "kot_nouns_zip = []\n",
    "okt_nouns_zip = []\n",
    "\n",
    "for i in range(len(article_df_merge_del_2021)) :\n",
    "    kor_nouns = kor.nouns(\"\\n\".join([s for s in text_clean(article_df_merge_del_2021['contents'].iloc[i]).split(\"\\n\") if s]))\n",
    "    okt_nouns = okt.nouns(text_clean(article_df_merge_del_2021['contents'].iloc[i]))\n",
    "    \n",
    "    kot_nouns_zip = kot_nouns_zip + kor_nouns\n",
    "    okt_nouns_zip = okt_nouns_zip + okt_nouns\n",
    "#     kor_text = Text(kor_nouns)\n",
    "#     okt_text = Text(okt_nouns)\n",
    "    \n",
    "#     if [dict(kor_text.vocab() + okt_text.vocab()).keys()] not in [dict_2021.keys()] :\n",
    "#         dict_2021.update(dict(kor_text.vocab() + okt_text.vocab()))\n",
    "\n",
    "kor_text = Text(kor_nouns)\n",
    "okt_text = Text(okt_nouns)"
   ]
  },
  {
   "cell_type": "code",
   "execution_count": 245,
   "id": "b2025351",
   "metadata": {},
   "outputs": [],
   "source": [
    "font_path = '‪‪C:/Windows/Fonts/gulim.ttc'\n",
    "wc = WordCloud(font_path=font_path)"
   ]
  },
  {
   "cell_type": "code",
   "execution_count": 246,
   "id": "48b7f44a",
   "metadata": {},
   "outputs": [
    {
     "data": {
      "image/png": "[encoded data removed]",
      "text/plain": [
       "<Figure size 432x288 with 1 Axes>"
      ]
     },
     "metadata": {
      "needs_background": "light"
     },
     "output_type": "display_data"
    }
   ],
   "source": [
    "plt.imshow(wc.generate_from_frequencies(dict(kor_text.vocab())))\n",
    "plt.show()"
   ]
  },
  {
   "cell_type": "code",
   "execution_count": 247,
   "id": "b353ccd2",
   "metadata": {},
   "outputs": [
    {
     "data": {
      "image/png": "[encoded data removed]",
      "text/plain": [
       "<Figure size 432x288 with 1 Axes>"
      ]
     },
     "metadata": {
      "needs_background": "light"
     },
     "output_type": "display_data"
    }
   ],
   "source": [
    "plt.imshow(wc.generate_from_frequencies(dict(okt_text.vocab())))\n",
    "plt.show()"
   ]
  },
  {
   "cell_type": "code",
   "execution_count": null,
   "id": "e616941a",
   "metadata": {},
   "outputs": [],
   "source": []
  },
  {
   "cell_type": "code",
   "execution_count": null,
   "id": "93420282",
   "metadata": {},
   "outputs": [],
   "source": []
  },
  {
   "cell_type": "code",
   "execution_count": 165,
   "id": "c2b266dd",
   "metadata": {},
   "outputs": [
    {
     "data": {
      "text/plain": [
       "FreqDist({'배터리': 11, '기업': 10, '증권': 10, '리튬': 8, '인산': 8, '철': 8, '디지털': 7, '거래소': 7, '세': 6, '편의점': 6, ...})"
      ]
     },
     "execution_count": 165,
     "metadata": {},
     "output_type": "execute_result"
    }
   ],
   "source": [
    "okt_text.vocab()"
   ]
  },
  {
   "cell_type": "code",
   "execution_count": 166,
   "id": "ee4ac178",
   "metadata": {},
   "outputs": [
    {
     "data": {
      "text/plain": [
       "FreqDist({'일': 3, '세': 2, '만': 2, '수': 2, '이': 2, '위': 2, '시': 2, '20': 1, '정상': 1, '정상회의': 1, ...})"
      ]
     },
     "execution_count": 166,
     "metadata": {},
     "output_type": "execute_result"
    }
   ],
   "source": [
    "kkma_text.vocab()"
   ]
  },
  {
   "cell_type": "code",
   "execution_count": 167,
   "id": "38418638",
   "metadata": {},
   "outputs": [
    {
     "data": {
      "text/plain": [
       "FreqDist({'배터리': 11, '■': 7, '기업': 7, '리튬인산철': 7, '수': 6, '중국': 6, '베이징': 6, '증권거래소': 6, '편의점': 5, '등': 5, ...})"
      ]
     },
     "execution_count": 167,
     "metadata": {},
     "output_type": "execute_result"
    }
   ],
   "source": [
    "han_text.vocab()"
   ]
  },
  {
   "cell_type": "code",
   "execution_count": 25,
   "id": "fad39619",
   "metadata": {},
   "outputs": [],
   "source": [
    "a = article_df_merge.groupby([article_df_merge['date'].dt.year, article_df_merge['date'].dt.month])"
   ]
  },
  {
   "cell_type": "code",
   "execution_count": 51,
   "id": "25b751a9",
   "metadata": {},
   "outputs": [
    {
     "data": {
      "image/png": "[encoded data removed]",
      "text/plain": [
       "<Figure size 1080x360 with 1 Axes>"
      ]
     },
     "metadata": {
      "needs_background": "light"
     },
     "output_type": "display_data"
    }
   ],
   "source": [
    "plt.figure(figsize=(15,5))\n",
    "a['date'].count().plot(kind='bar')\n",
    "plt.show()"
   ]
  },
  {
   "cell_type": "code",
   "execution_count": 59,
   "id": "e956b146",
   "metadata": {
    "collapsed": true
   },
   "outputs": [
    {
     "data": {
      "image/png": "[encoded data removed]",
      "text/plain": [
       "<Figure size 432x288 with 1 Axes>"
      ]
     },
     "metadata": {
      "needs_background": "light"
     },
     "output_type": "display_data"
    },
    {
     "data": {
      "text/plain": [
       "<Figure size 1080x360 with 0 Axes>"
      ]
     },
     "metadata": {},
     "output_type": "display_data"
    }
   ],
   "source": [
    "article_df_merge.groupby(article_df_merge['category'])['category'].count().plot(kind='bar')\n",
    "plt.figure(figsize=(15,5))\n",
    "plt.show()"
   ]
  },
  {
   "cell_type": "code",
   "execution_count": null,
   "id": "ca13ba3f",
   "metadata": {},
   "outputs": [],
   "source": []
  },
  {
   "cell_type": "code",
   "execution_count": 61,
   "id": "31575b45",
   "metadata": {
    "collapsed": true
   },
   "outputs": [
    {
     "data": {
      "text/html": [
       "<div>\n",
       "<style scoped>\n",
       "    .dataframe tbody tr th:only-of-type {\n",
       "        vertical-align: middle;\n",
       "    }\n",
       "\n",
       "    .dataframe tbody tr th {\n",
       "        vertical-align: top;\n",
       "    }\n",
       "\n",
       "    .dataframe thead th {\n",
       "        text-align: right;\n",
       "    }\n",
       "</style>\n",
       "<table border=\"1\" class=\"dataframe\">\n",
       "  <thead>\n",
       "    <tr style=\"text-align: right;\">\n",
       "      <th></th>\n",
       "      <th>date</th>\n",
       "      <th>category</th>\n",
       "      <th>idxno</th>\n",
       "      <th>title</th>\n",
       "      <th>contents</th>\n",
       "    </tr>\n",
       "  </thead>\n",
       "  <tbody>\n",
       "    <tr>\n",
       "      <th>0</th>\n",
       "      <td>2021-11-02 16:01:00</td>\n",
       "      <td>종합</td>\n",
       "      <td>/news/articleView.html?idxno=423223</td>\n",
       "      <td>[데일리픽] 투자 \"주식만 있는 건 아니다\"…가상자산 과세 1년 연기?</td>\n",
       "      <td>\\n\\n\\n\\n\\n\\n\\n\\n[사진: 뮤직카우]\\n\\n\\n■ 저작권, 한우 등 이색...</td>\n",
       "    </tr>\n",
       "    <tr>\n",
       "      <th>1</th>\n",
       "      <td>2021-11-02 16:00:00</td>\n",
       "      <td>종합</td>\n",
       "      <td>/news/articleView.html?idxno=423216</td>\n",
       "      <td>과기정통부, 네트워크 안정성 대책 TF 첫 회의 가져</td>\n",
       "      <td>\\n\\n\\n\\n\\n\\n[디지털투데이 정유림 기자] 과학기술정보통신부는 지난 10월 ...</td>\n",
       "    </tr>\n",
       "    <tr>\n",
       "      <th>2</th>\n",
       "      <td>2021-11-02 15:59:00</td>\n",
       "      <td>블록체인</td>\n",
       "      <td>/news/articleView.html?idxno=423219</td>\n",
       "      <td>가상자산 과세 연기되나...여당 \"1년  유예 추진\"</td>\n",
       "      <td>\\n\\n\\n여당인 더불어민주당이 가상자산 과세를 1년 유예하는 방안을 추진하고 있다...</td>\n",
       "    </tr>\n",
       "    <tr>\n",
       "      <th>3</th>\n",
       "      <td>2021-11-02 15:41:00</td>\n",
       "      <td>종합</td>\n",
       "      <td>/news/articleView.html?idxno=423188</td>\n",
       "      <td>AI 연구·인재 양성 싱크탱크 '인공지능 혁신 허브' 출범</td>\n",
       "      <td>\\n\\n\\n임혜숙 과학기술정보통신부 장관이 2일 오후 서울 성북구 고려대학교 미래융...</td>\n",
       "    </tr>\n",
       "    <tr>\n",
       "      <th>4</th>\n",
       "      <td>2021-11-02 15:38:00</td>\n",
       "      <td>산업</td>\n",
       "      <td>/news/articleView.html?idxno=423202</td>\n",
       "      <td>에이지엣랩스, 뮤신 콜라겐으로 이너뷰티 시장 파고든다</td>\n",
       "      <td>\\n\\n\\n\\n \\n[디지털투데이 이병희 객원기자]  생명기술(BT)에 대한 기업의...</td>\n",
       "    </tr>\n",
       "    <tr>\n",
       "      <th>...</th>\n",
       "      <td>...</td>\n",
       "      <td>...</td>\n",
       "      <td>...</td>\n",
       "      <td>...</td>\n",
       "      <td>...</td>\n",
       "    </tr>\n",
       "    <tr>\n",
       "      <th>48281</th>\n",
       "      <td>2017-09-29 14:32:00</td>\n",
       "      <td>정보통신</td>\n",
       "      <td>/news/articleView.html?idxno=111788</td>\n",
       "      <td>SKT, ‘웹툰 자유이용권+데이터 3GB’ 서비스 출시</td>\n",
       "      <td>\\n[디지털투데이 정명섭 기자] SK텔레콤이 유료 웹툰 이용권에 추가 데이터를 제공...</td>\n",
       "    </tr>\n",
       "    <tr>\n",
       "      <th>48282</th>\n",
       "      <td>2017-09-29 14:30:00</td>\n",
       "      <td>인물/동정</td>\n",
       "      <td>/news/articleView.html?idxno=111785</td>\n",
       "      <td>SKT, ICT 전시관 티움 개관식 개최</td>\n",
       "      <td>\\n[디지털투데이 정명섭 기자] SK텔레콤 최첨단 정보통신기술(ICT) 체험관 ‘티...</td>\n",
       "    </tr>\n",
       "    <tr>\n",
       "      <th>48283</th>\n",
       "      <td>2017-09-29 13:27:00</td>\n",
       "      <td>인터넷</td>\n",
       "      <td>/news/articleView.html?idxno=111782</td>\n",
       "      <td>‘배틀그라운드’ 성공가도 블루홀 조직개편 단행</td>\n",
       "      <td>\\n[디지털투데이 김동규 기자] 블루홀의 신임 대표로 김효섭 현 블루홀 경영기획 실...</td>\n",
       "    </tr>\n",
       "    <tr>\n",
       "      <th>48284</th>\n",
       "      <td>2017-09-29 13:26:00</td>\n",
       "      <td>인터넷</td>\n",
       "      <td>/news/articleView.html?idxno=111781</td>\n",
       "      <td>카카오내비, \"귀성길은 3일 오후~저녁, 귀경길은 4일 저녁 출발 추천\"</td>\n",
       "      <td>\\n[디지털투데이 홍하나 기자] 이번 추석 귀성길은 10월 3일 오후부터 저녁, 귀...</td>\n",
       "    </tr>\n",
       "    <tr>\n",
       "      <th>48285</th>\n",
       "      <td>2017-09-29 13:25:00</td>\n",
       "      <td>정보통신</td>\n",
       "      <td>/news/articleView.html?idxno=111777</td>\n",
       "      <td>재팬디스플레이의 풀액티브 LCD, 애플 내년 아이폰 사용 검토</td>\n",
       "      <td>\\n[디지털투데이 백연식 기자] 애플은 재팬디스플레이의 풀액티브 LCD 디스플레이를...</td>\n",
       "    </tr>\n",
       "  </tbody>\n",
       "</table>\n",
       "<p>48286 rows × 5 columns</p>\n",
       "</div>"
      ],
      "text/plain": [
       "                     date category                                idxno  \\\n",
       "0     2021-11-02 16:01:00       종합  /news/articleView.html?idxno=423223   \n",
       "1     2021-11-02 16:00:00       종합  /news/articleView.html?idxno=423216   \n",
       "2     2021-11-02 15:59:00     블록체인  /news/articleView.html?idxno=423219   \n",
       "3     2021-11-02 15:41:00       종합  /news/articleView.html?idxno=423188   \n",
       "4     2021-11-02 15:38:00       산업  /news/articleView.html?idxno=423202   \n",
       "...                   ...      ...                                  ...   \n",
       "48281 2017-09-29 14:32:00     정보통신  /news/articleView.html?idxno=111788   \n",
       "48282 2017-09-29 14:30:00    인물/동정  /news/articleView.html?idxno=111785   \n",
       "48283 2017-09-29 13:27:00      인터넷  /news/articleView.html?idxno=111782   \n",
       "48284 2017-09-29 13:26:00      인터넷  /news/articleView.html?idxno=111781   \n",
       "48285 2017-09-29 13:25:00     정보통신  /news/articleView.html?idxno=111777   \n",
       "\n",
       "                                          title  \\\n",
       "0       [데일리픽] 투자 \"주식만 있는 건 아니다\"…가상자산 과세 1년 연기?   \n",
       "1                 과기정통부, 네트워크 안정성 대책 TF 첫 회의 가져   \n",
       "2                 가상자산 과세 연기되나...여당 \"1년  유예 추진\"   \n",
       "3              AI 연구·인재 양성 싱크탱크 '인공지능 혁신 허브' 출범   \n",
       "4                 에이지엣랩스, 뮤신 콜라겐으로 이너뷰티 시장 파고든다   \n",
       "...                                         ...   \n",
       "48281            SKT, ‘웹툰 자유이용권+데이터 3GB’ 서비스 출시   \n",
       "48282                    SKT, ICT 전시관 티움 개관식 개최   \n",
       "48283                 ‘배틀그라운드’ 성공가도 블루홀 조직개편 단행   \n",
       "48284  카카오내비, \"귀성길은 3일 오후~저녁, 귀경길은 4일 저녁 출발 추천\"   \n",
       "48285        재팬디스플레이의 풀액티브 LCD, 애플 내년 아이폰 사용 검토   \n",
       "\n",
       "                                                contents  \n",
       "0      \\n\\n\\n\\n\\n\\n\\n\\n[사진: 뮤직카우]\\n\\n\\n■ 저작권, 한우 등 이색...  \n",
       "1      \\n\\n\\n\\n\\n\\n[디지털투데이 정유림 기자] 과학기술정보통신부는 지난 10월 ...  \n",
       "2      \\n\\n\\n여당인 더불어민주당이 가상자산 과세를 1년 유예하는 방안을 추진하고 있다...  \n",
       "3      \\n\\n\\n임혜숙 과학기술정보통신부 장관이 2일 오후 서울 성북구 고려대학교 미래융...  \n",
       "4      \\n\\n\\n\\n \\n[디지털투데이 이병희 객원기자]  생명기술(BT)에 대한 기업의...  \n",
       "...                                                  ...  \n",
       "48281  \\n[디지털투데이 정명섭 기자] SK텔레콤이 유료 웹툰 이용권에 추가 데이터를 제공...  \n",
       "48282  \\n[디지털투데이 정명섭 기자] SK텔레콤 최첨단 정보통신기술(ICT) 체험관 ‘티...  \n",
       "48283  \\n[디지털투데이 김동규 기자] 블루홀의 신임 대표로 김효섭 현 블루홀 경영기획 실...  \n",
       "48284  \\n[디지털투데이 홍하나 기자] 이번 추석 귀성길은 10월 3일 오후부터 저녁, 귀...  \n",
       "48285  \\n[디지털투데이 백연식 기자] 애플은 재팬디스플레이의 풀액티브 LCD 디스플레이를...  \n",
       "\n",
       "[48286 rows x 5 columns]"
      ]
     },
     "execution_count": 61,
     "metadata": {},
     "output_type": "execute_result"
    }
   ],
   "source": []
  },
  {
   "cell_type": "code",
   "execution_count": 66,
   "id": "8f53913f",
   "metadata": {},
   "outputs": [],
   "source": [
    "from konlpy.tag import Komoran, Okt, Kkma, Hannanum\n",
    "\n",
    "kor = Komoran()\n",
    "okt = Okt()\n",
    "# mecab = Mecab()\n",
    "kkma = Kkma()\n",
    "han = Hannanum()"
   ]
  },
  {
   "cell_type": "code",
   "execution_count": 72,
   "id": "d0065dfd",
   "metadata": {},
   "outputs": [
    {
     "data": {
      "text/plain": [
       "<pandas.core.groupby.generic.SeriesGroupBy object at 0x0000024F0EE90D30>"
      ]
     },
     "execution_count": 72,
     "metadata": {},
     "output_type": "execute_result"
    }
   ],
   "source": [
    "a['contents']"
   ]
  },
  {
   "cell_type": "code",
   "execution_count": null,
   "id": "d776093c",
   "metadata": {},
   "outputs": [],
   "source": []
  },
  {
   "cell_type": "code",
   "execution_count": null,
   "id": "83c32d96",
   "metadata": {},
   "outputs": [],
   "source": [
    "article_df_2021 = article_df[article_df['date'].dt.year == 2021]"
   ]
  },
  {
   "cell_type": "code",
   "execution_count": 18,
   "id": "a1c20084",
   "metadata": {},
   "outputs": [
    {
     "data": {
      "text/html": [
       "<div>\n",
       "<style scoped>\n",
       "    .dataframe tbody tr th:only-of-type {\n",
       "        vertical-align: middle;\n",
       "    }\n",
       "\n",
       "    .dataframe tbody tr th {\n",
       "        vertical-align: top;\n",
       "    }\n",
       "\n",
       "    .dataframe thead th {\n",
       "        text-align: right;\n",
       "    }\n",
       "</style>\n",
       "<table border=\"1\" class=\"dataframe\">\n",
       "  <thead>\n",
       "    <tr style=\"text-align: right;\">\n",
       "      <th></th>\n",
       "      <th>date</th>\n",
       "      <th>catrgory</th>\n",
       "      <th>idxno</th>\n",
       "      <th>title</th>\n",
       "      <th>contents</th>\n",
       "    </tr>\n",
       "  </thead>\n",
       "  <tbody>\n",
       "    <tr>\n",
       "      <th>0</th>\n",
       "      <td>2021-11-02 16:01:00</td>\n",
       "      <td>종합</td>\n",
       "      <td>/news/articleView.html?idxno=423223</td>\n",
       "      <td>[데일리픽] 투자 \"주식만 있는 건 아니다\"…가상자산 과세 1년 연기?</td>\n",
       "      <td>\\n\\n\\n\\n\\n\\n\\n\\n[사진: 뮤직카우]\\n\\n\\n■ 저작권, 한우 등 이색...</td>\n",
       "    </tr>\n",
       "    <tr>\n",
       "      <th>1</th>\n",
       "      <td>2021-11-02 16:00:00</td>\n",
       "      <td>종합</td>\n",
       "      <td>/news/articleView.html?idxno=423216</td>\n",
       "      <td>과기정통부, 네트워크 안정성 대책 TF 첫 회의 가져</td>\n",
       "      <td>\\n\\n\\n\\n\\n\\n[디지털투데이 정유림 기자] 과학기술정보통신부는 지난 10월 ...</td>\n",
       "    </tr>\n",
       "    <tr>\n",
       "      <th>2</th>\n",
       "      <td>2021-11-02 15:59:00</td>\n",
       "      <td>블록체인</td>\n",
       "      <td>/news/articleView.html?idxno=423219</td>\n",
       "      <td>가상자산 과세 연기되나...여당 \"1년  유예 추진\"</td>\n",
       "      <td>\\n\\n\\n여당인 더불어민주당이 가상자산 과세를 1년 유예하는 방안을 추진하고 있다...</td>\n",
       "    </tr>\n",
       "    <tr>\n",
       "      <th>3</th>\n",
       "      <td>2021-11-02 15:41:00</td>\n",
       "      <td>종합</td>\n",
       "      <td>/news/articleView.html?idxno=423188</td>\n",
       "      <td>AI 연구·인재 양성 싱크탱크 '인공지능 혁신 허브' 출범</td>\n",
       "      <td>\\n\\n\\n임혜숙 과학기술정보통신부 장관이 2일 오후 서울 성북구 고려대학교 미래융...</td>\n",
       "    </tr>\n",
       "    <tr>\n",
       "      <th>4</th>\n",
       "      <td>2021-11-02 15:38:00</td>\n",
       "      <td>산업</td>\n",
       "      <td>/news/articleView.html?idxno=423202</td>\n",
       "      <td>에이지엣랩스, 뮤신 콜라겐으로 이너뷰티 시장 파고든다</td>\n",
       "      <td>\\n\\n\\n\\n \\n[디지털투데이 이병희 객원기자]  생명기술(BT)에 대한 기업의...</td>\n",
       "    </tr>\n",
       "    <tr>\n",
       "      <th>...</th>\n",
       "      <td>...</td>\n",
       "      <td>...</td>\n",
       "      <td>...</td>\n",
       "      <td>...</td>\n",
       "      <td>...</td>\n",
       "    </tr>\n",
       "    <tr>\n",
       "      <th>48281</th>\n",
       "      <td>2017-09-29 14:32:00</td>\n",
       "      <td>정보통신</td>\n",
       "      <td>/news/articleView.html?idxno=111788</td>\n",
       "      <td>SKT, ‘웹툰 자유이용권+데이터 3GB’ 서비스 출시</td>\n",
       "      <td>\\n[디지털투데이 정명섭 기자] SK텔레콤이 유료 웹툰 이용권에 추가 데이터를 제공...</td>\n",
       "    </tr>\n",
       "    <tr>\n",
       "      <th>48282</th>\n",
       "      <td>2017-09-29 14:30:00</td>\n",
       "      <td>인물/동정</td>\n",
       "      <td>/news/articleView.html?idxno=111785</td>\n",
       "      <td>SKT, ICT 전시관 티움 개관식 개최</td>\n",
       "      <td>\\n[디지털투데이 정명섭 기자] SK텔레콤 최첨단 정보통신기술(ICT) 체험관 ‘티...</td>\n",
       "    </tr>\n",
       "    <tr>\n",
       "      <th>48283</th>\n",
       "      <td>2017-09-29 13:27:00</td>\n",
       "      <td>인터넷</td>\n",
       "      <td>/news/articleView.html?idxno=111782</td>\n",
       "      <td>‘배틀그라운드’ 성공가도 블루홀 조직개편 단행</td>\n",
       "      <td>\\n[디지털투데이 김동규 기자] 블루홀의 신임 대표로 김효섭 현 블루홀 경영기획 실...</td>\n",
       "    </tr>\n",
       "    <tr>\n",
       "      <th>48284</th>\n",
       "      <td>2017-09-29 13:26:00</td>\n",
       "      <td>인터넷</td>\n",
       "      <td>/news/articleView.html?idxno=111781</td>\n",
       "      <td>카카오내비, \"귀성길은 3일 오후~저녁, 귀경길은 4일 저녁 출발 추천\"</td>\n",
       "      <td>\\n[디지털투데이 홍하나 기자] 이번 추석 귀성길은 10월 3일 오후부터 저녁, 귀...</td>\n",
       "    </tr>\n",
       "    <tr>\n",
       "      <th>48285</th>\n",
       "      <td>2017-09-29 13:25:00</td>\n",
       "      <td>정보통신</td>\n",
       "      <td>/news/articleView.html?idxno=111777</td>\n",
       "      <td>재팬디스플레이의 풀액티브 LCD, 애플 내년 아이폰 사용 검토</td>\n",
       "      <td>\\n[디지털투데이 백연식 기자] 애플은 재팬디스플레이의 풀액티브 LCD 디스플레이를...</td>\n",
       "    </tr>\n",
       "  </tbody>\n",
       "</table>\n",
       "<p>48286 rows × 5 columns</p>\n",
       "</div>"
      ],
      "text/plain": [
       "                     date catrgory                                idxno  \\\n",
       "0     2021-11-02 16:01:00       종합  /news/articleView.html?idxno=423223   \n",
       "1     2021-11-02 16:00:00       종합  /news/articleView.html?idxno=423216   \n",
       "2     2021-11-02 15:59:00     블록체인  /news/articleView.html?idxno=423219   \n",
       "3     2021-11-02 15:41:00       종합  /news/articleView.html?idxno=423188   \n",
       "4     2021-11-02 15:38:00       산업  /news/articleView.html?idxno=423202   \n",
       "...                   ...      ...                                  ...   \n",
       "48281 2017-09-29 14:32:00     정보통신  /news/articleView.html?idxno=111788   \n",
       "48282 2017-09-29 14:30:00    인물/동정  /news/articleView.html?idxno=111785   \n",
       "48283 2017-09-29 13:27:00      인터넷  /news/articleView.html?idxno=111782   \n",
       "48284 2017-09-29 13:26:00      인터넷  /news/articleView.html?idxno=111781   \n",
       "48285 2017-09-29 13:25:00     정보통신  /news/articleView.html?idxno=111777   \n",
       "\n",
       "                                          title  \\\n",
       "0       [데일리픽] 투자 \"주식만 있는 건 아니다\"…가상자산 과세 1년 연기?   \n",
       "1                 과기정통부, 네트워크 안정성 대책 TF 첫 회의 가져   \n",
       "2                 가상자산 과세 연기되나...여당 \"1년  유예 추진\"   \n",
       "3              AI 연구·인재 양성 싱크탱크 '인공지능 혁신 허브' 출범   \n",
       "4                 에이지엣랩스, 뮤신 콜라겐으로 이너뷰티 시장 파고든다   \n",
       "...                                         ...   \n",
       "48281            SKT, ‘웹툰 자유이용권+데이터 3GB’ 서비스 출시   \n",
       "48282                    SKT, ICT 전시관 티움 개관식 개최   \n",
       "48283                 ‘배틀그라운드’ 성공가도 블루홀 조직개편 단행   \n",
       "48284  카카오내비, \"귀성길은 3일 오후~저녁, 귀경길은 4일 저녁 출발 추천\"   \n",
       "48285        재팬디스플레이의 풀액티브 LCD, 애플 내년 아이폰 사용 검토   \n",
       "\n",
       "                                                contents  \n",
       "0      \\n\\n\\n\\n\\n\\n\\n\\n[사진: 뮤직카우]\\n\\n\\n■ 저작권, 한우 등 이색...  \n",
       "1      \\n\\n\\n\\n\\n\\n[디지털투데이 정유림 기자] 과학기술정보통신부는 지난 10월 ...  \n",
       "2      \\n\\n\\n여당인 더불어민주당이 가상자산 과세를 1년 유예하는 방안을 추진하고 있다...  \n",
       "3      \\n\\n\\n임혜숙 과학기술정보통신부 장관이 2일 오후 서울 성북구 고려대학교 미래융...  \n",
       "4      \\n\\n\\n\\n \\n[디지털투데이 이병희 객원기자]  생명기술(BT)에 대한 기업의...  \n",
       "...                                                  ...  \n",
       "48281  \\n[디지털투데이 정명섭 기자] SK텔레콤이 유료 웹툰 이용권에 추가 데이터를 제공...  \n",
       "48282  \\n[디지털투데이 정명섭 기자] SK텔레콤 최첨단 정보통신기술(ICT) 체험관 ‘티...  \n",
       "48283  \\n[디지털투데이 김동규 기자] 블루홀의 신임 대표로 김효섭 현 블루홀 경영기획 실...  \n",
       "48284  \\n[디지털투데이 홍하나 기자] 이번 추석 귀성길은 10월 3일 오후부터 저녁, 귀...  \n",
       "48285  \\n[디지털투데이 백연식 기자] 애플은 재팬디스플레이의 풀액티브 LCD 디스플레이를...  \n",
       "\n",
       "[48286 rows x 5 columns]"
      ]
     },
     "execution_count": 18,
     "metadata": {},
     "output_type": "execute_result"
    }
   ],
   "source": [
    "article_df_merge"
   ]
  },
  {
   "cell_type": "code",
   "execution_count": 18,
   "id": "b48a0e65",
   "metadata": {},
   "outputs": [
    {
     "data": {
      "text/plain": [
       "0   2021-11-02 16:01:00\n",
       "1   2021-11-02 16:00:00\n",
       "2   2021-11-02 15:59:00\n",
       "3   2021-11-02 15:41:00\n",
       "4   2021-11-02 15:38:00\n",
       "5   2021-11-02 15:23:00\n",
       "6   2021-11-02 15:18:00\n",
       "7   2021-11-02 15:13:00\n",
       "8   2021-11-02 14:53:00\n",
       "9   2021-11-02 14:49:00\n",
       "Name: date, dtype: datetime64[ns]"
      ]
     },
     "execution_count": 18,
     "metadata": {},
     "output_type": "execute_result"
    }
   ],
   "source": [
    "article_df10['date'] = pd.to_datetime(article_df10['date'])\n",
    "article_df10['date']"
   ]
  },
  {
   "cell_type": "code",
   "execution_count": 13,
   "id": "aa96f3f2",
   "metadata": {
    "collapsed": true
   },
   "outputs": [
    {
     "data": {
      "text/html": [
       "<div>\n",
       "<style scoped>\n",
       "    .dataframe tbody tr th:only-of-type {\n",
       "        vertical-align: middle;\n",
       "    }\n",
       "\n",
       "    .dataframe tbody tr th {\n",
       "        vertical-align: top;\n",
       "    }\n",
       "\n",
       "    .dataframe thead th {\n",
       "        text-align: right;\n",
       "    }\n",
       "</style>\n",
       "<table border=\"1\" class=\"dataframe\">\n",
       "  <thead>\n",
       "    <tr style=\"text-align: right;\">\n",
       "      <th></th>\n",
       "      <th>date</th>\n",
       "      <th>category</th>\n",
       "      <th>link</th>\n",
       "    </tr>\n",
       "  </thead>\n",
       "  <tbody>\n",
       "    <tr>\n",
       "      <th>0</th>\n",
       "      <td>2021.11.02 16:01</td>\n",
       "      <td>종합</td>\n",
       "      <td>/news/articleView.html?idxno=423223</td>\n",
       "    </tr>\n",
       "    <tr>\n",
       "      <th>1</th>\n",
       "      <td>2021.11.02 16:00</td>\n",
       "      <td>종합</td>\n",
       "      <td>/news/articleView.html?idxno=423216</td>\n",
       "    </tr>\n",
       "    <tr>\n",
       "      <th>2</th>\n",
       "      <td>2021.11.02 15:59</td>\n",
       "      <td>블록체인</td>\n",
       "      <td>/news/articleView.html?idxno=423219</td>\n",
       "    </tr>\n",
       "    <tr>\n",
       "      <th>3</th>\n",
       "      <td>2021.11.02 15:41</td>\n",
       "      <td>종합</td>\n",
       "      <td>/news/articleView.html?idxno=423188</td>\n",
       "    </tr>\n",
       "    <tr>\n",
       "      <th>4</th>\n",
       "      <td>2021.11.02 15:38</td>\n",
       "      <td>산업</td>\n",
       "      <td>/news/articleView.html?idxno=423202</td>\n",
       "    </tr>\n",
       "    <tr>\n",
       "      <th>5</th>\n",
       "      <td>2021.11.02 15:23</td>\n",
       "      <td>인터넷</td>\n",
       "      <td>/news/articleView.html?idxno=423207</td>\n",
       "    </tr>\n",
       "    <tr>\n",
       "      <th>6</th>\n",
       "      <td>2021.11.02 15:18</td>\n",
       "      <td>종합</td>\n",
       "      <td>/news/articleView.html?idxno=423209</td>\n",
       "    </tr>\n",
       "    <tr>\n",
       "      <th>7</th>\n",
       "      <td>2021.11.02 15:13</td>\n",
       "      <td>컴퓨팅</td>\n",
       "      <td>/news/articleView.html?idxno=423208</td>\n",
       "    </tr>\n",
       "    <tr>\n",
       "      <th>8</th>\n",
       "      <td>2021.11.02 14:53</td>\n",
       "      <td>컴퓨팅</td>\n",
       "      <td>/news/articleView.html?idxno=423206</td>\n",
       "    </tr>\n",
       "    <tr>\n",
       "      <th>9</th>\n",
       "      <td>2021.11.02 14:49</td>\n",
       "      <td>금융·핀테크</td>\n",
       "      <td>/news/articleView.html?idxno=423204</td>\n",
       "    </tr>\n",
       "  </tbody>\n",
       "</table>\n",
       "</div>"
      ],
      "text/plain": [
       "               date category                                 link\n",
       "0  2021.11.02 16:01       종합  /news/articleView.html?idxno=423223\n",
       "1  2021.11.02 16:00       종합  /news/articleView.html?idxno=423216\n",
       "2  2021.11.02 15:59     블록체인  /news/articleView.html?idxno=423219\n",
       "3  2021.11.02 15:41       종합  /news/articleView.html?idxno=423188\n",
       "4  2021.11.02 15:38       산업  /news/articleView.html?idxno=423202\n",
       "5  2021.11.02 15:23      인터넷  /news/articleView.html?idxno=423207\n",
       "6  2021.11.02 15:18       종합  /news/articleView.html?idxno=423209\n",
       "7  2021.11.02 15:13      컴퓨팅  /news/articleView.html?idxno=423208\n",
       "8  2021.11.02 14:53      컴퓨팅  /news/articleView.html?idxno=423206\n",
       "9  2021.11.02 14:49   금융·핀테크  /news/articleView.html?idxno=423204"
      ]
     },
     "execution_count": 13,
     "metadata": {},
     "output_type": "execute_result"
    }
   ],
   "source": [
    "article_df10 = article_df[:10]\n",
    "article_df10"
   ]
  },
  {
   "cell_type": "code",
   "execution_count": 12,
   "id": "d59a81c6",
   "metadata": {},
   "outputs": [],
   "source": [
    "article_contents_df10 = article_contents_df[:10]"
   ]
  },
  {
   "cell_type": "code",
   "execution_count": 39,
   "id": "881a867c",
   "metadata": {},
   "outputs": [],
   "source": [
    "article_df['date'] = pd.to_datetime(article_df['date'])"
   ]
  },
  {
   "cell_type": "code",
   "execution_count": 46,
   "id": "c13b21e6",
   "metadata": {
    "scrolled": true
   },
   "outputs": [],
   "source": [
    "article_df_2021 = article_df[article_df['date'].dt.year == 2021]"
   ]
  },
  {
   "cell_type": "code",
   "execution_count": 49,
   "id": "0791c5ee",
   "metadata": {
    "collapsed": true
   },
   "outputs": [
    {
     "data": {
      "text/html": [
       "<div>\n",
       "<style scoped>\n",
       "    .dataframe tbody tr th:only-of-type {\n",
       "        vertical-align: middle;\n",
       "    }\n",
       "\n",
       "    .dataframe tbody tr th {\n",
       "        vertical-align: top;\n",
       "    }\n",
       "\n",
       "    .dataframe thead th {\n",
       "        text-align: right;\n",
       "    }\n",
       "</style>\n",
       "<table border=\"1\" class=\"dataframe\">\n",
       "  <thead>\n",
       "    <tr style=\"text-align: right;\">\n",
       "      <th></th>\n",
       "      <th>date</th>\n",
       "      <th>category</th>\n",
       "      <th>idxno</th>\n",
       "    </tr>\n",
       "  </thead>\n",
       "  <tbody>\n",
       "    <tr>\n",
       "      <th>0</th>\n",
       "      <td>2021-11-02 16:01:00</td>\n",
       "      <td>종합</td>\n",
       "      <td>/news/articleView.html?idxno=423223</td>\n",
       "    </tr>\n",
       "    <tr>\n",
       "      <th>1</th>\n",
       "      <td>2021-11-02 16:00:00</td>\n",
       "      <td>종합</td>\n",
       "      <td>/news/articleView.html?idxno=423216</td>\n",
       "    </tr>\n",
       "    <tr>\n",
       "      <th>2</th>\n",
       "      <td>2021-11-02 15:59:00</td>\n",
       "      <td>블록체인</td>\n",
       "      <td>/news/articleView.html?idxno=423219</td>\n",
       "    </tr>\n",
       "    <tr>\n",
       "      <th>3</th>\n",
       "      <td>2021-11-02 15:41:00</td>\n",
       "      <td>종합</td>\n",
       "      <td>/news/articleView.html?idxno=423188</td>\n",
       "    </tr>\n",
       "    <tr>\n",
       "      <th>4</th>\n",
       "      <td>2021-11-02 15:38:00</td>\n",
       "      <td>산업</td>\n",
       "      <td>/news/articleView.html?idxno=423202</td>\n",
       "    </tr>\n",
       "    <tr>\n",
       "      <th>...</th>\n",
       "      <td>...</td>\n",
       "      <td>...</td>\n",
       "      <td>...</td>\n",
       "    </tr>\n",
       "    <tr>\n",
       "      <th>14208</th>\n",
       "      <td>2021-01-01 08:00:00</td>\n",
       "      <td>모빌리티</td>\n",
       "      <td>/news/articleView.html?idxno=257980</td>\n",
       "    </tr>\n",
       "    <tr>\n",
       "      <th>14209</th>\n",
       "      <td>2021-01-01 08:00:00</td>\n",
       "      <td>컴퓨팅</td>\n",
       "      <td>/news/articleView.html?idxno=258429</td>\n",
       "    </tr>\n",
       "    <tr>\n",
       "      <th>14210</th>\n",
       "      <td>2021-01-01 08:00:00</td>\n",
       "      <td>산업</td>\n",
       "      <td>/news/articleView.html?idxno=258461</td>\n",
       "    </tr>\n",
       "    <tr>\n",
       "      <th>14211</th>\n",
       "      <td>2021-01-01 07:50:00</td>\n",
       "      <td>금융·핀테크</td>\n",
       "      <td>/news/articleView.html?idxno=258657</td>\n",
       "    </tr>\n",
       "    <tr>\n",
       "      <th>14212</th>\n",
       "      <td>2021-01-01 00:00:00</td>\n",
       "      <td>금융·핀테크</td>\n",
       "      <td>/news/articleView.html?idxno=258659</td>\n",
       "    </tr>\n",
       "  </tbody>\n",
       "</table>\n",
       "<p>14213 rows × 3 columns</p>\n",
       "</div>"
      ],
      "text/plain": [
       "                     date category                                idxno\n",
       "0     2021-11-02 16:01:00       종합  /news/articleView.html?idxno=423223\n",
       "1     2021-11-02 16:00:00       종합  /news/articleView.html?idxno=423216\n",
       "2     2021-11-02 15:59:00     블록체인  /news/articleView.html?idxno=423219\n",
       "3     2021-11-02 15:41:00       종합  /news/articleView.html?idxno=423188\n",
       "4     2021-11-02 15:38:00       산업  /news/articleView.html?idxno=423202\n",
       "...                   ...      ...                                  ...\n",
       "14208 2021-01-01 08:00:00     모빌리티  /news/articleView.html?idxno=257980\n",
       "14209 2021-01-01 08:00:00      컴퓨팅  /news/articleView.html?idxno=258429\n",
       "14210 2021-01-01 08:00:00       산업  /news/articleView.html?idxno=258461\n",
       "14211 2021-01-01 07:50:00   금융·핀테크  /news/articleView.html?idxno=258657\n",
       "14212 2021-01-01 00:00:00   금융·핀테크  /news/articleView.html?idxno=258659\n",
       "\n",
       "[14213 rows x 3 columns]"
      ]
     },
     "execution_count": 49,
     "metadata": {},
     "output_type": "execute_result"
    }
   ],
   "source": [
    "article_df_2021.columns = ['date','category','idxno']\n",
    "article_df_2021"
   ]
  },
  {
   "cell_type": "code",
   "execution_count": 50,
   "id": "d2c87b2c",
   "metadata": {},
   "outputs": [],
   "source": [
    "article_df_2021_merge = pd.merge(article_df_2021, article_contents_df,how='inner',on='idxno')"
   ]
  },
  {
   "cell_type": "code",
   "execution_count": 51,
   "id": "11220383",
   "metadata": {},
   "outputs": [
    {
     "data": {
      "text/html": [
       "<div>\n",
       "<style scoped>\n",
       "    .dataframe tbody tr th:only-of-type {\n",
       "        vertical-align: middle;\n",
       "    }\n",
       "\n",
       "    .dataframe tbody tr th {\n",
       "        vertical-align: top;\n",
       "    }\n",
       "\n",
       "    .dataframe thead th {\n",
       "        text-align: right;\n",
       "    }\n",
       "</style>\n",
       "<table border=\"1\" class=\"dataframe\">\n",
       "  <thead>\n",
       "    <tr style=\"text-align: right;\">\n",
       "      <th></th>\n",
       "      <th>date</th>\n",
       "      <th>category</th>\n",
       "      <th>idxno</th>\n",
       "      <th>title</th>\n",
       "      <th>contents</th>\n",
       "    </tr>\n",
       "  </thead>\n",
       "  <tbody>\n",
       "    <tr>\n",
       "      <th>0</th>\n",
       "      <td>2021-11-02 16:01:00</td>\n",
       "      <td>종합</td>\n",
       "      <td>/news/articleView.html?idxno=423223</td>\n",
       "      <td>[데일리픽] 투자 \"주식만 있는 건 아니다\"…가상자산 과세 1년 연기?</td>\n",
       "      <td>\\n\\n\\n\\n\\n\\n\\n\\n[사진: 뮤직카우]\\n\\n\\n■ 저작권, 한우 등 이색...</td>\n",
       "    </tr>\n",
       "    <tr>\n",
       "      <th>1</th>\n",
       "      <td>2021-11-02 16:00:00</td>\n",
       "      <td>종합</td>\n",
       "      <td>/news/articleView.html?idxno=423216</td>\n",
       "      <td>과기정통부, 네트워크 안정성 대책 TF 첫 회의 가져</td>\n",
       "      <td>\\n\\n\\n\\n\\n\\n[디지털투데이 정유림 기자] 과학기술정보통신부는 지난 10월 ...</td>\n",
       "    </tr>\n",
       "    <tr>\n",
       "      <th>2</th>\n",
       "      <td>2021-11-02 15:59:00</td>\n",
       "      <td>블록체인</td>\n",
       "      <td>/news/articleView.html?idxno=423219</td>\n",
       "      <td>가상자산 과세 연기되나...여당 \"1년  유예 추진\"</td>\n",
       "      <td>\\n\\n\\n여당인 더불어민주당이 가상자산 과세를 1년 유예하는 방안을 추진하고 있다...</td>\n",
       "    </tr>\n",
       "    <tr>\n",
       "      <th>3</th>\n",
       "      <td>2021-11-02 15:41:00</td>\n",
       "      <td>종합</td>\n",
       "      <td>/news/articleView.html?idxno=423188</td>\n",
       "      <td>AI 연구·인재 양성 싱크탱크 '인공지능 혁신 허브' 출범</td>\n",
       "      <td>\\n\\n\\n임혜숙 과학기술정보통신부 장관이 2일 오후 서울 성북구 고려대학교 미래융...</td>\n",
       "    </tr>\n",
       "    <tr>\n",
       "      <th>4</th>\n",
       "      <td>2021-11-02 15:38:00</td>\n",
       "      <td>산업</td>\n",
       "      <td>/news/articleView.html?idxno=423202</td>\n",
       "      <td>에이지엣랩스, 뮤신 콜라겐으로 이너뷰티 시장 파고든다</td>\n",
       "      <td>\\n\\n\\n\\n \\n[디지털투데이 이병희 객원기자]  생명기술(BT)에 대한 기업의...</td>\n",
       "    </tr>\n",
       "    <tr>\n",
       "      <th>...</th>\n",
       "      <td>...</td>\n",
       "      <td>...</td>\n",
       "      <td>...</td>\n",
       "      <td>...</td>\n",
       "      <td>...</td>\n",
       "    </tr>\n",
       "    <tr>\n",
       "      <th>14214</th>\n",
       "      <td>2021-01-01 08:00:00</td>\n",
       "      <td>모빌리티</td>\n",
       "      <td>/news/articleView.html?idxno=257980</td>\n",
       "      <td>[모빌리티NOW] 2021년 글로벌 자율주행 레이스 본격 시동</td>\n",
       "      <td>\\n[사진: 셔터스톡]온라인으로 개최되지만 CES 2021이 목전으로 다가오면서 국...</td>\n",
       "    </tr>\n",
       "    <tr>\n",
       "      <th>14215</th>\n",
       "      <td>2021-01-01 08:00:00</td>\n",
       "      <td>컴퓨팅</td>\n",
       "      <td>/news/articleView.html?idxno=258429</td>\n",
       "      <td>포스트 코로나 원년, 2021 테크판 흔들 10개의 질문</td>\n",
       "      <td>\\n[사진: 셔터스톡][디지털투데이 황치규 기자] 2020년 예상치 못한 코로나19...</td>\n",
       "    </tr>\n",
       "    <tr>\n",
       "      <th>14216</th>\n",
       "      <td>2021-01-01 08:00:00</td>\n",
       "      <td>산업</td>\n",
       "      <td>/news/articleView.html?idxno=258461</td>\n",
       "      <td>[코로나19 백신이 온다①] 화이자·모더나·아스트라제네카·얀센이 만든 '백신의 세계'</td>\n",
       "      <td>\\n전자현미경으로 본 코로나19 바이러스 [사진=식약처][디지털투데이 이장혁 기자]...</td>\n",
       "    </tr>\n",
       "    <tr>\n",
       "      <th>14217</th>\n",
       "      <td>2021-01-01 07:50:00</td>\n",
       "      <td>금융·핀테크</td>\n",
       "      <td>/news/articleView.html?idxno=258657</td>\n",
       "      <td>카드사 '같은 듯 다른' 마이데이터 전략...서비스 차별화 박차</td>\n",
       "      <td>\\n최근 금융위원회로부터 마이데이터 예비허가를 받은 카드사 5곳(KB국민·우리·신한...</td>\n",
       "    </tr>\n",
       "    <tr>\n",
       "      <th>14218</th>\n",
       "      <td>2021-01-01 00:00:00</td>\n",
       "      <td>금융·핀테크</td>\n",
       "      <td>/news/articleView.html?idxno=258659</td>\n",
       "      <td>방문규 수출입은행장 \"2021년 수은 디지털화의 원년 될 것\"</td>\n",
       "      <td>\\n방문규 한국수출입은행장이 2021년 신년사를 통해 디지털 전화를 전극적으로 추진...</td>\n",
       "    </tr>\n",
       "  </tbody>\n",
       "</table>\n",
       "<p>14219 rows × 5 columns</p>\n",
       "</div>"
      ],
      "text/plain": [
       "                     date category                                idxno  \\\n",
       "0     2021-11-02 16:01:00       종합  /news/articleView.html?idxno=423223   \n",
       "1     2021-11-02 16:00:00       종합  /news/articleView.html?idxno=423216   \n",
       "2     2021-11-02 15:59:00     블록체인  /news/articleView.html?idxno=423219   \n",
       "3     2021-11-02 15:41:00       종합  /news/articleView.html?idxno=423188   \n",
       "4     2021-11-02 15:38:00       산업  /news/articleView.html?idxno=423202   \n",
       "...                   ...      ...                                  ...   \n",
       "14214 2021-01-01 08:00:00     모빌리티  /news/articleView.html?idxno=257980   \n",
       "14215 2021-01-01 08:00:00      컴퓨팅  /news/articleView.html?idxno=258429   \n",
       "14216 2021-01-01 08:00:00       산업  /news/articleView.html?idxno=258461   \n",
       "14217 2021-01-01 07:50:00   금융·핀테크  /news/articleView.html?idxno=258657   \n",
       "14218 2021-01-01 00:00:00   금융·핀테크  /news/articleView.html?idxno=258659   \n",
       "\n",
       "                                                 title  \\\n",
       "0              [데일리픽] 투자 \"주식만 있는 건 아니다\"…가상자산 과세 1년 연기?   \n",
       "1                        과기정통부, 네트워크 안정성 대책 TF 첫 회의 가져   \n",
       "2                        가상자산 과세 연기되나...여당 \"1년  유예 추진\"   \n",
       "3                     AI 연구·인재 양성 싱크탱크 '인공지능 혁신 허브' 출범   \n",
       "4                        에이지엣랩스, 뮤신 콜라겐으로 이너뷰티 시장 파고든다   \n",
       "...                                                ...   \n",
       "14214               [모빌리티NOW] 2021년 글로벌 자율주행 레이스 본격 시동   \n",
       "14215                  포스트 코로나 원년, 2021 테크판 흔들 10개의 질문   \n",
       "14216  [코로나19 백신이 온다①] 화이자·모더나·아스트라제네카·얀센이 만든 '백신의 세계'   \n",
       "14217              카드사 '같은 듯 다른' 마이데이터 전략...서비스 차별화 박차   \n",
       "14218               방문규 수출입은행장 \"2021년 수은 디지털화의 원년 될 것\"   \n",
       "\n",
       "                                                contents  \n",
       "0      \\n\\n\\n\\n\\n\\n\\n\\n[사진: 뮤직카우]\\n\\n\\n■ 저작권, 한우 등 이색...  \n",
       "1      \\n\\n\\n\\n\\n\\n[디지털투데이 정유림 기자] 과학기술정보통신부는 지난 10월 ...  \n",
       "2      \\n\\n\\n여당인 더불어민주당이 가상자산 과세를 1년 유예하는 방안을 추진하고 있다...  \n",
       "3      \\n\\n\\n임혜숙 과학기술정보통신부 장관이 2일 오후 서울 성북구 고려대학교 미래융...  \n",
       "4      \\n\\n\\n\\n \\n[디지털투데이 이병희 객원기자]  생명기술(BT)에 대한 기업의...  \n",
       "...                                                  ...  \n",
       "14214  \\n[사진: 셔터스톡]온라인으로 개최되지만 CES 2021이 목전으로 다가오면서 국...  \n",
       "14215  \\n[사진: 셔터스톡][디지털투데이 황치규 기자] 2020년 예상치 못한 코로나19...  \n",
       "14216  \\n전자현미경으로 본 코로나19 바이러스 [사진=식약처][디지털투데이 이장혁 기자]...  \n",
       "14217  \\n최근 금융위원회로부터 마이데이터 예비허가를 받은 카드사 5곳(KB국민·우리·신한...  \n",
       "14218  \\n방문규 한국수출입은행장이 2021년 신년사를 통해 디지털 전화를 전극적으로 추진...  \n",
       "\n",
       "[14219 rows x 5 columns]"
      ]
     },
     "execution_count": 51,
     "metadata": {},
     "output_type": "execute_result"
    }
   ],
   "source": [
    "article_df_2021_merge"
   ]
  },
  {
   "cell_type": "code",
   "execution_count": null,
   "id": "991c2d8b",
   "metadata": {},
   "outputs": [],
   "source": [
    "tokens = okt.nouns(article_merge_df10['contents'][0])\n",
    "tokens[:10]"
   ]
  },
  {
   "cell_type": "code",
   "execution_count": 123,
   "id": "43b559ef",
   "metadata": {
    "collapsed": true
   },
   "outputs": [
    {
     "ename": "SyntaxError",
     "evalue": "cannot assign to function call (<ipython-input-123-021f26adc069>, line 4)",
     "output_type": "error",
     "traceback": [
      "\u001b[1;36m  File \u001b[1;32m\"<ipython-input-123-021f26adc069>\"\u001b[1;36m, line \u001b[1;32m4\u001b[0m\n\u001b[1;33m    token_dict(i) = tokens[:20]\u001b[0m\n\u001b[1;37m    ^\u001b[0m\n\u001b[1;31mSyntaxError\u001b[0m\u001b[1;31m:\u001b[0m cannot assign to function call\n"
     ]
    }
   ],
   "source": [
    "token_dict = {}\n",
    "for i in range(len(article_df_2021_merge)) :\n",
    "    tokens = okt.nouns(article_df_2021_merge['contents'][i])\n",
    "    token_dict(i) = tokens[:20]"
   ]
  },
  {
   "cell_type": "code",
   "execution_count": null,
   "id": "3455a3e2",
   "metadata": {},
   "outputs": [],
   "source": [
    "tokens = ''\n",
    "for token in token_list :\n",
    "    for k in range(len(token)) :\n",
    "        tokens=tokens + token[k] + '\\n'\n"
   ]
  },
  {
   "cell_type": "code",
   "execution_count": 124,
   "id": "e0dff95d",
   "metadata": {
    "collapsed": true
   },
   "outputs": [
    {
     "data": {
      "text/plain": [
       "data\n",
       "디지털     12876\n",
       "투데이     12087\n",
       "기자      11708\n",
       "사진       9237\n",
       "황치규      2594\n",
       "        ...  \n",
       "정보격차        1\n",
       "라드          1\n",
       "정병준         1\n",
       "앨범          1\n",
       "러기드         1\n",
       "Length: 14969, dtype: int64"
      ]
     },
     "execution_count": 124,
     "metadata": {},
     "output_type": "execute_result"
    }
   ],
   "source": [
    "token_df.value_counts()"
   ]
  },
  {
   "cell_type": "code",
   "execution_count": 113,
   "id": "ddc36017",
   "metadata": {},
   "outputs": [
    {
     "data": {
      "text/plain": [
       "'규'"
      ]
     },
     "execution_count": 113,
     "metadata": {},
     "output_type": "execute_result"
    }
   ],
   "source": [
    "tokens"
   ]
  },
  {
   "cell_type": "code",
   "execution_count": 82,
   "id": "7056ced4",
   "metadata": {
    "collapsed": true
   },
   "outputs": [
    {
     "name": "stdout",
     "output_type": "stream",
     "text": [
      "Requirement already satisfied: wordcloud in c:\\anaconda3\\lib\\site-packages (1.8.1)\n",
      "Requirement already satisfied: matplotlib in c:\\anaconda3\\lib\\site-packages (from wordcloud) (3.3.4)\n",
      "Requirement already satisfied: pillow in c:\\anaconda3\\lib\\site-packages (from wordcloud) (8.2.0)\n",
      "Requirement already satisfied: numpy>=1.6.1 in c:\\anaconda3\\lib\\site-packages (from wordcloud) (1.18.5)\n",
      "Requirement already satisfied: cycler>=0.10 in c:\\anaconda3\\lib\\site-packages (from matplotlib->wordcloud) (0.10.0)\n",
      "Requirement already satisfied: kiwisolver>=1.0.1 in c:\\anaconda3\\lib\\site-packages (from matplotlib->wordcloud) (1.3.1)\n",
      "Requirement already satisfied: python-dateutil>=2.1 in c:\\anaconda3\\lib\\site-packages (from matplotlib->wordcloud) (2.8.1)\n",
      "Requirement already satisfied: pyparsing!=2.0.4,!=2.1.2,!=2.1.6,>=2.0.3 in c:\\anaconda3\\lib\\site-packages (from matplotlib->wordcloud) (2.4.7)\n",
      "Requirement already satisfied: six in c:\\anaconda3\\lib\\site-packages (from cycler>=0.10->matplotlib->wordcloud) (1.15.0)\n"
     ]
    },
    {
     "name": "stderr",
     "output_type": "stream",
     "text": [
      "WARNING: Ignoring invalid distribution -pype1 (c:\\anaconda3\\lib\\site-packages)\n",
      "WARNING: Ignoring invalid distribution - (c:\\anaconda3\\lib\\site-packages)\n",
      "WARNING: Ignoring invalid distribution -pype1 (c:\\anaconda3\\lib\\site-packages)\n",
      "WARNING: Ignoring invalid distribution - (c:\\anaconda3\\lib\\site-packages)\n",
      "WARNING: Ignoring invalid distribution -pype1 (c:\\anaconda3\\lib\\site-packages)\n",
      "WARNING: Ignoring invalid distribution - (c:\\anaconda3\\lib\\site-packages)\n",
      "WARNING: Ignoring invalid distribution -pype1 (c:\\anaconda3\\lib\\site-packages)\n",
      "WARNING: Ignoring invalid distribution - (c:\\anaconda3\\lib\\site-packages)\n",
      "WARNING: Ignoring invalid distribution -pype1 (c:\\anaconda3\\lib\\site-packages)\n",
      "WARNING: Ignoring invalid distribution - (c:\\anaconda3\\lib\\site-packages)\n"
     ]
    }
   ],
   "source": [
    "!pip install wordcloud"
   ]
  },
  {
   "cell_type": "code",
   "execution_count": 90,
   "id": "96ffd9d1",
   "metadata": {},
   "outputs": [],
   "source": [
    "from wordcloud import WordCloud"
   ]
  },
  {
   "cell_type": "code",
   "execution_count": 93,
   "id": "0cd7b36a",
   "metadata": {},
   "outputs": [],
   "source": [
    "wordcloud = WordCloud(max_font_size=200, font_path='D:/DATA/SRC_Script/PythonProject/WordCloud/BMDOHYEON.ttf',\n",
    "                background_color='white', width=800, height=800)"
   ]
  },
  {
   "cell_type": "code",
   "execution_count": 119,
   "id": "2ff0e963",
   "metadata": {},
   "outputs": [
    {
     "data": {
      "text/html": [
       "<div>\n",
       "<style scoped>\n",
       "    .dataframe tbody tr th:only-of-type {\n",
       "        vertical-align: middle;\n",
       "    }\n",
       "\n",
       "    .dataframe tbody tr th {\n",
       "        vertical-align: top;\n",
       "    }\n",
       "\n",
       "    .dataframe thead th {\n",
       "        text-align: right;\n",
       "    }\n",
       "</style>\n",
       "<table border=\"1\" class=\"dataframe\">\n",
       "  <thead>\n",
       "    <tr style=\"text-align: right;\">\n",
       "      <th></th>\n",
       "      <th>data</th>\n",
       "    </tr>\n",
       "  </thead>\n",
       "  <tbody>\n",
       "    <tr>\n",
       "      <th>0</th>\n",
       "      <td>사진</td>\n",
       "    </tr>\n",
       "    <tr>\n",
       "      <th>1</th>\n",
       "      <td>뮤직</td>\n",
       "    </tr>\n",
       "    <tr>\n",
       "      <th>2</th>\n",
       "      <td>저작권</td>\n",
       "    </tr>\n",
       "    <tr>\n",
       "      <th>3</th>\n",
       "      <td>한우</td>\n",
       "    </tr>\n",
       "    <tr>\n",
       "      <th>4</th>\n",
       "      <td>등</td>\n",
       "    </tr>\n",
       "    <tr>\n",
       "      <th>...</th>\n",
       "      <td>...</td>\n",
       "    </tr>\n",
       "    <tr>\n",
       "      <th>283981</th>\n",
       "      <td>투데이</td>\n",
       "    </tr>\n",
       "    <tr>\n",
       "      <th>283982</th>\n",
       "      <td>강진규</td>\n",
       "    </tr>\n",
       "    <tr>\n",
       "      <th>283983</th>\n",
       "      <td>기자</td>\n",
       "    </tr>\n",
       "    <tr>\n",
       "      <th>283984</th>\n",
       "      <td>방문</td>\n",
       "    </tr>\n",
       "    <tr>\n",
       "      <th>283985</th>\n",
       "      <td>규</td>\n",
       "    </tr>\n",
       "  </tbody>\n",
       "</table>\n",
       "<p>283986 rows × 1 columns</p>\n",
       "</div>"
      ],
      "text/plain": [
       "       data\n",
       "0        사진\n",
       "1        뮤직\n",
       "2       저작권\n",
       "3        한우\n",
       "4         등\n",
       "...     ...\n",
       "283981  투데이\n",
       "283982  강진규\n",
       "283983   기자\n",
       "283984   방문\n",
       "283985    규\n",
       "\n",
       "[283986 rows x 1 columns]"
      ]
     },
     "execution_count": 119,
     "metadata": {},
     "output_type": "execute_result"
    }
   ],
   "source": [
    "token_df.columns = ['data']\n",
    "token_df"
   ]
  },
  {
   "cell_type": "code",
   "execution_count": 132,
   "id": "c80e474f",
   "metadata": {},
   "outputs": [
    {
     "data": {
      "text/plain": [
       "283956        곳\n",
       "283957       국민\n",
       "283958       우리\n",
       "283959       신한\n",
       "283960       현대\n",
       "283961     비씨카드\n",
       "283962        이\n",
       "283963       시장\n",
       "283964       진출\n",
       "283965        위\n",
       "283966       방문\n",
       "283967        규\n",
       "283968       한국\n",
       "283969    수출입은행\n",
       "283970      신년사\n",
       "283971       통해\n",
       "283972      디지털\n",
       "283973       전화\n",
       "283974       극적\n",
       "283975       추진\n",
       "283976       방침\n",
       "283977       사진\n",
       "283978       한국\n",
       "283979    수출입은행\n",
       "283980      디지털\n",
       "283981      투데이\n",
       "283982      강진규\n",
       "283983       기자\n",
       "283984       방문\n",
       "283985        규\n",
       "Name: data, dtype: object"
      ]
     },
     "execution_count": 132,
     "metadata": {},
     "output_type": "execute_result"
    }
   ],
   "source": [
    "token_df.data[-30:]"
   ]
  },
  {
   "cell_type": "code",
   "execution_count": 133,
   "id": "1a0b9af7",
   "metadata": {
    "collapsed": true
   },
   "outputs": [
    {
     "ename": "ValueError",
     "evalue": "could not convert string to float: '현대'",
     "output_type": "error",
     "traceback": [
      "\u001b[1;31m---------------------------------------------------------------------------\u001b[0m",
      "\u001b[1;31mValueError\u001b[0m                                Traceback (most recent call last)",
      "\u001b[1;32m<ipython-input-133-f54e7674dc10>\u001b[0m in \u001b[0;36m<module>\u001b[1;34m\u001b[0m\n\u001b[0;32m      1\u001b[0m \u001b[0mpath\u001b[0m \u001b[1;33m=\u001b[0m \u001b[1;34m'/usr/share/fonts/truetype/nanum/NanumBarunGothic.ttf'\u001b[0m\u001b[1;33m\u001b[0m\u001b[1;33m\u001b[0m\u001b[0m\n\u001b[0;32m      2\u001b[0m \u001b[1;33m\u001b[0m\u001b[0m\n\u001b[1;32m----> 3\u001b[1;33m \u001b[0mwordcloud\u001b[0m \u001b[1;33m=\u001b[0m \u001b[0mWordCloud\u001b[0m\u001b[1;33m(\u001b[0m\u001b[0mfont_path\u001b[0m\u001b[1;33m=\u001b[0m\u001b[0mpath\u001b[0m\u001b[1;33m)\u001b[0m\u001b[1;33m.\u001b[0m\u001b[0mgenerate_from_frequencies\u001b[0m\u001b[1;33m(\u001b[0m\u001b[0mdict\u001b[0m\u001b[1;33m(\u001b[0m\u001b[0mtoken_df\u001b[0m\u001b[1;33m.\u001b[0m\u001b[0mdata\u001b[0m\u001b[1;33m[\u001b[0m\u001b[1;33m-\u001b[0m\u001b[1;36m30\u001b[0m\u001b[1;33m:\u001b[0m\u001b[1;33m]\u001b[0m\u001b[1;33m)\u001b[0m\u001b[1;33m)\u001b[0m\u001b[1;33m\u001b[0m\u001b[1;33m\u001b[0m\u001b[0m\n\u001b[0m\u001b[0;32m      4\u001b[0m \u001b[0mplt\u001b[0m\u001b[1;33m.\u001b[0m\u001b[0mimshow\u001b[0m\u001b[1;33m(\u001b[0m\u001b[0mwordcloud\u001b[0m\u001b[1;33m)\u001b[0m\u001b[1;33m\u001b[0m\u001b[1;33m\u001b[0m\u001b[0m\n",
      "\u001b[1;32mC:\\anaconda3\\lib\\site-packages\\wordcloud\\wordcloud.py\u001b[0m in \u001b[0;36mgenerate_from_frequencies\u001b[1;34m(self, frequencies, max_font_size)\u001b[0m\n\u001b[0;32m    406\u001b[0m \u001b[1;33m\u001b[0m\u001b[0m\n\u001b[0;32m    407\u001b[0m         \u001b[1;31m# largest entry will be 1\u001b[0m\u001b[1;33m\u001b[0m\u001b[1;33m\u001b[0m\u001b[1;33m\u001b[0m\u001b[0m\n\u001b[1;32m--> 408\u001b[1;33m         \u001b[0mmax_frequency\u001b[0m \u001b[1;33m=\u001b[0m \u001b[0mfloat\u001b[0m\u001b[1;33m(\u001b[0m\u001b[0mfrequencies\u001b[0m\u001b[1;33m[\u001b[0m\u001b[1;36m0\u001b[0m\u001b[1;33m]\u001b[0m\u001b[1;33m[\u001b[0m\u001b[1;36m1\u001b[0m\u001b[1;33m]\u001b[0m\u001b[1;33m)\u001b[0m\u001b[1;33m\u001b[0m\u001b[1;33m\u001b[0m\u001b[0m\n\u001b[0m\u001b[0;32m    409\u001b[0m \u001b[1;33m\u001b[0m\u001b[0m\n\u001b[0;32m    410\u001b[0m         frequencies = [(word, freq / max_frequency)\n",
      "\u001b[1;31mValueError\u001b[0m: could not convert string to float: '현대'"
     ]
    }
   ],
   "source": [
    "path = '/usr/share/fonts/truetype/nanum/NanumBarunGothic.ttf'\n",
    "\n",
    "wordcloud = WordCloud(font_path=path).generate_from_frequencies(dict(token_df.data[-30:]))\n",
    "plt.imshow(wordcloud)"
   ]
  },
  {
   "cell_type": "code",
   "execution_count": null,
   "id": "2e19fc33",
   "metadata": {},
   "outputs": [],
   "source": []
  },
  {
   "cell_type": "code",
   "execution_count": null,
   "id": "920e7cca",
   "metadata": {},
   "outputs": [],
   "source": []
  },
  {
   "cell_type": "code",
   "execution_count": null,
   "id": "20d8b5ec",
   "metadata": {},
   "outputs": [],
   "source": []
  },
  {
   "cell_type": "code",
   "execution_count": null,
   "id": "c14d8de2",
   "metadata": {},
   "outputs": [],
   "source": [
    "for i in range(len(article_df['date'])) :\n",
    "    if len(article_df['date'][i]) == 11 :\n",
    "        article_df['date'][i] = '2021.'+ article_df['date'][i]"
   ]
  },
  {
   "cell_type": "code",
   "execution_count": 133,
   "id": "224f1b91",
   "metadata": {},
   "outputs": [],
   "source": [
    "article_df.to_csv('article_list.csv',encoding=\"utf-8-sig\")"
   ]
  },
  {
   "cell_type": "code",
   "execution_count": 28,
   "id": "dc2ec6f0",
   "metadata": {},
   "outputs": [],
   "source": [
    "article_df10 = article_df[:10]\n",
    "article_df10.columns = ['date','category','idxno']"
   ]
  },
  {
   "cell_type": "code",
   "execution_count": 20,
   "id": "8159d0ce",
   "metadata": {
    "collapsed": true
   },
   "outputs": [
    {
     "data": {
      "text/html": [
       "<div>\n",
       "<style scoped>\n",
       "    .dataframe tbody tr th:only-of-type {\n",
       "        vertical-align: middle;\n",
       "    }\n",
       "\n",
       "    .dataframe tbody tr th {\n",
       "        vertical-align: top;\n",
       "    }\n",
       "\n",
       "    .dataframe thead th {\n",
       "        text-align: right;\n",
       "    }\n",
       "</style>\n",
       "<table border=\"1\" class=\"dataframe\">\n",
       "  <thead>\n",
       "    <tr style=\"text-align: right;\">\n",
       "      <th></th>\n",
       "      <th>date</th>\n",
       "      <th>category</th>\n",
       "      <th>link</th>\n",
       "    </tr>\n",
       "  </thead>\n",
       "  <tbody>\n",
       "    <tr>\n",
       "      <th>0</th>\n",
       "      <td>2021-11-02 16:01:00</td>\n",
       "      <td>종합</td>\n",
       "      <td>/news/articleView.html?idxno=423223</td>\n",
       "    </tr>\n",
       "    <tr>\n",
       "      <th>1</th>\n",
       "      <td>2021-11-02 16:00:00</td>\n",
       "      <td>종합</td>\n",
       "      <td>/news/articleView.html?idxno=423216</td>\n",
       "    </tr>\n",
       "    <tr>\n",
       "      <th>2</th>\n",
       "      <td>2021-11-02 15:59:00</td>\n",
       "      <td>블록체인</td>\n",
       "      <td>/news/articleView.html?idxno=423219</td>\n",
       "    </tr>\n",
       "    <tr>\n",
       "      <th>3</th>\n",
       "      <td>2021-11-02 15:41:00</td>\n",
       "      <td>종합</td>\n",
       "      <td>/news/articleView.html?idxno=423188</td>\n",
       "    </tr>\n",
       "    <tr>\n",
       "      <th>4</th>\n",
       "      <td>2021-11-02 15:38:00</td>\n",
       "      <td>산업</td>\n",
       "      <td>/news/articleView.html?idxno=423202</td>\n",
       "    </tr>\n",
       "    <tr>\n",
       "      <th>5</th>\n",
       "      <td>2021-11-02 15:23:00</td>\n",
       "      <td>인터넷</td>\n",
       "      <td>/news/articleView.html?idxno=423207</td>\n",
       "    </tr>\n",
       "    <tr>\n",
       "      <th>6</th>\n",
       "      <td>2021-11-02 15:18:00</td>\n",
       "      <td>종합</td>\n",
       "      <td>/news/articleView.html?idxno=423209</td>\n",
       "    </tr>\n",
       "    <tr>\n",
       "      <th>7</th>\n",
       "      <td>2021-11-02 15:13:00</td>\n",
       "      <td>컴퓨팅</td>\n",
       "      <td>/news/articleView.html?idxno=423208</td>\n",
       "    </tr>\n",
       "    <tr>\n",
       "      <th>8</th>\n",
       "      <td>2021-11-02 14:53:00</td>\n",
       "      <td>컴퓨팅</td>\n",
       "      <td>/news/articleView.html?idxno=423206</td>\n",
       "    </tr>\n",
       "    <tr>\n",
       "      <th>9</th>\n",
       "      <td>2021-11-02 14:49:00</td>\n",
       "      <td>금융·핀테크</td>\n",
       "      <td>/news/articleView.html?idxno=423204</td>\n",
       "    </tr>\n",
       "  </tbody>\n",
       "</table>\n",
       "</div>"
      ],
      "text/plain": [
       "                 date category                                 link\n",
       "0 2021-11-02 16:01:00       종합  /news/articleView.html?idxno=423223\n",
       "1 2021-11-02 16:00:00       종합  /news/articleView.html?idxno=423216\n",
       "2 2021-11-02 15:59:00     블록체인  /news/articleView.html?idxno=423219\n",
       "3 2021-11-02 15:41:00       종합  /news/articleView.html?idxno=423188\n",
       "4 2021-11-02 15:38:00       산업  /news/articleView.html?idxno=423202\n",
       "5 2021-11-02 15:23:00      인터넷  /news/articleView.html?idxno=423207\n",
       "6 2021-11-02 15:18:00       종합  /news/articleView.html?idxno=423209\n",
       "7 2021-11-02 15:13:00      컴퓨팅  /news/articleView.html?idxno=423208\n",
       "8 2021-11-02 14:53:00      컴퓨팅  /news/articleView.html?idxno=423206\n",
       "9 2021-11-02 14:49:00   금융·핀테크  /news/articleView.html?idxno=423204"
      ]
     },
     "execution_count": 20,
     "metadata": {},
     "output_type": "execute_result"
    }
   ],
   "source": [
    "article_df10"
   ]
  },
  {
   "cell_type": "code",
   "execution_count": 21,
   "id": "525a288e",
   "metadata": {
    "collapsed": true
   },
   "outputs": [
    {
     "data": {
      "text/html": [
       "<div>\n",
       "<style scoped>\n",
       "    .dataframe tbody tr th:only-of-type {\n",
       "        vertical-align: middle;\n",
       "    }\n",
       "\n",
       "    .dataframe tbody tr th {\n",
       "        vertical-align: top;\n",
       "    }\n",
       "\n",
       "    .dataframe thead th {\n",
       "        text-align: right;\n",
       "    }\n",
       "</style>\n",
       "<table border=\"1\" class=\"dataframe\">\n",
       "  <thead>\n",
       "    <tr style=\"text-align: right;\">\n",
       "      <th></th>\n",
       "      <th>idxno</th>\n",
       "      <th>title</th>\n",
       "      <th>contents</th>\n",
       "    </tr>\n",
       "  </thead>\n",
       "  <tbody>\n",
       "    <tr>\n",
       "      <th>0</th>\n",
       "      <td>/news/articleView.html?idxno=423223</td>\n",
       "      <td>[데일리픽] 투자 \"주식만 있는 건 아니다\"…가상자산 과세 1년 연기?</td>\n",
       "      <td>\\n\\n\\n\\n\\n\\n\\n\\n[사진: 뮤직카우]\\n\\n\\n■ 저작권, 한우 등 이색...</td>\n",
       "    </tr>\n",
       "    <tr>\n",
       "      <th>1</th>\n",
       "      <td>/news/articleView.html?idxno=423216</td>\n",
       "      <td>과기정통부, 네트워크 안정성 대책 TF 첫 회의 가져</td>\n",
       "      <td>\\n\\n\\n\\n\\n\\n[디지털투데이 정유림 기자] 과학기술정보통신부는 지난 10월 ...</td>\n",
       "    </tr>\n",
       "    <tr>\n",
       "      <th>2</th>\n",
       "      <td>/news/articleView.html?idxno=423219</td>\n",
       "      <td>가상자산 과세 연기되나...여당 \"1년  유예 추진\"</td>\n",
       "      <td>\\n\\n\\n여당인 더불어민주당이 가상자산 과세를 1년 유예하는 방안을 추진하고 있다...</td>\n",
       "    </tr>\n",
       "    <tr>\n",
       "      <th>3</th>\n",
       "      <td>/news/articleView.html?idxno=423188</td>\n",
       "      <td>AI 연구·인재 양성 싱크탱크 '인공지능 혁신 허브' 출범</td>\n",
       "      <td>\\n\\n\\n임혜숙 과학기술정보통신부 장관이 2일 오후 서울 성북구 고려대학교 미래융...</td>\n",
       "    </tr>\n",
       "    <tr>\n",
       "      <th>4</th>\n",
       "      <td>/news/articleView.html?idxno=423202</td>\n",
       "      <td>에이지엣랩스, 뮤신 콜라겐으로 이너뷰티 시장 파고든다</td>\n",
       "      <td>\\n\\n\\n\\n \\n[디지털투데이 이병희 객원기자]  생명기술(BT)에 대한 기업의...</td>\n",
       "    </tr>\n",
       "    <tr>\n",
       "      <th>5</th>\n",
       "      <td>/news/articleView.html?idxno=423207</td>\n",
       "      <td>다음 아이디 로그인, 내년 10월 1일 종료... 카카오 계정으로 통합</td>\n",
       "      <td>\\n\\n\\n포털 사이트 '다음' 로그인 화면 갈무리.\\n\\n\\n[디지털투데이 정유림...</td>\n",
       "    </tr>\n",
       "    <tr>\n",
       "      <th>6</th>\n",
       "      <td>/news/articleView.html?idxno=423209</td>\n",
       "      <td>씨엔티테크, 농금원 '농식품 모태펀드 2021년 2차 정기 출자사업' 위탁운용사 선정</td>\n",
       "      <td>\\n\\n\\n씨엔티테크 사옥 [사진 : 씨엔티테크]\\n\\n\\n[디지털투데이 김양하 기...</td>\n",
       "    </tr>\n",
       "    <tr>\n",
       "      <th>7</th>\n",
       "      <td>/news/articleView.html?idxno=423208</td>\n",
       "      <td>클라우드 기반 공학교육플랫폼 맷스큐 에듀, AI 활용 소재 설계 강의 오픈</td>\n",
       "      <td>\\n\\n\\n버추얼랩 맷스큐 에듀 이미지.\\n\\n\\n[디지털투데이 황치규 기자]버추얼...</td>\n",
       "    </tr>\n",
       "    <tr>\n",
       "      <th>8</th>\n",
       "      <td>/news/articleView.html?idxno=423206</td>\n",
       "      <td>크라우드스트라이크, 시큐어서클 인수...엔드포인트 제로트러스트 보안 강화</td>\n",
       "      <td>\\n\\n\\n크라우드스트라이크 로고.&amp;nbsp;\\n\\n\\n[디지털투데이 황치규 기자]...</td>\n",
       "    </tr>\n",
       "    <tr>\n",
       "      <th>9</th>\n",
       "      <td>/news/articleView.html?idxno=423204</td>\n",
       "      <td>KB국민카드, 캄보디아에 3호 지점 개설</td>\n",
       "      <td>\\n\\n\\n1일 캄보디아 프놈펜에서 열린 캄보디아 현지법인 ‘KB대한 특수은행’의 ...</td>\n",
       "    </tr>\n",
       "  </tbody>\n",
       "</table>\n",
       "</div>"
      ],
      "text/plain": [
       "                                 idxno  \\\n",
       "0  /news/articleView.html?idxno=423223   \n",
       "1  /news/articleView.html?idxno=423216   \n",
       "2  /news/articleView.html?idxno=423219   \n",
       "3  /news/articleView.html?idxno=423188   \n",
       "4  /news/articleView.html?idxno=423202   \n",
       "5  /news/articleView.html?idxno=423207   \n",
       "6  /news/articleView.html?idxno=423209   \n",
       "7  /news/articleView.html?idxno=423208   \n",
       "8  /news/articleView.html?idxno=423206   \n",
       "9  /news/articleView.html?idxno=423204   \n",
       "\n",
       "                                             title  \\\n",
       "0          [데일리픽] 투자 \"주식만 있는 건 아니다\"…가상자산 과세 1년 연기?   \n",
       "1                    과기정통부, 네트워크 안정성 대책 TF 첫 회의 가져   \n",
       "2                    가상자산 과세 연기되나...여당 \"1년  유예 추진\"   \n",
       "3                 AI 연구·인재 양성 싱크탱크 '인공지능 혁신 허브' 출범   \n",
       "4                    에이지엣랩스, 뮤신 콜라겐으로 이너뷰티 시장 파고든다   \n",
       "5          다음 아이디 로그인, 내년 10월 1일 종료... 카카오 계정으로 통합   \n",
       "6  씨엔티테크, 농금원 '농식품 모태펀드 2021년 2차 정기 출자사업' 위탁운용사 선정   \n",
       "7        클라우드 기반 공학교육플랫폼 맷스큐 에듀, AI 활용 소재 설계 강의 오픈   \n",
       "8         크라우드스트라이크, 시큐어서클 인수...엔드포인트 제로트러스트 보안 강화   \n",
       "9                           KB국민카드, 캄보디아에 3호 지점 개설   \n",
       "\n",
       "                                            contents  \n",
       "0  \\n\\n\\n\\n\\n\\n\\n\\n[사진: 뮤직카우]\\n\\n\\n■ 저작권, 한우 등 이색...  \n",
       "1  \\n\\n\\n\\n\\n\\n[디지털투데이 정유림 기자] 과학기술정보통신부는 지난 10월 ...  \n",
       "2  \\n\\n\\n여당인 더불어민주당이 가상자산 과세를 1년 유예하는 방안을 추진하고 있다...  \n",
       "3  \\n\\n\\n임혜숙 과학기술정보통신부 장관이 2일 오후 서울 성북구 고려대학교 미래융...  \n",
       "4  \\n\\n\\n\\n \\n[디지털투데이 이병희 객원기자]  생명기술(BT)에 대한 기업의...  \n",
       "5  \\n\\n\\n포털 사이트 '다음' 로그인 화면 갈무리.\\n\\n\\n[디지털투데이 정유림...  \n",
       "6  \\n\\n\\n씨엔티테크 사옥 [사진 : 씨엔티테크]\\n\\n\\n[디지털투데이 김양하 기...  \n",
       "7  \\n\\n\\n버추얼랩 맷스큐 에듀 이미지.\\n\\n\\n[디지털투데이 황치규 기자]버추얼...  \n",
       "8  \\n\\n\\n크라우드스트라이크 로고.&nbsp;\\n\\n\\n[디지털투데이 황치규 기자]...  \n",
       "9  \\n\\n\\n1일 캄보디아 프놈펜에서 열린 캄보디아 현지법인 ‘KB대한 특수은행’의 ...  "
      ]
     },
     "execution_count": 21,
     "metadata": {},
     "output_type": "execute_result"
    }
   ],
   "source": [
    "article_contents_df10"
   ]
  },
  {
   "cell_type": "code",
   "execution_count": null,
   "id": "8abe620e",
   "metadata": {},
   "outputs": [],
   "source": [
    "article_df10"
   ]
  },
  {
   "cell_type": "code",
   "execution_count": 29,
   "id": "cdbde254",
   "metadata": {},
   "outputs": [],
   "source": [
    "article_merge_df10 = pd.merge(article_df10, article_contents_df10,on='idxno')"
   ]
  },
  {
   "cell_type": "code",
   "execution_count": 30,
   "id": "b688c0c0",
   "metadata": {},
   "outputs": [
    {
     "data": {
      "text/html": [
       "<div>\n",
       "<style scoped>\n",
       "    .dataframe tbody tr th:only-of-type {\n",
       "        vertical-align: middle;\n",
       "    }\n",
       "\n",
       "    .dataframe tbody tr th {\n",
       "        vertical-align: top;\n",
       "    }\n",
       "\n",
       "    .dataframe thead th {\n",
       "        text-align: right;\n",
       "    }\n",
       "</style>\n",
       "<table border=\"1\" class=\"dataframe\">\n",
       "  <thead>\n",
       "    <tr style=\"text-align: right;\">\n",
       "      <th></th>\n",
       "      <th>date</th>\n",
       "      <th>category</th>\n",
       "      <th>idxno</th>\n",
       "      <th>title</th>\n",
       "      <th>contents</th>\n",
       "    </tr>\n",
       "  </thead>\n",
       "  <tbody>\n",
       "    <tr>\n",
       "      <th>0</th>\n",
       "      <td>2021.11.02 16:01</td>\n",
       "      <td>종합</td>\n",
       "      <td>/news/articleView.html?idxno=423223</td>\n",
       "      <td>[데일리픽] 투자 \"주식만 있는 건 아니다\"…가상자산 과세 1년 연기?</td>\n",
       "      <td>\\n\\n\\n\\n\\n\\n\\n\\n[사진: 뮤직카우]\\n\\n\\n■ 저작권, 한우 등 이색...</td>\n",
       "    </tr>\n",
       "    <tr>\n",
       "      <th>1</th>\n",
       "      <td>2021.11.02 16:00</td>\n",
       "      <td>종합</td>\n",
       "      <td>/news/articleView.html?idxno=423216</td>\n",
       "      <td>과기정통부, 네트워크 안정성 대책 TF 첫 회의 가져</td>\n",
       "      <td>\\n\\n\\n\\n\\n\\n[디지털투데이 정유림 기자] 과학기술정보통신부는 지난 10월 ...</td>\n",
       "    </tr>\n",
       "    <tr>\n",
       "      <th>2</th>\n",
       "      <td>2021.11.02 15:59</td>\n",
       "      <td>블록체인</td>\n",
       "      <td>/news/articleView.html?idxno=423219</td>\n",
       "      <td>가상자산 과세 연기되나...여당 \"1년  유예 추진\"</td>\n",
       "      <td>\\n\\n\\n여당인 더불어민주당이 가상자산 과세를 1년 유예하는 방안을 추진하고 있다...</td>\n",
       "    </tr>\n",
       "    <tr>\n",
       "      <th>3</th>\n",
       "      <td>2021.11.02 15:41</td>\n",
       "      <td>종합</td>\n",
       "      <td>/news/articleView.html?idxno=423188</td>\n",
       "      <td>AI 연구·인재 양성 싱크탱크 '인공지능 혁신 허브' 출범</td>\n",
       "      <td>\\n\\n\\n임혜숙 과학기술정보통신부 장관이 2일 오후 서울 성북구 고려대학교 미래융...</td>\n",
       "    </tr>\n",
       "    <tr>\n",
       "      <th>4</th>\n",
       "      <td>2021.11.02 15:38</td>\n",
       "      <td>산업</td>\n",
       "      <td>/news/articleView.html?idxno=423202</td>\n",
       "      <td>에이지엣랩스, 뮤신 콜라겐으로 이너뷰티 시장 파고든다</td>\n",
       "      <td>\\n\\n\\n\\n \\n[디지털투데이 이병희 객원기자]  생명기술(BT)에 대한 기업의...</td>\n",
       "    </tr>\n",
       "    <tr>\n",
       "      <th>5</th>\n",
       "      <td>2021.11.02 15:23</td>\n",
       "      <td>인터넷</td>\n",
       "      <td>/news/articleView.html?idxno=423207</td>\n",
       "      <td>다음 아이디 로그인, 내년 10월 1일 종료... 카카오 계정으로 통합</td>\n",
       "      <td>\\n\\n\\n포털 사이트 '다음' 로그인 화면 갈무리.\\n\\n\\n[디지털투데이 정유림...</td>\n",
       "    </tr>\n",
       "    <tr>\n",
       "      <th>6</th>\n",
       "      <td>2021.11.02 15:18</td>\n",
       "      <td>종합</td>\n",
       "      <td>/news/articleView.html?idxno=423209</td>\n",
       "      <td>씨엔티테크, 농금원 '농식품 모태펀드 2021년 2차 정기 출자사업' 위탁운용사 선정</td>\n",
       "      <td>\\n\\n\\n씨엔티테크 사옥 [사진 : 씨엔티테크]\\n\\n\\n[디지털투데이 김양하 기...</td>\n",
       "    </tr>\n",
       "    <tr>\n",
       "      <th>7</th>\n",
       "      <td>2021.11.02 15:13</td>\n",
       "      <td>컴퓨팅</td>\n",
       "      <td>/news/articleView.html?idxno=423208</td>\n",
       "      <td>클라우드 기반 공학교육플랫폼 맷스큐 에듀, AI 활용 소재 설계 강의 오픈</td>\n",
       "      <td>\\n\\n\\n버추얼랩 맷스큐 에듀 이미지.\\n\\n\\n[디지털투데이 황치규 기자]버추얼...</td>\n",
       "    </tr>\n",
       "    <tr>\n",
       "      <th>8</th>\n",
       "      <td>2021.11.02 14:53</td>\n",
       "      <td>컴퓨팅</td>\n",
       "      <td>/news/articleView.html?idxno=423206</td>\n",
       "      <td>크라우드스트라이크, 시큐어서클 인수...엔드포인트 제로트러스트 보안 강화</td>\n",
       "      <td>\\n\\n\\n크라우드스트라이크 로고.&amp;nbsp;\\n\\n\\n[디지털투데이 황치규 기자]...</td>\n",
       "    </tr>\n",
       "    <tr>\n",
       "      <th>9</th>\n",
       "      <td>2021.11.02 14:49</td>\n",
       "      <td>금융·핀테크</td>\n",
       "      <td>/news/articleView.html?idxno=423204</td>\n",
       "      <td>KB국민카드, 캄보디아에 3호 지점 개설</td>\n",
       "      <td>\\n\\n\\n1일 캄보디아 프놈펜에서 열린 캄보디아 현지법인 ‘KB대한 특수은행’의 ...</td>\n",
       "    </tr>\n",
       "  </tbody>\n",
       "</table>\n",
       "</div>"
      ],
      "text/plain": [
       "               date category                                idxno  \\\n",
       "0  2021.11.02 16:01       종합  /news/articleView.html?idxno=423223   \n",
       "1  2021.11.02 16:00       종합  /news/articleView.html?idxno=423216   \n",
       "2  2021.11.02 15:59     블록체인  /news/articleView.html?idxno=423219   \n",
       "3  2021.11.02 15:41       종합  /news/articleView.html?idxno=423188   \n",
       "4  2021.11.02 15:38       산업  /news/articleView.html?idxno=423202   \n",
       "5  2021.11.02 15:23      인터넷  /news/articleView.html?idxno=423207   \n",
       "6  2021.11.02 15:18       종합  /news/articleView.html?idxno=423209   \n",
       "7  2021.11.02 15:13      컴퓨팅  /news/articleView.html?idxno=423208   \n",
       "8  2021.11.02 14:53      컴퓨팅  /news/articleView.html?idxno=423206   \n",
       "9  2021.11.02 14:49   금융·핀테크  /news/articleView.html?idxno=423204   \n",
       "\n",
       "                                             title  \\\n",
       "0          [데일리픽] 투자 \"주식만 있는 건 아니다\"…가상자산 과세 1년 연기?   \n",
       "1                    과기정통부, 네트워크 안정성 대책 TF 첫 회의 가져   \n",
       "2                    가상자산 과세 연기되나...여당 \"1년  유예 추진\"   \n",
       "3                 AI 연구·인재 양성 싱크탱크 '인공지능 혁신 허브' 출범   \n",
       "4                    에이지엣랩스, 뮤신 콜라겐으로 이너뷰티 시장 파고든다   \n",
       "5          다음 아이디 로그인, 내년 10월 1일 종료... 카카오 계정으로 통합   \n",
       "6  씨엔티테크, 농금원 '농식품 모태펀드 2021년 2차 정기 출자사업' 위탁운용사 선정   \n",
       "7        클라우드 기반 공학교육플랫폼 맷스큐 에듀, AI 활용 소재 설계 강의 오픈   \n",
       "8         크라우드스트라이크, 시큐어서클 인수...엔드포인트 제로트러스트 보안 강화   \n",
       "9                           KB국민카드, 캄보디아에 3호 지점 개설   \n",
       "\n",
       "                                            contents  \n",
       "0  \\n\\n\\n\\n\\n\\n\\n\\n[사진: 뮤직카우]\\n\\n\\n■ 저작권, 한우 등 이색...  \n",
       "1  \\n\\n\\n\\n\\n\\n[디지털투데이 정유림 기자] 과학기술정보통신부는 지난 10월 ...  \n",
       "2  \\n\\n\\n여당인 더불어민주당이 가상자산 과세를 1년 유예하는 방안을 추진하고 있다...  \n",
       "3  \\n\\n\\n임혜숙 과학기술정보통신부 장관이 2일 오후 서울 성북구 고려대학교 미래융...  \n",
       "4  \\n\\n\\n\\n \\n[디지털투데이 이병희 객원기자]  생명기술(BT)에 대한 기업의...  \n",
       "5  \\n\\n\\n포털 사이트 '다음' 로그인 화면 갈무리.\\n\\n\\n[디지털투데이 정유림...  \n",
       "6  \\n\\n\\n씨엔티테크 사옥 [사진 : 씨엔티테크]\\n\\n\\n[디지털투데이 김양하 기...  \n",
       "7  \\n\\n\\n버추얼랩 맷스큐 에듀 이미지.\\n\\n\\n[디지털투데이 황치규 기자]버추얼...  \n",
       "8  \\n\\n\\n크라우드스트라이크 로고.&nbsp;\\n\\n\\n[디지털투데이 황치규 기자]...  \n",
       "9  \\n\\n\\n1일 캄보디아 프놈펜에서 열린 캄보디아 현지법인 ‘KB대한 특수은행’의 ...  "
      ]
     },
     "execution_count": 30,
     "metadata": {},
     "output_type": "execute_result"
    }
   ],
   "source": [
    "article_merge_df10"
   ]
  },
  {
   "cell_type": "code",
   "execution_count": 31,
   "id": "bf092fd9",
   "metadata": {},
   "outputs": [],
   "source": [
    "import nltk"
   ]
  },
  {
   "cell_type": "code",
   "execution_count": 32,
   "id": "de36d8b6",
   "metadata": {},
   "outputs": [],
   "source": [
    "from konlpy.tag import Komoran, Okt\n",
    "kor = Komoran()\n",
    "okt = Okt()"
   ]
  },
  {
   "cell_type": "code",
   "execution_count": 53,
   "id": "971c5986",
   "metadata": {},
   "outputs": [
    {
     "data": {
      "text/plain": [
       "['사진', '뮤직', '저작권', '한우', '등', '이색', '투자', '세계', '금융투자', '대상']"
      ]
     },
     "execution_count": 53,
     "metadata": {},
     "output_type": "execute_result"
    }
   ],
   "source": [
    "tokens = okt.nouns(article_merge_df10['contents'][0])\n",
    "tokens[:10]"
   ]
  },
  {
   "cell_type": "code",
   "execution_count": 34,
   "id": "571bbce3",
   "metadata": {},
   "outputs": [
    {
     "data": {
      "text/plain": [
       "'\\n\\n\\n\\n\\n\\n\\n\\n[사진: 뮤직카우]\\n\\n\\n■ 저작권, 한우 등 이색 투자의 세계\\n금융투자 대상이 다변화하고 있다. 전통적인 주식, 부동산, 가상자산 등을 넘어 음악 저작권, 건물 권리, 한우 등 다양한 분야에 대한 투자가 시도되고 있다.\\n음악 저작권 거래 플랫폼 업체 뮤직카우는 올해 9월 한달 간 음악 저작권 거래액이 708억3064만원을 기록했다.\\n뮤직카우는 음악 저작권 투자라는 아이디어로 핀테크 시장에 도전장을 내밀었다. 투자 후에는 보유한 지분만큼 매월 저작권료를 받거나 주식과 유사하게 ‘주’ 단위로 거래할 수 있다.\\n핀테크 기업 카사코리아는 건물의 가치를 주식처럼 거래할 수 있는 디지털 수익증권 서비스를 선보였다.\\xa0\\n디지털 수익증권 투자자는 카사 플랫폼을 통해 주식처럼 쉽게 사고팔아 시세차익을 올릴 수 있고 매 3개월 마다 임대수익도 배당받을 수 있다.\\xa0\\n그동안 고액 자산가들만 가능한 것으로 여겨졌던 부동산, 건물 투자를 주식 형태로 소액 투자를 할 수 있도록 함으로써 투자의 문을 넓혔다.\\xa0\\n한우, 즉 소에 투자하는 플랫폼도 나왔다. 스탁키퍼는 모바일 플랫폼 뱅카우를 통해 한우에 투자할 수 있도록 지원한다.\\xa0\\n투자자가 뱅카우를 통해 송아지를 4~5만원 단위의 소액으로 구매하면 농가가 2년 간 투자자의 송아지를 한우로 키우고 이를 경매해 투자자와 농가가 수익을 나눠 갖는 것이다.\\n새로운 투자 플랫폼은 MZ세대를 주 고객으로 하며 급성장하고 있는 것이 특징이다. MZ세대는 가상자산, 주식, 해외주식 등에 대한 투자경험으로 투자에 대한 관심이 높을 뿐 아니라 새로운 형태의 투자에도 거부감이 적은 것으로 알려졌다.\\n■ 토스증권, 내달 해외주식 서비스 연다\\n토스증권이 내달 해외주식 서비스를 출시한다. 이를 앞두고 사전신청 접수를 시작했다.\\xa0\\n토스증권은 미국 주식시장에 상장된 352개의 주요 종목과 156개의 ETF 등 500여 종의 거래를 먼저 선보이고 거래 종목은 점차 확대해나갈 예정이다.\\xa0\\n아울러 인공지능 기반 실시간 해외 뉴스 번역 서비스, 무료 실시간 시세, 자동 환전을 통한 원화 거래를 지원한다는 계획이다.\\xa0\\n서비스 출시를 앞두고 토스증권은 사전신청 접수를 지난 1일부터 시작했다. 토스증권은 사전신청을 완료한 고객 전원에게 3개월 해외주식 매매 수수료 무료 혜택을 제공한다.\\xa0\\n친구를 초대하면 수수료 혜택이 3개월 연장돼 최대 6개월간 수수료 없이 해외주식 투자를 이용할 수 있다. 이번 사전신청은 이달 22일까지 진행된다.\\n■ 당근마켓, 간편결제 \\'당근페이\\' 출시\\n당근마켓이 간편결제 서비스 ‘당근페이\\'를 공개하고 제주도 한정으로 서비스를 시작한다.\\xa0\\n당근페이를 이용하면 거래를 위해 현금을 별도로 준비할 필요 없이 당근 채팅 안에서 실시간 송금 및 확인이 가능하다.\\xa0\\n더 이상 거리에서 계좌번호나 예금주 등의 개인 정보를 주고받거나, 각자 별도의 은행 앱을 실행해 이체 완료 내역을 확인하지 않아도 된다.\\n은행 계좌와 연동하여 당근페이 지갑에 충전할 수 있는 금액은 최대 50만원이다. 안드로이드와 iOS 모든 환경에서 사용할 수 있다.\\n당근페이는 제주도를 시작으로 연내 전국 지역으로 확대한다는 계획이다.\\n당근페이는 당근마켓에서 이웃과의 거래와 함께 당근마켓이 연결하는 다양한 지역 서비스를 이용할 때 간편 결제를 지원할 예정이다.\\xa0\\n■ \"햄버거 드시면 도지코인 드려요\"\\n버거킹이 디지털자산 투자앱 로빈후드와 손잡고 암호화폐 증정 이벤트를 실시한다. 버거킹 햄버거 구매고객에게 도지코인 200만개를 무료로 제공하는 이벤트다.\\n버거킹은 1일(현지시간) 이벤트 공지를 통해 로빈후드와 제휴 기념으로 미국 현지 구매 고객을 대상으로 암호화폐 증정 이벤트를 진행한다고 밝혔다.\\n버거킹 특전 회원이라면 5달러 이상의 버거킹 제품 구입 시 도지코인 200만개, 이더리움 200개, 비트코인 20개 중 하나의 암호화폐를 증정받는다.\\xa0\\n버거킹 측은 \"이벤트로 증정하는 암호화폐는 대부분 도지코인이며, 소수의 운이 좋은 회원은 이더리움이나 비트코인을 받게 될 것\"이라고 설명했다\\n암호화폐를 수령하기 위해선 로빈후드 계정이 필요하다. 선착순 수령 방식이지만, 어떤 암호화폐를 받게 될지는 무작위 추첨을 통해 이뤄진다.\\r\\n\\xa0\\n\\n\\n\\n\\n\\n■ 여당, 가상자산 과세, 1년 유예 검토\\n더불어민주당이 내년 시행 예정인 정부의 가상자산 과세를 1년간 유예하는 방안을 추진 중이다.\\n민주당 박완주 정책위의장은 국회 기자간담회에서 이와 관련해 \"과세를 연기하는 방향으로 당에서 검토하고 있다\"고 밝혔다.\\n박 의장은 \"정부는 현재까지 원안을 사수하겠다는 입장인데, 조만간 당정 또는 상임위 차원에서 주 추진 방향을 밝히고 논의를 시작할 것\"이라며 이같이 말했다.\\n국회 정무위원회 소속 민주당 김병욱 의원도 이날 국회에서 기자회견을 열어 \"올해 안에 법을 만들고 내년에 준비해 2023년 소득분부터 과세하는 게 합리적\"이라고 말했다.\\n이재명 대선 후보 캠프 출신인 김 의원은 가상자산 과세 유예가 이 후보 공약에 반영될 가능성에 대해서도 \"가능성은 열려있다\"며 긍정적으로 답했다.\\n정부는 내년 1월부터 가상자산 양도차익으로 번 소득을 복권 당첨금과 유사한 \\'기타소득\\'으로 분류, 250만원을 공제하고 그 이상 소득에 대해 세율 20%를 메길 방침이다.\\n■ 비탈릭 부테린, \\'암호화폐 도시\\' 설립 지지\\n이더리움 공동 설립자 비탈릭 부테린이 암호화폐 도시 설립을 지지한다고 밝혔다.\\xa0\\n비탈릭은 자신의 블로그에 게시한 칼럼을 통해 블록체인 기반의 암호화 기술이 지방자치단체 운영의 새로운 패더다임을 이끌 수 있다고 주장했다.\\n비탈릭 부테린은 암호화폐를 지자체 운영에 도입했을 때 얻을 수 있는 장점을 강조했다. 블록체인을 통해 더 신뢰할 수 있고 투명한 시스템 확립이 가능하다는 얘기다.\\n암호화폐를 지속 가능한 세금 수입원으로 활용함을 통해 주민과 지자체 운영에 관한 경제 협력이 촉진된다는 설명이다. 모든 이해 관계자를 위한 부의 축적과 불평등 감소, 지자체 단위의 사회복지 기능 강화까지 이어질 수 있다고 설명했다.\\xa0\\n그는 암호화폐 도시가 아직 초기 단계 아이디어에 불구하지만, 최근 거론되고 있는 보편적 기본 소득 체계도 암호화폐를 활용해 손쉽게 구현할 수 있는 등 다양한 가능성과 장점을 내포하고 있다는 주장이다.\\n그는 \"현재 경제 시스템이 가난한 사람보다 부유한 사람 중심으로 돌아간다. 암호화폐 도시가 견고한 민주주의 확산은 물론, 부의 고른 분배와 경제 시스템의 효율성을 높이는 새로운 대안이 될 것\"이라고 주장했다.\\n■ 테슬라, 슈퍼차저 충전소 최초 개방\\n테슬라가 현재 테슬라 전기차 전용으로 사용하는 슈퍼차저 충전소를 타사 전기차에게 개방한다는 소식이다.\\n테슬라는 공식 성명을 통해 네덜란드 슈퍼차저 충전소를 개방하는 시험 프로그램을 이달부터 시작한다고 밝혔다. 슈퍼차저가 개방되면 테슬라 전기차가 아닌 타사 전기차도 슈퍼차저를 이용해 급속 충전을 할 수 있게 된다.\\n개방하는 슈퍼차저 충전소는 사센하임, 아펠도른 이스트, 미어커크 등 총 10개소다. 네덜란드 거주자에 한해 이용할 수 있으며, 테슬라 앱을 통해 충전과 결제 확인이 가능하다.\\xa0\\n충전 요금은 해당 지역 전기료와 환경 요소를 반영해 책정된다. 보통 테슬라 운전자보다 약간 높은 금액이 청구될 예정이다.\\xa0\\n테슬라는 네덜란드 시험 프로그램 성과를 확인한 후, 슈퍼차저 개방 지역을 확대할 계획이다. 충전소 개방은 전기차 판매 외 테슬라의 새로운 수익모델이 될 가능성이 높다는 점에서 시장의 주목을 끌고 있다.\\n■ 전국 단풍 \\'절정\\'\\n전국 명산에 모두 단풍이 들었다.\\n기상청에 따르면 지난달 29일 무등산과 조계산, 가지산에 단풍이 지기 시작하면서 기상청이 날씨누리를 통해 단풍정보를 제공하는 유명산 21곳 모두에 단풍이 물든 것으로 나타났다.\\n단풍은 보통 일 최저기온이 5도 이하로 떨어지면 들기 시작한다.\\r\\n올해 단풍은 평년보다 매우 늦었다.\\n앞서 산림청 국립수목원은 올해 전국 평균 단풍절정일이 10월 26일로 작년보다 사흘 늦을 것으로 예상하면서 현장 관측을 시작한 2009년 이후 우리나라 단풍절정이 연평균 0.4일씩 늦어져 왔다고 밝혔다.\\n단풍을 즐기려면 이번 주가 적격이겠다.\\r\\n기상청 중기예보에 따르면 일요일인 7일과 다음 주 월요일인 8일 전국에 비가 내린 뒤 기온이 큰 폭으로 떨어져 다음 주엔 아침 기온이 0~9도, 낮 기온이 9~16도에 그쳐 춥겠다.\\n\\n\\n\\n\\n\\n디지털 경제 미디어 디지털투데이에서 매일 주요 뉴스를 오디오 서비스합니다. 오디오클립과 팟빵 데일리픽 채널에서 만나보세요. (평일 ~0600시 업로드) '"
      ]
     },
     "execution_count": 34,
     "metadata": {},
     "output_type": "execute_result"
    }
   ],
   "source": [
    "article_merge_df10['contents'][0]"
   ]
  },
  {
   "cell_type": "code",
   "execution_count": null,
   "id": "22cb2c85",
   "metadata": {},
   "outputs": [],
   "source": []
  },
  {
   "cell_type": "code",
   "execution_count": null,
   "id": "094d1606",
   "metadata": {},
   "outputs": [],
   "source": []
  }
 ],
 "metadata": {
  "kernelspec": {
   "display_name": "Python 3",
   "language": "python",
   "name": "python3"
  },
  "language_info": {
   "codemirror_mode": {
    "name": "ipython",
    "version": 3
   },
   "file_extension": ".py",
   "mimetype": "text/x-python",
   "name": "python",
   "nbconvert_exporter": "python",
   "pygments_lexer": "ipython3",
   "version": "3.8.8"
  }
 },
 "nbformat": 4,
 "nbformat_minor": 5
}
