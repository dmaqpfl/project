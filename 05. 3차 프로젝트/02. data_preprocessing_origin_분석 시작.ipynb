{
 "cells": [
  {
   "cell_type": "code",
   "execution_count": 1,
   "id": "8d544d5c",
   "metadata": {},
   "outputs": [],
   "source": [
    "import pandas as pd\n",
    "import numpy as np\n",
    "import matplotlib.pyplot as plt\n",
    "import seaborn as sns"
   ]
  },
  {
   "cell_type": "code",
   "execution_count": 2,
   "id": "4574bedc",
   "metadata": {},
   "outputs": [],
   "source": [
    "import glob"
   ]
  },
  {
   "cell_type": "code",
   "execution_count": 3,
   "id": "a01eb2e1",
   "metadata": {},
   "outputs": [],
   "source": [
    "import matplotlib as mpl\n",
    "import matplotlib.font_manager as fm\n",
    "\n",
    "mpl.rcParams['axes.unicode_minus']= False\n",
    "\n",
    "path = 'C:/Windows/Fonts/malgun.ttf'\n",
    "font_name = fm.FontProperties(fname = path, size = 50).get_name()\n",
    "plt.rc('font', family=font_name)"
   ]
  },
  {
   "cell_type": "code",
   "execution_count": 4,
   "id": "af6f8535",
   "metadata": {},
   "outputs": [],
   "source": [
    "import warnings\n",
    "warnings.filterwarnings('ignore')\n"
   ]
  },
  {
   "cell_type": "code",
   "execution_count": 5,
   "id": "78c976ef",
   "metadata": {},
   "outputs": [],
   "source": [
    "index_list = glob.glob('./crawling_data/x_data/index/*.csv')\n",
    "exchage_list = glob.glob('./crawling_data/x_data/exchange/*.csv')\n",
    "fuel_list = glob.glob('./crawling_data/x_data/fuel/*.csv')"
   ]
  },
  {
   "cell_type": "code",
   "execution_count": 6,
   "id": "864d31b2",
   "metadata": {},
   "outputs": [],
   "source": [
    "index_dutch = pd.read_csv(index_list[0],index_col=0)\n",
    "index_euro = pd.read_csv(index_list[1],index_col=0)\n",
    "index_london = pd.read_csv(index_list[2],index_col=0)\n",
    "index_nasdaq = pd.read_csv(index_list[3],index_col=0)\n",
    "index_paris = pd.read_csv(index_list[4],index_col=0)\n",
    "index_shanghai = pd.read_csv(index_list[5],index_col=0)"
   ]
  },
  {
   "cell_type": "code",
   "execution_count": 7,
   "id": "d5db1e65",
   "metadata": {},
   "outputs": [],
   "source": [
    "exchange_cny = pd.read_csv(exchage_list[0],index_col=0)\n",
    "exchange_eur = pd.read_csv(exchage_list[1],index_col=0)\n",
    "exchange_gbp = pd.read_csv(exchage_list[2],index_col=0)\n",
    "exchange_usd = pd.read_csv(exchage_list[3],index_col=0)"
   ]
  },
  {
   "cell_type": "code",
   "execution_count": 8,
   "id": "baf14a95",
   "metadata": {},
   "outputs": [],
   "source": [
    "fuel_dubai = pd.read_csv(fuel_list[0],index_col=0)\n",
    "fuel_brent = pd.read_csv(fuel_list[1],index_col=0)\n",
    "fuel_texas = pd.read_csv(fuel_list[2],index_col=0)"
   ]
  },
  {
   "cell_type": "code",
   "execution_count": 9,
   "id": "8e56e1f6",
   "metadata": {},
   "outputs": [],
   "source": [
    "index_dutch.drop(['start','high','low'], axis=1, inplace=True)\n",
    "index_euro.drop(['start','high','low'], axis=1, inplace=True)\n",
    "index_london.drop(['start','high','low'], axis=1, inplace=True)\n",
    "index_nasdaq.drop(['start','high','low'], axis=1, inplace=True)\n",
    "index_paris.drop(['start','high','low'], axis=1, inplace=True)\n",
    "index_shanghai.drop(['start','high','low'], axis=1, inplace=True)\n",
    "index_dutch.columns = ['date','dutch_close']\n",
    "index_euro.columns = ['date','euro_close']\n",
    "index_london.columns = ['date','london_close']\n",
    "index_nasdaq.columns = ['date','nasdaq_close']\n",
    "index_paris.columns = ['date','paris_close']\n",
    "index_shanghai.columns = ['date','shanghai_close']"
   ]
  },
  {
   "cell_type": "code",
   "execution_count": 10,
   "id": "effe44da",
   "metadata": {},
   "outputs": [],
   "source": [
    "exchange_cny.columns = ['date','cny_exchange']\n",
    "exchange_eur.columns = ['date','eur_exchange']\n",
    "exchange_gbp.columns = ['date','gbp_exchange']\n",
    "exchange_usd.columns = ['date','usd_exchange']"
   ]
  },
  {
   "cell_type": "code",
   "execution_count": 11,
   "id": "fd5482fd",
   "metadata": {},
   "outputs": [],
   "source": [
    "fuel_dubai.columns = ['date', 'dubai_fuel']\n",
    "fuel_brent.columns = ['date', 'brent_fuel']\n",
    "fuel_texas.columns = ['date', 'texas_fuel']\n",
    "fuel_dubai.date = fuel_dubai.date.apply(lambda x : x.replace('-','.'))\n",
    "fuel_brent.date = fuel_brent.date.apply(lambda x : x.replace('-','.'))\n",
    "fuel_texas.date = fuel_texas.date.apply(lambda x : x.replace('-','.'))"
   ]
  },
  {
   "cell_type": "code",
   "execution_count": 12,
   "id": "12a4e8ae",
   "metadata": {},
   "outputs": [],
   "source": [
    "data_df = pd.merge(left = index_dutch , right = index_euro, how = \"inner\", on = \"date\")\n",
    "data_df = pd.merge(left = data_df , right = index_london, how = \"inner\", on = \"date\")\n",
    "data_df = pd.merge(left = data_df , right = index_nasdaq, how = \"inner\", on = \"date\")\n",
    "data_df = pd.merge(left = data_df , right = index_paris, how = \"inner\", on = \"date\")\n",
    "data_df = pd.merge(left = data_df , right = index_shanghai, how = \"inner\", on = \"date\")\n",
    "\n",
    "data_df = pd.merge(left = data_df , right = exchange_cny, how = \"inner\", on = \"date\")\n",
    "data_df = pd.merge(left = data_df , right = exchange_eur, how = \"inner\", on = \"date\")\n",
    "data_df = pd.merge(left = data_df , right = exchange_gbp, how = \"inner\", on = \"date\")\n",
    "data_df = pd.merge(left = data_df , right = exchange_usd, how = \"inner\", on = \"date\")\n",
    "\n",
    "data_df = pd.merge(left = data_df , right = fuel_dubai, how = \"inner\", on = \"date\")\n",
    "data_df = pd.merge(left = data_df , right = fuel_brent, how = \"inner\", on = \"date\")\n",
    "data_df = pd.merge(left = data_df , right = fuel_texas, how = \"inner\", on = \"date\")\n",
    "data_df.date = data_df.date.apply(lambda x : pd.to_datetime(x, format='%Y.%m.%d'))"
   ]
  },
  {
   "cell_type": "code",
   "execution_count": 13,
   "id": "6d8907b5",
   "metadata": {},
   "outputs": [],
   "source": [
    "carbon_credit = pd.read_excel('./crawling_data/배출권.xls')\n",
    "carbon_credit.dropna(inplace=True)\n",
    "carbon_credit.reset_index(inplace=True)\n",
    "carbon_credit.drop('index', axis=1, inplace=True)\n",
    "carbon_credit.columns = ['date','carbon_credit_price']\n",
    "carbon_credit.drop([0,1], inplace=True)\n",
    "carbon_credit.date = carbon_credit.date.apply(lambda x : pd.to_datetime(x, format='%Y-%m-%d'))"
   ]
  },
  {
   "cell_type": "code",
   "execution_count": 14,
   "id": "00a41152",
   "metadata": {
    "scrolled": false
   },
   "outputs": [
    {
     "data": {
      "text/html": [
       "<div>\n",
       "<style scoped>\n",
       "    .dataframe tbody tr th:only-of-type {\n",
       "        vertical-align: middle;\n",
       "    }\n",
       "\n",
       "    .dataframe tbody tr th {\n",
       "        vertical-align: top;\n",
       "    }\n",
       "\n",
       "    .dataframe thead th {\n",
       "        text-align: right;\n",
       "    }\n",
       "</style>\n",
       "<table border=\"1\" class=\"dataframe\">\n",
       "  <thead>\n",
       "    <tr style=\"text-align: right;\">\n",
       "      <th></th>\n",
       "      <th>date</th>\n",
       "      <th>dutch_close</th>\n",
       "      <th>euro_close</th>\n",
       "      <th>london_close</th>\n",
       "      <th>nasdaq_close</th>\n",
       "      <th>paris_close</th>\n",
       "      <th>shanghai_close</th>\n",
       "      <th>cny_exchange</th>\n",
       "      <th>eur_exchange</th>\n",
       "      <th>gbp_exchange</th>\n",
       "      <th>usd_exchange</th>\n",
       "      <th>dubai_fuel</th>\n",
       "      <th>brent_fuel</th>\n",
       "      <th>texas_fuel</th>\n",
       "      <th>carbon_credit_price</th>\n",
       "    </tr>\n",
       "  </thead>\n",
       "  <tbody>\n",
       "    <tr>\n",
       "      <th>0</th>\n",
       "      <td>2021-11-01</td>\n",
       "      <td>15,806.29</td>\n",
       "      <td>4,280.47</td>\n",
       "      <td>7,288.62</td>\n",
       "      <td>15,595.92</td>\n",
       "      <td>6,893.29</td>\n",
       "      <td>3,544.48</td>\n",
       "      <td>184.34</td>\n",
       "      <td>1,363.64</td>\n",
       "      <td>1,608.89</td>\n",
       "      <td>1,178.50</td>\n",
       "      <td>82.38</td>\n",
       "      <td>84.71</td>\n",
       "      <td>84.05</td>\n",
       "      <td>254.77</td>\n",
       "    </tr>\n",
       "    <tr>\n",
       "      <th>1</th>\n",
       "      <td>2021-10-29</td>\n",
       "      <td>15,688.77</td>\n",
       "      <td>4,250.56</td>\n",
       "      <td>7,237.57</td>\n",
       "      <td>15,498.39</td>\n",
       "      <td>6,830.34</td>\n",
       "      <td>3,547.34</td>\n",
       "      <td>183.35</td>\n",
       "      <td>1,357.50</td>\n",
       "      <td>1,606.33</td>\n",
       "      <td>1,174.00</td>\n",
       "      <td>81.37</td>\n",
       "      <td>83.72</td>\n",
       "      <td>83.57</td>\n",
       "      <td>262.68</td>\n",
       "    </tr>\n",
       "    <tr>\n",
       "      <th>2</th>\n",
       "      <td>2021-10-28</td>\n",
       "      <td>15,696.33</td>\n",
       "      <td>4,233.87</td>\n",
       "      <td>7,249.47</td>\n",
       "      <td>15,448.12</td>\n",
       "      <td>6,804.22</td>\n",
       "      <td>3,518.42</td>\n",
       "      <td>183.04</td>\n",
       "      <td>1,358.48</td>\n",
       "      <td>1,610.84</td>\n",
       "      <td>1,170.50</td>\n",
       "      <td>81.27</td>\n",
       "      <td>83.66</td>\n",
       "      <td>82.81</td>\n",
       "      <td>262.06</td>\n",
       "    </tr>\n",
       "    <tr>\n",
       "      <th>3</th>\n",
       "      <td>2021-10-27</td>\n",
       "      <td>15,705.81</td>\n",
       "      <td>4,220.88</td>\n",
       "      <td>7,253.27</td>\n",
       "      <td>15,235.84</td>\n",
       "      <td>6,753.52</td>\n",
       "      <td>3,562.31</td>\n",
       "      <td>183.56</td>\n",
       "      <td>1,360.73</td>\n",
       "      <td>1,609.51</td>\n",
       "      <td>1,173.50</td>\n",
       "      <td>81.44</td>\n",
       "      <td>83.87</td>\n",
       "      <td>82.66</td>\n",
       "      <td>268.01</td>\n",
       "    </tr>\n",
       "    <tr>\n",
       "      <th>4</th>\n",
       "      <td>2021-10-26</td>\n",
       "      <td>15,757.06</td>\n",
       "      <td>4,223.97</td>\n",
       "      <td>7,277.62</td>\n",
       "      <td>15,235.72</td>\n",
       "      <td>6,766.51</td>\n",
       "      <td>3,597.64</td>\n",
       "      <td>183.02</td>\n",
       "      <td>1,356.40</td>\n",
       "      <td>1,613.44</td>\n",
       "      <td>1,167.00</td>\n",
       "      <td>83.23</td>\n",
       "      <td>85.65</td>\n",
       "      <td>84.65</td>\n",
       "      <td>267.61</td>\n",
       "    </tr>\n",
       "    <tr>\n",
       "      <th>...</th>\n",
       "      <td>...</td>\n",
       "      <td>...</td>\n",
       "      <td>...</td>\n",
       "      <td>...</td>\n",
       "      <td>...</td>\n",
       "      <td>...</td>\n",
       "      <td>...</td>\n",
       "      <td>...</td>\n",
       "      <td>...</td>\n",
       "      <td>...</td>\n",
       "      <td>...</td>\n",
       "      <td>...</td>\n",
       "      <td>...</td>\n",
       "      <td>...</td>\n",
       "      <td>...</td>\n",
       "    </tr>\n",
       "    <tr>\n",
       "      <th>1299</th>\n",
       "      <td>2016-01-06</td>\n",
       "      <td>10,214.02</td>\n",
       "      <td>3,139.32</td>\n",
       "      <td>6,073.38</td>\n",
       "      <td>4,835.77</td>\n",
       "      <td>4,480.47</td>\n",
       "      <td>3,361.84</td>\n",
       "      <td>178.65</td>\n",
       "      <td>1,287.96</td>\n",
       "      <td>1,756.44</td>\n",
       "      <td>1,200.00</td>\n",
       "      <td>28.99</td>\n",
       "      <td>34.23</td>\n",
       "      <td>33.97</td>\n",
       "      <td>34.94</td>\n",
       "    </tr>\n",
       "    <tr>\n",
       "      <th>1300</th>\n",
       "      <td>2016-01-05</td>\n",
       "      <td>10,310.10</td>\n",
       "      <td>3,178.01</td>\n",
       "      <td>6,137.24</td>\n",
       "      <td>4,891.43</td>\n",
       "      <td>4,537.63</td>\n",
       "      <td>3,287.71</td>\n",
       "      <td>179.00</td>\n",
       "      <td>1,283.71</td>\n",
       "      <td>1,746.66</td>\n",
       "      <td>1,189.50</td>\n",
       "      <td>30.84</td>\n",
       "      <td>36.42</td>\n",
       "      <td>35.97</td>\n",
       "      <td>36.06</td>\n",
       "    </tr>\n",
       "    <tr>\n",
       "      <th>1301</th>\n",
       "      <td>2016-01-04</td>\n",
       "      <td>10,283.44</td>\n",
       "      <td>3,164.76</td>\n",
       "      <td>6,093.43</td>\n",
       "      <td>4,903.09</td>\n",
       "      <td>4,522.45</td>\n",
       "      <td>3,296.26</td>\n",
       "      <td>179.60</td>\n",
       "      <td>1,299.65</td>\n",
       "      <td>1,756.77</td>\n",
       "      <td>1,189.50</td>\n",
       "      <td>32.10</td>\n",
       "      <td>37.22</td>\n",
       "      <td>36.76</td>\n",
       "      <td>36.29</td>\n",
       "    </tr>\n",
       "    <tr>\n",
       "      <th>1302</th>\n",
       "      <td>2015-12-30</td>\n",
       "      <td>10,743.01</td>\n",
       "      <td>3,287.98</td>\n",
       "      <td>6,274.05</td>\n",
       "      <td>5,065.85</td>\n",
       "      <td>4,677.14</td>\n",
       "      <td>3,572.88</td>\n",
       "      <td>178.10</td>\n",
       "      <td>1,283.14</td>\n",
       "      <td>1,738.97</td>\n",
       "      <td>1,173.00</td>\n",
       "      <td>34.57</td>\n",
       "      <td>36.46</td>\n",
       "      <td>36.60</td>\n",
       "      <td>37.05</td>\n",
       "    </tr>\n",
       "    <tr>\n",
       "      <th>1303</th>\n",
       "      <td>2015-12-29</td>\n",
       "      <td>10,860.14</td>\n",
       "      <td>3,314.28</td>\n",
       "      <td>6,314.57</td>\n",
       "      <td>5,107.94</td>\n",
       "      <td>4,701.36</td>\n",
       "      <td>3,563.74</td>\n",
       "      <td>177.71</td>\n",
       "      <td>1,283.25</td>\n",
       "      <td>1,741.53</td>\n",
       "      <td>1,168.50</td>\n",
       "      <td>34.66</td>\n",
       "      <td>37.79</td>\n",
       "      <td>37.87</td>\n",
       "      <td>37.32</td>\n",
       "    </tr>\n",
       "  </tbody>\n",
       "</table>\n",
       "<p>1304 rows × 15 columns</p>\n",
       "</div>"
      ],
      "text/plain": [
       "           date dutch_close euro_close london_close nasdaq_close paris_close  \\\n",
       "0    2021-11-01   15,806.29   4,280.47     7,288.62    15,595.92    6,893.29   \n",
       "1    2021-10-29   15,688.77   4,250.56     7,237.57    15,498.39    6,830.34   \n",
       "2    2021-10-28   15,696.33   4,233.87     7,249.47    15,448.12    6,804.22   \n",
       "3    2021-10-27   15,705.81   4,220.88     7,253.27    15,235.84    6,753.52   \n",
       "4    2021-10-26   15,757.06   4,223.97     7,277.62    15,235.72    6,766.51   \n",
       "...         ...         ...        ...          ...          ...         ...   \n",
       "1299 2016-01-06   10,214.02   3,139.32     6,073.38     4,835.77    4,480.47   \n",
       "1300 2016-01-05   10,310.10   3,178.01     6,137.24     4,891.43    4,537.63   \n",
       "1301 2016-01-04   10,283.44   3,164.76     6,093.43     4,903.09    4,522.45   \n",
       "1302 2015-12-30   10,743.01   3,287.98     6,274.05     5,065.85    4,677.14   \n",
       "1303 2015-12-29   10,860.14   3,314.28     6,314.57     5,107.94    4,701.36   \n",
       "\n",
       "     shanghai_close  cny_exchange eur_exchange gbp_exchange usd_exchange  \\\n",
       "0          3,544.48        184.34     1,363.64     1,608.89     1,178.50   \n",
       "1          3,547.34        183.35     1,357.50     1,606.33     1,174.00   \n",
       "2          3,518.42        183.04     1,358.48     1,610.84     1,170.50   \n",
       "3          3,562.31        183.56     1,360.73     1,609.51     1,173.50   \n",
       "4          3,597.64        183.02     1,356.40     1,613.44     1,167.00   \n",
       "...             ...           ...          ...          ...          ...   \n",
       "1299       3,361.84        178.65     1,287.96     1,756.44     1,200.00   \n",
       "1300       3,287.71        179.00     1,283.71     1,746.66     1,189.50   \n",
       "1301       3,296.26        179.60     1,299.65     1,756.77     1,189.50   \n",
       "1302       3,572.88        178.10     1,283.14     1,738.97     1,173.00   \n",
       "1303       3,563.74        177.71     1,283.25     1,741.53     1,168.50   \n",
       "\n",
       "      dubai_fuel  brent_fuel  texas_fuel carbon_credit_price  \n",
       "0          82.38       84.71       84.05              254.77  \n",
       "1          81.37       83.72       83.57              262.68  \n",
       "2          81.27       83.66       82.81              262.06  \n",
       "3          81.44       83.87       82.66              268.01  \n",
       "4          83.23       85.65       84.65              267.61  \n",
       "...          ...         ...         ...                 ...  \n",
       "1299       28.99       34.23       33.97               34.94  \n",
       "1300       30.84       36.42       35.97               36.06  \n",
       "1301       32.10       37.22       36.76               36.29  \n",
       "1302       34.57       36.46       36.60               37.05  \n",
       "1303       34.66       37.79       37.87               37.32  \n",
       "\n",
       "[1304 rows x 15 columns]"
      ]
     },
     "execution_count": 14,
     "metadata": {},
     "output_type": "execute_result"
    }
   ],
   "source": [
    "merge_df = pd.merge(left = data_df , right = carbon_credit, how = \"inner\", on = \"date\")\n",
    "merge_df"
   ]
  },
  {
   "cell_type": "code",
   "execution_count": 18,
   "id": "eb956a92",
   "metadata": {},
   "outputs": [
    {
     "name": "stdout",
     "output_type": "stream",
     "text": [
      "<class 'pandas.core.frame.DataFrame'>\n",
      "Int64Index: 1304 entries, 0 to 1303\n",
      "Data columns (total 15 columns):\n",
      " #   Column               Non-Null Count  Dtype         \n",
      "---  ------               --------------  -----         \n",
      " 0   date                 1304 non-null   datetime64[ns]\n",
      " 1   dutch_close          1304 non-null   object        \n",
      " 2   euro_close           1304 non-null   object        \n",
      " 3   london_close         1304 non-null   object        \n",
      " 4   nasdaq_close         1304 non-null   object        \n",
      " 5   paris_close          1304 non-null   object        \n",
      " 6   shanghai_close       1304 non-null   object        \n",
      " 7   cny_exchange         1304 non-null   float64       \n",
      " 8   eur_exchange         1304 non-null   object        \n",
      " 9   gbp_exchange         1304 non-null   object        \n",
      " 10  usd_exchange         1304 non-null   object        \n",
      " 11  dubai_fuel           1304 non-null   float64       \n",
      " 12  brent_fuel           1304 non-null   float64       \n",
      " 13  texas_fuel           1304 non-null   float64       \n",
      " 14  carbon_credit_price  1304 non-null   object        \n",
      "dtypes: datetime64[ns](1), float64(4), object(10)\n",
      "memory usage: 163.0+ KB\n"
     ]
    }
   ],
   "source": [
    "merge_df.info()"
   ]
  },
  {
   "cell_type": "code",
   "execution_count": 19,
   "id": "07d31b47",
   "metadata": {
    "scrolled": true
   },
   "outputs": [
    {
     "name": "stdout",
     "output_type": "stream",
     "text": [
      "<class 'pandas.core.frame.DataFrame'>\n",
      "Int64Index: 1304 entries, 0 to 1303\n",
      "Data columns (total 15 columns):\n",
      " #   Column               Non-Null Count  Dtype         \n",
      "---  ------               --------------  -----         \n",
      " 0   date                 1304 non-null   datetime64[ns]\n",
      " 1   dutch_close          1304 non-null   float64       \n",
      " 2   euro_close           1304 non-null   float64       \n",
      " 3   london_close         1304 non-null   float64       \n",
      " 4   nasdaq_close         1304 non-null   float64       \n",
      " 5   paris_close          1304 non-null   float64       \n",
      " 6   shanghai_close       1304 non-null   float64       \n",
      " 7   cny_exchange         1304 non-null   float64       \n",
      " 8   eur_exchange         1304 non-null   float64       \n",
      " 9   gbp_exchange         1304 non-null   float64       \n",
      " 10  usd_exchange         1304 non-null   float64       \n",
      " 11  dubai_fuel           1304 non-null   float64       \n",
      " 12  brent_fuel           1304 non-null   float64       \n",
      " 13  texas_fuel           1304 non-null   float64       \n",
      " 14  carbon_credit_price  1304 non-null   float64       \n",
      "dtypes: datetime64[ns](1), float64(14)\n",
      "memory usage: 163.0 KB\n"
     ]
    }
   ],
   "source": [
    "merge_df['dutch_close'] = pd.to_numeric(merge_df['dutch_close'].apply(lambda x : x.replace(',','')))\n",
    "merge_df['euro_close'] = pd.to_numeric(merge_df['euro_close'].apply(lambda x : x.replace(',','')))\n",
    "merge_df['london_close'] = pd.to_numeric(merge_df['london_close'].apply(lambda x : x.replace(',','')))\n",
    "merge_df['nasdaq_close'] = pd.to_numeric(merge_df['nasdaq_close'].apply(lambda x : x.replace(',','')))\n",
    "merge_df['paris_close'] = pd.to_numeric(merge_df['paris_close'].apply(lambda x : x.replace(',','')))\n",
    "merge_df['shanghai_close'] = pd.to_numeric(merge_df['shanghai_close'].apply(lambda x : x.replace(',','')))\n",
    "\n",
    "merge_df['eur_exchange'] = pd.to_numeric(merge_df['eur_exchange'].apply(lambda x : x.replace(',','')))\n",
    "merge_df['gbp_exchange'] = pd.to_numeric(merge_df['gbp_exchange'].apply(lambda x : x.replace(',','')))\n",
    "merge_df['usd_exchange'] = pd.to_numeric(merge_df['usd_exchange'].apply(lambda x : x.replace(',','')))\n",
    "\n",
    "merge_df['carbon_credit_price'] = pd.to_numeric(merge_df['carbon_credit_price'])\n",
    "merge_df.info()"
   ]
  },
  {
   "cell_type": "code",
   "execution_count": 23,
   "id": "b3c48ba2",
   "metadata": {
    "scrolled": false
   },
   "outputs": [
    {
     "data": {
      "text/plain": [
       "<AxesSubplot:>"
      ]
     },
     "execution_count": 23,
     "metadata": {},
     "output_type": "execute_result"
    },
    {
     "data": {
      "image/png": "[encoded data removed]",
      "text/plain": [
       "<Figure size 720x504 with 2 Axes>"
      ]
     },
     "metadata": {
      "needs_background": "light"
     },
     "output_type": "display_data"
    }
   ],
   "source": [
    "plt.figure(figsize=(10,7))\n",
    "sns.heatmap(merge_df.corr())"
   ]
  },
  {
   "cell_type": "code",
   "execution_count": null,
   "id": "6d533912",
   "metadata": {},
   "outputs": [],
   "source": []
  },
  {
   "cell_type": "markdown",
   "id": "5ce72259",
   "metadata": {},
   "source": [
    "### Regressor"
   ]
  },
  {
   "cell_type": "code",
   "execution_count": 24,
   "id": "bfcb7f60",
   "metadata": {},
   "outputs": [],
   "source": [
    "x1 = merge_df.drop(['carbon_credit_price','date'],axis=1)\n",
    "y1 = merge_df['carbon_credit_price']"
   ]
  },
  {
   "cell_type": "code",
   "execution_count": null,
   "id": "0aaf3c94",
   "metadata": {},
   "outputs": [],
   "source": []
  },
  {
   "cell_type": "code",
   "execution_count": 25,
   "id": "60ab0d93",
   "metadata": {},
   "outputs": [],
   "source": [
    "from sklearn.linear_model import LinearRegression, Ridge, Lasso\n",
    "from xgboost import XGBRegressor\n",
    "from lightgbm import LGBMRegressor\n",
    "from sklearn.ensemble import RandomForestRegressor\n",
    "from sklearn.preprocessing import StandardScaler\n",
    "\n",
    "from sklearn.model_selection import train_test_split\n",
    "from sklearn.metrics import mean_squared_error, r2_score"
   ]
  },
  {
   "cell_type": "code",
   "execution_count": 26,
   "id": "ee72cba4",
   "metadata": {},
   "outputs": [],
   "source": [
    "x_train1, x_test1, y_train1, y_test1 = train_test_split(x1, y1, random_state=100)"
   ]
  },
  {
   "cell_type": "code",
   "execution_count": 27,
   "id": "0ff9e5b7",
   "metadata": {},
   "outputs": [],
   "source": [
    "scaler = StandardScaler()\n",
    "scaler.fit(x_train1)\n",
    "\n",
    "x_train_scaled1 = scaler.transform(x_train1)\n",
    "x_test_scaled1 = scaler.transform(x_test1)"
   ]
  },
  {
   "cell_type": "code",
   "execution_count": 28,
   "id": "a100c860",
   "metadata": {},
   "outputs": [
    {
     "name": "stdout",
     "output_type": "stream",
     "text": [
      "LinearRegression\n",
      "rmse : 15.041803946996154\n",
      "r_score : 0.9529656917468655\n",
      "\n",
      "Ridge\n",
      "rmse : 15.017883076219423\n",
      "r_score : 0.9531151694283095\n",
      "\n",
      "Lasso\n",
      "rmse : 16.921056365975026\n",
      "r_score : 0.9404790495228441\n",
      "\n",
      "XGBRegressor\n",
      "rmse : 5.961406963484271\n",
      "r_score : 0.9926122455101068\n",
      "\n",
      "LGBMRegressor\n",
      "rmse : 6.260046378014654\n",
      "r_score : 0.9918535196388419\n",
      "\n",
      "RandomForestRegressor\n",
      "rmse : 5.414790273510533\n",
      "r_score : 0.9939049370737497\n",
      "\n"
     ]
    }
   ],
   "source": [
    "lr = LinearRegression()\n",
    "rid = Ridge()\n",
    "las = Lasso()\n",
    "xgb = XGBRegressor()\n",
    "lgbm = LGBMRegressor()\n",
    "rfr = RandomForestRegressor()\n",
    "\n",
    "lr.fit(x_train_scaled1, y_train1)\n",
    "lr_preds = lr.predict(x_test_scaled1)\n",
    "print('LinearRegression')\n",
    "print('rmse :', np.sqrt(mean_squared_error(y_test1, lr_preds)))\n",
    "print('r_score :', r2_score(y_test1, lr_preds))\n",
    "print()\n",
    "\n",
    "rid.fit(x_train_scaled1, y_train1)\n",
    "rid_preds = rid.predict(x_test_scaled1)\n",
    "print('Ridge')\n",
    "print('rmse :', np.sqrt(mean_squared_error(y_test1, rid_preds)))\n",
    "print('r_score :', r2_score(y_test1, rid_preds))\n",
    "print()\n",
    "\n",
    "las.fit(x_train_scaled1, y_train1)\n",
    "las_preds = las.predict(x_test_scaled1)\n",
    "print('Lasso')\n",
    "print('rmse :', np.sqrt(mean_squared_error(y_test1, las_preds)))\n",
    "print('r_score :', r2_score(y_test1, las_preds))\n",
    "print()\n",
    "\n",
    "xgb.fit(x_train_scaled1, y_train1)\n",
    "xgb_preds = xgb.predict(x_test_scaled1)\n",
    "print('XGBRegressor')\n",
    "print('rmse :', np.sqrt(mean_squared_error(y_test1, xgb_preds)))\n",
    "print('r_score :', r2_score(y_test1, xgb_preds))\n",
    "print()\n",
    "\n",
    "lgbm.fit(x_train_scaled1, y_train1)\n",
    "lgbm_preds = lgbm.predict(x_test_scaled1)\n",
    "print('LGBMRegressor')\n",
    "print('rmse :', np.sqrt(mean_squared_error(y_test1, lgbm_preds)))\n",
    "print('r_score :', r2_score(y_test1, lgbm_preds))\n",
    "print()\n",
    "\n",
    "rfr.fit(x_train_scaled1, y_train1)\n",
    "rfr_preds = rfr.predict(x_test_scaled1)\n",
    "print('RandomForestRegressor')\n",
    "print('rmse :', np.sqrt(mean_squared_error(y_test1, rfr_preds)))\n",
    "print('r_score :', r2_score(y_test1, rfr_preds))\n",
    "print()"
   ]
  },
  {
   "cell_type": "markdown",
   "id": "492235b5",
   "metadata": {},
   "source": [
    "### cross validation"
   ]
  },
  {
   "cell_type": "code",
   "execution_count": 33,
   "id": "b4046fab",
   "metadata": {
    "collapsed": true
   },
   "outputs": [
    {
     "name": "stdout",
     "output_type": "stream",
     "text": [
      "LinearRegression()\n",
      "평균 accuracy score : 0.9598662162265527\n",
      "표준편차 :  0.0075826848642730465\n",
      "\n",
      "Ridge()\n",
      "평균 accuracy score : 0.9598295098686528\n",
      "표준편차 :  0.007418196323060191\n",
      "\n",
      "Lasso()\n",
      "평균 accuracy score : 0.944775713163503\n",
      "표준편차 :  0.009898213894536143\n",
      "\n",
      "XGBRegressor(base_score=0.5, booster='gbtree', colsample_bylevel=1,\n",
      "             colsample_bynode=1, colsample_bytree=1, gamma=0, gpu_id=-1,\n",
      "             importance_type='gain', interaction_constraints='',\n",
      "             learning_rate=0.300000012, max_delta_step=0, max_depth=6,\n",
      "             min_child_weight=1, missing=nan, monotone_constraints='()',\n",
      "             n_estimators=100, n_jobs=12, num_parallel_tree=1, random_state=0,\n",
      "             reg_alpha=0, reg_lambda=1, scale_pos_weight=1, subsample=1,\n",
      "             tree_method='exact', validate_parameters=1, verbosity=None)\n",
      "평균 accuracy score : 0.9927852188804863\n",
      "표준편차 :  0.0014074213433740027\n",
      "\n",
      "LGBMRegressor()\n",
      "평균 accuracy score : 0.9919456733123517\n",
      "표준편차 :  0.0015900368249717048\n",
      "\n",
      "RandomForestRegressor()\n",
      "평균 accuracy score : 0.9926225779935347\n",
      "표준편차 :  0.003311062113205128\n",
      "\n"
     ]
    }
   ],
   "source": [
    "from sklearn.model_selection import cross_val_score\n",
    "\n",
    "models = [lr, rid, las, xgb, lgbm, rfr]\n",
    "\n",
    "for m in models:\n",
    "    scores = cross_val_score(m, x_train_scaled1, y_train1,  cv = 5)\n",
    "    print('{}'.format(m))\n",
    "    print('평균 accuracy score :' , np.mean(scores))\n",
    "    print('표준편차 : ', np.std(scores))\n",
    "    print()"
   ]
  },
  {
   "cell_type": "markdown",
   "id": "4578985f",
   "metadata": {},
   "source": [
    "## gridsearch"
   ]
  },
  {
   "cell_type": "code",
   "execution_count": 63,
   "id": "7daf4640",
   "metadata": {},
   "outputs": [],
   "source": [
    "params = {'alpha' : [0.001, 0.01, 0.1, 1, 10, 100, 1000]}\n",
    "models1 = [rid, las, xgb, lgbm]"
   ]
  },
  {
   "cell_type": "code",
   "execution_count": 64,
   "id": "3ae128c7",
   "metadata": {},
   "outputs": [],
   "source": [
    "from sklearn.model_selection import GridSearchCV\n"
   ]
  },
  {
   "cell_type": "code",
   "execution_count": 66,
   "id": "0020e3ad",
   "metadata": {},
   "outputs": [
    {
     "name": "stdout",
     "output_type": "stream",
     "text": [
      "Ridge()\n",
      "{'alpha': 0.1}\n",
      "0.9598714124024331\n",
      "\n",
      "Lasso()\n",
      "{'alpha': 0.001}\n",
      "0.9598659047797004\n",
      "\n",
      "XGBRegressor(base_score=0.5, booster='gbtree', colsample_bylevel=1,\n",
      "             colsample_bynode=1, colsample_bytree=1, gamma=0, gpu_id=-1,\n",
      "             importance_type='gain', interaction_constraints='',\n",
      "             learning_rate=0.300000012, max_delta_step=0, max_depth=6,\n",
      "             min_child_weight=1, missing=nan, monotone_constraints='()',\n",
      "             n_estimators=100, n_jobs=12, num_parallel_tree=1, random_state=0,\n",
      "             reg_alpha=0, reg_lambda=1, scale_pos_weight=1, subsample=1,\n",
      "             tree_method='exact', validate_parameters=1, verbosity=None)\n",
      "{'alpha': 0.001}\n",
      "0.9927852188804863\n",
      "\n",
      "LGBMRegressor()\n",
      "{'alpha': 0.001}\n",
      "0.9919456733123517\n",
      "\n"
     ]
    }
   ],
   "source": [
    "for m in models1:\n",
    "    grid = GridSearchCV(m, param_grid = params )\n",
    "    grid.fit(x_train_scaled1, y_train1)\n",
    "    print(m.__class__.__name__)\n",
    "    print(grid.best_params_)\n",
    "    print(grid.best_score_)\n",
    "    print()"
   ]
  },
  {
   "cell_type": "code",
   "execution_count": null,
   "id": "1a1cd13a",
   "metadata": {},
   "outputs": [],
   "source": []
  },
  {
   "cell_type": "code",
   "execution_count": null,
   "id": "a8b8040b",
   "metadata": {},
   "outputs": [],
   "source": []
  },
  {
   "cell_type": "code",
   "execution_count": null,
   "id": "ad177046",
   "metadata": {},
   "outputs": [],
   "source": []
  },
  {
   "cell_type": "code",
   "execution_count": null,
   "id": "32905491",
   "metadata": {},
   "outputs": [],
   "source": []
  },
  {
   "cell_type": "code",
   "execution_count": null,
   "id": "293e16b5",
   "metadata": {},
   "outputs": [],
   "source": []
  },
  {
   "cell_type": "code",
   "execution_count": null,
   "id": "e5f3d6a7",
   "metadata": {},
   "outputs": [],
   "source": []
  },
  {
   "cell_type": "markdown",
   "id": "2a37ab05",
   "metadata": {},
   "source": [
    "## classification"
   ]
  },
  {
   "cell_type": "code",
   "execution_count": 125,
   "id": "4a569972",
   "metadata": {},
   "outputs": [
    {
     "data": {
      "text/html": [
       "<div>\n",
       "<style scoped>\n",
       "    .dataframe tbody tr th:only-of-type {\n",
       "        vertical-align: middle;\n",
       "    }\n",
       "\n",
       "    .dataframe tbody tr th {\n",
       "        vertical-align: top;\n",
       "    }\n",
       "\n",
       "    .dataframe thead th {\n",
       "        text-align: right;\n",
       "    }\n",
       "</style>\n",
       "<table border=\"1\" class=\"dataframe\">\n",
       "  <thead>\n",
       "    <tr style=\"text-align: right;\">\n",
       "      <th></th>\n",
       "      <th>date</th>\n",
       "      <th>dutch_close</th>\n",
       "      <th>euro_close</th>\n",
       "      <th>london_close</th>\n",
       "      <th>nasdaq_close</th>\n",
       "      <th>paris_close</th>\n",
       "      <th>shanghai_close</th>\n",
       "      <th>cny_exchange</th>\n",
       "      <th>eur_exchange</th>\n",
       "      <th>gbp_exchange</th>\n",
       "      <th>usd_exchange</th>\n",
       "      <th>dubai_fuel</th>\n",
       "      <th>brent_fuel</th>\n",
       "      <th>texas_fuel</th>\n",
       "      <th>carbon_credit_price</th>\n",
       "    </tr>\n",
       "  </thead>\n",
       "  <tbody>\n",
       "    <tr>\n",
       "      <th>0</th>\n",
       "      <td>2021-11-01</td>\n",
       "      <td>15806.29</td>\n",
       "      <td>4280.47</td>\n",
       "      <td>7288.62</td>\n",
       "      <td>15595.92</td>\n",
       "      <td>6893.29</td>\n",
       "      <td>3544.48</td>\n",
       "      <td>184.34</td>\n",
       "      <td>1363.64</td>\n",
       "      <td>1608.89</td>\n",
       "      <td>1178.5</td>\n",
       "      <td>82.38</td>\n",
       "      <td>84.71</td>\n",
       "      <td>84.05</td>\n",
       "      <td>254.77</td>\n",
       "    </tr>\n",
       "    <tr>\n",
       "      <th>1</th>\n",
       "      <td>2021-10-29</td>\n",
       "      <td>15688.77</td>\n",
       "      <td>4250.56</td>\n",
       "      <td>7237.57</td>\n",
       "      <td>15498.39</td>\n",
       "      <td>6830.34</td>\n",
       "      <td>3547.34</td>\n",
       "      <td>183.35</td>\n",
       "      <td>1357.50</td>\n",
       "      <td>1606.33</td>\n",
       "      <td>1174.0</td>\n",
       "      <td>81.37</td>\n",
       "      <td>83.72</td>\n",
       "      <td>83.57</td>\n",
       "      <td>262.68</td>\n",
       "    </tr>\n",
       "    <tr>\n",
       "      <th>2</th>\n",
       "      <td>2021-10-28</td>\n",
       "      <td>15696.33</td>\n",
       "      <td>4233.87</td>\n",
       "      <td>7249.47</td>\n",
       "      <td>15448.12</td>\n",
       "      <td>6804.22</td>\n",
       "      <td>3518.42</td>\n",
       "      <td>183.04</td>\n",
       "      <td>1358.48</td>\n",
       "      <td>1610.84</td>\n",
       "      <td>1170.5</td>\n",
       "      <td>81.27</td>\n",
       "      <td>83.66</td>\n",
       "      <td>82.81</td>\n",
       "      <td>262.06</td>\n",
       "    </tr>\n",
       "    <tr>\n",
       "      <th>3</th>\n",
       "      <td>2021-10-27</td>\n",
       "      <td>15705.81</td>\n",
       "      <td>4220.88</td>\n",
       "      <td>7253.27</td>\n",
       "      <td>15235.84</td>\n",
       "      <td>6753.52</td>\n",
       "      <td>3562.31</td>\n",
       "      <td>183.56</td>\n",
       "      <td>1360.73</td>\n",
       "      <td>1609.51</td>\n",
       "      <td>1173.5</td>\n",
       "      <td>81.44</td>\n",
       "      <td>83.87</td>\n",
       "      <td>82.66</td>\n",
       "      <td>268.01</td>\n",
       "    </tr>\n",
       "    <tr>\n",
       "      <th>4</th>\n",
       "      <td>2021-10-26</td>\n",
       "      <td>15757.06</td>\n",
       "      <td>4223.97</td>\n",
       "      <td>7277.62</td>\n",
       "      <td>15235.72</td>\n",
       "      <td>6766.51</td>\n",
       "      <td>3597.64</td>\n",
       "      <td>183.02</td>\n",
       "      <td>1356.40</td>\n",
       "      <td>1613.44</td>\n",
       "      <td>1167.0</td>\n",
       "      <td>83.23</td>\n",
       "      <td>85.65</td>\n",
       "      <td>84.65</td>\n",
       "      <td>267.61</td>\n",
       "    </tr>\n",
       "  </tbody>\n",
       "</table>\n",
       "</div>"
      ],
      "text/plain": [
       "        date  dutch_close  euro_close  london_close  nasdaq_close  \\\n",
       "0 2021-11-01     15806.29     4280.47       7288.62      15595.92   \n",
       "1 2021-10-29     15688.77     4250.56       7237.57      15498.39   \n",
       "2 2021-10-28     15696.33     4233.87       7249.47      15448.12   \n",
       "3 2021-10-27     15705.81     4220.88       7253.27      15235.84   \n",
       "4 2021-10-26     15757.06     4223.97       7277.62      15235.72   \n",
       "\n",
       "   paris_close  shanghai_close  cny_exchange  eur_exchange  gbp_exchange  \\\n",
       "0      6893.29         3544.48        184.34       1363.64       1608.89   \n",
       "1      6830.34         3547.34        183.35       1357.50       1606.33   \n",
       "2      6804.22         3518.42        183.04       1358.48       1610.84   \n",
       "3      6753.52         3562.31        183.56       1360.73       1609.51   \n",
       "4      6766.51         3597.64        183.02       1356.40       1613.44   \n",
       "\n",
       "   usd_exchange  dubai_fuel  brent_fuel  texas_fuel  carbon_credit_price  \n",
       "0        1178.5       82.38       84.71       84.05               254.77  \n",
       "1        1174.0       81.37       83.72       83.57               262.68  \n",
       "2        1170.5       81.27       83.66       82.81               262.06  \n",
       "3        1173.5       81.44       83.87       82.66               268.01  \n",
       "4        1167.0       83.23       85.65       84.65               267.61  "
      ]
     },
     "execution_count": 125,
     "metadata": {},
     "output_type": "execute_result"
    }
   ],
   "source": [
    "merge_df2 = merge_df.copy()\n",
    "merge_df2.head(5)"
   ]
  },
  {
   "cell_type": "code",
   "execution_count": 126,
   "id": "8f39e8c7",
   "metadata": {},
   "outputs": [],
   "source": [
    "merge_df2['dutch_close'] = (merge_df2['dutch_close'].shift()-merge_df2['dutch_close'])/merge_df2['dutch_close']\n",
    "merge_df2['euro_close'] = (merge_df2['euro_close'].shift()-merge_df2['euro_close'])/merge_df2['euro_close']\n",
    "merge_df2['london_close'] = (merge_df2['london_close'].shift()-merge_df2['london_close'])/merge_df2['london_close']\n",
    "merge_df2['nasdaq_close'] = (merge_df2['nasdaq_close'].shift()-merge_df2['nasdaq_close'])/merge_df2['nasdaq_close']\n",
    "merge_df2['paris_close'] = (merge_df2['paris_close'].shift()-merge_df2['paris_close'])/merge_df2['paris_close']\n",
    "merge_df2['shanghai_close'] = (merge_df2['shanghai_close'].shift()-merge_df2['shanghai_close'])/merge_df2['shanghai_close']\n",
    "\n",
    "merge_df2['cny_exchange'] = (merge_df2['cny_exchange'].shift()-merge_df2['cny_exchange'])/merge_df2['cny_exchange']\n",
    "merge_df2['eur_exchange'] = (merge_df2['eur_exchange'].shift()-merge_df2['eur_exchange'])/merge_df2['eur_exchange']\n",
    "merge_df2['gbp_exchange'] = (merge_df2['gbp_exchange'].shift()-merge_df2['gbp_exchange'])/merge_df2['gbp_exchange']\n",
    "merge_df2['usd_exchange'] = (merge_df2['usd_exchange'].shift()-merge_df2['usd_exchange'])/merge_df2['usd_exchange']\n",
    "\n",
    "merge_df2['dubai_fuel'] = (merge_df2['dubai_fuel'].shift()-merge_df2['dubai_fuel'])/merge_df2['dubai_fuel']\n",
    "merge_df2['brent_fuel'] = (merge_df2['brent_fuel'].shift()-merge_df2['brent_fuel'])/merge_df2['brent_fuel']\n",
    "merge_df2['texas_fuel'] = (merge_df2['texas_fuel'].shift()-merge_df2['texas_fuel'])/merge_df2['texas_fuel']\n",
    "\n",
    "merge_df2['carbon_credit_price'] = (merge_df2['carbon_credit_price'].shift()-merge_df2['carbon_credit_price'])/merge_df2['carbon_credit_price']\n",
    "merge_df2['carbon_credit_price'] = merge_df2['carbon_credit_price'].apply(lambda x : 1 if x>0 else 0)"
   ]
  },
  {
   "cell_type": "code",
   "execution_count": 127,
   "id": "6fdbd68a",
   "metadata": {},
   "outputs": [],
   "source": [
    "merge_df2 = merge_df2.dropna()"
   ]
  },
  {
   "cell_type": "code",
   "execution_count": 128,
   "id": "bd97dcbc",
   "metadata": {},
   "outputs": [],
   "source": [
    "from sklearn.linear_model import LogisticRegression\n",
    "from sklearn.tree import DecisionTreeClassifier\n",
    "from sklearn.naive_bayes import GaussianNB\n",
    "from sklearn.ensemble import RandomForestClassifier"
   ]
  },
  {
   "cell_type": "code",
   "execution_count": 129,
   "id": "9c29b722",
   "metadata": {},
   "outputs": [],
   "source": [
    "x2 = merge_df2.drop(['carbon_credit_price','date'],axis=1)\n",
    "y2 = merge_df2['carbon_credit_price']"
   ]
  },
  {
   "cell_type": "code",
   "execution_count": 130,
   "id": "38799116",
   "metadata": {},
   "outputs": [],
   "source": [
    "x_train2, x_test2, y_train2, y_test2 = train_test_split(x2,y2,random_state=100)"
   ]
  },
  {
   "cell_type": "code",
   "execution_count": 131,
   "id": "4180d805",
   "metadata": {},
   "outputs": [
    {
     "data": {
      "text/plain": [
       "RandomForestClassifier()"
      ]
     },
     "execution_count": 131,
     "metadata": {},
     "output_type": "execute_result"
    }
   ],
   "source": [
    "log = LogisticRegression()\n",
    "log.fit(x_train2, y_train2)\n",
    "\n",
    "tree = DecisionTreeClassifier()\n",
    "tree.fit(x_train2, y_train2)\n",
    "\n",
    "gnb = GaussianNB()\n",
    "gnb.fit(x_train2, y_train2)\n",
    "\n",
    "rfc = RandomForestClassifier()\n",
    "rfc.fit(x_train2, y_train2)"
   ]
  },
  {
   "cell_type": "code",
   "execution_count": 132,
   "id": "c08beb64",
   "metadata": {},
   "outputs": [
    {
     "name": "stdout",
     "output_type": "stream",
     "text": [
      "LogisticRegression\n",
      "0.5797546012269938\n",
      "\n",
      "DecisionTreeClassifier\n",
      "0.5122699386503068\n",
      "\n",
      "GaussianNB\n",
      "0.5797546012269938\n",
      "\n",
      "RandomForestClassifier\n",
      "0.5122699386503068\n",
      "\n"
     ]
    }
   ],
   "source": [
    "from sklearn.metrics import accuracy_score\n",
    "\n",
    "log_preds = log.predict(x_test2)\n",
    "print('LogisticRegression')\n",
    "print(accuracy_score(y_test2, log_preds))\n",
    "print()\n",
    "\n",
    "tree_preds = tree.predict(x_test2)\n",
    "print('DecisionTreeClassifier')\n",
    "print(accuracy_score(y_test2,tree_preds))\n",
    "print()\n",
    "\n",
    "gnb_preds = log.predict(x_test2)\n",
    "print('GaussianNB')\n",
    "print(accuracy_score(y_test2, gnb_preds))\n",
    "print()\n",
    "\n",
    "rfc_preds = tree.predict(x_test2)\n",
    "print('RandomForestClassifier')\n",
    "print(accuracy_score(y_test2,rfc_preds))\n",
    "print()"
   ]
  },
  {
   "cell_type": "code",
   "execution_count": 133,
   "id": "4d251d1a",
   "metadata": {
    "scrolled": false
   },
   "outputs": [
    {
     "name": "stdout",
     "output_type": "stream",
     "text": [
      "              precision    recall  f1-score   support\n",
      "\n",
      "           0       0.87      0.20      0.33       166\n",
      "           1       0.54      0.97      0.69       160\n",
      "\n",
      "    accuracy                           0.58       326\n",
      "   macro avg       0.71      0.59      0.51       326\n",
      "weighted avg       0.71      0.58      0.51       326\n",
      "\n",
      "              precision    recall  f1-score   support\n",
      "\n",
      "           0       0.52      0.52      0.52       166\n",
      "           1       0.50      0.50      0.50       160\n",
      "\n",
      "    accuracy                           0.51       326\n",
      "   macro avg       0.51      0.51      0.51       326\n",
      "weighted avg       0.51      0.51      0.51       326\n",
      "\n",
      "              precision    recall  f1-score   support\n",
      "\n",
      "           0       0.87      0.20      0.33       166\n",
      "           1       0.54      0.97      0.69       160\n",
      "\n",
      "    accuracy                           0.58       326\n",
      "   macro avg       0.71      0.59      0.51       326\n",
      "weighted avg       0.71      0.58      0.51       326\n",
      "\n",
      "              precision    recall  f1-score   support\n",
      "\n",
      "           0       0.52      0.52      0.52       166\n",
      "           1       0.50      0.50      0.50       160\n",
      "\n",
      "    accuracy                           0.51       326\n",
      "   macro avg       0.51      0.51      0.51       326\n",
      "weighted avg       0.51      0.51      0.51       326\n",
      "\n"
     ]
    }
   ],
   "source": [
    "from sklearn.metrics import classification_report\n",
    "class_report = classification_report(y_test2, log_preds)\n",
    "print(class_report)\n",
    "\n",
    "class_report = classification_report(y_test2, tree_preds)\n",
    "print(class_report)\n",
    "\n",
    "class_report = classification_report(y_test2, gnb_preds)\n",
    "print(class_report)\n",
    "\n",
    "class_report = classification_report(y_test2, rfc_preds)\n",
    "print(class_report)"
   ]
  },
  {
   "cell_type": "code",
   "execution_count": null,
   "id": "a13cdd9b",
   "metadata": {},
   "outputs": [],
   "source": []
  },
  {
   "cell_type": "markdown",
   "id": "6eb19c62",
   "metadata": {},
   "source": [
    "### cross validation"
   ]
  },
  {
   "cell_type": "code",
   "execution_count": 134,
   "id": "4fa73a3f",
   "metadata": {
    "scrolled": true
   },
   "outputs": [
    {
     "name": "stdout",
     "output_type": "stream",
     "text": [
      "LogisticRegression()\n",
      "평균 accuracy score : 0.56294610151753\n",
      "표준편차 :  0.008334890313570155\n",
      "\n",
      "DecisionTreeClassifier()\n",
      "평균 accuracy score : 0.5332757718472003\n",
      "표준편차 :  0.012637426558294168\n",
      "\n",
      "GaussianNB()\n",
      "평균 accuracy score : 0.5598273155416013\n",
      "표준편차 :  0.03876097975622213\n",
      "\n",
      "RandomForestClassifier()\n",
      "평균 accuracy score : 0.5690633176347462\n",
      "표준편차 :  0.02943175796297736\n",
      "\n"
     ]
    }
   ],
   "source": [
    "from sklearn.model_selection import cross_val_score\n",
    "\n",
    "models = [log, tree, gnb, rfc]\n",
    "\n",
    "for m in models:\n",
    "    scores = cross_val_score(m, x_train2, y_train2,  cv = 5)\n",
    "    print('{}'.format(m))\n",
    "    print('평균 accuracy score :' , np.mean(scores))\n",
    "    print('표준편차 : ', np.std(scores))\n",
    "    print()"
   ]
  },
  {
   "cell_type": "code",
   "execution_count": null,
   "id": "13d03268",
   "metadata": {},
   "outputs": [],
   "source": []
  },
  {
   "cell_type": "code",
   "execution_count": null,
   "id": "133124ca",
   "metadata": {},
   "outputs": [],
   "source": []
  },
  {
   "cell_type": "code",
   "execution_count": null,
   "id": "29d65703",
   "metadata": {},
   "outputs": [],
   "source": []
  },
  {
   "cell_type": "code",
   "execution_count": null,
   "id": "dd9559d6",
   "metadata": {},
   "outputs": [],
   "source": []
  },
  {
   "cell_type": "code",
   "execution_count": null,
   "id": "8f5a1e82",
   "metadata": {},
   "outputs": [],
   "source": []
  },
  {
   "cell_type": "code",
   "execution_count": null,
   "id": "0a24532e",
   "metadata": {},
   "outputs": [],
   "source": []
  },
  {
   "cell_type": "code",
   "execution_count": 159,
   "id": "45820b8b",
   "metadata": {},
   "outputs": [],
   "source": [
    "# roc 곡선"
   ]
  },
  {
   "cell_type": "code",
   "execution_count": 153,
   "id": "770585b9",
   "metadata": {},
   "outputs": [],
   "source": [
    "from sklearn.metrics import precision_recall_curve\n",
    "precision, recall, thresholds = precision_recall_curve(y_test2, log.predict_proba(x_test2)[:,1])"
   ]
  },
  {
   "cell_type": "code",
   "execution_count": 158,
   "id": "4d1a9b0b",
   "metadata": {},
   "outputs": [
    {
     "name": "stdout",
     "output_type": "stream",
     "text": [
      "[0.50632911 0.5047619  0.50636943 0.50798722 0.50961538 0.51125402\n",
      " 0.51290323 0.51456311 0.51623377 0.51791531]\n",
      "[1.      0.99375 0.99375 0.99375 0.99375 0.99375 0.99375 0.99375 0.99375\n",
      " 0.99375]\n",
      "[0.46626526 0.46996327 0.47208511 0.47862646 0.47938464 0.4817773\n",
      " 0.48180697 0.48251546 0.4848127  0.4853283 ]\n"
     ]
    }
   ],
   "source": [
    "print(precision[:10])\n",
    "print(recall[:10])\n",
    "print(thresholds[:10])"
   ]
  },
  {
   "cell_type": "code",
   "execution_count": 161,
   "id": "0ee6958f",
   "metadata": {},
   "outputs": [
    {
     "data": {
      "text/plain": [
       "Text(0, 0.5, '재현율')"
      ]
     },
     "execution_count": 161,
     "metadata": {},
     "output_type": "execute_result"
    },
    {
     "data": {
      "image/png": "[encoded data removed]",
      "text/plain": [
       "<Figure size 432x288 with 1 Axes>"
      ]
     },
     "metadata": {
      "needs_background": "light"
     },
     "output_type": "display_data"
    }
   ],
   "source": [
    "plt.plot(precision, recall)\n",
    "plt.xlabel('정밀도')\n",
    "plt.ylabel('재현율')"
   ]
  },
  {
   "cell_type": "code",
   "execution_count": 164,
   "id": "b0ddf0a9",
   "metadata": {},
   "outputs": [
    {
     "name": "stdout",
     "output_type": "stream",
     "text": [
      "logistic\n",
      "평균 정밀도 점수 :  0.6343565731659404\n"
     ]
    }
   ],
   "source": [
    "from sklearn.metrics import average_precision_score\n",
    "print('logistic')\n",
    "print('평균 정밀도 점수 : ' , average_precision_score(y_test2, log.predict_proba(x_test2)[:,1]))"
   ]
  },
  {
   "cell_type": "code",
   "execution_count": null,
   "id": "74b85095",
   "metadata": {},
   "outputs": [],
   "source": []
  },
  {
   "cell_type": "code",
   "execution_count": null,
   "id": "e0c952e8",
   "metadata": {},
   "outputs": [],
   "source": []
  },
  {
   "cell_type": "code",
   "execution_count": null,
   "id": "f7db65bb",
   "metadata": {},
   "outputs": [],
   "source": []
  },
  {
   "cell_type": "code",
   "execution_count": null,
   "id": "a82b8e09",
   "metadata": {},
   "outputs": [],
   "source": []
  },
  {
   "cell_type": "code",
   "execution_count": null,
   "id": "edf5165c",
   "metadata": {},
   "outputs": [],
   "source": []
  },
  {
   "cell_type": "code",
   "execution_count": null,
   "id": "bfc75b5c",
   "metadata": {},
   "outputs": [],
   "source": []
  },
  {
   "cell_type": "code",
   "execution_count": null,
   "id": "57cad334",
   "metadata": {},
   "outputs": [],
   "source": []
  },
  {
   "cell_type": "code",
   "execution_count": null,
   "id": "38a2a2ae",
   "metadata": {},
   "outputs": [],
   "source": []
  },
  {
   "cell_type": "code",
   "execution_count": null,
   "id": "1bbaeeb7",
   "metadata": {},
   "outputs": [],
   "source": []
  },
  {
   "cell_type": "code",
   "execution_count": null,
   "id": "8c3b617b",
   "metadata": {},
   "outputs": [],
   "source": []
  },
  {
   "cell_type": "code",
   "execution_count": null,
   "id": "68ade63c",
   "metadata": {},
   "outputs": [],
   "source": []
  },
  {
   "cell_type": "code",
   "execution_count": null,
   "id": "a2e63b46",
   "metadata": {},
   "outputs": [],
   "source": []
  },
  {
   "cell_type": "code",
   "execution_count": null,
   "id": "c7804092",
   "metadata": {},
   "outputs": [],
   "source": []
  },
  {
   "cell_type": "code",
   "execution_count": null,
   "id": "efd7d0bb",
   "metadata": {},
   "outputs": [],
   "source": []
  }
 ],
 "metadata": {
  "kernelspec": {
   "display_name": "Python 3",
   "language": "python",
   "name": "python3"
  },
  "language_info": {
   "codemirror_mode": {
    "name": "ipython",
    "version": 3
   },
   "file_extension": ".py",
   "mimetype": "text/x-python",
   "name": "python",
   "nbconvert_exporter": "python",
   "pygments_lexer": "ipython3",
   "version": "3.8.8"
  }
 },
 "nbformat": 4,
 "nbformat_minor": 5
}
