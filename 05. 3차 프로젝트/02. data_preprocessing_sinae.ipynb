{
 "cells": [
  {
   "cell_type": "code",
   "execution_count": 2,
   "id": "8d544d5c",
   "metadata": {},
   "outputs": [],
   "source": [
    "import pandas as pd\n",
    "import numpy as np\n",
    "import matplotlib.pyplot as plt\n",
    "import seaborn as sns"
   ]
  },
  {
   "cell_type": "code",
   "execution_count": 3,
   "id": "4574bedc",
   "metadata": {},
   "outputs": [],
   "source": [
    "import glob"
   ]
  },
  {
   "cell_type": "code",
   "execution_count": 4,
   "id": "78c976ef",
   "metadata": {},
   "outputs": [],
   "source": [
    "index_list = glob.glob('./crawling_data/x_data/index/*.csv')\n",
    "exchage_list = glob.glob('./crawling_data/x_data/exchange/*.csv')\n",
    "fuel_list = glob.glob('./crawling_data/x_data/fuel/*.csv')"
   ]
  },
  {
   "cell_type": "code",
   "execution_count": 5,
   "id": "864d31b2",
   "metadata": {},
   "outputs": [],
   "source": [
    "index_dutch = pd.read_csv(index_list[0],index_col=0)\n",
    "index_euro = pd.read_csv(index_list[1],index_col=0)\n",
    "index_london = pd.read_csv(index_list[2],index_col=0)\n",
    "index_nasdaq = pd.read_csv(index_list[3],index_col=0)\n",
    "index_paris = pd.read_csv(index_list[4],index_col=0)\n",
    "index_shanghai = pd.read_csv(index_list[5],index_col=0)"
   ]
  },
  {
   "cell_type": "code",
   "execution_count": 6,
   "id": "d5db1e65",
   "metadata": {},
   "outputs": [],
   "source": [
    "exchange_cny = pd.read_csv(exchage_list[0],index_col=0)\n",
    "exchange_eur = pd.read_csv(exchage_list[1],index_col=0)\n",
    "exchange_gbp = pd.read_csv(exchage_list[2],index_col=0)\n",
    "exchange_usd = pd.read_csv(exchage_list[3],index_col=0)"
   ]
  },
  {
   "cell_type": "code",
   "execution_count": 7,
   "id": "baf14a95",
   "metadata": {},
   "outputs": [],
   "source": [
    "fuel_dubai = pd.read_csv(fuel_list[0],index_col=0)\n",
    "fuel_brent = pd.read_csv(fuel_list[1],index_col=0)\n",
    "fuel_texas = pd.read_csv(fuel_list[2],index_col=0)"
   ]
  },
  {
   "cell_type": "code",
   "execution_count": 8,
   "id": "8e56e1f6",
   "metadata": {},
   "outputs": [],
   "source": [
    "index_dutch.drop(['start','high','low'], axis=1, inplace=True)\n",
    "index_euro.drop(['start','high','low'], axis=1, inplace=True)\n",
    "index_london.drop(['start','high','low'], axis=1, inplace=True)\n",
    "index_nasdaq.drop(['start','high','low'], axis=1, inplace=True)\n",
    "index_paris.drop(['start','high','low'], axis=1, inplace=True)\n",
    "index_shanghai.drop(['start','high','low'], axis=1, inplace=True)\n",
    "index_dutch.columns = ['date','dutch_close']\n",
    "index_euro.columns = ['date','euro_close']\n",
    "index_london.columns = ['date','london_close']\n",
    "index_nasdaq.columns = ['date','nasdaq_close']\n",
    "index_paris.columns = ['date','paris_close']\n",
    "index_shanghai.columns = ['date','shanghai_close']"
   ]
  },
  {
   "cell_type": "code",
   "execution_count": 9,
   "id": "effe44da",
   "metadata": {},
   "outputs": [],
   "source": [
    "exchange_cny.columns = ['date','cny_exchange']\n",
    "exchange_eur.columns = ['date','eur_exchange']\n",
    "exchange_gbp.columns = ['date','gbp_exchange']\n",
    "exchange_usd.columns = ['date','usd_exchange']"
   ]
  },
  {
   "cell_type": "code",
   "execution_count": 10,
   "id": "fd5482fd",
   "metadata": {},
   "outputs": [],
   "source": [
    "fuel_dubai.columns = ['date', 'dubai_fuel']\n",
    "fuel_brent.columns = ['date', 'brent_fuel']\n",
    "fuel_texas.columns = ['date', 'texas_fuel']\n",
    "fuel_dubai.date = fuel_dubai.date.apply(lambda x : x.replace('-','.'))\n",
    "fuel_brent.date = fuel_brent.date.apply(lambda x : x.replace('-','.'))\n",
    "fuel_texas.date = fuel_texas.date.apply(lambda x : x.replace('-','.'))"
   ]
  },
  {
   "cell_type": "code",
   "execution_count": 11,
   "id": "12a4e8ae",
   "metadata": {},
   "outputs": [],
   "source": [
    "data_df = pd.merge(left = index_dutch , right = index_euro, how = \"inner\", on = \"date\")\n",
    "data_df = pd.merge(left = data_df , right = index_london, how = \"inner\", on = \"date\")\n",
    "data_df = pd.merge(left = data_df , right = index_nasdaq, how = \"inner\", on = \"date\")\n",
    "data_df = pd.merge(left = data_df , right = index_paris, how = \"inner\", on = \"date\")\n",
    "data_df = pd.merge(left = data_df , right = index_shanghai, how = \"inner\", on = \"date\")\n",
    "\n",
    "data_df = pd.merge(left = data_df , right = exchange_cny, how = \"inner\", on = \"date\")\n",
    "data_df = pd.merge(left = data_df , right = exchange_eur, how = \"inner\", on = \"date\")\n",
    "data_df = pd.merge(left = data_df , right = exchange_gbp, how = \"inner\", on = \"date\")\n",
    "data_df = pd.merge(left = data_df , right = exchange_usd, how = \"inner\", on = \"date\")\n",
    "\n",
    "data_df = pd.merge(left = data_df , right = fuel_dubai, how = \"inner\", on = \"date\")\n",
    "data_df = pd.merge(left = data_df , right = fuel_brent, how = \"inner\", on = \"date\")\n",
    "data_df = pd.merge(left = data_df , right = fuel_texas, how = \"inner\", on = \"date\")\n",
    "data_df.date = data_df.date.apply(lambda x : pd.to_datetime(x, format='%Y.%m.%d'))"
   ]
  },
  {
   "cell_type": "code",
   "execution_count": 12,
   "id": "6d8907b5",
   "metadata": {},
   "outputs": [],
   "source": [
    "carbon_credit = pd.read_excel('./crawling_data/배출권.xls')\n",
    "carbon_credit.dropna(inplace=True)\n",
    "carbon_credit.reset_index(inplace=True)\n",
    "carbon_credit.drop('index', axis=1, inplace=True)\n",
    "carbon_credit.columns = ['date','carbon_credit_price']\n",
    "carbon_credit.drop([0,1], inplace=True)\n",
    "carbon_credit.date = carbon_credit.date.apply(lambda x : pd.to_datetime(x, format='%Y-%m-%d'))"
   ]
  },
  {
   "cell_type": "code",
   "execution_count": 13,
   "id": "00a41152",
   "metadata": {},
   "outputs": [
    {
     "data": {
      "text/html": [
       "<div>\n",
       "<style scoped>\n",
       "    .dataframe tbody tr th:only-of-type {\n",
       "        vertical-align: middle;\n",
       "    }\n",
       "\n",
       "    .dataframe tbody tr th {\n",
       "        vertical-align: top;\n",
       "    }\n",
       "\n",
       "    .dataframe thead th {\n",
       "        text-align: right;\n",
       "    }\n",
       "</style>\n",
       "<table border=\"1\" class=\"dataframe\">\n",
       "  <thead>\n",
       "    <tr style=\"text-align: right;\">\n",
       "      <th></th>\n",
       "      <th>dutch_close</th>\n",
       "      <th>euro_close</th>\n",
       "      <th>london_close</th>\n",
       "      <th>nasdaq_close</th>\n",
       "      <th>paris_close</th>\n",
       "      <th>shanghai_close</th>\n",
       "      <th>cny_exchange</th>\n",
       "      <th>eur_exchange</th>\n",
       "      <th>gbp_exchange</th>\n",
       "      <th>usd_exchange</th>\n",
       "      <th>dubai_fuel</th>\n",
       "      <th>brent_fuel</th>\n",
       "      <th>texas_fuel</th>\n",
       "      <th>carbon_credit_price</th>\n",
       "    </tr>\n",
       "    <tr>\n",
       "      <th>date</th>\n",
       "      <th></th>\n",
       "      <th></th>\n",
       "      <th></th>\n",
       "      <th></th>\n",
       "      <th></th>\n",
       "      <th></th>\n",
       "      <th></th>\n",
       "      <th></th>\n",
       "      <th></th>\n",
       "      <th></th>\n",
       "      <th></th>\n",
       "      <th></th>\n",
       "      <th></th>\n",
       "      <th></th>\n",
       "    </tr>\n",
       "  </thead>\n",
       "  <tbody>\n",
       "    <tr>\n",
       "      <th>2015-12-29</th>\n",
       "      <td>10,860.14</td>\n",
       "      <td>5,107.94</td>\n",
       "      <td>3,563.74</td>\n",
       "      <td>6,314.57</td>\n",
       "      <td>4,701.36</td>\n",
       "      <td>3,314.28</td>\n",
       "      <td>1,283.25</td>\n",
       "      <td>1,741.53</td>\n",
       "      <td>1,168.50</td>\n",
       "      <td>177.71</td>\n",
       "      <td>37.87</td>\n",
       "      <td>37.79</td>\n",
       "      <td>34.66</td>\n",
       "      <td>37.32</td>\n",
       "    </tr>\n",
       "    <tr>\n",
       "      <th>2015-12-30</th>\n",
       "      <td>10,743.01</td>\n",
       "      <td>5,065.85</td>\n",
       "      <td>3,572.88</td>\n",
       "      <td>6,274.05</td>\n",
       "      <td>4,677.14</td>\n",
       "      <td>3,287.98</td>\n",
       "      <td>1,283.14</td>\n",
       "      <td>1,738.97</td>\n",
       "      <td>1,173.00</td>\n",
       "      <td>178.10</td>\n",
       "      <td>36.60</td>\n",
       "      <td>36.46</td>\n",
       "      <td>34.57</td>\n",
       "      <td>37.05</td>\n",
       "    </tr>\n",
       "    <tr>\n",
       "      <th>2016-01-04</th>\n",
       "      <td>10,283.44</td>\n",
       "      <td>4,903.09</td>\n",
       "      <td>3,296.26</td>\n",
       "      <td>6,093.43</td>\n",
       "      <td>4,522.45</td>\n",
       "      <td>3,164.76</td>\n",
       "      <td>1,299.65</td>\n",
       "      <td>1,756.77</td>\n",
       "      <td>1,189.50</td>\n",
       "      <td>179.60</td>\n",
       "      <td>36.76</td>\n",
       "      <td>37.22</td>\n",
       "      <td>32.10</td>\n",
       "      <td>36.29</td>\n",
       "    </tr>\n",
       "    <tr>\n",
       "      <th>2016-01-05</th>\n",
       "      <td>10,310.10</td>\n",
       "      <td>4,891.43</td>\n",
       "      <td>3,287.71</td>\n",
       "      <td>6,137.24</td>\n",
       "      <td>4,537.63</td>\n",
       "      <td>3,178.01</td>\n",
       "      <td>1,283.71</td>\n",
       "      <td>1,746.66</td>\n",
       "      <td>1,189.50</td>\n",
       "      <td>179.00</td>\n",
       "      <td>35.97</td>\n",
       "      <td>36.42</td>\n",
       "      <td>30.84</td>\n",
       "      <td>36.06</td>\n",
       "    </tr>\n",
       "    <tr>\n",
       "      <th>2016-01-06</th>\n",
       "      <td>10,214.02</td>\n",
       "      <td>4,835.77</td>\n",
       "      <td>3,361.84</td>\n",
       "      <td>6,073.38</td>\n",
       "      <td>4,480.47</td>\n",
       "      <td>3,139.32</td>\n",
       "      <td>1,287.96</td>\n",
       "      <td>1,756.44</td>\n",
       "      <td>1,200.00</td>\n",
       "      <td>178.65</td>\n",
       "      <td>33.97</td>\n",
       "      <td>34.23</td>\n",
       "      <td>28.99</td>\n",
       "      <td>34.94</td>\n",
       "    </tr>\n",
       "    <tr>\n",
       "      <th>...</th>\n",
       "      <td>...</td>\n",
       "      <td>...</td>\n",
       "      <td>...</td>\n",
       "      <td>...</td>\n",
       "      <td>...</td>\n",
       "      <td>...</td>\n",
       "      <td>...</td>\n",
       "      <td>...</td>\n",
       "      <td>...</td>\n",
       "      <td>...</td>\n",
       "      <td>...</td>\n",
       "      <td>...</td>\n",
       "      <td>...</td>\n",
       "      <td>...</td>\n",
       "    </tr>\n",
       "    <tr>\n",
       "      <th>2021-10-26</th>\n",
       "      <td>15,757.06</td>\n",
       "      <td>15,235.72</td>\n",
       "      <td>3,597.64</td>\n",
       "      <td>7,277.62</td>\n",
       "      <td>6,766.51</td>\n",
       "      <td>4,223.97</td>\n",
       "      <td>1,356.40</td>\n",
       "      <td>1,613.44</td>\n",
       "      <td>1,167.00</td>\n",
       "      <td>183.02</td>\n",
       "      <td>84.65</td>\n",
       "      <td>85.65</td>\n",
       "      <td>83.23</td>\n",
       "      <td>267.61</td>\n",
       "    </tr>\n",
       "    <tr>\n",
       "      <th>2021-10-27</th>\n",
       "      <td>15,705.81</td>\n",
       "      <td>15,235.84</td>\n",
       "      <td>3,562.31</td>\n",
       "      <td>7,253.27</td>\n",
       "      <td>6,753.52</td>\n",
       "      <td>4,220.88</td>\n",
       "      <td>1,360.73</td>\n",
       "      <td>1,609.51</td>\n",
       "      <td>1,173.50</td>\n",
       "      <td>183.56</td>\n",
       "      <td>82.66</td>\n",
       "      <td>83.87</td>\n",
       "      <td>81.44</td>\n",
       "      <td>268.01</td>\n",
       "    </tr>\n",
       "    <tr>\n",
       "      <th>2021-10-28</th>\n",
       "      <td>15,696.33</td>\n",
       "      <td>15,448.12</td>\n",
       "      <td>3,518.42</td>\n",
       "      <td>7,249.47</td>\n",
       "      <td>6,804.22</td>\n",
       "      <td>4,233.87</td>\n",
       "      <td>1,358.48</td>\n",
       "      <td>1,610.84</td>\n",
       "      <td>1,170.50</td>\n",
       "      <td>183.04</td>\n",
       "      <td>82.81</td>\n",
       "      <td>83.66</td>\n",
       "      <td>81.27</td>\n",
       "      <td>262.06</td>\n",
       "    </tr>\n",
       "    <tr>\n",
       "      <th>2021-10-29</th>\n",
       "      <td>15,688.77</td>\n",
       "      <td>15,498.39</td>\n",
       "      <td>3,547.34</td>\n",
       "      <td>7,237.57</td>\n",
       "      <td>6,830.34</td>\n",
       "      <td>4,250.56</td>\n",
       "      <td>1,357.50</td>\n",
       "      <td>1,606.33</td>\n",
       "      <td>1,174.00</td>\n",
       "      <td>183.35</td>\n",
       "      <td>83.57</td>\n",
       "      <td>83.72</td>\n",
       "      <td>81.37</td>\n",
       "      <td>262.68</td>\n",
       "    </tr>\n",
       "    <tr>\n",
       "      <th>2021-11-01</th>\n",
       "      <td>15,806.29</td>\n",
       "      <td>15,595.92</td>\n",
       "      <td>3,544.48</td>\n",
       "      <td>7,288.62</td>\n",
       "      <td>6,893.29</td>\n",
       "      <td>4,280.47</td>\n",
       "      <td>1,363.64</td>\n",
       "      <td>1,608.89</td>\n",
       "      <td>1,178.50</td>\n",
       "      <td>184.34</td>\n",
       "      <td>84.05</td>\n",
       "      <td>84.71</td>\n",
       "      <td>82.38</td>\n",
       "      <td>254.77</td>\n",
       "    </tr>\n",
       "  </tbody>\n",
       "</table>\n",
       "<p>1304 rows × 14 columns</p>\n",
       "</div>"
      ],
      "text/plain": [
       "           dutch_close euro_close london_close nasdaq_close paris_close  \\\n",
       "date                                                                      \n",
       "2015-12-29   10,860.14   5,107.94     3,563.74     6,314.57    4,701.36   \n",
       "2015-12-30   10,743.01   5,065.85     3,572.88     6,274.05    4,677.14   \n",
       "2016-01-04   10,283.44   4,903.09     3,296.26     6,093.43    4,522.45   \n",
       "2016-01-05   10,310.10   4,891.43     3,287.71     6,137.24    4,537.63   \n",
       "2016-01-06   10,214.02   4,835.77     3,361.84     6,073.38    4,480.47   \n",
       "...                ...        ...          ...          ...         ...   \n",
       "2021-10-26   15,757.06  15,235.72     3,597.64     7,277.62    6,766.51   \n",
       "2021-10-27   15,705.81  15,235.84     3,562.31     7,253.27    6,753.52   \n",
       "2021-10-28   15,696.33  15,448.12     3,518.42     7,249.47    6,804.22   \n",
       "2021-10-29   15,688.77  15,498.39     3,547.34     7,237.57    6,830.34   \n",
       "2021-11-01   15,806.29  15,595.92     3,544.48     7,288.62    6,893.29   \n",
       "\n",
       "           shanghai_close cny_exchange eur_exchange gbp_exchange  \\\n",
       "date                                                               \n",
       "2015-12-29       3,314.28     1,283.25     1,741.53     1,168.50   \n",
       "2015-12-30       3,287.98     1,283.14     1,738.97     1,173.00   \n",
       "2016-01-04       3,164.76     1,299.65     1,756.77     1,189.50   \n",
       "2016-01-05       3,178.01     1,283.71     1,746.66     1,189.50   \n",
       "2016-01-06       3,139.32     1,287.96     1,756.44     1,200.00   \n",
       "...                   ...          ...          ...          ...   \n",
       "2021-10-26       4,223.97     1,356.40     1,613.44     1,167.00   \n",
       "2021-10-27       4,220.88     1,360.73     1,609.51     1,173.50   \n",
       "2021-10-28       4,233.87     1,358.48     1,610.84     1,170.50   \n",
       "2021-10-29       4,250.56     1,357.50     1,606.33     1,174.00   \n",
       "2021-11-01       4,280.47     1,363.64     1,608.89     1,178.50   \n",
       "\n",
       "            usd_exchange  dubai_fuel  brent_fuel  texas_fuel  \\\n",
       "date                                                           \n",
       "2015-12-29        177.71       37.87       37.79       34.66   \n",
       "2015-12-30        178.10       36.60       36.46       34.57   \n",
       "2016-01-04        179.60       36.76       37.22       32.10   \n",
       "2016-01-05        179.00       35.97       36.42       30.84   \n",
       "2016-01-06        178.65       33.97       34.23       28.99   \n",
       "...                  ...         ...         ...         ...   \n",
       "2021-10-26        183.02       84.65       85.65       83.23   \n",
       "2021-10-27        183.56       82.66       83.87       81.44   \n",
       "2021-10-28        183.04       82.81       83.66       81.27   \n",
       "2021-10-29        183.35       83.57       83.72       81.37   \n",
       "2021-11-01        184.34       84.05       84.71       82.38   \n",
       "\n",
       "           carbon_credit_price  \n",
       "date                            \n",
       "2015-12-29               37.32  \n",
       "2015-12-30               37.05  \n",
       "2016-01-04               36.29  \n",
       "2016-01-05               36.06  \n",
       "2016-01-06               34.94  \n",
       "...                        ...  \n",
       "2021-10-26              267.61  \n",
       "2021-10-27              268.01  \n",
       "2021-10-28              262.06  \n",
       "2021-10-29              262.68  \n",
       "2021-11-01              254.77  \n",
       "\n",
       "[1304 rows x 14 columns]"
      ]
     },
     "execution_count": 13,
     "metadata": {},
     "output_type": "execute_result"
    }
   ],
   "source": [
    "merge_df = pd.merge(left = data_df , right = carbon_credit, how = \"inner\", on = \"date\")\n",
    "merge_df.sort_index(ascending=False, inplace=True)\n",
    "merge_df = merge_df.reset_index().drop('index', axis=1)\n",
    "merge_df.sort_index(ascending=True, inplace=True)\n",
    "merge_df.set_index(merge_df['date'], inplace=True)\n",
    "merge_df.drop('date', axis=1, inplace=True)\n",
    "merge_df"
   ]
  },
  {
   "cell_type": "code",
   "execution_count": 17,
   "id": "666bb9c9",
   "metadata": {},
   "outputs": [
    {
     "name": "stdout",
     "output_type": "stream",
     "text": [
      "<class 'pandas.core.frame.DataFrame'>\n",
      "DatetimeIndex: 1304 entries, 2015-12-29 to 2021-11-01\n",
      "Data columns (total 14 columns):\n",
      " #   Column               Non-Null Count  Dtype  \n",
      "---  ------               --------------  -----  \n",
      " 0   dutch_close          1304 non-null   float64\n",
      " 1   euro_close           1304 non-null   float64\n",
      " 2   london_close         1304 non-null   float64\n",
      " 3   nasdaq_close         1304 non-null   float64\n",
      " 4   paris_close          1304 non-null   float64\n",
      " 5   shanghai_close       1304 non-null   float64\n",
      " 6   cny_exchange         1304 non-null   object \n",
      " 7   eur_exchange         1304 non-null   float64\n",
      " 8   gbp_exchange         1304 non-null   float64\n",
      " 9   usd_exchange         1304 non-null   float64\n",
      " 10  dubai_fuel           1304 non-null   float64\n",
      " 11  brent_fuel           1304 non-null   float64\n",
      " 12  texas_fuel           1304 non-null   float64\n",
      " 13  carbon_credit_price  1304 non-null   object \n",
      "dtypes: float64(12), object(2)\n",
      "memory usage: 152.8+ KB\n"
     ]
    }
   ],
   "source": [
    "merge_df.info()"
   ]
  },
  {
   "cell_type": "code",
   "execution_count": 14,
   "id": "07d31b47",
   "metadata": {
    "scrolled": true
   },
   "outputs": [
    {
     "ename": "AttributeError",
     "evalue": "'float' object has no attribute 'replace'",
     "output_type": "error",
     "traceback": [
      "\u001b[0;31m---------------------------------------------------------------------------\u001b[0m",
      "\u001b[0;31mAttributeError\u001b[0m                            Traceback (most recent call last)",
      "\u001b[0;32m<ipython-input-14-a2ebf2e8b39e>\u001b[0m in \u001b[0;36m<module>\u001b[0;34m\u001b[0m\n\u001b[1;32m      8\u001b[0m \u001b[0mmerge_df\u001b[0m\u001b[0;34m[\u001b[0m\u001b[0;34m'eur_exchange'\u001b[0m\u001b[0;34m]\u001b[0m \u001b[0;34m=\u001b[0m \u001b[0mpd\u001b[0m\u001b[0;34m.\u001b[0m\u001b[0mto_numeric\u001b[0m\u001b[0;34m(\u001b[0m\u001b[0mmerge_df\u001b[0m\u001b[0;34m[\u001b[0m\u001b[0;34m'eur_exchange'\u001b[0m\u001b[0;34m]\u001b[0m\u001b[0;34m.\u001b[0m\u001b[0mapply\u001b[0m\u001b[0;34m(\u001b[0m\u001b[0;32mlambda\u001b[0m \u001b[0mx\u001b[0m \u001b[0;34m:\u001b[0m \u001b[0mx\u001b[0m\u001b[0;34m.\u001b[0m\u001b[0mreplace\u001b[0m\u001b[0;34m(\u001b[0m\u001b[0;34m','\u001b[0m\u001b[0;34m,\u001b[0m\u001b[0;34m''\u001b[0m\u001b[0;34m)\u001b[0m\u001b[0;34m)\u001b[0m\u001b[0;34m)\u001b[0m\u001b[0;34m\u001b[0m\u001b[0;34m\u001b[0m\u001b[0m\n\u001b[1;32m      9\u001b[0m \u001b[0mmerge_df\u001b[0m\u001b[0;34m[\u001b[0m\u001b[0;34m'gbp_exchange'\u001b[0m\u001b[0;34m]\u001b[0m \u001b[0;34m=\u001b[0m \u001b[0mpd\u001b[0m\u001b[0;34m.\u001b[0m\u001b[0mto_numeric\u001b[0m\u001b[0;34m(\u001b[0m\u001b[0mmerge_df\u001b[0m\u001b[0;34m[\u001b[0m\u001b[0;34m'gbp_exchange'\u001b[0m\u001b[0;34m]\u001b[0m\u001b[0;34m.\u001b[0m\u001b[0mapply\u001b[0m\u001b[0;34m(\u001b[0m\u001b[0;32mlambda\u001b[0m \u001b[0mx\u001b[0m \u001b[0;34m:\u001b[0m \u001b[0mx\u001b[0m\u001b[0;34m.\u001b[0m\u001b[0mreplace\u001b[0m\u001b[0;34m(\u001b[0m\u001b[0;34m','\u001b[0m\u001b[0;34m,\u001b[0m\u001b[0;34m''\u001b[0m\u001b[0;34m)\u001b[0m\u001b[0;34m)\u001b[0m\u001b[0;34m)\u001b[0m\u001b[0;34m\u001b[0m\u001b[0;34m\u001b[0m\u001b[0m\n\u001b[0;32m---> 10\u001b[0;31m \u001b[0mmerge_df\u001b[0m\u001b[0;34m[\u001b[0m\u001b[0;34m'usd_exchange'\u001b[0m\u001b[0;34m]\u001b[0m \u001b[0;34m=\u001b[0m \u001b[0mpd\u001b[0m\u001b[0;34m.\u001b[0m\u001b[0mto_numeric\u001b[0m\u001b[0;34m(\u001b[0m\u001b[0mmerge_df\u001b[0m\u001b[0;34m[\u001b[0m\u001b[0;34m'usd_exchange'\u001b[0m\u001b[0;34m]\u001b[0m\u001b[0;34m.\u001b[0m\u001b[0mapply\u001b[0m\u001b[0;34m(\u001b[0m\u001b[0;32mlambda\u001b[0m \u001b[0mx\u001b[0m \u001b[0;34m:\u001b[0m \u001b[0mx\u001b[0m\u001b[0;34m.\u001b[0m\u001b[0mreplace\u001b[0m\u001b[0;34m(\u001b[0m\u001b[0;34m','\u001b[0m\u001b[0;34m,\u001b[0m\u001b[0;34m''\u001b[0m\u001b[0;34m)\u001b[0m\u001b[0;34m)\u001b[0m\u001b[0;34m)\u001b[0m\u001b[0;34m\u001b[0m\u001b[0;34m\u001b[0m\u001b[0m\n\u001b[0m\u001b[1;32m     11\u001b[0m \u001b[0;34m\u001b[0m\u001b[0m\n\u001b[1;32m     12\u001b[0m \u001b[0mmerge_df\u001b[0m\u001b[0;34m[\u001b[0m\u001b[0;34m'carbon_credit_price'\u001b[0m\u001b[0;34m]\u001b[0m \u001b[0;34m=\u001b[0m \u001b[0mpd\u001b[0m\u001b[0;34m.\u001b[0m\u001b[0mto_numeric\u001b[0m\u001b[0;34m(\u001b[0m\u001b[0mmerge_df\u001b[0m\u001b[0;34m[\u001b[0m\u001b[0;34m'carbon_credit_price'\u001b[0m\u001b[0;34m]\u001b[0m\u001b[0;34m)\u001b[0m\u001b[0;34m\u001b[0m\u001b[0;34m\u001b[0m\u001b[0m\n",
      "\u001b[0;32m~/opt/anaconda3/lib/python3.8/site-packages/pandas/core/series.py\u001b[0m in \u001b[0;36mapply\u001b[0;34m(self, func, convert_dtype, args, **kwds)\u001b[0m\n\u001b[1;32m   4136\u001b[0m             \u001b[0;32melse\u001b[0m\u001b[0;34m:\u001b[0m\u001b[0;34m\u001b[0m\u001b[0;34m\u001b[0m\u001b[0m\n\u001b[1;32m   4137\u001b[0m                 \u001b[0mvalues\u001b[0m \u001b[0;34m=\u001b[0m \u001b[0mself\u001b[0m\u001b[0;34m.\u001b[0m\u001b[0mastype\u001b[0m\u001b[0;34m(\u001b[0m\u001b[0mobject\u001b[0m\u001b[0;34m)\u001b[0m\u001b[0;34m.\u001b[0m\u001b[0m_values\u001b[0m\u001b[0;34m\u001b[0m\u001b[0;34m\u001b[0m\u001b[0m\n\u001b[0;32m-> 4138\u001b[0;31m                 \u001b[0mmapped\u001b[0m \u001b[0;34m=\u001b[0m \u001b[0mlib\u001b[0m\u001b[0;34m.\u001b[0m\u001b[0mmap_infer\u001b[0m\u001b[0;34m(\u001b[0m\u001b[0mvalues\u001b[0m\u001b[0;34m,\u001b[0m \u001b[0mf\u001b[0m\u001b[0;34m,\u001b[0m \u001b[0mconvert\u001b[0m\u001b[0;34m=\u001b[0m\u001b[0mconvert_dtype\u001b[0m\u001b[0;34m)\u001b[0m\u001b[0;34m\u001b[0m\u001b[0;34m\u001b[0m\u001b[0m\n\u001b[0m\u001b[1;32m   4139\u001b[0m \u001b[0;34m\u001b[0m\u001b[0m\n\u001b[1;32m   4140\u001b[0m         \u001b[0;32mif\u001b[0m \u001b[0mlen\u001b[0m\u001b[0;34m(\u001b[0m\u001b[0mmapped\u001b[0m\u001b[0;34m)\u001b[0m \u001b[0;32mand\u001b[0m \u001b[0misinstance\u001b[0m\u001b[0;34m(\u001b[0m\u001b[0mmapped\u001b[0m\u001b[0;34m[\u001b[0m\u001b[0;36m0\u001b[0m\u001b[0;34m]\u001b[0m\u001b[0;34m,\u001b[0m \u001b[0mSeries\u001b[0m\u001b[0;34m)\u001b[0m\u001b[0;34m:\u001b[0m\u001b[0;34m\u001b[0m\u001b[0;34m\u001b[0m\u001b[0m\n",
      "\u001b[0;32mpandas/_libs/lib.pyx\u001b[0m in \u001b[0;36mpandas._libs.lib.map_infer\u001b[0;34m()\u001b[0m\n",
      "\u001b[0;32m<ipython-input-14-a2ebf2e8b39e>\u001b[0m in \u001b[0;36m<lambda>\u001b[0;34m(x)\u001b[0m\n\u001b[1;32m      8\u001b[0m \u001b[0mmerge_df\u001b[0m\u001b[0;34m[\u001b[0m\u001b[0;34m'eur_exchange'\u001b[0m\u001b[0;34m]\u001b[0m \u001b[0;34m=\u001b[0m \u001b[0mpd\u001b[0m\u001b[0;34m.\u001b[0m\u001b[0mto_numeric\u001b[0m\u001b[0;34m(\u001b[0m\u001b[0mmerge_df\u001b[0m\u001b[0;34m[\u001b[0m\u001b[0;34m'eur_exchange'\u001b[0m\u001b[0;34m]\u001b[0m\u001b[0;34m.\u001b[0m\u001b[0mapply\u001b[0m\u001b[0;34m(\u001b[0m\u001b[0;32mlambda\u001b[0m \u001b[0mx\u001b[0m \u001b[0;34m:\u001b[0m \u001b[0mx\u001b[0m\u001b[0;34m.\u001b[0m\u001b[0mreplace\u001b[0m\u001b[0;34m(\u001b[0m\u001b[0;34m','\u001b[0m\u001b[0;34m,\u001b[0m\u001b[0;34m''\u001b[0m\u001b[0;34m)\u001b[0m\u001b[0;34m)\u001b[0m\u001b[0;34m)\u001b[0m\u001b[0;34m\u001b[0m\u001b[0;34m\u001b[0m\u001b[0m\n\u001b[1;32m      9\u001b[0m \u001b[0mmerge_df\u001b[0m\u001b[0;34m[\u001b[0m\u001b[0;34m'gbp_exchange'\u001b[0m\u001b[0;34m]\u001b[0m \u001b[0;34m=\u001b[0m \u001b[0mpd\u001b[0m\u001b[0;34m.\u001b[0m\u001b[0mto_numeric\u001b[0m\u001b[0;34m(\u001b[0m\u001b[0mmerge_df\u001b[0m\u001b[0;34m[\u001b[0m\u001b[0;34m'gbp_exchange'\u001b[0m\u001b[0;34m]\u001b[0m\u001b[0;34m.\u001b[0m\u001b[0mapply\u001b[0m\u001b[0;34m(\u001b[0m\u001b[0;32mlambda\u001b[0m \u001b[0mx\u001b[0m \u001b[0;34m:\u001b[0m \u001b[0mx\u001b[0m\u001b[0;34m.\u001b[0m\u001b[0mreplace\u001b[0m\u001b[0;34m(\u001b[0m\u001b[0;34m','\u001b[0m\u001b[0;34m,\u001b[0m\u001b[0;34m''\u001b[0m\u001b[0;34m)\u001b[0m\u001b[0;34m)\u001b[0m\u001b[0;34m)\u001b[0m\u001b[0;34m\u001b[0m\u001b[0;34m\u001b[0m\u001b[0m\n\u001b[0;32m---> 10\u001b[0;31m \u001b[0mmerge_df\u001b[0m\u001b[0;34m[\u001b[0m\u001b[0;34m'usd_exchange'\u001b[0m\u001b[0;34m]\u001b[0m \u001b[0;34m=\u001b[0m \u001b[0mpd\u001b[0m\u001b[0;34m.\u001b[0m\u001b[0mto_numeric\u001b[0m\u001b[0;34m(\u001b[0m\u001b[0mmerge_df\u001b[0m\u001b[0;34m[\u001b[0m\u001b[0;34m'usd_exchange'\u001b[0m\u001b[0;34m]\u001b[0m\u001b[0;34m.\u001b[0m\u001b[0mapply\u001b[0m\u001b[0;34m(\u001b[0m\u001b[0;32mlambda\u001b[0m \u001b[0mx\u001b[0m \u001b[0;34m:\u001b[0m \u001b[0mx\u001b[0m\u001b[0;34m.\u001b[0m\u001b[0mreplace\u001b[0m\u001b[0;34m(\u001b[0m\u001b[0;34m','\u001b[0m\u001b[0;34m,\u001b[0m\u001b[0;34m''\u001b[0m\u001b[0;34m)\u001b[0m\u001b[0;34m)\u001b[0m\u001b[0;34m)\u001b[0m\u001b[0;34m\u001b[0m\u001b[0;34m\u001b[0m\u001b[0m\n\u001b[0m\u001b[1;32m     11\u001b[0m \u001b[0;34m\u001b[0m\u001b[0m\n\u001b[1;32m     12\u001b[0m \u001b[0mmerge_df\u001b[0m\u001b[0;34m[\u001b[0m\u001b[0;34m'carbon_credit_price'\u001b[0m\u001b[0;34m]\u001b[0m \u001b[0;34m=\u001b[0m \u001b[0mpd\u001b[0m\u001b[0;34m.\u001b[0m\u001b[0mto_numeric\u001b[0m\u001b[0;34m(\u001b[0m\u001b[0mmerge_df\u001b[0m\u001b[0;34m[\u001b[0m\u001b[0;34m'carbon_credit_price'\u001b[0m\u001b[0;34m]\u001b[0m\u001b[0;34m)\u001b[0m\u001b[0;34m\u001b[0m\u001b[0;34m\u001b[0m\u001b[0m\n",
      "\u001b[0;31mAttributeError\u001b[0m: 'float' object has no attribute 'replace'"
     ]
    }
   ],
   "source": [
    "merge_df['dutch_close'] = pd.to_numeric(merge_df['dutch_close'].apply(lambda x : x.replace(',','')))\n",
    "merge_df['euro_close'] = pd.to_numeric(merge_df['euro_close'].apply(lambda x : x.replace(',','')))\n",
    "merge_df['london_close'] = pd.to_numeric(merge_df['london_close'].apply(lambda x : x.replace(',','')))\n",
    "merge_df['nasdaq_close'] = pd.to_numeric(merge_df['nasdaq_close'].apply(lambda x : x.replace(',','')))\n",
    "merge_df['paris_close'] = pd.to_numeric(merge_df['paris_close'].apply(lambda x : x.replace(',','')))\n",
    "merge_df['shanghai_close'] = pd.to_numeric(merge_df['shanghai_close'].apply(lambda x : x.replace(',','')))\n",
    "\n",
    "merge_df['eur_exchange'] = pd.to_numeric(merge_df['eur_exchange'].apply(lambda x : x.replace(',','')))\n",
    "merge_df['gbp_exchange'] = pd.to_numeric(merge_df['gbp_exchange'].apply(lambda x : x.replace(',','')))\n",
    "merge_df['usd_exchange'] = pd.to_numeric(merge_df['usd_exchange'].apply(lambda x : x.replace(',','')))\n",
    "\n",
    "merge_df['carbon_credit_price'] = pd.to_numeric(merge_df['carbon_credit_price'])\n",
    "merge_df.info()"
   ]
  },
  {
   "cell_type": "code",
   "execution_count": 19,
   "id": "15dabc9b",
   "metadata": {
    "collapsed": true
   },
   "outputs": [
    {
     "name": "stdout",
     "output_type": "stream",
     "text": [
      "<class 'pandas.core.frame.DataFrame'>\n",
      "DatetimeIndex: 1304 entries, 2015-12-29 to 2021-11-01\n",
      "Data columns (total 14 columns):\n",
      " #   Column               Non-Null Count  Dtype  \n",
      "---  ------               --------------  -----  \n",
      " 0   dutch_close          1304 non-null   float64\n",
      " 1   euro_close           1304 non-null   float64\n",
      " 2   london_close         1304 non-null   float64\n",
      " 3   nasdaq_close         1304 non-null   float64\n",
      " 4   paris_close          1304 non-null   float64\n",
      " 5   shanghai_close       1304 non-null   float64\n",
      " 6   cny_exchange         1304 non-null   float64\n",
      " 7   eur_exchange         1304 non-null   float64\n",
      " 8   gbp_exchange         1304 non-null   float64\n",
      " 9   usd_exchange         1304 non-null   float64\n",
      " 10  dubai_fuel           1304 non-null   float64\n",
      " 11  brent_fuel           1304 non-null   float64\n",
      " 12  texas_fuel           1304 non-null   float64\n",
      " 13  carbon_credit_price  1304 non-null   float64\n",
      "dtypes: float64(14)\n",
      "memory usage: 152.8 KB\n"
     ]
    }
   ],
   "source": [
    "\n",
    "merge_df['cny_exchange'] = pd.to_numeric(merge_df['cny_exchange'].apply(lambda x : x.replace(',','')))\n",
    "\n",
    "merge_df['carbon_credit_price'] = pd.to_numeric(merge_df['carbon_credit_price'])\n",
    "merge_df.info()"
   ]
  },
  {
   "cell_type": "code",
   "execution_count": 15,
   "id": "9ca2232b",
   "metadata": {},
   "outputs": [],
   "source": [
    "#################### 여기까지 공통"
   ]
  },
  {
   "cell_type": "markdown",
   "id": "2f8cd7c6",
   "metadata": {},
   "source": [
    "# 0.  x값들 = 5일 이동 평균"
   ]
  },
  {
   "cell_type": "code",
   "execution_count": 20,
   "id": "4f1835c8",
   "metadata": {},
   "outputs": [
    {
     "data": {
      "text/html": [
       "<div>\n",
       "<style scoped>\n",
       "    .dataframe tbody tr th:only-of-type {\n",
       "        vertical-align: middle;\n",
       "    }\n",
       "\n",
       "    .dataframe tbody tr th {\n",
       "        vertical-align: top;\n",
       "    }\n",
       "\n",
       "    .dataframe thead th {\n",
       "        text-align: right;\n",
       "    }\n",
       "</style>\n",
       "<table border=\"1\" class=\"dataframe\">\n",
       "  <thead>\n",
       "    <tr style=\"text-align: right;\">\n",
       "      <th></th>\n",
       "      <th>dutch_close</th>\n",
       "      <th>euro_close</th>\n",
       "      <th>london_close</th>\n",
       "      <th>nasdaq_close</th>\n",
       "      <th>paris_close</th>\n",
       "      <th>shanghai_close</th>\n",
       "      <th>cny_exchange</th>\n",
       "      <th>eur_exchange</th>\n",
       "      <th>gbp_exchange</th>\n",
       "      <th>usd_exchange</th>\n",
       "      <th>dubai_fuel</th>\n",
       "      <th>brent_fuel</th>\n",
       "      <th>texas_fuel</th>\n",
       "      <th>carbon_credit_price</th>\n",
       "    </tr>\n",
       "    <tr>\n",
       "      <th>date</th>\n",
       "      <th></th>\n",
       "      <th></th>\n",
       "      <th></th>\n",
       "      <th></th>\n",
       "      <th></th>\n",
       "      <th></th>\n",
       "      <th></th>\n",
       "      <th></th>\n",
       "      <th></th>\n",
       "      <th></th>\n",
       "      <th></th>\n",
       "      <th></th>\n",
       "      <th></th>\n",
       "      <th></th>\n",
       "    </tr>\n",
       "  </thead>\n",
       "  <tbody>\n",
       "    <tr>\n",
       "      <th>2015-12-29</th>\n",
       "      <td>10860.14</td>\n",
       "      <td>5107.94</td>\n",
       "      <td>3563.74</td>\n",
       "      <td>6314.57</td>\n",
       "      <td>4701.36</td>\n",
       "      <td>3314.28</td>\n",
       "      <td>1283.25</td>\n",
       "      <td>1741.53</td>\n",
       "      <td>1168.5</td>\n",
       "      <td>177.71</td>\n",
       "      <td>37.87</td>\n",
       "      <td>37.79</td>\n",
       "      <td>34.66</td>\n",
       "      <td>37.32</td>\n",
       "    </tr>\n",
       "    <tr>\n",
       "      <th>2015-12-30</th>\n",
       "      <td>10743.01</td>\n",
       "      <td>5065.85</td>\n",
       "      <td>3572.88</td>\n",
       "      <td>6274.05</td>\n",
       "      <td>4677.14</td>\n",
       "      <td>3287.98</td>\n",
       "      <td>1283.14</td>\n",
       "      <td>1738.97</td>\n",
       "      <td>1173.0</td>\n",
       "      <td>178.10</td>\n",
       "      <td>36.60</td>\n",
       "      <td>36.46</td>\n",
       "      <td>34.57</td>\n",
       "      <td>37.05</td>\n",
       "    </tr>\n",
       "    <tr>\n",
       "      <th>2016-01-04</th>\n",
       "      <td>10283.44</td>\n",
       "      <td>4903.09</td>\n",
       "      <td>3296.26</td>\n",
       "      <td>6093.43</td>\n",
       "      <td>4522.45</td>\n",
       "      <td>3164.76</td>\n",
       "      <td>1299.65</td>\n",
       "      <td>1756.77</td>\n",
       "      <td>1189.5</td>\n",
       "      <td>179.60</td>\n",
       "      <td>36.76</td>\n",
       "      <td>37.22</td>\n",
       "      <td>32.10</td>\n",
       "      <td>36.29</td>\n",
       "    </tr>\n",
       "    <tr>\n",
       "      <th>2016-01-05</th>\n",
       "      <td>10310.10</td>\n",
       "      <td>4891.43</td>\n",
       "      <td>3287.71</td>\n",
       "      <td>6137.24</td>\n",
       "      <td>4537.63</td>\n",
       "      <td>3178.01</td>\n",
       "      <td>1283.71</td>\n",
       "      <td>1746.66</td>\n",
       "      <td>1189.5</td>\n",
       "      <td>179.00</td>\n",
       "      <td>35.97</td>\n",
       "      <td>36.42</td>\n",
       "      <td>30.84</td>\n",
       "      <td>36.06</td>\n",
       "    </tr>\n",
       "    <tr>\n",
       "      <th>2016-01-06</th>\n",
       "      <td>10214.02</td>\n",
       "      <td>4835.77</td>\n",
       "      <td>3361.84</td>\n",
       "      <td>6073.38</td>\n",
       "      <td>4480.47</td>\n",
       "      <td>3139.32</td>\n",
       "      <td>1287.96</td>\n",
       "      <td>1756.44</td>\n",
       "      <td>1200.0</td>\n",
       "      <td>178.65</td>\n",
       "      <td>33.97</td>\n",
       "      <td>34.23</td>\n",
       "      <td>28.99</td>\n",
       "      <td>34.94</td>\n",
       "    </tr>\n",
       "    <tr>\n",
       "      <th>...</th>\n",
       "      <td>...</td>\n",
       "      <td>...</td>\n",
       "      <td>...</td>\n",
       "      <td>...</td>\n",
       "      <td>...</td>\n",
       "      <td>...</td>\n",
       "      <td>...</td>\n",
       "      <td>...</td>\n",
       "      <td>...</td>\n",
       "      <td>...</td>\n",
       "      <td>...</td>\n",
       "      <td>...</td>\n",
       "      <td>...</td>\n",
       "      <td>...</td>\n",
       "    </tr>\n",
       "    <tr>\n",
       "      <th>2021-10-26</th>\n",
       "      <td>15757.06</td>\n",
       "      <td>15235.72</td>\n",
       "      <td>3597.64</td>\n",
       "      <td>7277.62</td>\n",
       "      <td>6766.51</td>\n",
       "      <td>4223.97</td>\n",
       "      <td>1356.40</td>\n",
       "      <td>1613.44</td>\n",
       "      <td>1167.0</td>\n",
       "      <td>183.02</td>\n",
       "      <td>84.65</td>\n",
       "      <td>85.65</td>\n",
       "      <td>83.23</td>\n",
       "      <td>267.61</td>\n",
       "    </tr>\n",
       "    <tr>\n",
       "      <th>2021-10-27</th>\n",
       "      <td>15705.81</td>\n",
       "      <td>15235.84</td>\n",
       "      <td>3562.31</td>\n",
       "      <td>7253.27</td>\n",
       "      <td>6753.52</td>\n",
       "      <td>4220.88</td>\n",
       "      <td>1360.73</td>\n",
       "      <td>1609.51</td>\n",
       "      <td>1173.5</td>\n",
       "      <td>183.56</td>\n",
       "      <td>82.66</td>\n",
       "      <td>83.87</td>\n",
       "      <td>81.44</td>\n",
       "      <td>268.01</td>\n",
       "    </tr>\n",
       "    <tr>\n",
       "      <th>2021-10-28</th>\n",
       "      <td>15696.33</td>\n",
       "      <td>15448.12</td>\n",
       "      <td>3518.42</td>\n",
       "      <td>7249.47</td>\n",
       "      <td>6804.22</td>\n",
       "      <td>4233.87</td>\n",
       "      <td>1358.48</td>\n",
       "      <td>1610.84</td>\n",
       "      <td>1170.5</td>\n",
       "      <td>183.04</td>\n",
       "      <td>82.81</td>\n",
       "      <td>83.66</td>\n",
       "      <td>81.27</td>\n",
       "      <td>262.06</td>\n",
       "    </tr>\n",
       "    <tr>\n",
       "      <th>2021-10-29</th>\n",
       "      <td>15688.77</td>\n",
       "      <td>15498.39</td>\n",
       "      <td>3547.34</td>\n",
       "      <td>7237.57</td>\n",
       "      <td>6830.34</td>\n",
       "      <td>4250.56</td>\n",
       "      <td>1357.50</td>\n",
       "      <td>1606.33</td>\n",
       "      <td>1174.0</td>\n",
       "      <td>183.35</td>\n",
       "      <td>83.57</td>\n",
       "      <td>83.72</td>\n",
       "      <td>81.37</td>\n",
       "      <td>262.68</td>\n",
       "    </tr>\n",
       "    <tr>\n",
       "      <th>2021-11-01</th>\n",
       "      <td>15806.29</td>\n",
       "      <td>15595.92</td>\n",
       "      <td>3544.48</td>\n",
       "      <td>7288.62</td>\n",
       "      <td>6893.29</td>\n",
       "      <td>4280.47</td>\n",
       "      <td>1363.64</td>\n",
       "      <td>1608.89</td>\n",
       "      <td>1178.5</td>\n",
       "      <td>184.34</td>\n",
       "      <td>84.05</td>\n",
       "      <td>84.71</td>\n",
       "      <td>82.38</td>\n",
       "      <td>254.77</td>\n",
       "    </tr>\n",
       "  </tbody>\n",
       "</table>\n",
       "<p>1304 rows × 14 columns</p>\n",
       "</div>"
      ],
      "text/plain": [
       "            dutch_close  euro_close  london_close  nasdaq_close  paris_close  \\\n",
       "date                                                                           \n",
       "2015-12-29     10860.14     5107.94       3563.74       6314.57      4701.36   \n",
       "2015-12-30     10743.01     5065.85       3572.88       6274.05      4677.14   \n",
       "2016-01-04     10283.44     4903.09       3296.26       6093.43      4522.45   \n",
       "2016-01-05     10310.10     4891.43       3287.71       6137.24      4537.63   \n",
       "2016-01-06     10214.02     4835.77       3361.84       6073.38      4480.47   \n",
       "...                 ...         ...           ...           ...          ...   \n",
       "2021-10-26     15757.06    15235.72       3597.64       7277.62      6766.51   \n",
       "2021-10-27     15705.81    15235.84       3562.31       7253.27      6753.52   \n",
       "2021-10-28     15696.33    15448.12       3518.42       7249.47      6804.22   \n",
       "2021-10-29     15688.77    15498.39       3547.34       7237.57      6830.34   \n",
       "2021-11-01     15806.29    15595.92       3544.48       7288.62      6893.29   \n",
       "\n",
       "            shanghai_close  cny_exchange  eur_exchange  gbp_exchange  \\\n",
       "date                                                                   \n",
       "2015-12-29         3314.28       1283.25       1741.53        1168.5   \n",
       "2015-12-30         3287.98       1283.14       1738.97        1173.0   \n",
       "2016-01-04         3164.76       1299.65       1756.77        1189.5   \n",
       "2016-01-05         3178.01       1283.71       1746.66        1189.5   \n",
       "2016-01-06         3139.32       1287.96       1756.44        1200.0   \n",
       "...                    ...           ...           ...           ...   \n",
       "2021-10-26         4223.97       1356.40       1613.44        1167.0   \n",
       "2021-10-27         4220.88       1360.73       1609.51        1173.5   \n",
       "2021-10-28         4233.87       1358.48       1610.84        1170.5   \n",
       "2021-10-29         4250.56       1357.50       1606.33        1174.0   \n",
       "2021-11-01         4280.47       1363.64       1608.89        1178.5   \n",
       "\n",
       "            usd_exchange  dubai_fuel  brent_fuel  texas_fuel  \\\n",
       "date                                                           \n",
       "2015-12-29        177.71       37.87       37.79       34.66   \n",
       "2015-12-30        178.10       36.60       36.46       34.57   \n",
       "2016-01-04        179.60       36.76       37.22       32.10   \n",
       "2016-01-05        179.00       35.97       36.42       30.84   \n",
       "2016-01-06        178.65       33.97       34.23       28.99   \n",
       "...                  ...         ...         ...         ...   \n",
       "2021-10-26        183.02       84.65       85.65       83.23   \n",
       "2021-10-27        183.56       82.66       83.87       81.44   \n",
       "2021-10-28        183.04       82.81       83.66       81.27   \n",
       "2021-10-29        183.35       83.57       83.72       81.37   \n",
       "2021-11-01        184.34       84.05       84.71       82.38   \n",
       "\n",
       "            carbon_credit_price  \n",
       "date                             \n",
       "2015-12-29                37.32  \n",
       "2015-12-30                37.05  \n",
       "2016-01-04                36.29  \n",
       "2016-01-05                36.06  \n",
       "2016-01-06                34.94  \n",
       "...                         ...  \n",
       "2021-10-26               267.61  \n",
       "2021-10-27               268.01  \n",
       "2021-10-28               262.06  \n",
       "2021-10-29               262.68  \n",
       "2021-11-01               254.77  \n",
       "\n",
       "[1304 rows x 14 columns]"
      ]
     },
     "execution_count": 20,
     "metadata": {},
     "output_type": "execute_result"
    }
   ],
   "source": [
    "merge_df "
   ]
  },
  {
   "cell_type": "code",
   "execution_count": 151,
   "id": "d68013a9",
   "metadata": {},
   "outputs": [],
   "source": [
    "x_rolled = merge_df.drop('carbon_credit_price', axis= 1).rolling(5).mean().dropna()[:-1]"
   ]
  },
  {
   "cell_type": "code",
   "execution_count": 152,
   "id": "632ab6c1",
   "metadata": {},
   "outputs": [
    {
     "data": {
      "text/html": [
       "<div>\n",
       "<style scoped>\n",
       "    .dataframe tbody tr th:only-of-type {\n",
       "        vertical-align: middle;\n",
       "    }\n",
       "\n",
       "    .dataframe tbody tr th {\n",
       "        vertical-align: top;\n",
       "    }\n",
       "\n",
       "    .dataframe thead th {\n",
       "        text-align: right;\n",
       "    }\n",
       "</style>\n",
       "<table border=\"1\" class=\"dataframe\">\n",
       "  <thead>\n",
       "    <tr style=\"text-align: right;\">\n",
       "      <th></th>\n",
       "      <th>dutch_close</th>\n",
       "      <th>euro_close</th>\n",
       "      <th>london_close</th>\n",
       "      <th>nasdaq_close</th>\n",
       "      <th>paris_close</th>\n",
       "      <th>shanghai_close</th>\n",
       "      <th>cny_exchange</th>\n",
       "      <th>eur_exchange</th>\n",
       "      <th>gbp_exchange</th>\n",
       "      <th>usd_exchange</th>\n",
       "      <th>dubai_fuel</th>\n",
       "      <th>brent_fuel</th>\n",
       "      <th>texas_fuel</th>\n",
       "    </tr>\n",
       "    <tr>\n",
       "      <th>date</th>\n",
       "      <th></th>\n",
       "      <th></th>\n",
       "      <th></th>\n",
       "      <th></th>\n",
       "      <th></th>\n",
       "      <th></th>\n",
       "      <th></th>\n",
       "      <th></th>\n",
       "      <th></th>\n",
       "      <th></th>\n",
       "      <th></th>\n",
       "      <th></th>\n",
       "      <th></th>\n",
       "    </tr>\n",
       "  </thead>\n",
       "  <tbody>\n",
       "    <tr>\n",
       "      <th>2016-01-06</th>\n",
       "      <td>10482.142</td>\n",
       "      <td>4960.816</td>\n",
       "      <td>3416.486</td>\n",
       "      <td>6178.534</td>\n",
       "      <td>4583.810</td>\n",
       "      <td>3216.870</td>\n",
       "      <td>1287.542</td>\n",
       "      <td>1748.074</td>\n",
       "      <td>1184.10</td>\n",
       "      <td>178.612</td>\n",
       "      <td>36.234</td>\n",
       "      <td>36.424</td>\n",
       "      <td>32.232</td>\n",
       "    </tr>\n",
       "    <tr>\n",
       "      <th>2016-01-07</th>\n",
       "      <td>10306.084</td>\n",
       "      <td>4877.114</td>\n",
       "      <td>3328.738</td>\n",
       "      <td>6106.436</td>\n",
       "      <td>4524.254</td>\n",
       "      <td>3170.950</td>\n",
       "      <td>1289.968</td>\n",
       "      <td>1749.602</td>\n",
       "      <td>1190.44</td>\n",
       "      <td>178.972</td>\n",
       "      <td>35.314</td>\n",
       "      <td>35.616</td>\n",
       "      <td>31.100</td>\n",
       "    </tr>\n",
       "    <tr>\n",
       "      <th>2016-01-08</th>\n",
       "      <td>10127.350</td>\n",
       "      <td>4792.670</td>\n",
       "      <td>3251.444</td>\n",
       "      <td>6034.114</td>\n",
       "      <td>4455.578</td>\n",
       "      <td>3120.048</td>\n",
       "      <td>1294.112</td>\n",
       "      <td>1752.278</td>\n",
       "      <td>1195.74</td>\n",
       "      <td>179.234</td>\n",
       "      <td>34.626</td>\n",
       "      <td>35.034</td>\n",
       "      <td>30.018</td>\n",
       "    </tr>\n",
       "    <tr>\n",
       "      <th>2016-01-11</th>\n",
       "      <td>10035.676</td>\n",
       "      <td>4739.650</td>\n",
       "      <td>3195.532</td>\n",
       "      <td>5989.794</td>\n",
       "      <td>4413.636</td>\n",
       "      <td>3092.594</td>\n",
       "      <td>1296.548</td>\n",
       "      <td>1752.160</td>\n",
       "      <td>1199.14</td>\n",
       "      <td>179.780</td>\n",
       "      <td>33.556</td>\n",
       "      <td>33.900</td>\n",
       "      <td>29.170</td>\n",
       "    </tr>\n",
       "    <tr>\n",
       "      <th>2016-01-12</th>\n",
       "      <td>9970.742</td>\n",
       "      <td>4698.548</td>\n",
       "      <td>3142.562</td>\n",
       "      <td>5948.194</td>\n",
       "      <td>4381.860</td>\n",
       "      <td>3069.924</td>\n",
       "      <td>1303.694</td>\n",
       "      <td>1755.278</td>\n",
       "      <td>1203.74</td>\n",
       "      <td>180.794</td>\n",
       "      <td>32.450</td>\n",
       "      <td>32.788</td>\n",
       "      <td>28.468</td>\n",
       "    </tr>\n",
       "    <tr>\n",
       "      <th>...</th>\n",
       "      <td>...</td>\n",
       "      <td>...</td>\n",
       "      <td>...</td>\n",
       "      <td>...</td>\n",
       "      <td>...</td>\n",
       "      <td>...</td>\n",
       "      <td>...</td>\n",
       "      <td>...</td>\n",
       "      <td>...</td>\n",
       "      <td>...</td>\n",
       "      <td>...</td>\n",
       "      <td>...</td>\n",
       "      <td>...</td>\n",
       "    </tr>\n",
       "    <tr>\n",
       "      <th>2021-10-25</th>\n",
       "      <td>15530.704</td>\n",
       "      <td>15156.676</td>\n",
       "      <td>3593.478</td>\n",
       "      <td>7211.660</td>\n",
       "      <td>6701.638</td>\n",
       "      <td>4174.370</td>\n",
       "      <td>1368.296</td>\n",
       "      <td>1621.014</td>\n",
       "      <td>1175.60</td>\n",
       "      <td>184.056</td>\n",
       "      <td>83.176</td>\n",
       "      <td>85.242</td>\n",
       "      <td>81.838</td>\n",
       "    </tr>\n",
       "    <tr>\n",
       "      <th>2021-10-26</th>\n",
       "      <td>15578.950</td>\n",
       "      <td>15178.002</td>\n",
       "      <td>3594.376</td>\n",
       "      <td>7223.678</td>\n",
       "      <td>6720.970</td>\n",
       "      <td>4185.798</td>\n",
       "      <td>1364.738</td>\n",
       "      <td>1617.824</td>\n",
       "      <td>1173.30</td>\n",
       "      <td>183.736</td>\n",
       "      <td>83.618</td>\n",
       "      <td>85.356</td>\n",
       "      <td>82.162</td>\n",
       "    </tr>\n",
       "    <tr>\n",
       "      <th>2021-10-27</th>\n",
       "      <td>15615.528</td>\n",
       "      <td>15200.834</td>\n",
       "      <td>3589.438</td>\n",
       "      <td>7229.712</td>\n",
       "      <td>6730.552</td>\n",
       "      <td>4195.540</td>\n",
       "      <td>1363.484</td>\n",
       "      <td>1616.354</td>\n",
       "      <td>1173.00</td>\n",
       "      <td>183.674</td>\n",
       "      <td>83.466</td>\n",
       "      <td>84.966</td>\n",
       "      <td>82.088</td>\n",
       "    </tr>\n",
       "    <tr>\n",
       "      <th>2021-10-28</th>\n",
       "      <td>15660.282</td>\n",
       "      <td>15247.318</td>\n",
       "      <td>3574.166</td>\n",
       "      <td>7241.546</td>\n",
       "      <td>6754.162</td>\n",
       "      <td>4211.168</td>\n",
       "      <td>1361.046</td>\n",
       "      <td>1613.438</td>\n",
       "      <td>1171.60</td>\n",
       "      <td>183.462</td>\n",
       "      <td>83.528</td>\n",
       "      <td>84.776</td>\n",
       "      <td>82.054</td>\n",
       "    </tr>\n",
       "    <tr>\n",
       "      <th>2021-10-29</th>\n",
       "      <td>15689.440</td>\n",
       "      <td>15328.956</td>\n",
       "      <td>3567.114</td>\n",
       "      <td>7248.150</td>\n",
       "      <td>6773.492</td>\n",
       "      <td>4223.518</td>\n",
       "      <td>1358.832</td>\n",
       "      <td>1610.552</td>\n",
       "      <td>1171.20</td>\n",
       "      <td>183.288</td>\n",
       "      <td>83.490</td>\n",
       "      <td>84.414</td>\n",
       "      <td>82.006</td>\n",
       "    </tr>\n",
       "  </tbody>\n",
       "</table>\n",
       "<p>1299 rows × 13 columns</p>\n",
       "</div>"
      ],
      "text/plain": [
       "            dutch_close  euro_close  london_close  nasdaq_close  paris_close  \\\n",
       "date                                                                           \n",
       "2016-01-06    10482.142    4960.816      3416.486      6178.534     4583.810   \n",
       "2016-01-07    10306.084    4877.114      3328.738      6106.436     4524.254   \n",
       "2016-01-08    10127.350    4792.670      3251.444      6034.114     4455.578   \n",
       "2016-01-11    10035.676    4739.650      3195.532      5989.794     4413.636   \n",
       "2016-01-12     9970.742    4698.548      3142.562      5948.194     4381.860   \n",
       "...                 ...         ...           ...           ...          ...   \n",
       "2021-10-25    15530.704   15156.676      3593.478      7211.660     6701.638   \n",
       "2021-10-26    15578.950   15178.002      3594.376      7223.678     6720.970   \n",
       "2021-10-27    15615.528   15200.834      3589.438      7229.712     6730.552   \n",
       "2021-10-28    15660.282   15247.318      3574.166      7241.546     6754.162   \n",
       "2021-10-29    15689.440   15328.956      3567.114      7248.150     6773.492   \n",
       "\n",
       "            shanghai_close  cny_exchange  eur_exchange  gbp_exchange  \\\n",
       "date                                                                   \n",
       "2016-01-06        3216.870      1287.542      1748.074       1184.10   \n",
       "2016-01-07        3170.950      1289.968      1749.602       1190.44   \n",
       "2016-01-08        3120.048      1294.112      1752.278       1195.74   \n",
       "2016-01-11        3092.594      1296.548      1752.160       1199.14   \n",
       "2016-01-12        3069.924      1303.694      1755.278       1203.74   \n",
       "...                    ...           ...           ...           ...   \n",
       "2021-10-25        4174.370      1368.296      1621.014       1175.60   \n",
       "2021-10-26        4185.798      1364.738      1617.824       1173.30   \n",
       "2021-10-27        4195.540      1363.484      1616.354       1173.00   \n",
       "2021-10-28        4211.168      1361.046      1613.438       1171.60   \n",
       "2021-10-29        4223.518      1358.832      1610.552       1171.20   \n",
       "\n",
       "            usd_exchange  dubai_fuel  brent_fuel  texas_fuel  \n",
       "date                                                          \n",
       "2016-01-06       178.612      36.234      36.424      32.232  \n",
       "2016-01-07       178.972      35.314      35.616      31.100  \n",
       "2016-01-08       179.234      34.626      35.034      30.018  \n",
       "2016-01-11       179.780      33.556      33.900      29.170  \n",
       "2016-01-12       180.794      32.450      32.788      28.468  \n",
       "...                  ...         ...         ...         ...  \n",
       "2021-10-25       184.056      83.176      85.242      81.838  \n",
       "2021-10-26       183.736      83.618      85.356      82.162  \n",
       "2021-10-27       183.674      83.466      84.966      82.088  \n",
       "2021-10-28       183.462      83.528      84.776      82.054  \n",
       "2021-10-29       183.288      83.490      84.414      82.006  \n",
       "\n",
       "[1299 rows x 13 columns]"
      ]
     },
     "execution_count": 152,
     "metadata": {},
     "output_type": "execute_result"
    }
   ],
   "source": [
    "x_rolled"
   ]
  },
  {
   "cell_type": "code",
   "execution_count": 153,
   "id": "babc1224",
   "metadata": {},
   "outputs": [],
   "source": [
    "y_for_rolled = merge_df['carbon_credit_price'].shift(-1)[4:].dropna()"
   ]
  },
  {
   "cell_type": "code",
   "execution_count": 155,
   "id": "b4ed2f60",
   "metadata": {},
   "outputs": [
    {
     "name": "stdout",
     "output_type": "stream",
     "text": [
      "(1299, 13)\n",
      "(1299,)\n"
     ]
    }
   ],
   "source": [
    "print(x_rolled.shape)\n",
    "print(y_for_rolled.shape)"
   ]
  },
  {
   "cell_type": "code",
   "execution_count": 156,
   "id": "04cfa749",
   "metadata": {},
   "outputs": [],
   "source": [
    "from sklearn.linear_model import LinearRegression, Ridge, Lasso\n",
    "from xgboost import XGBRegressor\n",
    "from lightgbm import LGBMRegressor\n",
    "from sklearn.ensemble import RandomForestRegressor\n",
    "from sklearn.preprocessing import StandardScaler\n",
    "from sklearn.model_selection import train_test_split\n",
    "from sklearn.metrics import mean_squared_error, r2_score"
   ]
  },
  {
   "cell_type": "code",
   "execution_count": 157,
   "id": "78eddd93",
   "metadata": {},
   "outputs": [],
   "source": [
    "x_train1, x_test1, y_train1, y_test1 = train_test_split(x_rolled, y_for_rolled, random_state=100)\n",
    "scaler = StandardScaler()\n",
    "scaler.fit(x_train1)\n",
    "\n",
    "x_train_scaled1 = scaler.transform(x_train1)\n",
    "x_test_scaled1 = scaler.transform(x_test1)"
   ]
  },
  {
   "cell_type": "code",
   "execution_count": 158,
   "id": "80206431",
   "metadata": {
    "scrolled": false
   },
   "outputs": [
    {
     "name": "stdout",
     "output_type": "stream",
     "text": [
      "LinearRegression\n",
      "rmse : 13.026934888565748\n",
      "r_score : 0.9581472027131347\n",
      "\n",
      "Ridge\n",
      "rmse : 13.075236482006808\n",
      "r_score : 0.957836261635198\n",
      "\n",
      "Lasso\n",
      "rmse : 15.615058782877467\n",
      "r_score : 0.9398650087686795\n",
      "\n",
      "XGBRegressor\n",
      "rmse : 3.6247991051883783\n",
      "r_score : 0.996759530866903\n",
      "\n",
      "LGBMRegressor\n",
      "rmse : 3.6189058599556883\n",
      "r_score : 0.9967700590946696\n",
      "\n",
      "RandomForestRegressor\n",
      "rmse : 3.506182377103013\n",
      "r_score : 0.9969681409298049\n",
      "\n"
     ]
    }
   ],
   "source": [
    "lr = LinearRegression()\n",
    "rid = Ridge()\n",
    "las = Lasso()\n",
    "xgb = XGBRegressor()\n",
    "lgbm = LGBMRegressor()\n",
    "rfr = RandomForestRegressor()\n",
    "\n",
    "lr.fit(x_train_scaled1, y_train1)\n",
    "lr_preds = lr.predict(x_test_scaled1)\n",
    "print('LinearRegression')\n",
    "print('rmse :', np.sqrt(mean_squared_error(y_test1, lr_preds)))\n",
    "print('r_score :', r2_score(y_test1, lr_preds))\n",
    "print()\n",
    "\n",
    "rid.fit(x_train_scaled1, y_train1)\n",
    "rid_preds = rid.predict(x_test_scaled1)\n",
    "print('Ridge')\n",
    "print('rmse :', np.sqrt(mean_squared_error(y_test1, rid_preds)))\n",
    "print('r_score :', r2_score(y_test1, rid_preds))\n",
    "print()\n",
    "\n",
    "las.fit(x_train_scaled1, y_train1)\n",
    "las_preds = las.predict(x_test_scaled1)\n",
    "print('Lasso')\n",
    "print('rmse :', np.sqrt(mean_squared_error(y_test1, las_preds)))\n",
    "print('r_score :', r2_score(y_test1, las_preds))\n",
    "print()\n",
    "\n",
    "xgb.fit(x_train_scaled1, y_train1)\n",
    "xgb_preds = xgb.predict(x_test_scaled1)\n",
    "print('XGBRegressor')\n",
    "print('rmse :', np.sqrt(mean_squared_error(y_test1, xgb_preds)))\n",
    "print('r_score :', r2_score(y_test1, xgb_preds))\n",
    "print()\n",
    "\n",
    "lgbm.fit(x_train_scaled1, y_train1)\n",
    "lgbm_preds = lgbm.predict(x_test_scaled1)\n",
    "print('LGBMRegressor')\n",
    "print('rmse :', np.sqrt(mean_squared_error(y_test1, lgbm_preds)))\n",
    "print('r_score :', r2_score(y_test1, lgbm_preds))\n",
    "print()\n",
    "\n",
    "rfr.fit(x_train_scaled1, y_train1)\n",
    "rfr_preds = rfr.predict(x_test_scaled1)\n",
    "print('RandomForestRegressor')\n",
    "print('rmse :', np.sqrt(mean_squared_error(y_test1, rfr_preds)))\n",
    "print('r_score :', r2_score(y_test1, rfr_preds))\n",
    "print()"
   ]
  },
  {
   "cell_type": "markdown",
   "id": "3acdde35",
   "metadata": {},
   "source": [
    "# 0.1 5일 전 값"
   ]
  },
  {
   "cell_type": "code",
   "execution_count": 188,
   "id": "12f4a0bb",
   "metadata": {},
   "outputs": [],
   "source": [
    "x_rolled = merge_df.drop('carbon_credit_price', axis= 1).shift(5).dropna()[:-1]"
   ]
  },
  {
   "cell_type": "code",
   "execution_count": 189,
   "id": "0584bbd0",
   "metadata": {},
   "outputs": [],
   "source": [
    "y_for_rolled = merge_df['carbon_credit_price'].shift(-1).dropna()[5:]"
   ]
  },
  {
   "cell_type": "code",
   "execution_count": 190,
   "id": "d29570b4",
   "metadata": {},
   "outputs": [
    {
     "name": "stdout",
     "output_type": "stream",
     "text": [
      "(1298, 13)\n",
      "(1298,)\n"
     ]
    }
   ],
   "source": [
    "print(x_rolled.shape)\n",
    "print(y_for_rolled.shape)"
   ]
  },
  {
   "cell_type": "code",
   "execution_count": 191,
   "id": "8902ced2",
   "metadata": {},
   "outputs": [],
   "source": [
    "x_train1, x_test1, y_train1, y_test1 = train_test_split(x_rolled, y_for_rolled, random_state=100)\n",
    "scaler = StandardScaler()\n",
    "scaler.fit(x_train1)\n",
    "\n",
    "x_train_scaled1 = scaler.transform(x_train1)\n",
    "x_test_scaled1 = scaler.transform(x_test1)"
   ]
  },
  {
   "cell_type": "code",
   "execution_count": 192,
   "id": "9ed0bc5a",
   "metadata": {},
   "outputs": [
    {
     "name": "stdout",
     "output_type": "stream",
     "text": [
      "LinearRegression\n",
      "rmse : 12.600149989354824\n",
      "r_score : 0.9666865719838468\n",
      "\n",
      "Ridge\n",
      "rmse : 12.53416341574419\n",
      "r_score : 0.9670345810026361\n",
      "\n",
      "Lasso\n",
      "rmse : 14.880596325323689\n",
      "r_score : 0.953536858968251\n",
      "\n",
      "XGBRegressor\n",
      "rmse : 6.489547082249361\n",
      "r_score : 0.991163166542167\n",
      "\n",
      "LGBMRegressor\n",
      "rmse : 6.511058441183396\n",
      "r_score : 0.9911044852967419\n",
      "\n",
      "RandomForestRegressor\n",
      "rmse : 6.792082904311909\n",
      "r_score : 0.9903200335629341\n",
      "\n"
     ]
    }
   ],
   "source": [
    "lr = LinearRegression()\n",
    "rid = Ridge()\n",
    "las = Lasso()\n",
    "xgb = XGBRegressor()\n",
    "lgbm = LGBMRegressor()\n",
    "rfr = RandomForestRegressor()\n",
    "\n",
    "lr.fit(x_train_scaled1, y_train1)\n",
    "lr_preds = lr.predict(x_test_scaled1)\n",
    "print('LinearRegression')\n",
    "print('rmse :', np.sqrt(mean_squared_error(y_test1, lr_preds)))\n",
    "print('r_score :', r2_score(y_test1, lr_preds))\n",
    "print()\n",
    "\n",
    "rid.fit(x_train_scaled1, y_train1)\n",
    "rid_preds = rid.predict(x_test_scaled1)\n",
    "print('Ridge')\n",
    "print('rmse :', np.sqrt(mean_squared_error(y_test1, rid_preds)))\n",
    "print('r_score :', r2_score(y_test1, rid_preds))\n",
    "print()\n",
    "\n",
    "las.fit(x_train_scaled1, y_train1)\n",
    "las_preds = las.predict(x_test_scaled1)\n",
    "print('Lasso')\n",
    "print('rmse :', np.sqrt(mean_squared_error(y_test1, las_preds)))\n",
    "print('r_score :', r2_score(y_test1, las_preds))\n",
    "print()\n",
    "\n",
    "xgb.fit(x_train_scaled1, y_train1)\n",
    "xgb_preds = xgb.predict(x_test_scaled1)\n",
    "print('XGBRegressor')\n",
    "print('rmse :', np.sqrt(mean_squared_error(y_test1, xgb_preds)))\n",
    "print('r_score :', r2_score(y_test1, xgb_preds))\n",
    "print()\n",
    "\n",
    "lgbm.fit(x_train_scaled1, y_train1)\n",
    "lgbm_preds = lgbm.predict(x_test_scaled1)\n",
    "print('LGBMRegressor')\n",
    "print('rmse :', np.sqrt(mean_squared_error(y_test1, lgbm_preds)))\n",
    "print('r_score :', r2_score(y_test1, lgbm_preds))\n",
    "print()\n",
    "\n",
    "rfr.fit(x_train_scaled1, y_train1)\n",
    "rfr_preds = rfr.predict(x_test_scaled1)\n",
    "print('RandomForestRegressor')\n",
    "print('rmse :', np.sqrt(mean_squared_error(y_test1, rfr_preds)))\n",
    "print('r_score :', r2_score(y_test1, rfr_preds))\n",
    "print()"
   ]
  },
  {
   "cell_type": "code",
   "execution_count": null,
   "id": "5b8a5e1e",
   "metadata": {},
   "outputs": [],
   "source": []
  },
  {
   "cell_type": "code",
   "execution_count": null,
   "id": "f1142488",
   "metadata": {},
   "outputs": [],
   "source": []
  },
  {
   "cell_type": "markdown",
   "id": "46edaa69",
   "metadata": {},
   "source": [
    "# 1.  x값들 = 30일 이동 평균"
   ]
  },
  {
   "cell_type": "code",
   "execution_count": 165,
   "id": "635e308d",
   "metadata": {},
   "outputs": [],
   "source": [
    "x_rolled = merge_df.drop('carbon_credit_price', axis= 1).rolling(30).mean().dropna()[:-1]"
   ]
  },
  {
   "cell_type": "code",
   "execution_count": 166,
   "id": "113b790c",
   "metadata": {},
   "outputs": [
    {
     "data": {
      "text/html": [
       "<div>\n",
       "<style scoped>\n",
       "    .dataframe tbody tr th:only-of-type {\n",
       "        vertical-align: middle;\n",
       "    }\n",
       "\n",
       "    .dataframe tbody tr th {\n",
       "        vertical-align: top;\n",
       "    }\n",
       "\n",
       "    .dataframe thead th {\n",
       "        text-align: right;\n",
       "    }\n",
       "</style>\n",
       "<table border=\"1\" class=\"dataframe\">\n",
       "  <thead>\n",
       "    <tr style=\"text-align: right;\">\n",
       "      <th></th>\n",
       "      <th>dutch_close</th>\n",
       "      <th>euro_close</th>\n",
       "      <th>london_close</th>\n",
       "      <th>nasdaq_close</th>\n",
       "      <th>paris_close</th>\n",
       "      <th>shanghai_close</th>\n",
       "      <th>cny_exchange</th>\n",
       "      <th>eur_exchange</th>\n",
       "      <th>gbp_exchange</th>\n",
       "      <th>usd_exchange</th>\n",
       "      <th>dubai_fuel</th>\n",
       "      <th>brent_fuel</th>\n",
       "      <th>texas_fuel</th>\n",
       "    </tr>\n",
       "    <tr>\n",
       "      <th>date</th>\n",
       "      <th></th>\n",
       "      <th></th>\n",
       "      <th></th>\n",
       "      <th></th>\n",
       "      <th></th>\n",
       "      <th></th>\n",
       "      <th></th>\n",
       "      <th></th>\n",
       "      <th></th>\n",
       "      <th></th>\n",
       "      <th></th>\n",
       "      <th></th>\n",
       "      <th></th>\n",
       "    </tr>\n",
       "  </thead>\n",
       "  <tbody>\n",
       "    <tr>\n",
       "      <th>2016-02-19</th>\n",
       "      <td>9781.349333</td>\n",
       "      <td>4608.454667</td>\n",
       "      <td>2967.973333</td>\n",
       "      <td>5954.762667</td>\n",
       "      <td>4337.675333</td>\n",
       "      <td>3013.877333</td>\n",
       "      <td>1317.175333</td>\n",
       "      <td>1739.917667</td>\n",
       "      <td>1205.090000</td>\n",
       "      <td>182.459000</td>\n",
       "      <td>31.883667</td>\n",
       "      <td>33.023667</td>\n",
       "      <td>28.928333</td>\n",
       "    </tr>\n",
       "    <tr>\n",
       "      <th>2016-02-22</th>\n",
       "      <td>9738.464333</td>\n",
       "      <td>4590.543667</td>\n",
       "      <td>2946.754667</td>\n",
       "      <td>5945.534667</td>\n",
       "      <td>4324.253333</td>\n",
       "      <td>3001.198333</td>\n",
       "      <td>1319.916667</td>\n",
       "      <td>1740.075667</td>\n",
       "      <td>1207.190000</td>\n",
       "      <td>182.826667</td>\n",
       "      <td>31.734333</td>\n",
       "      <td>32.920333</td>\n",
       "      <td>28.758333</td>\n",
       "    </tr>\n",
       "    <tr>\n",
       "      <th>2016-02-23</th>\n",
       "      <td>9694.256333</td>\n",
       "      <td>4571.801333</td>\n",
       "      <td>2924.436333</td>\n",
       "      <td>5935.143333</td>\n",
       "      <td>4309.629333</td>\n",
       "      <td>2987.845000</td>\n",
       "      <td>1322.472667</td>\n",
       "      <td>1740.173000</td>\n",
       "      <td>1209.173333</td>\n",
       "      <td>183.177333</td>\n",
       "      <td>31.576667</td>\n",
       "      <td>32.814000</td>\n",
       "      <td>28.582333</td>\n",
       "    </tr>\n",
       "    <tr>\n",
       "      <th>2016-02-24</th>\n",
       "      <td>9657.068333</td>\n",
       "      <td>4559.785333</td>\n",
       "      <td>2912.191000</td>\n",
       "      <td>5927.601667</td>\n",
       "      <td>4297.392333</td>\n",
       "      <td>2976.361000</td>\n",
       "      <td>1324.403667</td>\n",
       "      <td>1739.145667</td>\n",
       "      <td>1210.673333</td>\n",
       "      <td>183.486333</td>\n",
       "      <td>31.423000</td>\n",
       "      <td>32.720333</td>\n",
       "      <td>28.490333</td>\n",
       "    </tr>\n",
       "    <tr>\n",
       "      <th>2016-02-25</th>\n",
       "      <td>9624.447667</td>\n",
       "      <td>4549.478000</td>\n",
       "      <td>2893.975333</td>\n",
       "      <td>5923.454000</td>\n",
       "      <td>4287.753000</td>\n",
       "      <td>2966.341333</td>\n",
       "      <td>1327.211667</td>\n",
       "      <td>1738.626000</td>\n",
       "      <td>1212.390000</td>\n",
       "      <td>183.845667</td>\n",
       "      <td>31.326333</td>\n",
       "      <td>32.682667</td>\n",
       "      <td>28.437667</td>\n",
       "    </tr>\n",
       "    <tr>\n",
       "      <th>...</th>\n",
       "      <td>...</td>\n",
       "      <td>...</td>\n",
       "      <td>...</td>\n",
       "      <td>...</td>\n",
       "      <td>...</td>\n",
       "      <td>...</td>\n",
       "      <td>...</td>\n",
       "      <td>...</td>\n",
       "      <td>...</td>\n",
       "      <td>...</td>\n",
       "      <td>...</td>\n",
       "      <td>...</td>\n",
       "      <td>...</td>\n",
       "    </tr>\n",
       "    <tr>\n",
       "      <th>2021-10-25</th>\n",
       "      <td>15551.813333</td>\n",
       "      <td>15017.982333</td>\n",
       "      <td>3606.831000</td>\n",
       "      <td>7115.586000</td>\n",
       "      <td>6653.995000</td>\n",
       "      <td>4156.938000</td>\n",
       "      <td>1377.485000</td>\n",
       "      <td>1615.324333</td>\n",
       "      <td>1176.183333</td>\n",
       "      <td>182.603333</td>\n",
       "      <td>75.315000</td>\n",
       "      <td>78.221667</td>\n",
       "      <td>75.576667</td>\n",
       "    </tr>\n",
       "    <tr>\n",
       "      <th>2021-10-26</th>\n",
       "      <td>15549.212333</td>\n",
       "      <td>15017.198333</td>\n",
       "      <td>3608.621000</td>\n",
       "      <td>7120.850000</td>\n",
       "      <td>6656.872667</td>\n",
       "      <td>4157.856667</td>\n",
       "      <td>1377.033000</td>\n",
       "      <td>1615.984000</td>\n",
       "      <td>1176.500000</td>\n",
       "      <td>182.730333</td>\n",
       "      <td>75.853333</td>\n",
       "      <td>78.689000</td>\n",
       "      <td>76.028333</td>\n",
       "    </tr>\n",
       "    <tr>\n",
       "      <th>2021-10-27</th>\n",
       "      <td>15545.263000</td>\n",
       "      <td>15014.747000</td>\n",
       "      <td>3608.461333</td>\n",
       "      <td>7124.297667</td>\n",
       "      <td>6656.700333</td>\n",
       "      <td>4157.643667</td>\n",
       "      <td>1376.704333</td>\n",
       "      <td>1616.463667</td>\n",
       "      <td>1176.966667</td>\n",
       "      <td>182.866667</td>\n",
       "      <td>76.322333</td>\n",
       "      <td>79.098333</td>\n",
       "      <td>76.412333</td>\n",
       "    </tr>\n",
       "    <tr>\n",
       "      <th>2021-10-28</th>\n",
       "      <td>15540.454333</td>\n",
       "      <td>15018.645000</td>\n",
       "      <td>3605.840667</td>\n",
       "      <td>7127.150000</td>\n",
       "      <td>6658.071667</td>\n",
       "      <td>4157.702667</td>\n",
       "      <td>1376.191000</td>\n",
       "      <td>1616.875333</td>\n",
       "      <td>1177.350000</td>\n",
       "      <td>182.981333</td>\n",
       "      <td>76.749667</td>\n",
       "      <td>79.452667</td>\n",
       "      <td>76.747333</td>\n",
       "    </tr>\n",
       "    <tr>\n",
       "      <th>2021-10-29</th>\n",
       "      <td>15537.373333</td>\n",
       "      <td>15023.140667</td>\n",
       "      <td>3604.694333</td>\n",
       "      <td>7130.457333</td>\n",
       "      <td>6662.750000</td>\n",
       "      <td>4159.322000</td>\n",
       "      <td>1375.650667</td>\n",
       "      <td>1617.103333</td>\n",
       "      <td>1177.916667</td>\n",
       "      <td>183.106667</td>\n",
       "      <td>77.225667</td>\n",
       "      <td>79.823000</td>\n",
       "      <td>77.105000</td>\n",
       "    </tr>\n",
       "  </tbody>\n",
       "</table>\n",
       "<p>1274 rows × 13 columns</p>\n",
       "</div>"
      ],
      "text/plain": [
       "             dutch_close    euro_close  london_close  nasdaq_close  \\\n",
       "date                                                                 \n",
       "2016-02-19   9781.349333   4608.454667   2967.973333   5954.762667   \n",
       "2016-02-22   9738.464333   4590.543667   2946.754667   5945.534667   \n",
       "2016-02-23   9694.256333   4571.801333   2924.436333   5935.143333   \n",
       "2016-02-24   9657.068333   4559.785333   2912.191000   5927.601667   \n",
       "2016-02-25   9624.447667   4549.478000   2893.975333   5923.454000   \n",
       "...                  ...           ...           ...           ...   \n",
       "2021-10-25  15551.813333  15017.982333   3606.831000   7115.586000   \n",
       "2021-10-26  15549.212333  15017.198333   3608.621000   7120.850000   \n",
       "2021-10-27  15545.263000  15014.747000   3608.461333   7124.297667   \n",
       "2021-10-28  15540.454333  15018.645000   3605.840667   7127.150000   \n",
       "2021-10-29  15537.373333  15023.140667   3604.694333   7130.457333   \n",
       "\n",
       "            paris_close  shanghai_close  cny_exchange  eur_exchange  \\\n",
       "date                                                                  \n",
       "2016-02-19  4337.675333     3013.877333   1317.175333   1739.917667   \n",
       "2016-02-22  4324.253333     3001.198333   1319.916667   1740.075667   \n",
       "2016-02-23  4309.629333     2987.845000   1322.472667   1740.173000   \n",
       "2016-02-24  4297.392333     2976.361000   1324.403667   1739.145667   \n",
       "2016-02-25  4287.753000     2966.341333   1327.211667   1738.626000   \n",
       "...                 ...             ...           ...           ...   \n",
       "2021-10-25  6653.995000     4156.938000   1377.485000   1615.324333   \n",
       "2021-10-26  6656.872667     4157.856667   1377.033000   1615.984000   \n",
       "2021-10-27  6656.700333     4157.643667   1376.704333   1616.463667   \n",
       "2021-10-28  6658.071667     4157.702667   1376.191000   1616.875333   \n",
       "2021-10-29  6662.750000     4159.322000   1375.650667   1617.103333   \n",
       "\n",
       "            gbp_exchange  usd_exchange  dubai_fuel  brent_fuel  texas_fuel  \n",
       "date                                                                        \n",
       "2016-02-19   1205.090000    182.459000   31.883667   33.023667   28.928333  \n",
       "2016-02-22   1207.190000    182.826667   31.734333   32.920333   28.758333  \n",
       "2016-02-23   1209.173333    183.177333   31.576667   32.814000   28.582333  \n",
       "2016-02-24   1210.673333    183.486333   31.423000   32.720333   28.490333  \n",
       "2016-02-25   1212.390000    183.845667   31.326333   32.682667   28.437667  \n",
       "...                  ...           ...         ...         ...         ...  \n",
       "2021-10-25   1176.183333    182.603333   75.315000   78.221667   75.576667  \n",
       "2021-10-26   1176.500000    182.730333   75.853333   78.689000   76.028333  \n",
       "2021-10-27   1176.966667    182.866667   76.322333   79.098333   76.412333  \n",
       "2021-10-28   1177.350000    182.981333   76.749667   79.452667   76.747333  \n",
       "2021-10-29   1177.916667    183.106667   77.225667   79.823000   77.105000  \n",
       "\n",
       "[1274 rows x 13 columns]"
      ]
     },
     "execution_count": 166,
     "metadata": {},
     "output_type": "execute_result"
    }
   ],
   "source": [
    "x_rolled"
   ]
  },
  {
   "cell_type": "code",
   "execution_count": 168,
   "id": "734b6666",
   "metadata": {},
   "outputs": [],
   "source": [
    "y_for_rolled =merge_df['carbon_credit_price'].shift(-1).dropna()[29:]"
   ]
  },
  {
   "cell_type": "code",
   "execution_count": 169,
   "id": "eaf5570d",
   "metadata": {},
   "outputs": [
    {
     "name": "stdout",
     "output_type": "stream",
     "text": [
      "(1274, 13)\n",
      "(1274,)\n"
     ]
    }
   ],
   "source": [
    "print(x_rolled.shape)\n",
    "print(y_for_rolled.shape)"
   ]
  },
  {
   "cell_type": "code",
   "execution_count": 170,
   "id": "5ee52793",
   "metadata": {},
   "outputs": [],
   "source": [
    "x_train1, x_test1, y_train1, y_test1 = train_test_split(x_rolled, y_for_rolled, random_state=100)\n",
    "scaler = StandardScaler()\n",
    "scaler.fit(x_train1)\n",
    "\n",
    "x_train_scaled1 = scaler.transform(x_train1)\n",
    "x_test_scaled1 = scaler.transform(x_test1)"
   ]
  },
  {
   "cell_type": "code",
   "execution_count": 171,
   "id": "ba36ac7d",
   "metadata": {},
   "outputs": [
    {
     "name": "stdout",
     "output_type": "stream",
     "text": [
      "LinearRegression\n",
      "rmse : 12.407733959028613\n",
      "r_score : 0.9671725558461569\n",
      "\n",
      "Ridge\n",
      "rmse : 12.625461997486607\n",
      "r_score : 0.9660103507265555\n",
      "\n",
      "Lasso\n",
      "rmse : 15.054679464170286\n",
      "r_score : 0.9516724085134313\n",
      "\n",
      "XGBRegressor\n",
      "rmse : 2.969306069658991\n",
      "r_score : 0.9981199817837311\n",
      "\n",
      "LGBMRegressor\n",
      "rmse : 3.239015881077424\n",
      "r_score : 0.9977629366641847\n",
      "\n",
      "RandomForestRegressor\n",
      "rmse : 3.008973191184412\n",
      "r_score : 0.9980694157360128\n",
      "\n"
     ]
    }
   ],
   "source": [
    "lr = LinearRegression()\n",
    "rid = Ridge()\n",
    "las = Lasso()\n",
    "xgb = XGBRegressor()\n",
    "lgbm = LGBMRegressor()\n",
    "rfr = RandomForestRegressor()\n",
    "\n",
    "lr.fit(x_train_scaled1, y_train1)\n",
    "lr_preds = lr.predict(x_test_scaled1)\n",
    "print('LinearRegression')\n",
    "print('rmse :', np.sqrt(mean_squared_error(y_test1, lr_preds)))\n",
    "print('r_score :', r2_score(y_test1, lr_preds))\n",
    "print()\n",
    "\n",
    "rid.fit(x_train_scaled1, y_train1)\n",
    "rid_preds = rid.predict(x_test_scaled1)\n",
    "print('Ridge')\n",
    "print('rmse :', np.sqrt(mean_squared_error(y_test1, rid_preds)))\n",
    "print('r_score :', r2_score(y_test1, rid_preds))\n",
    "print()\n",
    "\n",
    "las.fit(x_train_scaled1, y_train1)\n",
    "las_preds = las.predict(x_test_scaled1)\n",
    "print('Lasso')\n",
    "print('rmse :', np.sqrt(mean_squared_error(y_test1, las_preds)))\n",
    "print('r_score :', r2_score(y_test1, las_preds))\n",
    "print()\n",
    "\n",
    "xgb.fit(x_train_scaled1, y_train1)\n",
    "xgb_preds = xgb.predict(x_test_scaled1)\n",
    "print('XGBRegressor')\n",
    "print('rmse :', np.sqrt(mean_squared_error(y_test1, xgb_preds)))\n",
    "print('r_score :', r2_score(y_test1, xgb_preds))\n",
    "print()\n",
    "\n",
    "lgbm.fit(x_train_scaled1, y_train1)\n",
    "lgbm_preds = lgbm.predict(x_test_scaled1)\n",
    "print('LGBMRegressor')\n",
    "print('rmse :', np.sqrt(mean_squared_error(y_test1, lgbm_preds)))\n",
    "print('r_score :', r2_score(y_test1, lgbm_preds))\n",
    "print()\n",
    "\n",
    "rfr.fit(x_train_scaled1, y_train1)\n",
    "rfr_preds = rfr.predict(x_test_scaled1)\n",
    "print('RandomForestRegressor')\n",
    "print('rmse :', np.sqrt(mean_squared_error(y_test1, rfr_preds)))\n",
    "print('r_score :', r2_score(y_test1, rfr_preds))\n",
    "print()"
   ]
  },
  {
   "cell_type": "code",
   "execution_count": 172,
   "id": "7a5390ec",
   "metadata": {},
   "outputs": [
    {
     "data": {
      "text/plain": [
       "<AxesSubplot:>"
      ]
     },
     "execution_count": 172,
     "metadata": {},
     "output_type": "execute_result"
    },
    {
     "data": {
      "image/png": "[encoded data removed]",
      "text/plain": [
       "<Figure size 432x288 with 1 Axes>"
      ]
     },
     "metadata": {
      "needs_background": "light"
     },
     "output_type": "display_data"
    }
   ],
   "source": [
    "coef = pd.Series(lr.coef_, index = x_rolled.columns)\n",
    "coef_sort = coef.sort_values(ascending =False)[:20]\n",
    "sns.barplot(x = coef_sort.values, y = coef_sort.index)"
   ]
  },
  {
   "cell_type": "code",
   "execution_count": 173,
   "id": "19dac6f7",
   "metadata": {},
   "outputs": [
    {
     "data": {
      "text/plain": [
       "<AxesSubplot:>"
      ]
     },
     "execution_count": 173,
     "metadata": {},
     "output_type": "execute_result"
    },
    {
     "data": {
      "image/png": "[encoded data removed]",
      "text/plain": [
       "<Figure size 432x288 with 1 Axes>"
      ]
     },
     "metadata": {
      "needs_background": "light"
     },
     "output_type": "display_data"
    }
   ],
   "source": [
    "f_importances = pd.Series(lgbm.feature_importances_, index = x_rolled.columns)\n",
    "ip_sort = f_importances.sort_values(ascending =False)[:20]\n",
    "sns.barplot(x = ip_sort.values, y = ip_sort.index)"
   ]
  },
  {
   "cell_type": "code",
   "execution_count": 174,
   "id": "01f9435b",
   "metadata": {},
   "outputs": [
    {
     "data": {
      "text/plain": [
       "<AxesSubplot:>"
      ]
     },
     "execution_count": 174,
     "metadata": {},
     "output_type": "execute_result"
    },
    {
     "data": {
      "image/png": "[encoded data removed]",
      "text/plain": [
       "<Figure size 432x288 with 1 Axes>"
      ]
     },
     "metadata": {
      "needs_background": "light"
     },
     "output_type": "display_data"
    }
   ],
   "source": [
    "f_importances = pd.Series(rfr.feature_importances_, index = x_rolled.columns)\n",
    "ip_sort = f_importances.sort_values(ascending =False)[:20]\n",
    "sns.barplot(x = ip_sort.values, y = ip_sort.index)"
   ]
  },
  {
   "cell_type": "code",
   "execution_count": 175,
   "id": "ed043f72",
   "metadata": {
    "scrolled": true
   },
   "outputs": [
    {
     "data": {
      "text/plain": [
       "<AxesSubplot:>"
      ]
     },
     "execution_count": 175,
     "metadata": {},
     "output_type": "execute_result"
    },
    {
     "data": {
      "image/png": "[encoded data removed]",
      "text/plain": [
       "<Figure size 432x288 with 1 Axes>"
      ]
     },
     "metadata": {
      "needs_background": "light"
     },
     "output_type": "display_data"
    }
   ],
   "source": [
    "f_importances = pd.Series(xgb.feature_importances_, index = x_rolled.columns)\n",
    "ip_sort = f_importances.sort_values(ascending =False)[:20]\n",
    "sns.barplot(x = ip_sort.values, y = ip_sort.index)"
   ]
  },
  {
   "cell_type": "markdown",
   "id": "a8509b10",
   "metadata": {},
   "source": [
    "# x값들 = 30일 전값"
   ]
  },
  {
   "cell_type": "code",
   "execution_count": 193,
   "id": "1cc5a42c",
   "metadata": {},
   "outputs": [],
   "source": [
    "x_rolled = merge_df.drop('carbon_credit_price', axis= 1).shift(30).dropna()[:-1]"
   ]
  },
  {
   "cell_type": "code",
   "execution_count": 198,
   "id": "36a0518e",
   "metadata": {},
   "outputs": [],
   "source": [
    "y_for_rolled =merge_df['carbon_credit_price'].shift(-1).dropna()[30:]"
   ]
  },
  {
   "cell_type": "code",
   "execution_count": 199,
   "id": "754231af",
   "metadata": {},
   "outputs": [
    {
     "name": "stdout",
     "output_type": "stream",
     "text": [
      "(1273, 13)\n",
      "(1273,)\n"
     ]
    }
   ],
   "source": [
    "print(x_rolled.shape)\n",
    "print(y_for_rolled.shape)"
   ]
  },
  {
   "cell_type": "code",
   "execution_count": 200,
   "id": "24c48775",
   "metadata": {},
   "outputs": [],
   "source": [
    "x_train1, x_test1, y_train1, y_test1 = train_test_split(x_rolled, y_for_rolled, random_state=100)\n",
    "scaler = StandardScaler()\n",
    "scaler.fit(x_train1)\n",
    "\n",
    "x_train_scaled1 = scaler.transform(x_train1)\n",
    "x_test_scaled1 = scaler.transform(x_test1)"
   ]
  },
  {
   "cell_type": "code",
   "execution_count": 201,
   "id": "b40910c0",
   "metadata": {},
   "outputs": [
    {
     "name": "stdout",
     "output_type": "stream",
     "text": [
      "LinearRegression\n",
      "rmse : 14.744070493631593\n",
      "r_score : 0.9499877510500452\n",
      "\n",
      "Ridge\n",
      "rmse : 14.740940932971956\n",
      "r_score : 0.9500089798899213\n",
      "\n",
      "Lasso\n",
      "rmse : 16.931393681422875\n",
      "r_score : 0.9340481468998892\n",
      "\n",
      "XGBRegressor\n",
      "rmse : 5.513967531378876\n",
      "r_score : 0.9930052854487841\n",
      "\n",
      "LGBMRegressor\n",
      "rmse : 5.364178230103131\n",
      "r_score : 0.9933801524877763\n",
      "\n",
      "RandomForestRegressor\n",
      "rmse : 4.997573159546104\n",
      "r_score : 0.9942540755948245\n",
      "\n"
     ]
    }
   ],
   "source": [
    "lr = LinearRegression()\n",
    "rid = Ridge()\n",
    "las = Lasso()\n",
    "xgb = XGBRegressor()\n",
    "lgbm = LGBMRegressor()\n",
    "rfr = RandomForestRegressor()\n",
    "\n",
    "lr.fit(x_train_scaled1, y_train1)\n",
    "lr_preds = lr.predict(x_test_scaled1)\n",
    "print('LinearRegression')\n",
    "print('rmse :', np.sqrt(mean_squared_error(y_test1, lr_preds)))\n",
    "print('r_score :', r2_score(y_test1, lr_preds))\n",
    "print()\n",
    "\n",
    "rid.fit(x_train_scaled1, y_train1)\n",
    "rid_preds = rid.predict(x_test_scaled1)\n",
    "print('Ridge')\n",
    "print('rmse :', np.sqrt(mean_squared_error(y_test1, rid_preds)))\n",
    "print('r_score :', r2_score(y_test1, rid_preds))\n",
    "print()\n",
    "\n",
    "las.fit(x_train_scaled1, y_train1)\n",
    "las_preds = las.predict(x_test_scaled1)\n",
    "print('Lasso')\n",
    "print('rmse :', np.sqrt(mean_squared_error(y_test1, las_preds)))\n",
    "print('r_score :', r2_score(y_test1, las_preds))\n",
    "print()\n",
    "\n",
    "xgb.fit(x_train_scaled1, y_train1)\n",
    "xgb_preds = xgb.predict(x_test_scaled1)\n",
    "print('XGBRegressor')\n",
    "print('rmse :', np.sqrt(mean_squared_error(y_test1, xgb_preds)))\n",
    "print('r_score :', r2_score(y_test1, xgb_preds))\n",
    "print()\n",
    "\n",
    "lgbm.fit(x_train_scaled1, y_train1)\n",
    "lgbm_preds = lgbm.predict(x_test_scaled1)\n",
    "print('LGBMRegressor')\n",
    "print('rmse :', np.sqrt(mean_squared_error(y_test1, lgbm_preds)))\n",
    "print('r_score :', r2_score(y_test1, lgbm_preds))\n",
    "print()\n",
    "\n",
    "rfr.fit(x_train_scaled1, y_train1)\n",
    "rfr_preds = rfr.predict(x_test_scaled1)\n",
    "print('RandomForestRegressor')\n",
    "print('rmse :', np.sqrt(mean_squared_error(y_test1, rfr_preds)))\n",
    "print('r_score :', r2_score(y_test1, rfr_preds))\n",
    "print()"
   ]
  },
  {
   "cell_type": "markdown",
   "id": "c6fd0594",
   "metadata": {},
   "source": [
    "### => 0, 1로 볼 때 rolling 이용한 이동평균 값이 단순값보다 조금 더 예측력이 있어 보임"
   ]
  },
  {
   "cell_type": "code",
   "execution_count": null,
   "id": "983827a9",
   "metadata": {},
   "outputs": [],
   "source": []
  },
  {
   "cell_type": "code",
   "execution_count": 176,
   "id": "b5554f43",
   "metadata": {},
   "outputs": [
    {
     "data": {
      "text/plain": [
       "<AxesSubplot:>"
      ]
     },
     "execution_count": 176,
     "metadata": {},
     "output_type": "execute_result"
    },
    {
     "data": {
      "image/png": "[encoded data removed]",
      "text/plain": [
       "<Figure size 720x720 with 2 Axes>"
      ]
     },
     "metadata": {
      "needs_background": "light"
     },
     "output_type": "display_data"
    }
   ],
   "source": [
    "plt.figure(figsize=(10,10))\n",
    "sns.heatmap(merge_df.corr(), annot=True)"
   ]
  },
  {
   "cell_type": "markdown",
   "id": "782e6a87",
   "metadata": {},
   "source": [
    "### => euro_close랑 carbon 이랑 상관계수 0.93\n"
   ]
  },
  {
   "cell_type": "markdown",
   "id": "cd88b09b",
   "metadata": {},
   "source": [
    "# 3. euro Close만 가지고 모형 구축"
   ]
  },
  {
   "cell_type": "code",
   "execution_count": 180,
   "id": "c18c4740",
   "metadata": {},
   "outputs": [],
   "source": [
    "x = merge_df['euro_close'].values.reshape(-1,1)[:-1]\n",
    "y = merge_df['carbon_credit_price'].shift(-1).dropna()"
   ]
  },
  {
   "cell_type": "code",
   "execution_count": 181,
   "id": "a3ac657d",
   "metadata": {},
   "outputs": [
    {
     "name": "stdout",
     "output_type": "stream",
     "text": [
      "(1303, 1)\n",
      "(1303,)\n"
     ]
    }
   ],
   "source": [
    "print(x.shape)\n",
    "print(y.shape)"
   ]
  },
  {
   "cell_type": "code",
   "execution_count": 182,
   "id": "44134229",
   "metadata": {},
   "outputs": [],
   "source": [
    "x_train1, x_test1, y_train1, y_test1 = train_test_split(x, y, random_state=100)\n",
    "# scaler = StandardScaler()\n",
    "# scaler.fit(x_train1)\n",
    "\n",
    "# x_train_scaled1 = scaler.transform(x_train1)\n",
    "# x_test_scaled1 = scaler.transform(x_test1)"
   ]
  },
  {
   "cell_type": "code",
   "execution_count": 183,
   "id": "9766d3c0",
   "metadata": {},
   "outputs": [
    {
     "name": "stdout",
     "output_type": "stream",
     "text": [
      "LinearRegression\n",
      "rmse : 24.362824674942402\n",
      "r_score : 0.8774394831681318\n",
      "\n",
      "Ridge\n",
      "rmse : 24.36282467544235\n",
      "r_score : 0.8774394831631017\n",
      "\n",
      "Lasso\n",
      "rmse : 24.362847947343496\n",
      "r_score : 0.8774392490180358\n",
      "\n",
      "XGBRegressor\n",
      "rmse : 17.178844948105432\n",
      "r_score : 0.9390626977467644\n",
      "\n",
      "LGBMRegressor\n",
      "rmse : 16.22017897927381\n",
      "r_score : 0.9456741427517273\n",
      "\n",
      "RandomForestRegressor\n",
      "rmse : 17.590172514643065\n",
      "r_score : 0.9361096155298968\n",
      "\n"
     ]
    }
   ],
   "source": [
    "lr = LinearRegression()\n",
    "rid = Ridge()\n",
    "las = Lasso()\n",
    "xgb = XGBRegressor()\n",
    "lgbm = LGBMRegressor()\n",
    "rfr = RandomForestRegressor()\n",
    "\n",
    "lr.fit(x_train1, y_train1)\n",
    "lr_preds = lr.predict(x_test1)\n",
    "print('LinearRegression')\n",
    "print('rmse :', np.sqrt(mean_squared_error(y_test1, lr_preds)))\n",
    "print('r_score :', r2_score(y_test1, lr_preds))\n",
    "print()\n",
    "\n",
    "rid.fit(x_train1, y_train1)\n",
    "rid_preds = rid.predict(x_test1)\n",
    "print('Ridge')\n",
    "print('rmse :', np.sqrt(mean_squared_error(y_test1, rid_preds)))\n",
    "print('r_score :', r2_score(y_test1, rid_preds))\n",
    "print()\n",
    "\n",
    "las.fit(x_train1, y_train1)\n",
    "las_preds = las.predict(x_test1)\n",
    "print('Lasso')\n",
    "print('rmse :', np.sqrt(mean_squared_error(y_test1, las_preds)))\n",
    "print('r_score :', r2_score(y_test1, las_preds))\n",
    "print()\n",
    "\n",
    "xgb.fit(x_train1, y_train1)\n",
    "xgb_preds = xgb.predict(x_test1)\n",
    "print('XGBRegressor')\n",
    "print('rmse :', np.sqrt(mean_squared_error(y_test1, xgb_preds)))\n",
    "print('r_score :', r2_score(y_test1, xgb_preds))\n",
    "print()\n",
    "\n",
    "lgbm.fit(x_train1, y_train1)\n",
    "lgbm_preds = lgbm.predict(x_test1)\n",
    "print('LGBMRegressor')\n",
    "print('rmse :', np.sqrt(mean_squared_error(y_test1, lgbm_preds)))\n",
    "print('r_score :', r2_score(y_test1, lgbm_preds))\n",
    "print()\n",
    "\n",
    "rfr.fit(x_train1, y_train1)\n",
    "rfr_preds = rfr.predict(x_test1)\n",
    "print('RandomForestRegressor')\n",
    "print('rmse :', np.sqrt(mean_squared_error(y_test1, rfr_preds)))\n",
    "print('r_score :', r2_score(y_test1, rfr_preds))\n",
    "print()"
   ]
  },
  {
   "cell_type": "code",
   "execution_count": 184,
   "id": "ffb6c246",
   "metadata": {
    "scrolled": true
   },
   "outputs": [
    {
     "data": {
      "text/plain": [
       "<AxesSubplot:xlabel='date'>"
      ]
     },
     "execution_count": 184,
     "metadata": {},
     "output_type": "execute_result"
    },
    {
     "data": {
      "image/png": "[encoded data removed]",
      "text/plain": [
       "<Figure size 432x288 with 1 Axes>"
      ]
     },
     "metadata": {
      "needs_background": "light"
     },
     "output_type": "display_data"
    }
   ],
   "source": [
    "(merge_df['euro_close'].pct_change()+1).cumprod().plot(c='r')\n",
    "(merge_df['carbon_credit_price'].pct_change()+1).cumprod().plot()"
   ]
  },
  {
   "cell_type": "markdown",
   "id": "1a2603cd",
   "metadata": {},
   "source": [
    "## 3.0.1 shanghai_close, chinses 위안"
   ]
  },
  {
   "cell_type": "code",
   "execution_count": 241,
   "id": "f8fc64e3",
   "metadata": {},
   "outputs": [],
   "source": [
    "x_rolled = merge_df[['shanghai_close','cny_exchange']][1:]\n",
    "y_for_rolled = merge_df['carbon_credit_price'].shift(-1).dropna()"
   ]
  },
  {
   "cell_type": "code",
   "execution_count": 243,
   "id": "f61817ea",
   "metadata": {},
   "outputs": [
    {
     "name": "stdout",
     "output_type": "stream",
     "text": [
      "(1303, 2)\n",
      "(1303,)\n"
     ]
    }
   ],
   "source": [
    "print(x_rolled.shape)\n",
    "print(y_for_rolled.shape)"
   ]
  },
  {
   "cell_type": "code",
   "execution_count": 244,
   "id": "7cacfae5",
   "metadata": {},
   "outputs": [],
   "source": [
    "x_train1, x_test1, y_train1, y_test1 = train_test_split(x_rolled, y_for_rolled, random_state=100)\n",
    "scaler = StandardScaler()\n",
    "scaler.fit(x_train1)\n",
    "\n",
    "x_train_scaled1 = scaler.transform(x_train1)\n",
    "x_test_scaled1 = scaler.transform(x_test1)"
   ]
  },
  {
   "cell_type": "code",
   "execution_count": 245,
   "id": "0cf338b9",
   "metadata": {},
   "outputs": [
    {
     "name": "stdout",
     "output_type": "stream",
     "text": [
      "LinearRegression\n",
      "rmse : 40.343988350444036\n",
      "r_score : 0.6639120331370862\n",
      "\n",
      "Ridge\n",
      "rmse : 40.34473963119523\n",
      "r_score : 0.6638995158436052\n",
      "\n",
      "Lasso\n",
      "rmse : 40.384611010276\n",
      "r_score : 0.6632348734780589\n",
      "\n",
      "XGBRegressor\n",
      "rmse : 29.63219898188148\n",
      "r_score : 0.8186894536310414\n",
      "\n",
      "LGBMRegressor\n",
      "rmse : 26.933041585996666\n",
      "r_score : 0.8502157644353386\n",
      "\n",
      "RandomForestRegressor\n",
      "rmse : 27.289186470497146\n",
      "r_score : 0.8462282765740055\n",
      "\n"
     ]
    }
   ],
   "source": [
    "lr = LinearRegression()\n",
    "rid = Ridge()\n",
    "las = Lasso()\n",
    "xgb = XGBRegressor()\n",
    "lgbm = LGBMRegressor()\n",
    "rfr = RandomForestRegressor()\n",
    "\n",
    "lr.fit(x_train_scaled1, y_train1)\n",
    "lr_preds = lr.predict(x_test_scaled1)\n",
    "print('LinearRegression')\n",
    "print('rmse :', np.sqrt(mean_squared_error(y_test1, lr_preds)))\n",
    "print('r_score :', r2_score(y_test1, lr_preds))\n",
    "print()\n",
    "\n",
    "rid.fit(x_train_scaled1, y_train1)\n",
    "rid_preds = rid.predict(x_test_scaled1)\n",
    "print('Ridge')\n",
    "print('rmse :', np.sqrt(mean_squared_error(y_test1, rid_preds)))\n",
    "print('r_score :', r2_score(y_test1, rid_preds))\n",
    "print()\n",
    "\n",
    "las.fit(x_train_scaled1, y_train1)\n",
    "las_preds = las.predict(x_test_scaled1)\n",
    "print('Lasso')\n",
    "print('rmse :', np.sqrt(mean_squared_error(y_test1, las_preds)))\n",
    "print('r_score :', r2_score(y_test1, las_preds))\n",
    "print()\n",
    "\n",
    "xgb.fit(x_train_scaled1, y_train1)\n",
    "xgb_preds = xgb.predict(x_test_scaled1)\n",
    "print('XGBRegressor')\n",
    "print('rmse :', np.sqrt(mean_squared_error(y_test1, xgb_preds)))\n",
    "print('r_score :', r2_score(y_test1, xgb_preds))\n",
    "print()\n",
    "\n",
    "lgbm.fit(x_train_scaled1, y_train1)\n",
    "lgbm_preds = lgbm.predict(x_test_scaled1)\n",
    "print('LGBMRegressor')\n",
    "print('rmse :', np.sqrt(mean_squared_error(y_test1, lgbm_preds)))\n",
    "print('r_score :', r2_score(y_test1, lgbm_preds))\n",
    "print()\n",
    "\n",
    "rfr.fit(x_train_scaled1, y_train1)\n",
    "rfr_preds = rfr.predict(x_test_scaled1)\n",
    "print('RandomForestRegressor')\n",
    "print('rmse :', np.sqrt(mean_squared_error(y_test1, rfr_preds)))\n",
    "print('r_score :', r2_score(y_test1, rfr_preds))\n",
    "print()"
   ]
  },
  {
   "cell_type": "code",
   "execution_count": 246,
   "id": "a8714fd2",
   "metadata": {},
   "outputs": [
    {
     "data": {
      "text/plain": [
       "<AxesSubplot:>"
      ]
     },
     "execution_count": 246,
     "metadata": {},
     "output_type": "execute_result"
    },
    {
     "data": {
      "image/png": "[encoded data removed]",
      "text/plain": [
       "<Figure size 432x288 with 1 Axes>"
      ]
     },
     "metadata": {
      "needs_background": "light"
     },
     "output_type": "display_data"
    }
   ],
   "source": [
    "coef = pd.Series(lr.coef_, index = x_rolled.columns)\n",
    "coef_sort = coef.sort_values(ascending =False)[:20]\n",
    "sns.barplot(x = coef_sort.values, y = coef_sort.index)"
   ]
  },
  {
   "cell_type": "code",
   "execution_count": 247,
   "id": "f13c3d88",
   "metadata": {},
   "outputs": [
    {
     "data": {
      "text/plain": [
       "<AxesSubplot:>"
      ]
     },
     "execution_count": 247,
     "metadata": {},
     "output_type": "execute_result"
    },
    {
     "data": {
      "image/png": "[encoded data removed]",
      "text/plain": [
       "<Figure size 432x288 with 1 Axes>"
      ]
     },
     "metadata": {
      "needs_background": "light"
     },
     "output_type": "display_data"
    }
   ],
   "source": [
    "f_importances = pd.Series(lgbm.feature_importances_, index = x_rolled.columns)\n",
    "ip_sort = f_importances.sort_values(ascending =False)[:20]\n",
    "sns.barplot(x = ip_sort.values, y = ip_sort.index)"
   ]
  },
  {
   "cell_type": "code",
   "execution_count": 248,
   "id": "c1b6172e",
   "metadata": {},
   "outputs": [
    {
     "data": {
      "text/plain": [
       "<AxesSubplot:>"
      ]
     },
     "execution_count": 248,
     "metadata": {},
     "output_type": "execute_result"
    },
    {
     "data": {
      "image/png": "[encoded data removed]",
      "text/plain": [
       "<Figure size 432x288 with 1 Axes>"
      ]
     },
     "metadata": {
      "needs_background": "light"
     },
     "output_type": "display_data"
    }
   ],
   "source": [
    "f_importances = pd.Series(rfr.feature_importances_, index = x_rolled.columns)\n",
    "ip_sort = f_importances.sort_values(ascending =False)[:20]\n",
    "sns.barplot(x = ip_sort.values, y = ip_sort.index)"
   ]
  },
  {
   "cell_type": "code",
   "execution_count": null,
   "id": "813c8700",
   "metadata": {},
   "outputs": [],
   "source": []
  },
  {
   "cell_type": "code",
   "execution_count": null,
   "id": "356b7578",
   "metadata": {},
   "outputs": [],
   "source": []
  },
  {
   "cell_type": "code",
   "execution_count": null,
   "id": "fd6f583e",
   "metadata": {},
   "outputs": [],
   "source": []
  },
  {
   "cell_type": "code",
   "execution_count": null,
   "id": "0bcf299d",
   "metadata": {},
   "outputs": [],
   "source": []
  },
  {
   "cell_type": "markdown",
   "id": "a74b5d12",
   "metadata": {},
   "source": [
    "# 3.1 주식시장만으로 모형 (5일치 rollingmean)"
   ]
  },
  {
   "cell_type": "code",
   "execution_count": 202,
   "id": "f8a714e1",
   "metadata": {},
   "outputs": [
    {
     "data": {
      "text/plain": [
       "Index(['dutch_close', 'euro_close', 'london_close', 'nasdaq_close',\n",
       "       'paris_close', 'shanghai_close', 'cny_exchange', 'eur_exchange',\n",
       "       'gbp_exchange', 'usd_exchange', 'dubai_fuel', 'brent_fuel',\n",
       "       'texas_fuel', 'carbon_credit_price'],\n",
       "      dtype='object')"
      ]
     },
     "execution_count": 202,
     "metadata": {},
     "output_type": "execute_result"
    }
   ],
   "source": [
    "merge_df.columns"
   ]
  },
  {
   "cell_type": "code",
   "execution_count": 204,
   "id": "cd114e26",
   "metadata": {},
   "outputs": [],
   "source": [
    "x_rolled = merge_df.drop(['cny_exchange', 'eur_exchange',\n",
    "       'gbp_exchange', 'usd_exchange', 'dubai_fuel', 'brent_fuel',\n",
    "       'texas_fuel', 'carbon_credit_price'], axis= 1).rolling(5).mean().dropna()[:-1]"
   ]
  },
  {
   "cell_type": "code",
   "execution_count": 209,
   "id": "44e25a19",
   "metadata": {},
   "outputs": [],
   "source": [
    "y_for_rolled = merge_df['carbon_credit_price'].shift(-1).dropna()[4:]"
   ]
  },
  {
   "cell_type": "code",
   "execution_count": 211,
   "id": "1cb102ed",
   "metadata": {},
   "outputs": [],
   "source": [
    "x_train1, x_test1, y_train1, y_test1 = train_test_split(x_rolled, y_for_rolled, random_state=100)\n",
    "scaler = StandardScaler()\n",
    "scaler.fit(x_train1)\n",
    "\n",
    "x_train_scaled1 = scaler.transform(x_train1)\n",
    "x_test_scaled1 = scaler.transform(x_test1)"
   ]
  },
  {
   "cell_type": "code",
   "execution_count": 212,
   "id": "695ee871",
   "metadata": {},
   "outputs": [
    {
     "name": "stdout",
     "output_type": "stream",
     "text": [
      "LinearRegression\n",
      "rmse : 14.84008407899063\n",
      "r_score : 0.9456858824255963\n",
      "\n",
      "Ridge\n",
      "rmse : 14.869028871328707\n",
      "r_score : 0.9454738022237565\n",
      "\n",
      "Lasso\n",
      "rmse : 17.447133399064025\n",
      "r_score : 0.9249262398795983\n",
      "\n",
      "XGBRegressor\n",
      "rmse : 4.007787525863688\n",
      "r_score : 0.9960385937407503\n",
      "\n",
      "LGBMRegressor\n",
      "rmse : 4.248044400157637\n",
      "r_score : 0.9955494047545184\n",
      "\n",
      "RandomForestRegressor\n",
      "rmse : 4.13008982487158\n",
      "r_score : 0.9957931308943311\n",
      "\n"
     ]
    }
   ],
   "source": [
    "lr = LinearRegression()\n",
    "rid = Ridge()\n",
    "las = Lasso()\n",
    "xgb = XGBRegressor()\n",
    "lgbm = LGBMRegressor()\n",
    "rfr = RandomForestRegressor()\n",
    "\n",
    "lr.fit(x_train_scaled1, y_train1)\n",
    "lr_preds = lr.predict(x_test_scaled1)\n",
    "print('LinearRegression')\n",
    "print('rmse :', np.sqrt(mean_squared_error(y_test1, lr_preds)))\n",
    "print('r_score :', r2_score(y_test1, lr_preds))\n",
    "print()\n",
    "\n",
    "rid.fit(x_train_scaled1, y_train1)\n",
    "rid_preds = rid.predict(x_test_scaled1)\n",
    "print('Ridge')\n",
    "print('rmse :', np.sqrt(mean_squared_error(y_test1, rid_preds)))\n",
    "print('r_score :', r2_score(y_test1, rid_preds))\n",
    "print()\n",
    "\n",
    "las.fit(x_train_scaled1, y_train1)\n",
    "las_preds = las.predict(x_test_scaled1)\n",
    "print('Lasso')\n",
    "print('rmse :', np.sqrt(mean_squared_error(y_test1, las_preds)))\n",
    "print('r_score :', r2_score(y_test1, las_preds))\n",
    "print()\n",
    "\n",
    "xgb.fit(x_train_scaled1, y_train1)\n",
    "xgb_preds = xgb.predict(x_test_scaled1)\n",
    "print('XGBRegressor')\n",
    "print('rmse :', np.sqrt(mean_squared_error(y_test1, xgb_preds)))\n",
    "print('r_score :', r2_score(y_test1, xgb_preds))\n",
    "print()\n",
    "\n",
    "lgbm.fit(x_train_scaled1, y_train1)\n",
    "lgbm_preds = lgbm.predict(x_test_scaled1)\n",
    "print('LGBMRegressor')\n",
    "print('rmse :', np.sqrt(mean_squared_error(y_test1, lgbm_preds)))\n",
    "print('r_score :', r2_score(y_test1, lgbm_preds))\n",
    "print()\n",
    "\n",
    "rfr.fit(x_train_scaled1, y_train1)\n",
    "rfr_preds = rfr.predict(x_test_scaled1)\n",
    "print('RandomForestRegressor')\n",
    "print('rmse :', np.sqrt(mean_squared_error(y_test1, rfr_preds)))\n",
    "print('r_score :', r2_score(y_test1, rfr_preds))\n",
    "print()"
   ]
  },
  {
   "cell_type": "code",
   "execution_count": 213,
   "id": "938b3d61",
   "metadata": {},
   "outputs": [
    {
     "data": {
      "text/plain": [
       "<AxesSubplot:>"
      ]
     },
     "execution_count": 213,
     "metadata": {},
     "output_type": "execute_result"
    },
    {
     "data": {
      "image/png": "[encoded data removed]",
      "text/plain": [
       "<Figure size 432x288 with 1 Axes>"
      ]
     },
     "metadata": {
      "needs_background": "light"
     },
     "output_type": "display_data"
    }
   ],
   "source": [
    "coef = pd.Series(lr.coef_, index = x_rolled.columns)\n",
    "coef_sort = coef.sort_values(ascending =False)[:20]\n",
    "sns.barplot(x = coef_sort.values, y = coef_sort.index)"
   ]
  },
  {
   "cell_type": "code",
   "execution_count": 214,
   "id": "fff81101",
   "metadata": {},
   "outputs": [
    {
     "data": {
      "text/plain": [
       "<AxesSubplot:>"
      ]
     },
     "execution_count": 214,
     "metadata": {},
     "output_type": "execute_result"
    },
    {
     "data": {
      "image/png": "[encoded data removed]",
      "text/plain": [
       "<Figure size 432x288 with 1 Axes>"
      ]
     },
     "metadata": {
      "needs_background": "light"
     },
     "output_type": "display_data"
    }
   ],
   "source": [
    "f_importances = pd.Series(lgbm.feature_importances_, index = x_rolled.columns)\n",
    "ip_sort = f_importances.sort_values(ascending =False)[:20]\n",
    "sns.barplot(x = ip_sort.values, y = ip_sort.index)"
   ]
  },
  {
   "cell_type": "code",
   "execution_count": 215,
   "id": "4b0a0bd5",
   "metadata": {},
   "outputs": [
    {
     "data": {
      "text/plain": [
       "<AxesSubplot:>"
      ]
     },
     "execution_count": 215,
     "metadata": {},
     "output_type": "execute_result"
    },
    {
     "data": {
      "image/png": "[encoded data removed]",
      "text/plain": [
       "<Figure size 432x288 with 1 Axes>"
      ]
     },
     "metadata": {
      "needs_background": "light"
     },
     "output_type": "display_data"
    }
   ],
   "source": [
    "f_importances = pd.Series(rfr.feature_importances_, index = x_rolled.columns)\n",
    "ip_sort = f_importances.sort_values(ascending =False)[:20]\n",
    "sns.barplot(x = ip_sort.values, y = ip_sort.index)"
   ]
  },
  {
   "cell_type": "markdown",
   "id": "65b4f548",
   "metadata": {},
   "source": [
    "# 3.2화폐가격만으로 모형 (5일치 rollingmean)"
   ]
  },
  {
   "cell_type": "code",
   "execution_count": 216,
   "id": "27f90890",
   "metadata": {},
   "outputs": [
    {
     "data": {
      "text/plain": [
       "Index(['dutch_close', 'euro_close', 'london_close', 'nasdaq_close',\n",
       "       'paris_close', 'shanghai_close', 'cny_exchange', 'eur_exchange',\n",
       "       'gbp_exchange', 'usd_exchange', 'dubai_fuel', 'brent_fuel',\n",
       "       'texas_fuel', 'carbon_credit_price'],\n",
       "      dtype='object')"
      ]
     },
     "execution_count": 216,
     "metadata": {},
     "output_type": "execute_result"
    }
   ],
   "source": [
    "merge_df.columns"
   ]
  },
  {
   "cell_type": "code",
   "execution_count": 217,
   "id": "e7cdc304",
   "metadata": {},
   "outputs": [],
   "source": [
    "x_rolled = merge_df.drop(['dutch_close', 'euro_close', 'london_close', 'nasdaq_close',\n",
    "       'paris_close', 'shanghai_close', 'dubai_fuel', 'brent_fuel',\n",
    "       'texas_fuel', 'carbon_credit_price'], axis= 1).rolling(5).mean().dropna()[:-1]\n",
    "y_for_rolled = merge_df['carbon_credit_price'].shift(-1).dropna()[4:]"
   ]
  },
  {
   "cell_type": "code",
   "execution_count": 219,
   "id": "1d4b67e7",
   "metadata": {},
   "outputs": [],
   "source": [
    "x_train1, x_test1, y_train1, y_test1 = train_test_split(x_rolled, y_for_rolled, random_state=100)\n",
    "scaler = StandardScaler()\n",
    "scaler.fit(x_train1)\n",
    "\n",
    "x_train_scaled1 = scaler.transform(x_train1)\n",
    "x_test_scaled1 = scaler.transform(x_test1)"
   ]
  },
  {
   "cell_type": "code",
   "execution_count": 220,
   "id": "a5c44053",
   "metadata": {},
   "outputs": [
    {
     "name": "stdout",
     "output_type": "stream",
     "text": [
      "LinearRegression\n",
      "rmse : 52.23809343304472\n",
      "r_score : 0.3270006563002009\n",
      "\n",
      "Ridge\n",
      "rmse : 52.235262031429656\n",
      "r_score : 0.32707360994999135\n",
      "\n",
      "Lasso\n",
      "rmse : 52.29664169006017\n",
      "r_score : 0.3254912206647391\n",
      "\n",
      "XGBRegressor\n",
      "rmse : 12.691636308460547\n",
      "r_score : 0.9602739630725208\n",
      "\n",
      "LGBMRegressor\n",
      "rmse : 16.928397094385687\n",
      "r_score : 0.9293240457839972\n",
      "\n",
      "RandomForestRegressor\n",
      "rmse : 13.105364940200866\n",
      "r_score : 0.9576417271807018\n",
      "\n"
     ]
    }
   ],
   "source": [
    "lr = LinearRegression()\n",
    "rid = Ridge()\n",
    "las = Lasso()\n",
    "xgb = XGBRegressor()\n",
    "lgbm = LGBMRegressor()\n",
    "rfr = RandomForestRegressor()\n",
    "\n",
    "lr.fit(x_train_scaled1, y_train1)\n",
    "lr_preds = lr.predict(x_test_scaled1)\n",
    "print('LinearRegression')\n",
    "print('rmse :', np.sqrt(mean_squared_error(y_test1, lr_preds)))\n",
    "print('r_score :', r2_score(y_test1, lr_preds))\n",
    "print()\n",
    "\n",
    "rid.fit(x_train_scaled1, y_train1)\n",
    "rid_preds = rid.predict(x_test_scaled1)\n",
    "print('Ridge')\n",
    "print('rmse :', np.sqrt(mean_squared_error(y_test1, rid_preds)))\n",
    "print('r_score :', r2_score(y_test1, rid_preds))\n",
    "print()\n",
    "\n",
    "las.fit(x_train_scaled1, y_train1)\n",
    "las_preds = las.predict(x_test_scaled1)\n",
    "print('Lasso')\n",
    "print('rmse :', np.sqrt(mean_squared_error(y_test1, las_preds)))\n",
    "print('r_score :', r2_score(y_test1, las_preds))\n",
    "print()\n",
    "\n",
    "xgb.fit(x_train_scaled1, y_train1)\n",
    "xgb_preds = xgb.predict(x_test_scaled1)\n",
    "print('XGBRegressor')\n",
    "print('rmse :', np.sqrt(mean_squared_error(y_test1, xgb_preds)))\n",
    "print('r_score :', r2_score(y_test1, xgb_preds))\n",
    "print()\n",
    "\n",
    "lgbm.fit(x_train_scaled1, y_train1)\n",
    "lgbm_preds = lgbm.predict(x_test_scaled1)\n",
    "print('LGBMRegressor')\n",
    "print('rmse :', np.sqrt(mean_squared_error(y_test1, lgbm_preds)))\n",
    "print('r_score :', r2_score(y_test1, lgbm_preds))\n",
    "print()\n",
    "\n",
    "rfr.fit(x_train_scaled1, y_train1)\n",
    "rfr_preds = rfr.predict(x_test_scaled1)\n",
    "print('RandomForestRegressor')\n",
    "print('rmse :', np.sqrt(mean_squared_error(y_test1, rfr_preds)))\n",
    "print('r_score :', r2_score(y_test1, rfr_preds))\n",
    "print()"
   ]
  },
  {
   "cell_type": "code",
   "execution_count": 221,
   "id": "1627a505",
   "metadata": {},
   "outputs": [
    {
     "data": {
      "text/plain": [
       "<AxesSubplot:>"
      ]
     },
     "execution_count": 221,
     "metadata": {},
     "output_type": "execute_result"
    },
    {
     "data": {
      "image/png": "[encoded data removed]",
      "text/plain": [
       "<Figure size 432x288 with 1 Axes>"
      ]
     },
     "metadata": {
      "needs_background": "light"
     },
     "output_type": "display_data"
    }
   ],
   "source": [
    "coef = pd.Series(lr.coef_, index = x_rolled.columns)\n",
    "coef_sort = coef.sort_values(ascending =False)[:20]\n",
    "sns.barplot(x = coef_sort.values, y = coef_sort.index)"
   ]
  },
  {
   "cell_type": "code",
   "execution_count": 222,
   "id": "de4534ac",
   "metadata": {},
   "outputs": [
    {
     "data": {
      "text/plain": [
       "<AxesSubplot:>"
      ]
     },
     "execution_count": 222,
     "metadata": {},
     "output_type": "execute_result"
    },
    {
     "data": {
      "image/png": "[encoded data removed]",
      "text/plain": [
       "<Figure size 432x288 with 1 Axes>"
      ]
     },
     "metadata": {
      "needs_background": "light"
     },
     "output_type": "display_data"
    }
   ],
   "source": [
    "f_importances = pd.Series(lgbm.feature_importances_, index = x_rolled.columns)\n",
    "ip_sort = f_importances.sort_values(ascending =False)[:20]\n",
    "sns.barplot(x = ip_sort.values, y = ip_sort.index)"
   ]
  },
  {
   "cell_type": "code",
   "execution_count": 223,
   "id": "355a31d6",
   "metadata": {},
   "outputs": [
    {
     "data": {
      "text/plain": [
       "<AxesSubplot:>"
      ]
     },
     "execution_count": 223,
     "metadata": {},
     "output_type": "execute_result"
    },
    {
     "data": {
      "image/png": "[encoded data removed]",
      "text/plain": [
       "<Figure size 432x288 with 1 Axes>"
      ]
     },
     "metadata": {
      "needs_background": "light"
     },
     "output_type": "display_data"
    }
   ],
   "source": [
    "f_importances = pd.Series(rfr.feature_importances_, index = x_rolled.columns)\n",
    "ip_sort = f_importances.sort_values(ascending =False)[:20]\n",
    "sns.barplot(x = ip_sort.values, y = ip_sort.index)"
   ]
  },
  {
   "cell_type": "markdown",
   "id": "01fded04",
   "metadata": {},
   "source": [
    "# 3.3 유가만으로 모형 (5일치 rollingmean)"
   ]
  },
  {
   "cell_type": "code",
   "execution_count": 224,
   "id": "ce740fe9",
   "metadata": {},
   "outputs": [
    {
     "data": {
      "text/plain": [
       "Index(['dutch_close', 'euro_close', 'london_close', 'nasdaq_close',\n",
       "       'paris_close', 'shanghai_close', 'cny_exchange', 'eur_exchange',\n",
       "       'gbp_exchange', 'usd_exchange', 'dubai_fuel', 'brent_fuel',\n",
       "       'texas_fuel', 'carbon_credit_price'],\n",
       "      dtype='object')"
      ]
     },
     "execution_count": 224,
     "metadata": {},
     "output_type": "execute_result"
    }
   ],
   "source": [
    "merge_df.columns"
   ]
  },
  {
   "cell_type": "code",
   "execution_count": 225,
   "id": "2d5cd0be",
   "metadata": {},
   "outputs": [],
   "source": [
    "x_rolled = merge_df.drop(['dutch_close', 'euro_close', 'london_close', 'nasdaq_close',\n",
    "       'paris_close', 'shanghai_close', 'cny_exchange', 'eur_exchange',\n",
    "       'gbp_exchange', 'usd_exchange',  'carbon_credit_price'], axis= 1).rolling(5).mean().dropna()[:-1]\n",
    "y_for_rolled = merge_df['carbon_credit_price'].shift(-1).dropna()[4:]"
   ]
  },
  {
   "cell_type": "code",
   "execution_count": 226,
   "id": "92422312",
   "metadata": {},
   "outputs": [],
   "source": [
    "x_train1, x_test1, y_train1, y_test1 = train_test_split(x_rolled, y_for_rolled, random_state=100)\n",
    "scaler = StandardScaler()\n",
    "scaler.fit(x_train1)\n",
    "\n",
    "x_train_scaled1 = scaler.transform(x_train1)\n",
    "x_test_scaled1 = scaler.transform(x_test1)"
   ]
  },
  {
   "cell_type": "code",
   "execution_count": 227,
   "id": "3dc0af66",
   "metadata": {},
   "outputs": [
    {
     "name": "stdout",
     "output_type": "stream",
     "text": [
      "LinearRegression\n",
      "rmse : 56.67685535888263\n",
      "r_score : 0.20776961172071595\n",
      "\n",
      "Ridge\n",
      "rmse : 56.4820044113004\n",
      "r_score : 0.21320751013058614\n",
      "\n",
      "Lasso\n",
      "rmse : 58.10866450626193\n",
      "r_score : 0.16723628557650194\n",
      "\n",
      "XGBRegressor\n",
      "rmse : 32.64486294964253\n",
      "r_score : 0.7371731655135729\n",
      "\n",
      "LGBMRegressor\n",
      "rmse : 28.600749236817833\n",
      "r_score : 0.7982586951445048\n",
      "\n",
      "RandomForestRegressor\n",
      "rmse : 27.875663505340718\n",
      "r_score : 0.8083581159383009\n",
      "\n"
     ]
    }
   ],
   "source": [
    "lr = LinearRegression()\n",
    "rid = Ridge()\n",
    "las = Lasso()\n",
    "xgb = XGBRegressor()\n",
    "lgbm = LGBMRegressor()\n",
    "rfr = RandomForestRegressor()\n",
    "\n",
    "lr.fit(x_train_scaled1, y_train1)\n",
    "lr_preds = lr.predict(x_test_scaled1)\n",
    "print('LinearRegression')\n",
    "print('rmse :', np.sqrt(mean_squared_error(y_test1, lr_preds)))\n",
    "print('r_score :', r2_score(y_test1, lr_preds))\n",
    "print()\n",
    "\n",
    "rid.fit(x_train_scaled1, y_train1)\n",
    "rid_preds = rid.predict(x_test_scaled1)\n",
    "print('Ridge')\n",
    "print('rmse :', np.sqrt(mean_squared_error(y_test1, rid_preds)))\n",
    "print('r_score :', r2_score(y_test1, rid_preds))\n",
    "print()\n",
    "\n",
    "las.fit(x_train_scaled1, y_train1)\n",
    "las_preds = las.predict(x_test_scaled1)\n",
    "print('Lasso')\n",
    "print('rmse :', np.sqrt(mean_squared_error(y_test1, las_preds)))\n",
    "print('r_score :', r2_score(y_test1, las_preds))\n",
    "print()\n",
    "\n",
    "xgb.fit(x_train_scaled1, y_train1)\n",
    "xgb_preds = xgb.predict(x_test_scaled1)\n",
    "print('XGBRegressor')\n",
    "print('rmse :', np.sqrt(mean_squared_error(y_test1, xgb_preds)))\n",
    "print('r_score :', r2_score(y_test1, xgb_preds))\n",
    "print()\n",
    "\n",
    "lgbm.fit(x_train_scaled1, y_train1)\n",
    "lgbm_preds = lgbm.predict(x_test_scaled1)\n",
    "print('LGBMRegressor')\n",
    "print('rmse :', np.sqrt(mean_squared_error(y_test1, lgbm_preds)))\n",
    "print('r_score :', r2_score(y_test1, lgbm_preds))\n",
    "print()\n",
    "\n",
    "rfr.fit(x_train_scaled1, y_train1)\n",
    "rfr_preds = rfr.predict(x_test_scaled1)\n",
    "print('RandomForestRegressor')\n",
    "print('rmse :', np.sqrt(mean_squared_error(y_test1, rfr_preds)))\n",
    "print('r_score :', r2_score(y_test1, rfr_preds))\n",
    "print()"
   ]
  },
  {
   "cell_type": "code",
   "execution_count": 228,
   "id": "a7277196",
   "metadata": {},
   "outputs": [
    {
     "data": {
      "text/plain": [
       "<AxesSubplot:>"
      ]
     },
     "execution_count": 228,
     "metadata": {},
     "output_type": "execute_result"
    },
    {
     "data": {
      "image/png": "[encoded data removed]",
      "text/plain": [
       "<Figure size 432x288 with 1 Axes>"
      ]
     },
     "metadata": {
      "needs_background": "light"
     },
     "output_type": "display_data"
    }
   ],
   "source": [
    "coef = pd.Series(lr.coef_, index = x_rolled.columns)\n",
    "coef_sort = coef.sort_values(ascending =False)[:20]\n",
    "sns.barplot(x = coef_sort.values, y = coef_sort.index)"
   ]
  },
  {
   "cell_type": "code",
   "execution_count": 229,
   "id": "d70c51e2",
   "metadata": {},
   "outputs": [
    {
     "data": {
      "text/plain": [
       "<AxesSubplot:>"
      ]
     },
     "execution_count": 229,
     "metadata": {},
     "output_type": "execute_result"
    },
    {
     "data": {
      "image/png": "[encoded data removed]",
      "text/plain": [
       "<Figure size 432x288 with 1 Axes>"
      ]
     },
     "metadata": {
      "needs_background": "light"
     },
     "output_type": "display_data"
    }
   ],
   "source": [
    "f_importances = pd.Series(lgbm.feature_importances_, index = x_rolled.columns)\n",
    "ip_sort = f_importances.sort_values(ascending =False)[:20]\n",
    "sns.barplot(x = ip_sort.values, y = ip_sort.index)"
   ]
  },
  {
   "cell_type": "code",
   "execution_count": 230,
   "id": "75086320",
   "metadata": {},
   "outputs": [
    {
     "data": {
      "text/plain": [
       "<AxesSubplot:>"
      ]
     },
     "execution_count": 230,
     "metadata": {},
     "output_type": "execute_result"
    },
    {
     "data": {
      "image/png": "[encoded data removed]",
      "text/plain": [
       "<Figure size 432x288 with 1 Axes>"
      ]
     },
     "metadata": {
      "needs_background": "light"
     },
     "output_type": "display_data"
    }
   ],
   "source": [
    "f_importances = pd.Series(rfr.feature_importances_, index = x_rolled.columns)\n",
    "ip_sort = f_importances.sort_values(ascending =False)[:20]\n",
    "sns.barplot(x = ip_sort.values, y = ip_sort.index)"
   ]
  },
  {
   "cell_type": "markdown",
   "id": "e01bafce",
   "metadata": {},
   "source": [
    "# 3-4, 가장 설명력 높은 피쳐만 모아서 모형(eu_close, 위안, 텍사스).rolling5"
   ]
  },
  {
   "cell_type": "code",
   "execution_count": 231,
   "id": "8be31e38",
   "metadata": {},
   "outputs": [
    {
     "data": {
      "text/plain": [
       "Index(['dutch_close', 'euro_close', 'london_close', 'nasdaq_close',\n",
       "       'paris_close', 'shanghai_close', 'cny_exchange', 'eur_exchange',\n",
       "       'gbp_exchange', 'usd_exchange', 'dubai_fuel', 'brent_fuel',\n",
       "       'texas_fuel', 'carbon_credit_price'],\n",
       "      dtype='object')"
      ]
     },
     "execution_count": 231,
     "metadata": {},
     "output_type": "execute_result"
    }
   ],
   "source": [
    "merge_df.columns"
   ]
  },
  {
   "cell_type": "code",
   "execution_count": 232,
   "id": "573e43bb",
   "metadata": {},
   "outputs": [],
   "source": [
    "x_rolled = merge_df[['euro_close', 'cny_exchange','texas_fuel']].rolling(5).mean().dropna()[:-1]\n",
    "y_for_rolled = merge_df['carbon_credit_price'].shift(-1).dropna()[4:]"
   ]
  },
  {
   "cell_type": "code",
   "execution_count": 233,
   "id": "26780b8b",
   "metadata": {},
   "outputs": [],
   "source": [
    "x_train1, x_test1, y_train1, y_test1 = train_test_split(x_rolled, y_for_rolled, random_state=100)\n",
    "scaler = StandardScaler()\n",
    "scaler.fit(x_train1)\n",
    "\n",
    "x_train_scaled1 = scaler.transform(x_train1)\n",
    "x_test_scaled1 = scaler.transform(x_test1)"
   ]
  },
  {
   "cell_type": "code",
   "execution_count": 234,
   "id": "8523d2aa",
   "metadata": {},
   "outputs": [
    {
     "name": "stdout",
     "output_type": "stream",
     "text": [
      "LinearRegression\n",
      "rmse : 21.688478160181933\n",
      "r_score : 0.883989268841259\n",
      "\n",
      "Ridge\n",
      "rmse : 21.689426759083243\n",
      "r_score : 0.8839791205903852\n",
      "\n",
      "Lasso\n",
      "rmse : 21.7208996467664\n",
      "r_score : 0.8836421673414194\n",
      "\n",
      "XGBRegressor\n",
      "rmse : 6.272097043027582\n",
      "r_score : 0.990297904538254\n",
      "\n",
      "LGBMRegressor\n",
      "rmse : 6.295516504208498\n",
      "r_score : 0.9902253157207491\n",
      "\n",
      "RandomForestRegressor\n",
      "rmse : 5.414519101256991\n",
      "r_score : 0.9927696422648723\n",
      "\n"
     ]
    }
   ],
   "source": [
    "lr = LinearRegression()\n",
    "rid = Ridge()\n",
    "las = Lasso()\n",
    "xgb = XGBRegressor()\n",
    "lgbm = LGBMRegressor()\n",
    "rfr = RandomForestRegressor()\n",
    "\n",
    "lr.fit(x_train_scaled1, y_train1)\n",
    "lr_preds = lr.predict(x_test_scaled1)\n",
    "print('LinearRegression')\n",
    "print('rmse :', np.sqrt(mean_squared_error(y_test1, lr_preds)))\n",
    "print('r_score :', r2_score(y_test1, lr_preds))\n",
    "print()\n",
    "\n",
    "rid.fit(x_train_scaled1, y_train1)\n",
    "rid_preds = rid.predict(x_test_scaled1)\n",
    "print('Ridge')\n",
    "print('rmse :', np.sqrt(mean_squared_error(y_test1, rid_preds)))\n",
    "print('r_score :', r2_score(y_test1, rid_preds))\n",
    "print()\n",
    "\n",
    "las.fit(x_train_scaled1, y_train1)\n",
    "las_preds = las.predict(x_test_scaled1)\n",
    "print('Lasso')\n",
    "print('rmse :', np.sqrt(mean_squared_error(y_test1, las_preds)))\n",
    "print('r_score :', r2_score(y_test1, las_preds))\n",
    "print()\n",
    "\n",
    "xgb.fit(x_train_scaled1, y_train1)\n",
    "xgb_preds = xgb.predict(x_test_scaled1)\n",
    "print('XGBRegressor')\n",
    "print('rmse :', np.sqrt(mean_squared_error(y_test1, xgb_preds)))\n",
    "print('r_score :', r2_score(y_test1, xgb_preds))\n",
    "print()\n",
    "\n",
    "lgbm.fit(x_train_scaled1, y_train1)\n",
    "lgbm_preds = lgbm.predict(x_test_scaled1)\n",
    "print('LGBMRegressor')\n",
    "print('rmse :', np.sqrt(mean_squared_error(y_test1, lgbm_preds)))\n",
    "print('r_score :', r2_score(y_test1, lgbm_preds))\n",
    "print()\n",
    "\n",
    "rfr.fit(x_train_scaled1, y_train1)\n",
    "rfr_preds = rfr.predict(x_test_scaled1)\n",
    "print('RandomForestRegressor')\n",
    "print('rmse :', np.sqrt(mean_squared_error(y_test1, rfr_preds)))\n",
    "print('r_score :', r2_score(y_test1, rfr_preds))\n",
    "print()"
   ]
  },
  {
   "cell_type": "markdown",
   "id": "949a970c",
   "metadata": {},
   "source": [
    "### => lr기준으로 봤을 때 eu_close만 넣은 것(shift(-1_).0.87)보다  조금 높아짐"
   ]
  },
  {
   "cell_type": "code",
   "execution_count": 235,
   "id": "b69a14db",
   "metadata": {
    "scrolled": true
   },
   "outputs": [
    {
     "data": {
      "text/plain": [
       "<AxesSubplot:>"
      ]
     },
     "execution_count": 235,
     "metadata": {},
     "output_type": "execute_result"
    },
    {
     "data": {
      "image/png": "[encoded data removed]",
      "text/plain": [
       "<Figure size 432x288 with 1 Axes>"
      ]
     },
     "metadata": {
      "needs_background": "light"
     },
     "output_type": "display_data"
    }
   ],
   "source": [
    "coef = pd.Series(lr.coef_, index = x_rolled.columns)\n",
    "coef_sort = coef.sort_values(ascending =False)[:20]\n",
    "sns.barplot(x = coef_sort.values, y = coef_sort.index)"
   ]
  },
  {
   "cell_type": "code",
   "execution_count": 236,
   "id": "74fa4452",
   "metadata": {},
   "outputs": [
    {
     "data": {
      "text/plain": [
       "<AxesSubplot:>"
      ]
     },
     "execution_count": 236,
     "metadata": {},
     "output_type": "execute_result"
    },
    {
     "data": {
      "image/png": "[encoded data removed]",
      "text/plain": [
       "<Figure size 432x288 with 1 Axes>"
      ]
     },
     "metadata": {
      "needs_background": "light"
     },
     "output_type": "display_data"
    }
   ],
   "source": [
    "f_importances = pd.Series(lgbm.feature_importances_, index = x_rolled.columns)\n",
    "ip_sort = f_importances.sort_values(ascending =False)[:20]\n",
    "sns.barplot(x = ip_sort.values, y = ip_sort.index)"
   ]
  },
  {
   "cell_type": "code",
   "execution_count": 237,
   "id": "54f7fc97",
   "metadata": {},
   "outputs": [
    {
     "data": {
      "text/plain": [
       "<AxesSubplot:>"
      ]
     },
     "execution_count": 237,
     "metadata": {},
     "output_type": "execute_result"
    },
    {
     "data": {
      "image/png": "[encoded data removed]",
      "text/plain": [
       "<Figure size 432x288 with 1 Axes>"
      ]
     },
     "metadata": {
      "needs_background": "light"
     },
     "output_type": "display_data"
    }
   ],
   "source": [
    "f_importances = pd.Series(rfr.feature_importances_, index = x_rolled.columns)\n",
    "ip_sort = f_importances.sort_values(ascending =False)[:20]\n",
    "sns.barplot(x = ip_sort.values, y = ip_sort.index)"
   ]
  },
  {
   "cell_type": "code",
   "execution_count": null,
   "id": "1b5ef8d2",
   "metadata": {},
   "outputs": [],
   "source": []
  },
  {
   "cell_type": "code",
   "execution_count": null,
   "id": "42f12b9b",
   "metadata": {},
   "outputs": [],
   "source": []
  },
  {
   "cell_type": "code",
   "execution_count": null,
   "id": "7411e67e",
   "metadata": {},
   "outputs": [],
   "source": []
  },
  {
   "cell_type": "code",
   "execution_count": null,
   "id": "0573fb87",
   "metadata": {},
   "outputs": [],
   "source": []
  },
  {
   "cell_type": "code",
   "execution_count": null,
   "id": "3ace2eb9",
   "metadata": {},
   "outputs": [],
   "source": []
  },
  {
   "cell_type": "code",
   "execution_count": null,
   "id": "770585b9",
   "metadata": {},
   "outputs": [],
   "source": []
  },
  {
   "cell_type": "code",
   "execution_count": null,
   "id": "c7804092",
   "metadata": {},
   "outputs": [],
   "source": []
  },
  {
   "cell_type": "code",
   "execution_count": null,
   "id": "efd7d0bb",
   "metadata": {},
   "outputs": [],
   "source": []
  }
 ],
 "metadata": {
  "kernelspec": {
   "display_name": "Python 3",
   "language": "python",
   "name": "python3"
  },
  "language_info": {
   "codemirror_mode": {
    "name": "ipython",
    "version": 3
   },
   "file_extension": ".py",
   "mimetype": "text/x-python",
   "name": "python",
   "nbconvert_exporter": "python",
   "pygments_lexer": "ipython3",
   "version": "3.8.8"
  }
 },
 "nbformat": 4,
 "nbformat_minor": 5
}
