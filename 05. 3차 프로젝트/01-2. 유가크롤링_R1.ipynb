{
 "cells": [
  {
   "cell_type": "code",
   "execution_count": 1,
   "id": "345f4fed",
   "metadata": {},
   "outputs": [],
   "source": [
    "# 네이버 증권 유가 크롤링"
   ]
  },
  {
   "cell_type": "code",
   "execution_count": 1,
   "id": "f122d79d",
   "metadata": {},
   "outputs": [],
   "source": [
    "import pandas as pd\n",
    "import numpy as np\n",
    "import seaborn as sns\n",
    "import matplotlib.pyplot as plt"
   ]
  },
  {
   "cell_type": "code",
   "execution_count": 2,
   "id": "62e47f8b",
   "metadata": {},
   "outputs": [],
   "source": [
    "import os\n",
    "from bs4 import BeautifulSoup\n",
    "import requests\n",
    "from selenium import webdriver\n",
    "from selenium.webdriver.common.keys import Keys\n",
    "\n",
    "import datetime\n",
    "import re"
   ]
  },
  {
   "cell_type": "code",
   "execution_count": null,
   "id": "216334c7",
   "metadata": {},
   "outputs": [],
   "source": [
    "import warnings\n",
    "warnings.simplefilter(\"ignore\")\n",
    "\n",
    "\n",
    "import matplotlib as mpl\n",
    "import matplotlib.font_manager as fm\n",
    "\n",
    "mpl.rcParams['axes.unicode_minus']= False\n",
    "\n",
    "path = 'C:/Windows/Fonts/malgun.ttf'\n",
    "font_name = fm.FontProperties(fname = path, size = 50).get_name()\n",
    "plt.rc('font', family=font_name)"
   ]
  },
  {
   "cell_type": "code",
   "execution_count": 3,
   "id": "9d91d247",
   "metadata": {
    "scrolled": true
   },
   "outputs": [
    {
     "data": {
      "text/plain": [
       "datetime.timedelta(days=2143)"
      ]
     },
     "execution_count": 3,
     "metadata": {},
     "output_type": "execute_result"
    }
   ],
   "source": [
    "(datetime.datetime(2021,11,12) - datetime.datetime(2015,12,31))"
   ]
  },
  {
   "cell_type": "markdown",
   "id": "a8196dfa",
   "metadata": {},
   "source": [
    "# 1. 두바이유 유가 크롤링\n",
    "# 기간 : 2016/01/01~2021/10/31"
   ]
  },
  {
   "cell_type": "code",
   "execution_count": 4,
   "id": "341fb1fa",
   "metadata": {},
   "outputs": [],
   "source": [
    "# 두바이유\n",
    "\n",
    "url_du = 'https://finance.naver.com/marketindex/worldDailyQuote.naver?marketindexCd=OIL_DU&fdtc=2'\n",
    "# url_du_p = 'https://finance.naver.com/marketindex/worldDailyQuote.naver?marketindexCd=OIL_DU&fdtc=2&page={}'.format(i)\n",
    "\n",
    "L_d = []\n",
    "for i in range(1,250):\n",
    "    url_du_p = 'https://finance.naver.com/marketindex/worldDailyQuote.naver?marketindexCd=OIL_DU&fdtc=2&page={}'.format(i)\n",
    "    \n",
    "    res = requests.get(url_du_p)\n",
    "    \n",
    "    soup = BeautifulSoup(res.text, 'html.parser')\n",
    "    \n",
    "    path1 = 'body > div > table > tbody > tr'\n",
    "    date = soup.select(path1)\n",
    "\n",
    "# 정규표현식을 이용하여 단어 클리닝        \n",
    "    for i in date:\n",
    "        i = re.sub('[\\n\\t]', '', i.text)\n",
    "        L_d.append(i)\n",
    "    "
   ]
  },
  {
   "cell_type": "code",
   "execution_count": 5,
   "id": "636a9973",
   "metadata": {},
   "outputs": [],
   "source": [
    "# 추출된 리스트를 각 변수로 나눈다.\n",
    "date = np.array([i[:10] for i in L_d ])\n",
    "Close = np.array([i[10:15] for i in L_d ])\n",
    "# before = np.array([i[15:20] for i in L ])\n",
    "# ratio = np.array([i[20:] for i in L ])\n",
    "\n",
    "# 데이터를 판다스로 저장\n",
    "dic = {'날짜' : date, '종가' : Close}   #, '전일대비' : before, '등락율' : ratio}\n",
    "df_Du = pd.DataFrame(dic)\n",
    "df_Du['날짜'] = df_Du['날짜'].astype('datetime64[ns]')\n",
    "df_Du['종가'] = df_Du['종가'].astype('float64')\n",
    "# df_Du['등락율'] = df_Du['등락율'].apply(lambda x : re.sub('%','',x))\n",
    "# df_Du[['종가','전일대비','등락율']] = df_Du[['종가','전일대비','등락율']].astype('float64')"
   ]
  },
  {
   "cell_type": "code",
   "execution_count": 6,
   "id": "1157cea3",
   "metadata": {},
   "outputs": [
    {
     "data": {
      "text/plain": [
       "1743"
      ]
     },
     "execution_count": 6,
     "metadata": {},
     "output_type": "execute_result"
    }
   ],
   "source": [
    "len(L_d)"
   ]
  },
  {
   "cell_type": "code",
   "execution_count": 7,
   "id": "30e25c91",
   "metadata": {},
   "outputs": [
    {
     "data": {
      "text/plain": [
       "(1743, 2)"
      ]
     },
     "execution_count": 7,
     "metadata": {},
     "output_type": "execute_result"
    }
   ],
   "source": [
    "df_Du.shape"
   ]
  },
  {
   "cell_type": "code",
   "execution_count": 8,
   "id": "6408d553",
   "metadata": {},
   "outputs": [
    {
     "data": {
      "text/html": [
       "<div>\n",
       "<style scoped>\n",
       "    .dataframe tbody tr th:only-of-type {\n",
       "        vertical-align: middle;\n",
       "    }\n",
       "\n",
       "    .dataframe tbody tr th {\n",
       "        vertical-align: top;\n",
       "    }\n",
       "\n",
       "    .dataframe thead th {\n",
       "        text-align: right;\n",
       "    }\n",
       "</style>\n",
       "<table border=\"1\" class=\"dataframe\">\n",
       "  <thead>\n",
       "    <tr style=\"text-align: right;\">\n",
       "      <th></th>\n",
       "      <th>날짜</th>\n",
       "      <th>종가</th>\n",
       "    </tr>\n",
       "  </thead>\n",
       "  <tbody>\n",
       "    <tr>\n",
       "      <th>0</th>\n",
       "      <td>2021-11-12</td>\n",
       "      <td>81.48</td>\n",
       "    </tr>\n",
       "    <tr>\n",
       "      <th>1</th>\n",
       "      <td>2021-11-11</td>\n",
       "      <td>81.67</td>\n",
       "    </tr>\n",
       "    <tr>\n",
       "      <th>2</th>\n",
       "      <td>2021-11-10</td>\n",
       "      <td>81.27</td>\n",
       "    </tr>\n",
       "    <tr>\n",
       "      <th>3</th>\n",
       "      <td>2021-11-09</td>\n",
       "      <td>82.58</td>\n",
       "    </tr>\n",
       "    <tr>\n",
       "      <th>4</th>\n",
       "      <td>2021-11-08</td>\n",
       "      <td>81.62</td>\n",
       "    </tr>\n",
       "    <tr>\n",
       "      <th>...</th>\n",
       "      <td>...</td>\n",
       "      <td>...</td>\n",
       "    </tr>\n",
       "    <tr>\n",
       "      <th>1738</th>\n",
       "      <td>2014-12-18</td>\n",
       "      <td>60.05</td>\n",
       "    </tr>\n",
       "    <tr>\n",
       "      <th>1739</th>\n",
       "      <td>2014-12-17</td>\n",
       "      <td>60.73</td>\n",
       "    </tr>\n",
       "    <tr>\n",
       "      <th>1740</th>\n",
       "      <td>2014-12-16</td>\n",
       "      <td>60.40</td>\n",
       "    </tr>\n",
       "    <tr>\n",
       "      <th>1741</th>\n",
       "      <td>2014-12-15</td>\n",
       "      <td>61.13</td>\n",
       "    </tr>\n",
       "    <tr>\n",
       "      <th>1742</th>\n",
       "      <td>2014-12-12</td>\n",
       "      <td>61.58</td>\n",
       "    </tr>\n",
       "  </tbody>\n",
       "</table>\n",
       "<p>1743 rows × 2 columns</p>\n",
       "</div>"
      ],
      "text/plain": [
       "             날짜     종가\n",
       "0    2021-11-12  81.48\n",
       "1    2021-11-11  81.67\n",
       "2    2021-11-10  81.27\n",
       "3    2021-11-09  82.58\n",
       "4    2021-11-08  81.62\n",
       "...         ...    ...\n",
       "1738 2014-12-18  60.05\n",
       "1739 2014-12-17  60.73\n",
       "1740 2014-12-16  60.40\n",
       "1741 2014-12-15  61.13\n",
       "1742 2014-12-12  61.58\n",
       "\n",
       "[1743 rows x 2 columns]"
      ]
     },
     "execution_count": 8,
     "metadata": {},
     "output_type": "execute_result"
    }
   ],
   "source": [
    "df_Du"
   ]
  },
  {
   "cell_type": "code",
   "execution_count": 445,
   "id": "19ae9165",
   "metadata": {},
   "outputs": [],
   "source": [
    "# 전일대비에 - 값이 안들어가서 다시 연산함\n",
    "# try :\n",
    "#     for i in range(len(df_Du)) :\n",
    "#         df_Du.iloc[i,2] = df_Du.iloc[i+1,1] - df_Du.iloc[i,1]\n",
    "# except:\n",
    "#     pass"
   ]
  },
  {
   "cell_type": "code",
   "execution_count": 446,
   "id": "4242ff5e",
   "metadata": {},
   "outputs": [],
   "source": [
    "# 날짜별로 데이터 나누기"
   ]
  },
  {
   "cell_type": "code",
   "execution_count": 9,
   "id": "46765a03",
   "metadata": {
    "scrolled": true
   },
   "outputs": [],
   "source": [
    "# df_Du = df_Du[(df_Du['날짜'] < '2021-11-1') & (df_Du['날짜'] > '2015-12-30')]\n",
    "# df_Du.index = range(len(df_Du))\n",
    "# df_Du"
   ]
  },
  {
   "cell_type": "code",
   "execution_count": 10,
   "id": "91062207",
   "metadata": {},
   "outputs": [],
   "source": [
    "df_Du.columns = ['date','두바이유_유가(종가)']"
   ]
  },
  {
   "cell_type": "code",
   "execution_count": 32,
   "id": "128fed84",
   "metadata": {},
   "outputs": [],
   "source": [
    "# pd.to_datetime(df_Du['날짜'])"
   ]
  },
  {
   "cell_type": "code",
   "execution_count": 180,
   "id": "4165358d",
   "metadata": {},
   "outputs": [],
   "source": [
    "# csv 저장\n",
    "df_Du.to_csv('두바이유가.csv', encoding = 'utf-8-sig')"
   ]
  },
  {
   "cell_type": "code",
   "execution_count": 11,
   "id": "1b0e2bc8",
   "metadata": {},
   "outputs": [
    {
     "name": "stdout",
     "output_type": "stream",
     "text": [
      "<class 'pandas.core.frame.DataFrame'>\n",
      "RangeIndex: 1743 entries, 0 to 1742\n",
      "Data columns (total 2 columns):\n",
      " #   Column       Non-Null Count  Dtype         \n",
      "---  ------       --------------  -----         \n",
      " 0   date         1743 non-null   datetime64[ns]\n",
      " 1   두바이유_유가(종가)  1743 non-null   float64       \n",
      "dtypes: datetime64[ns](1), float64(1)\n",
      "memory usage: 27.4 KB\n"
     ]
    }
   ],
   "source": [
    "df_Du.info()"
   ]
  },
  {
   "cell_type": "markdown",
   "id": "d0cf824d",
   "metadata": {},
   "source": [
    "# 2. 브랜트유 유가 크롤링\n",
    "# 기간 : 2016/01/01~2021/10/31"
   ]
  },
  {
   "cell_type": "code",
   "execution_count": 12,
   "id": "c6e84fdb",
   "metadata": {},
   "outputs": [],
   "source": [
    "# 브랜트유\n",
    "url_brt = 'https://finance.naver.com/marketindex/worldOilDetail.naver?marketindexCd=OIL_BRT&fdtc=2'\n",
    "# url_brt_p = 'https://finance.naver.com/marketindex/worldDailyQuote.naver?marketindexCd=OIL_BRT&fdtc=2&page={}'.format(i)"
   ]
  },
  {
   "cell_type": "code",
   "execution_count": 18,
   "id": "25520d55",
   "metadata": {},
   "outputs": [],
   "source": [
    "# 브랜트유 유가 크롤링 코드\n",
    "\n",
    "L_b = []\n",
    "for i in range(1,250):\n",
    "    url_brt_p = 'https://finance.naver.com/marketindex/worldDailyQuote.naver?marketindexCd=OIL_BRT&fdtc=2&page={}'.format(i)\n",
    "\n",
    "    res = requests.get(url_brt_p)\n",
    "    \n",
    "    soup = BeautifulSoup(res.text, 'html.parser')\n",
    "    \n",
    "    path1 = 'body > div > table > tbody > tr'\n",
    "    date = soup.select(path1)\n",
    "        \n",
    "    for i in date:\n",
    "\n",
    "# 정규표현식을 이용하여 단어 클리닝\n",
    "        i = re.sub('[\\n\\t]', '', i.text)\n",
    "        L_b.append(i)\n",
    "    "
   ]
  },
  {
   "cell_type": "code",
   "execution_count": 19,
   "id": "2d7b26ce",
   "metadata": {},
   "outputs": [
    {
     "data": {
      "text/plain": [
       "1743"
      ]
     },
     "execution_count": 19,
     "metadata": {},
     "output_type": "execute_result"
    }
   ],
   "source": [
    "len(L_b)"
   ]
  },
  {
   "cell_type": "code",
   "execution_count": 20,
   "id": "b7d68009",
   "metadata": {},
   "outputs": [],
   "source": [
    "# 추출된 리스트를 각 변수로 나눈다.\n",
    "date = np.array([i[:10] for i in L_b])\n",
    "Close = np.array([i[10:15] for i in L_b])\n",
    "# before = np.array([i[15:20] for i in L ])\n",
    "# ratio = np.array([i[20:] for i in L ])\n",
    "\n",
    "# 데이터를 판다스로 저장\n",
    "dic = {'날짜' : date, '종가' : Close } #, '전일대비' : before, '등락율' : ratio}\n",
    "df_brt = pd.DataFrame(dic)\n",
    "df_brt['날짜'] = df_brt['날짜'].astype('datetime64[ns]')\n",
    "df_brt['종가'] = df_brt['종가'].astype('float64')\n",
    "# df_brt['등락율'] = df_brt['등락율'].apply(lambda x : re.sub('%','',x))\n",
    "# df_brt[['종가','전일대비','등락율']] = df_brt[['종가','전일대비','등락율']].astype('float64')"
   ]
  },
  {
   "cell_type": "code",
   "execution_count": 21,
   "id": "604aeeb8",
   "metadata": {},
   "outputs": [
    {
     "data": {
      "text/plain": [
       "(1743, 2)"
      ]
     },
     "execution_count": 21,
     "metadata": {},
     "output_type": "execute_result"
    }
   ],
   "source": [
    "df_brt.shape"
   ]
  },
  {
   "cell_type": "code",
   "execution_count": 22,
   "id": "50ee36d4",
   "metadata": {},
   "outputs": [
    {
     "data": {
      "text/html": [
       "<div>\n",
       "<style scoped>\n",
       "    .dataframe tbody tr th:only-of-type {\n",
       "        vertical-align: middle;\n",
       "    }\n",
       "\n",
       "    .dataframe tbody tr th {\n",
       "        vertical-align: top;\n",
       "    }\n",
       "\n",
       "    .dataframe thead th {\n",
       "        text-align: right;\n",
       "    }\n",
       "</style>\n",
       "<table border=\"1\" class=\"dataframe\">\n",
       "  <thead>\n",
       "    <tr style=\"text-align: right;\">\n",
       "      <th></th>\n",
       "      <th>날짜</th>\n",
       "      <th>종가</th>\n",
       "    </tr>\n",
       "  </thead>\n",
       "  <tbody>\n",
       "    <tr>\n",
       "      <th>0</th>\n",
       "      <td>2021-11-12</td>\n",
       "      <td>82.17</td>\n",
       "    </tr>\n",
       "    <tr>\n",
       "      <th>1</th>\n",
       "      <td>2021-11-11</td>\n",
       "      <td>82.87</td>\n",
       "    </tr>\n",
       "    <tr>\n",
       "      <th>2</th>\n",
       "      <td>2021-11-10</td>\n",
       "      <td>82.64</td>\n",
       "    </tr>\n",
       "    <tr>\n",
       "      <th>3</th>\n",
       "      <td>2021-11-09</td>\n",
       "      <td>84.78</td>\n",
       "    </tr>\n",
       "    <tr>\n",
       "      <th>4</th>\n",
       "      <td>2021-11-08</td>\n",
       "      <td>83.43</td>\n",
       "    </tr>\n",
       "    <tr>\n",
       "      <th>...</th>\n",
       "      <td>...</td>\n",
       "      <td>...</td>\n",
       "    </tr>\n",
       "    <tr>\n",
       "      <th>1738</th>\n",
       "      <td>2015-02-12</td>\n",
       "      <td>57.05</td>\n",
       "    </tr>\n",
       "    <tr>\n",
       "      <th>1739</th>\n",
       "      <td>2015-02-11</td>\n",
       "      <td>54.66</td>\n",
       "    </tr>\n",
       "    <tr>\n",
       "      <th>1740</th>\n",
       "      <td>2015-02-10</td>\n",
       "      <td>56.43</td>\n",
       "    </tr>\n",
       "    <tr>\n",
       "      <th>1741</th>\n",
       "      <td>2015-02-09</td>\n",
       "      <td>58.34</td>\n",
       "    </tr>\n",
       "    <tr>\n",
       "      <th>1742</th>\n",
       "      <td>2015-02-06</td>\n",
       "      <td>57.80</td>\n",
       "    </tr>\n",
       "  </tbody>\n",
       "</table>\n",
       "<p>1743 rows × 2 columns</p>\n",
       "</div>"
      ],
      "text/plain": [
       "             날짜     종가\n",
       "0    2021-11-12  82.17\n",
       "1    2021-11-11  82.87\n",
       "2    2021-11-10  82.64\n",
       "3    2021-11-09  84.78\n",
       "4    2021-11-08  83.43\n",
       "...         ...    ...\n",
       "1738 2015-02-12  57.05\n",
       "1739 2015-02-11  54.66\n",
       "1740 2015-02-10  56.43\n",
       "1741 2015-02-09  58.34\n",
       "1742 2015-02-06  57.80\n",
       "\n",
       "[1743 rows x 2 columns]"
      ]
     },
     "execution_count": 22,
     "metadata": {},
     "output_type": "execute_result"
    }
   ],
   "source": [
    "df_brt"
   ]
  },
  {
   "cell_type": "code",
   "execution_count": 34,
   "id": "306d0888",
   "metadata": {},
   "outputs": [],
   "source": [
    "# # 날짜별로 데이터 나누기\n",
    "# df_brt = df_brt[(df_brt['날짜'] < '2021-11-1') & (df_brt['날짜'] > '2015-12-30')]\n",
    "# df_brt.index = range(len(df_brt))"
   ]
  },
  {
   "cell_type": "code",
   "execution_count": 23,
   "id": "5c10e6f6",
   "metadata": {},
   "outputs": [],
   "source": [
    "df_brt.columns = ['date','브렌트유_유가(종가)']"
   ]
  },
  {
   "cell_type": "code",
   "execution_count": 24,
   "id": "121f0a73",
   "metadata": {},
   "outputs": [
    {
     "data": {
      "text/html": [
       "<div>\n",
       "<style scoped>\n",
       "    .dataframe tbody tr th:only-of-type {\n",
       "        vertical-align: middle;\n",
       "    }\n",
       "\n",
       "    .dataframe tbody tr th {\n",
       "        vertical-align: top;\n",
       "    }\n",
       "\n",
       "    .dataframe thead th {\n",
       "        text-align: right;\n",
       "    }\n",
       "</style>\n",
       "<table border=\"1\" class=\"dataframe\">\n",
       "  <thead>\n",
       "    <tr style=\"text-align: right;\">\n",
       "      <th></th>\n",
       "      <th>date</th>\n",
       "      <th>브렌트유_유가(종가)</th>\n",
       "    </tr>\n",
       "  </thead>\n",
       "  <tbody>\n",
       "    <tr>\n",
       "      <th>0</th>\n",
       "      <td>2021-11-12</td>\n",
       "      <td>82.17</td>\n",
       "    </tr>\n",
       "    <tr>\n",
       "      <th>1</th>\n",
       "      <td>2021-11-11</td>\n",
       "      <td>82.87</td>\n",
       "    </tr>\n",
       "    <tr>\n",
       "      <th>2</th>\n",
       "      <td>2021-11-10</td>\n",
       "      <td>82.64</td>\n",
       "    </tr>\n",
       "    <tr>\n",
       "      <th>3</th>\n",
       "      <td>2021-11-09</td>\n",
       "      <td>84.78</td>\n",
       "    </tr>\n",
       "    <tr>\n",
       "      <th>4</th>\n",
       "      <td>2021-11-08</td>\n",
       "      <td>83.43</td>\n",
       "    </tr>\n",
       "    <tr>\n",
       "      <th>...</th>\n",
       "      <td>...</td>\n",
       "      <td>...</td>\n",
       "    </tr>\n",
       "    <tr>\n",
       "      <th>1738</th>\n",
       "      <td>2015-02-12</td>\n",
       "      <td>57.05</td>\n",
       "    </tr>\n",
       "    <tr>\n",
       "      <th>1739</th>\n",
       "      <td>2015-02-11</td>\n",
       "      <td>54.66</td>\n",
       "    </tr>\n",
       "    <tr>\n",
       "      <th>1740</th>\n",
       "      <td>2015-02-10</td>\n",
       "      <td>56.43</td>\n",
       "    </tr>\n",
       "    <tr>\n",
       "      <th>1741</th>\n",
       "      <td>2015-02-09</td>\n",
       "      <td>58.34</td>\n",
       "    </tr>\n",
       "    <tr>\n",
       "      <th>1742</th>\n",
       "      <td>2015-02-06</td>\n",
       "      <td>57.80</td>\n",
       "    </tr>\n",
       "  </tbody>\n",
       "</table>\n",
       "<p>1743 rows × 2 columns</p>\n",
       "</div>"
      ],
      "text/plain": [
       "           date  브렌트유_유가(종가)\n",
       "0    2021-11-12        82.17\n",
       "1    2021-11-11        82.87\n",
       "2    2021-11-10        82.64\n",
       "3    2021-11-09        84.78\n",
       "4    2021-11-08        83.43\n",
       "...         ...          ...\n",
       "1738 2015-02-12        57.05\n",
       "1739 2015-02-11        54.66\n",
       "1740 2015-02-10        56.43\n",
       "1741 2015-02-09        58.34\n",
       "1742 2015-02-06        57.80\n",
       "\n",
       "[1743 rows x 2 columns]"
      ]
     },
     "execution_count": 24,
     "metadata": {},
     "output_type": "execute_result"
    }
   ],
   "source": [
    "df_brt"
   ]
  },
  {
   "cell_type": "code",
   "execution_count": 484,
   "id": "802b3b01",
   "metadata": {},
   "outputs": [],
   "source": [
    "# 전일대비에 - 값이 안들어가서 다시 연산함"
   ]
  },
  {
   "cell_type": "code",
   "execution_count": 485,
   "id": "25a52240",
   "metadata": {},
   "outputs": [],
   "source": [
    "# try :\n",
    "#     for i in range(len(df_Du)) :\n",
    "#         df_brt.iloc[i,2] = df_brt.iloc[i+1,1] - df_brt.iloc[i,1]\n",
    "# except:\n",
    "#     pass"
   ]
  },
  {
   "cell_type": "code",
   "execution_count": 179,
   "id": "f1f25ffa",
   "metadata": {},
   "outputs": [],
   "source": [
    "# csv 저장\n",
    "df_brt.to_csv('브렌트유유가.csv', encoding = 'utf-8-sig')"
   ]
  },
  {
   "cell_type": "code",
   "execution_count": null,
   "id": "7c6f27b0",
   "metadata": {},
   "outputs": [],
   "source": []
  },
  {
   "cell_type": "markdown",
   "id": "4bcf5199",
   "metadata": {},
   "source": [
    "# 3. 텍사스유 유가 크롤링\n",
    "# 기간 : 2016/01/01~2021/10/31"
   ]
  },
  {
   "cell_type": "code",
   "execution_count": 25,
   "id": "d43630c7",
   "metadata": {},
   "outputs": [],
   "source": [
    "# 텍사스유\n",
    "url_tex = 'https://finance.naver.com/marketindex/worldOilDetail.naver?marketindexCd=OIL_CL&fdtc=2'\n",
    "# url_tex_p = 'https://finance.naver.com/marketindex/worldDailyQuote.naver?marketindexCd=OIL_CL&fdtc=2&page={}'.format(i)"
   ]
  },
  {
   "cell_type": "code",
   "execution_count": 26,
   "id": "6d0f7f5f",
   "metadata": {},
   "outputs": [],
   "source": [
    "# 텍사스유 유가 크롤링 코드\n",
    "\n",
    "L_t = []\n",
    "for i in range(1,250):\n",
    "    url_tex_p = 'https://finance.naver.com/marketindex/worldDailyQuote.naver?marketindexCd=OIL_CL&fdtc=2&page={}'.format(i)\n",
    "       \n",
    "    res = requests.get(url_tex_p)\n",
    "    \n",
    "    soup = BeautifulSoup(res.text, 'html.parser')\n",
    "    \n",
    "    path1 = 'body > div > table > tbody > tr'\n",
    "    date = soup.select(path1)\n",
    "        \n",
    "    for i in date:\n",
    "\n",
    "# 정규표현식을 이용하여 단어 클리닝\n",
    "        i = re.sub('[\\n\\t]', '', i.text)\n",
    "        L_t.append(i)\n",
    "    "
   ]
  },
  {
   "cell_type": "code",
   "execution_count": 27,
   "id": "e6faefaf",
   "metadata": {},
   "outputs": [
    {
     "data": {
      "text/plain": [
       "1743"
      ]
     },
     "execution_count": 27,
     "metadata": {},
     "output_type": "execute_result"
    }
   ],
   "source": [
    "len(L_t)"
   ]
  },
  {
   "cell_type": "code",
   "execution_count": 28,
   "id": "c30e6d00",
   "metadata": {},
   "outputs": [],
   "source": [
    "# 추출된 리스트를 각 변수로 나눈다.\n",
    "date = np.array([i[:10] for i in L_t ])\n",
    "Close = np.array([i[10:15] for i in L_t ])\n",
    "# before = np.array([i[15:20] for i in L ])\n",
    "# ratio = np.array([i[20:] for i in L ])\n",
    "\n",
    "# 데이터를 판다스로 저장\n",
    "dic = {'날짜' : date, '종가' : Close} #, '전일대비' : before, '등락율' : ratio}\n",
    "df_tex = pd.DataFrame(dic)\n",
    "df_tex['날짜'] = df_tex['날짜'].astype('datetime64[ns]')\n",
    "df_tex['종가'] = df_tex['종가'].astype('float64')\n",
    "# df_tex['등락율'] = df_tex['등락율'].apply(lambda x : re.sub('%','',x))\n",
    "# df_tex[['종가','전일대비','등락율']] = df_tex[['종가','전일대비','등락율']].astype('float64')"
   ]
  },
  {
   "cell_type": "code",
   "execution_count": 29,
   "id": "9405ca20",
   "metadata": {},
   "outputs": [
    {
     "data": {
      "text/plain": [
       "(1743, 2)"
      ]
     },
     "execution_count": 29,
     "metadata": {},
     "output_type": "execute_result"
    }
   ],
   "source": [
    "df_tex.shape"
   ]
  },
  {
   "cell_type": "code",
   "execution_count": 178,
   "id": "60fbf9c5",
   "metadata": {
    "collapsed": true
   },
   "outputs": [
    {
     "ename": "KeyError",
     "evalue": "'날짜'",
     "output_type": "error",
     "traceback": [
      "\u001b[1;31m---------------------------------------------------------------------------\u001b[0m",
      "\u001b[1;31mKeyError\u001b[0m                                  Traceback (most recent call last)",
      "\u001b[1;32m~\\anaconda3\\lib\\site-packages\\pandas\\core\\indexes\\base.py\u001b[0m in \u001b[0;36mget_loc\u001b[1;34m(self, key, method, tolerance)\u001b[0m\n\u001b[0;32m   3079\u001b[0m             \u001b[1;32mtry\u001b[0m\u001b[1;33m:\u001b[0m\u001b[1;33m\u001b[0m\u001b[1;33m\u001b[0m\u001b[0m\n\u001b[1;32m-> 3080\u001b[1;33m                 \u001b[1;32mreturn\u001b[0m \u001b[0mself\u001b[0m\u001b[1;33m.\u001b[0m\u001b[0m_engine\u001b[0m\u001b[1;33m.\u001b[0m\u001b[0mget_loc\u001b[0m\u001b[1;33m(\u001b[0m\u001b[0mcasted_key\u001b[0m\u001b[1;33m)\u001b[0m\u001b[1;33m\u001b[0m\u001b[1;33m\u001b[0m\u001b[0m\n\u001b[0m\u001b[0;32m   3081\u001b[0m             \u001b[1;32mexcept\u001b[0m \u001b[0mKeyError\u001b[0m \u001b[1;32mas\u001b[0m \u001b[0merr\u001b[0m\u001b[1;33m:\u001b[0m\u001b[1;33m\u001b[0m\u001b[1;33m\u001b[0m\u001b[0m\n",
      "\u001b[1;32mpandas\\_libs\\index.pyx\u001b[0m in \u001b[0;36mpandas._libs.index.IndexEngine.get_loc\u001b[1;34m()\u001b[0m\n",
      "\u001b[1;32mpandas\\_libs\\index.pyx\u001b[0m in \u001b[0;36mpandas._libs.index.IndexEngine.get_loc\u001b[1;34m()\u001b[0m\n",
      "\u001b[1;32mpandas\\_libs\\hashtable_class_helper.pxi\u001b[0m in \u001b[0;36mpandas._libs.hashtable.PyObjectHashTable.get_item\u001b[1;34m()\u001b[0m\n",
      "\u001b[1;32mpandas\\_libs\\hashtable_class_helper.pxi\u001b[0m in \u001b[0;36mpandas._libs.hashtable.PyObjectHashTable.get_item\u001b[1;34m()\u001b[0m\n",
      "\u001b[1;31mKeyError\u001b[0m: '날짜'",
      "\nThe above exception was the direct cause of the following exception:\n",
      "\u001b[1;31mKeyError\u001b[0m                                  Traceback (most recent call last)",
      "\u001b[1;32m<ipython-input-178-17342fd46532>\u001b[0m in \u001b[0;36m<module>\u001b[1;34m\u001b[0m\n\u001b[0;32m      1\u001b[0m \u001b[1;31m# 날짜별로 데이터 나누기\u001b[0m\u001b[1;33m\u001b[0m\u001b[1;33m\u001b[0m\u001b[1;33m\u001b[0m\u001b[0m\n\u001b[1;32m----> 2\u001b[1;33m \u001b[0mdf_tex\u001b[0m \u001b[1;33m=\u001b[0m \u001b[0mdf_tex\u001b[0m\u001b[1;33m[\u001b[0m\u001b[1;33m(\u001b[0m\u001b[0mdf_tex\u001b[0m\u001b[1;33m[\u001b[0m\u001b[1;34m'날짜'\u001b[0m\u001b[1;33m]\u001b[0m \u001b[1;33m<\u001b[0m \u001b[1;34m'2021-11-1'\u001b[0m\u001b[1;33m)\u001b[0m \u001b[1;33m&\u001b[0m \u001b[1;33m(\u001b[0m\u001b[0mdf_tex\u001b[0m\u001b[1;33m[\u001b[0m\u001b[1;34m'날짜'\u001b[0m\u001b[1;33m]\u001b[0m \u001b[1;33m>\u001b[0m \u001b[1;34m'2015-12-30'\u001b[0m\u001b[1;33m)\u001b[0m\u001b[1;33m]\u001b[0m\u001b[1;33m\u001b[0m\u001b[1;33m\u001b[0m\u001b[0m\n\u001b[0m",
      "\u001b[1;32m~\\anaconda3\\lib\\site-packages\\pandas\\core\\frame.py\u001b[0m in \u001b[0;36m__getitem__\u001b[1;34m(self, key)\u001b[0m\n\u001b[0;32m   3022\u001b[0m             \u001b[1;32mif\u001b[0m \u001b[0mself\u001b[0m\u001b[1;33m.\u001b[0m\u001b[0mcolumns\u001b[0m\u001b[1;33m.\u001b[0m\u001b[0mnlevels\u001b[0m \u001b[1;33m>\u001b[0m \u001b[1;36m1\u001b[0m\u001b[1;33m:\u001b[0m\u001b[1;33m\u001b[0m\u001b[1;33m\u001b[0m\u001b[0m\n\u001b[0;32m   3023\u001b[0m                 \u001b[1;32mreturn\u001b[0m \u001b[0mself\u001b[0m\u001b[1;33m.\u001b[0m\u001b[0m_getitem_multilevel\u001b[0m\u001b[1;33m(\u001b[0m\u001b[0mkey\u001b[0m\u001b[1;33m)\u001b[0m\u001b[1;33m\u001b[0m\u001b[1;33m\u001b[0m\u001b[0m\n\u001b[1;32m-> 3024\u001b[1;33m             \u001b[0mindexer\u001b[0m \u001b[1;33m=\u001b[0m \u001b[0mself\u001b[0m\u001b[1;33m.\u001b[0m\u001b[0mcolumns\u001b[0m\u001b[1;33m.\u001b[0m\u001b[0mget_loc\u001b[0m\u001b[1;33m(\u001b[0m\u001b[0mkey\u001b[0m\u001b[1;33m)\u001b[0m\u001b[1;33m\u001b[0m\u001b[1;33m\u001b[0m\u001b[0m\n\u001b[0m\u001b[0;32m   3025\u001b[0m             \u001b[1;32mif\u001b[0m \u001b[0mis_integer\u001b[0m\u001b[1;33m(\u001b[0m\u001b[0mindexer\u001b[0m\u001b[1;33m)\u001b[0m\u001b[1;33m:\u001b[0m\u001b[1;33m\u001b[0m\u001b[1;33m\u001b[0m\u001b[0m\n\u001b[0;32m   3026\u001b[0m                 \u001b[0mindexer\u001b[0m \u001b[1;33m=\u001b[0m \u001b[1;33m[\u001b[0m\u001b[0mindexer\u001b[0m\u001b[1;33m]\u001b[0m\u001b[1;33m\u001b[0m\u001b[1;33m\u001b[0m\u001b[0m\n",
      "\u001b[1;32m~\\anaconda3\\lib\\site-packages\\pandas\\core\\indexes\\base.py\u001b[0m in \u001b[0;36mget_loc\u001b[1;34m(self, key, method, tolerance)\u001b[0m\n\u001b[0;32m   3080\u001b[0m                 \u001b[1;32mreturn\u001b[0m \u001b[0mself\u001b[0m\u001b[1;33m.\u001b[0m\u001b[0m_engine\u001b[0m\u001b[1;33m.\u001b[0m\u001b[0mget_loc\u001b[0m\u001b[1;33m(\u001b[0m\u001b[0mcasted_key\u001b[0m\u001b[1;33m)\u001b[0m\u001b[1;33m\u001b[0m\u001b[1;33m\u001b[0m\u001b[0m\n\u001b[0;32m   3081\u001b[0m             \u001b[1;32mexcept\u001b[0m \u001b[0mKeyError\u001b[0m \u001b[1;32mas\u001b[0m \u001b[0merr\u001b[0m\u001b[1;33m:\u001b[0m\u001b[1;33m\u001b[0m\u001b[1;33m\u001b[0m\u001b[0m\n\u001b[1;32m-> 3082\u001b[1;33m                 \u001b[1;32mraise\u001b[0m \u001b[0mKeyError\u001b[0m\u001b[1;33m(\u001b[0m\u001b[0mkey\u001b[0m\u001b[1;33m)\u001b[0m \u001b[1;32mfrom\u001b[0m \u001b[0merr\u001b[0m\u001b[1;33m\u001b[0m\u001b[1;33m\u001b[0m\u001b[0m\n\u001b[0m\u001b[0;32m   3083\u001b[0m \u001b[1;33m\u001b[0m\u001b[0m\n\u001b[0;32m   3084\u001b[0m         \u001b[1;32mif\u001b[0m \u001b[0mtolerance\u001b[0m \u001b[1;32mis\u001b[0m \u001b[1;32mnot\u001b[0m \u001b[1;32mNone\u001b[0m\u001b[1;33m:\u001b[0m\u001b[1;33m\u001b[0m\u001b[1;33m\u001b[0m\u001b[0m\n",
      "\u001b[1;31mKeyError\u001b[0m: '날짜'"
     ]
    }
   ],
   "source": [
    "# 날짜별로 데이터 나누기\n",
    "df_tex = df_tex[(df_tex['날짜'] < '2021-11-1') & (df_tex['날짜'] > '2015-12-30')]"
   ]
  },
  {
   "cell_type": "code",
   "execution_count": null,
   "id": "d5344aac",
   "metadata": {},
   "outputs": [],
   "source": []
  },
  {
   "cell_type": "code",
   "execution_count": 28,
   "id": "7cf89fac",
   "metadata": {},
   "outputs": [],
   "source": [
    "# try :\n",
    "#     for i in range(len(df_Du)) :\n",
    "#         df_tex.iloc[i,2] = df_tex.iloc[i+1,1] - df_tex.iloc[i,1]\n",
    "# except:\n",
    "#     pass"
   ]
  },
  {
   "cell_type": "code",
   "execution_count": 29,
   "id": "d95b674a",
   "metadata": {},
   "outputs": [],
   "source": [
    "# 날짜별로 데이터 나누기"
   ]
  },
  {
   "cell_type": "code",
   "execution_count": 30,
   "id": "a2c7a2f7",
   "metadata": {},
   "outputs": [],
   "source": [
    "df_tex.columns = ['date','텍사스유_유가(종가)']"
   ]
  },
  {
   "cell_type": "code",
   "execution_count": 177,
   "id": "b6a8bdb4",
   "metadata": {},
   "outputs": [],
   "source": [
    "# csv 저장\n",
    "df_tex.to_csv('텍사스유유가.csv', encoding = 'utf-8-sig')"
   ]
  },
  {
   "cell_type": "code",
   "execution_count": 31,
   "id": "de0837ab",
   "metadata": {
    "collapsed": true
   },
   "outputs": [
    {
     "data": {
      "text/html": [
       "<div>\n",
       "<style scoped>\n",
       "    .dataframe tbody tr th:only-of-type {\n",
       "        vertical-align: middle;\n",
       "    }\n",
       "\n",
       "    .dataframe tbody tr th {\n",
       "        vertical-align: top;\n",
       "    }\n",
       "\n",
       "    .dataframe thead th {\n",
       "        text-align: right;\n",
       "    }\n",
       "</style>\n",
       "<table border=\"1\" class=\"dataframe\">\n",
       "  <thead>\n",
       "    <tr style=\"text-align: right;\">\n",
       "      <th></th>\n",
       "      <th>date</th>\n",
       "      <th>텍사스유_유가(종가)</th>\n",
       "    </tr>\n",
       "  </thead>\n",
       "  <tbody>\n",
       "    <tr>\n",
       "      <th>0</th>\n",
       "      <td>2021-11-12</td>\n",
       "      <td>80.79</td>\n",
       "    </tr>\n",
       "    <tr>\n",
       "      <th>1</th>\n",
       "      <td>2021-11-11</td>\n",
       "      <td>81.59</td>\n",
       "    </tr>\n",
       "    <tr>\n",
       "      <th>2</th>\n",
       "      <td>2021-11-10</td>\n",
       "      <td>81.34</td>\n",
       "    </tr>\n",
       "    <tr>\n",
       "      <th>3</th>\n",
       "      <td>2021-11-09</td>\n",
       "      <td>84.15</td>\n",
       "    </tr>\n",
       "    <tr>\n",
       "      <th>4</th>\n",
       "      <td>2021-11-08</td>\n",
       "      <td>81.93</td>\n",
       "    </tr>\n",
       "    <tr>\n",
       "      <th>...</th>\n",
       "      <td>...</td>\n",
       "      <td>...</td>\n",
       "    </tr>\n",
       "    <tr>\n",
       "      <th>1738</th>\n",
       "      <td>2015-01-02</td>\n",
       "      <td>52.69</td>\n",
       "    </tr>\n",
       "    <tr>\n",
       "      <th>1739</th>\n",
       "      <td>2015-01-01</td>\n",
       "      <td>53.27</td>\n",
       "    </tr>\n",
       "    <tr>\n",
       "      <th>1740</th>\n",
       "      <td>2014-12-31</td>\n",
       "      <td>53.27</td>\n",
       "    </tr>\n",
       "    <tr>\n",
       "      <th>1741</th>\n",
       "      <td>2014-12-30</td>\n",
       "      <td>54.12</td>\n",
       "    </tr>\n",
       "    <tr>\n",
       "      <th>1742</th>\n",
       "      <td>2014-12-29</td>\n",
       "      <td>53.61</td>\n",
       "    </tr>\n",
       "  </tbody>\n",
       "</table>\n",
       "<p>1743 rows × 2 columns</p>\n",
       "</div>"
      ],
      "text/plain": [
       "           date  텍사스유_유가(종가)\n",
       "0    2021-11-12        80.79\n",
       "1    2021-11-11        81.59\n",
       "2    2021-11-10        81.34\n",
       "3    2021-11-09        84.15\n",
       "4    2021-11-08        81.93\n",
       "...         ...          ...\n",
       "1738 2015-01-02        52.69\n",
       "1739 2015-01-01        53.27\n",
       "1740 2014-12-31        53.27\n",
       "1741 2014-12-30        54.12\n",
       "1742 2014-12-29        53.61\n",
       "\n",
       "[1743 rows x 2 columns]"
      ]
     },
     "execution_count": 31,
     "metadata": {},
     "output_type": "execute_result"
    }
   ],
   "source": [
    "df_tex"
   ]
  },
  {
   "cell_type": "code",
   "execution_count": 552,
   "id": "6ec99850",
   "metadata": {},
   "outputs": [],
   "source": []
  },
  {
   "cell_type": "code",
   "execution_count": 34,
   "id": "4ab11456",
   "metadata": {
    "collapsed": true
   },
   "outputs": [
    {
     "data": {
      "text/html": [
       "<div>\n",
       "<style scoped>\n",
       "    .dataframe tbody tr th:only-of-type {\n",
       "        vertical-align: middle;\n",
       "    }\n",
       "\n",
       "    .dataframe tbody tr th {\n",
       "        vertical-align: top;\n",
       "    }\n",
       "\n",
       "    .dataframe thead th {\n",
       "        text-align: right;\n",
       "    }\n",
       "</style>\n",
       "<table border=\"1\" class=\"dataframe\">\n",
       "  <thead>\n",
       "    <tr style=\"text-align: right;\">\n",
       "      <th></th>\n",
       "      <th>date</th>\n",
       "      <th>두바이유_유가(종가)</th>\n",
       "    </tr>\n",
       "  </thead>\n",
       "  <tbody>\n",
       "    <tr>\n",
       "      <th>0</th>\n",
       "      <td>2021-11-12</td>\n",
       "      <td>81.48</td>\n",
       "    </tr>\n",
       "    <tr>\n",
       "      <th>1</th>\n",
       "      <td>2021-11-11</td>\n",
       "      <td>81.67</td>\n",
       "    </tr>\n",
       "    <tr>\n",
       "      <th>2</th>\n",
       "      <td>2021-11-10</td>\n",
       "      <td>81.27</td>\n",
       "    </tr>\n",
       "    <tr>\n",
       "      <th>3</th>\n",
       "      <td>2021-11-09</td>\n",
       "      <td>82.58</td>\n",
       "    </tr>\n",
       "    <tr>\n",
       "      <th>4</th>\n",
       "      <td>2021-11-08</td>\n",
       "      <td>81.62</td>\n",
       "    </tr>\n",
       "    <tr>\n",
       "      <th>...</th>\n",
       "      <td>...</td>\n",
       "      <td>...</td>\n",
       "    </tr>\n",
       "    <tr>\n",
       "      <th>1738</th>\n",
       "      <td>2014-12-18</td>\n",
       "      <td>60.05</td>\n",
       "    </tr>\n",
       "    <tr>\n",
       "      <th>1739</th>\n",
       "      <td>2014-12-17</td>\n",
       "      <td>60.73</td>\n",
       "    </tr>\n",
       "    <tr>\n",
       "      <th>1740</th>\n",
       "      <td>2014-12-16</td>\n",
       "      <td>60.40</td>\n",
       "    </tr>\n",
       "    <tr>\n",
       "      <th>1741</th>\n",
       "      <td>2014-12-15</td>\n",
       "      <td>61.13</td>\n",
       "    </tr>\n",
       "    <tr>\n",
       "      <th>1742</th>\n",
       "      <td>2014-12-12</td>\n",
       "      <td>61.58</td>\n",
       "    </tr>\n",
       "  </tbody>\n",
       "</table>\n",
       "<p>1743 rows × 2 columns</p>\n",
       "</div>"
      ],
      "text/plain": [
       "           date  두바이유_유가(종가)\n",
       "0    2021-11-12        81.48\n",
       "1    2021-11-11        81.67\n",
       "2    2021-11-10        81.27\n",
       "3    2021-11-09        82.58\n",
       "4    2021-11-08        81.62\n",
       "...         ...          ...\n",
       "1738 2014-12-18        60.05\n",
       "1739 2014-12-17        60.73\n",
       "1740 2014-12-16        60.40\n",
       "1741 2014-12-15        61.13\n",
       "1742 2014-12-12        61.58\n",
       "\n",
       "[1743 rows x 2 columns]"
      ]
     },
     "execution_count": 34,
     "metadata": {},
     "output_type": "execute_result"
    }
   ],
   "source": [
    "df_Du"
   ]
  },
  {
   "cell_type": "code",
   "execution_count": 33,
   "id": "72c9683f",
   "metadata": {
    "collapsed": true
   },
   "outputs": [
    {
     "data": {
      "text/html": [
       "<div>\n",
       "<style scoped>\n",
       "    .dataframe tbody tr th:only-of-type {\n",
       "        vertical-align: middle;\n",
       "    }\n",
       "\n",
       "    .dataframe tbody tr th {\n",
       "        vertical-align: top;\n",
       "    }\n",
       "\n",
       "    .dataframe thead th {\n",
       "        text-align: right;\n",
       "    }\n",
       "</style>\n",
       "<table border=\"1\" class=\"dataframe\">\n",
       "  <thead>\n",
       "    <tr style=\"text-align: right;\">\n",
       "      <th></th>\n",
       "      <th>date</th>\n",
       "      <th>텍사스유_유가(종가)</th>\n",
       "    </tr>\n",
       "  </thead>\n",
       "  <tbody>\n",
       "    <tr>\n",
       "      <th>0</th>\n",
       "      <td>2021-11-12</td>\n",
       "      <td>80.79</td>\n",
       "    </tr>\n",
       "    <tr>\n",
       "      <th>1</th>\n",
       "      <td>2021-11-11</td>\n",
       "      <td>81.59</td>\n",
       "    </tr>\n",
       "    <tr>\n",
       "      <th>2</th>\n",
       "      <td>2021-11-10</td>\n",
       "      <td>81.34</td>\n",
       "    </tr>\n",
       "    <tr>\n",
       "      <th>3</th>\n",
       "      <td>2021-11-09</td>\n",
       "      <td>84.15</td>\n",
       "    </tr>\n",
       "    <tr>\n",
       "      <th>4</th>\n",
       "      <td>2021-11-08</td>\n",
       "      <td>81.93</td>\n",
       "    </tr>\n",
       "    <tr>\n",
       "      <th>...</th>\n",
       "      <td>...</td>\n",
       "      <td>...</td>\n",
       "    </tr>\n",
       "    <tr>\n",
       "      <th>1738</th>\n",
       "      <td>2015-01-02</td>\n",
       "      <td>52.69</td>\n",
       "    </tr>\n",
       "    <tr>\n",
       "      <th>1739</th>\n",
       "      <td>2015-01-01</td>\n",
       "      <td>53.27</td>\n",
       "    </tr>\n",
       "    <tr>\n",
       "      <th>1740</th>\n",
       "      <td>2014-12-31</td>\n",
       "      <td>53.27</td>\n",
       "    </tr>\n",
       "    <tr>\n",
       "      <th>1741</th>\n",
       "      <td>2014-12-30</td>\n",
       "      <td>54.12</td>\n",
       "    </tr>\n",
       "    <tr>\n",
       "      <th>1742</th>\n",
       "      <td>2014-12-29</td>\n",
       "      <td>53.61</td>\n",
       "    </tr>\n",
       "  </tbody>\n",
       "</table>\n",
       "<p>1743 rows × 2 columns</p>\n",
       "</div>"
      ],
      "text/plain": [
       "           date  텍사스유_유가(종가)\n",
       "0    2021-11-12        80.79\n",
       "1    2021-11-11        81.59\n",
       "2    2021-11-10        81.34\n",
       "3    2021-11-09        84.15\n",
       "4    2021-11-08        81.93\n",
       "...         ...          ...\n",
       "1738 2015-01-02        52.69\n",
       "1739 2015-01-01        53.27\n",
       "1740 2014-12-31        53.27\n",
       "1741 2014-12-30        54.12\n",
       "1742 2014-12-29        53.61\n",
       "\n",
       "[1743 rows x 2 columns]"
      ]
     },
     "execution_count": 33,
     "metadata": {},
     "output_type": "execute_result"
    }
   ],
   "source": [
    "df_tex"
   ]
  },
  {
   "cell_type": "code",
   "execution_count": 35,
   "id": "b75ddccd",
   "metadata": {
    "collapsed": true
   },
   "outputs": [
    {
     "data": {
      "text/html": [
       "<div>\n",
       "<style scoped>\n",
       "    .dataframe tbody tr th:only-of-type {\n",
       "        vertical-align: middle;\n",
       "    }\n",
       "\n",
       "    .dataframe tbody tr th {\n",
       "        vertical-align: top;\n",
       "    }\n",
       "\n",
       "    .dataframe thead th {\n",
       "        text-align: right;\n",
       "    }\n",
       "</style>\n",
       "<table border=\"1\" class=\"dataframe\">\n",
       "  <thead>\n",
       "    <tr style=\"text-align: right;\">\n",
       "      <th></th>\n",
       "      <th>date</th>\n",
       "      <th>브렌트유_유가(종가)</th>\n",
       "    </tr>\n",
       "  </thead>\n",
       "  <tbody>\n",
       "    <tr>\n",
       "      <th>0</th>\n",
       "      <td>2021-11-12</td>\n",
       "      <td>82.17</td>\n",
       "    </tr>\n",
       "    <tr>\n",
       "      <th>1</th>\n",
       "      <td>2021-11-11</td>\n",
       "      <td>82.87</td>\n",
       "    </tr>\n",
       "    <tr>\n",
       "      <th>2</th>\n",
       "      <td>2021-11-10</td>\n",
       "      <td>82.64</td>\n",
       "    </tr>\n",
       "    <tr>\n",
       "      <th>3</th>\n",
       "      <td>2021-11-09</td>\n",
       "      <td>84.78</td>\n",
       "    </tr>\n",
       "    <tr>\n",
       "      <th>4</th>\n",
       "      <td>2021-11-08</td>\n",
       "      <td>83.43</td>\n",
       "    </tr>\n",
       "    <tr>\n",
       "      <th>...</th>\n",
       "      <td>...</td>\n",
       "      <td>...</td>\n",
       "    </tr>\n",
       "    <tr>\n",
       "      <th>1738</th>\n",
       "      <td>2015-02-12</td>\n",
       "      <td>57.05</td>\n",
       "    </tr>\n",
       "    <tr>\n",
       "      <th>1739</th>\n",
       "      <td>2015-02-11</td>\n",
       "      <td>54.66</td>\n",
       "    </tr>\n",
       "    <tr>\n",
       "      <th>1740</th>\n",
       "      <td>2015-02-10</td>\n",
       "      <td>56.43</td>\n",
       "    </tr>\n",
       "    <tr>\n",
       "      <th>1741</th>\n",
       "      <td>2015-02-09</td>\n",
       "      <td>58.34</td>\n",
       "    </tr>\n",
       "    <tr>\n",
       "      <th>1742</th>\n",
       "      <td>2015-02-06</td>\n",
       "      <td>57.80</td>\n",
       "    </tr>\n",
       "  </tbody>\n",
       "</table>\n",
       "<p>1743 rows × 2 columns</p>\n",
       "</div>"
      ],
      "text/plain": [
       "           date  브렌트유_유가(종가)\n",
       "0    2021-11-12        82.17\n",
       "1    2021-11-11        82.87\n",
       "2    2021-11-10        82.64\n",
       "3    2021-11-09        84.78\n",
       "4    2021-11-08        83.43\n",
       "...         ...          ...\n",
       "1738 2015-02-12        57.05\n",
       "1739 2015-02-11        54.66\n",
       "1740 2015-02-10        56.43\n",
       "1741 2015-02-09        58.34\n",
       "1742 2015-02-06        57.80\n",
       "\n",
       "[1743 rows x 2 columns]"
      ]
     },
     "execution_count": 35,
     "metadata": {},
     "output_type": "execute_result"
    }
   ],
   "source": [
    "df_brt"
   ]
  },
  {
   "cell_type": "code",
   "execution_count": 88,
   "id": "479c3c9b",
   "metadata": {},
   "outputs": [],
   "source": [
    "# 날짜가 서로 다 다름"
   ]
  },
  {
   "cell_type": "code",
   "execution_count": 165,
   "id": "e45bf1ce",
   "metadata": {},
   "outputs": [],
   "source": [
    "D = pd.date_range(start = '2021-11-12', end = '2014-12-01', freq='-1D')"
   ]
  },
  {
   "cell_type": "code",
   "execution_count": null,
   "id": "e27517aa",
   "metadata": {},
   "outputs": [],
   "source": []
  },
  {
   "cell_type": "code",
   "execution_count": 166,
   "id": "96b30e87",
   "metadata": {},
   "outputs": [],
   "source": [
    "total_df = pd.DataFrame()"
   ]
  },
  {
   "cell_type": "code",
   "execution_count": 167,
   "id": "71105276",
   "metadata": {},
   "outputs": [],
   "source": [
    "total_df['date'] = D"
   ]
  },
  {
   "cell_type": "code",
   "execution_count": 168,
   "id": "02839dbe",
   "metadata": {},
   "outputs": [],
   "source": [
    "total_df = pd.merge(left = total_df, right = df_Du, how = 'left', left_on = 'date',right_on = 'date')"
   ]
  },
  {
   "cell_type": "code",
   "execution_count": 170,
   "id": "4d6de6a9",
   "metadata": {},
   "outputs": [],
   "source": [
    "total_df = total_df.merge(df_brt, how = 'left', left_on = 'date',right_on = 'date')"
   ]
  },
  {
   "cell_type": "code",
   "execution_count": 172,
   "id": "8a6e247f",
   "metadata": {},
   "outputs": [],
   "source": [
    "total_df = total_df.merge(df_tex, how = 'left', left_on = 'date',right_on = 'date')"
   ]
  },
  {
   "cell_type": "code",
   "execution_count": 173,
   "id": "f1e5a687",
   "metadata": {
    "scrolled": false
   },
   "outputs": [
    {
     "data": {
      "text/html": [
       "<div>\n",
       "<style scoped>\n",
       "    .dataframe tbody tr th:only-of-type {\n",
       "        vertical-align: middle;\n",
       "    }\n",
       "\n",
       "    .dataframe tbody tr th {\n",
       "        vertical-align: top;\n",
       "    }\n",
       "\n",
       "    .dataframe thead th {\n",
       "        text-align: right;\n",
       "    }\n",
       "</style>\n",
       "<table border=\"1\" class=\"dataframe\">\n",
       "  <thead>\n",
       "    <tr style=\"text-align: right;\">\n",
       "      <th></th>\n",
       "      <th>date</th>\n",
       "      <th>두바이유_유가(종가)</th>\n",
       "      <th>브렌트유_유가(종가)</th>\n",
       "      <th>텍사스유_유가(종가)</th>\n",
       "    </tr>\n",
       "  </thead>\n",
       "  <tbody>\n",
       "    <tr>\n",
       "      <th>0</th>\n",
       "      <td>2021-11-12</td>\n",
       "      <td>81.48</td>\n",
       "      <td>82.17</td>\n",
       "      <td>80.79</td>\n",
       "    </tr>\n",
       "    <tr>\n",
       "      <th>1</th>\n",
       "      <td>2021-11-11</td>\n",
       "      <td>81.67</td>\n",
       "      <td>82.87</td>\n",
       "      <td>81.59</td>\n",
       "    </tr>\n",
       "    <tr>\n",
       "      <th>2</th>\n",
       "      <td>2021-11-10</td>\n",
       "      <td>81.27</td>\n",
       "      <td>82.64</td>\n",
       "      <td>81.34</td>\n",
       "    </tr>\n",
       "    <tr>\n",
       "      <th>3</th>\n",
       "      <td>2021-11-09</td>\n",
       "      <td>82.58</td>\n",
       "      <td>84.78</td>\n",
       "      <td>84.15</td>\n",
       "    </tr>\n",
       "    <tr>\n",
       "      <th>4</th>\n",
       "      <td>2021-11-08</td>\n",
       "      <td>81.62</td>\n",
       "      <td>83.43</td>\n",
       "      <td>81.93</td>\n",
       "    </tr>\n",
       "    <tr>\n",
       "      <th>...</th>\n",
       "      <td>...</td>\n",
       "      <td>...</td>\n",
       "      <td>...</td>\n",
       "      <td>...</td>\n",
       "    </tr>\n",
       "    <tr>\n",
       "      <th>2534</th>\n",
       "      <td>2014-12-05</td>\n",
       "      <td>NaN</td>\n",
       "      <td>NaN</td>\n",
       "      <td>NaN</td>\n",
       "    </tr>\n",
       "    <tr>\n",
       "      <th>2535</th>\n",
       "      <td>2014-12-04</td>\n",
       "      <td>NaN</td>\n",
       "      <td>NaN</td>\n",
       "      <td>NaN</td>\n",
       "    </tr>\n",
       "    <tr>\n",
       "      <th>2536</th>\n",
       "      <td>2014-12-03</td>\n",
       "      <td>NaN</td>\n",
       "      <td>NaN</td>\n",
       "      <td>NaN</td>\n",
       "    </tr>\n",
       "    <tr>\n",
       "      <th>2537</th>\n",
       "      <td>2014-12-02</td>\n",
       "      <td>NaN</td>\n",
       "      <td>NaN</td>\n",
       "      <td>NaN</td>\n",
       "    </tr>\n",
       "    <tr>\n",
       "      <th>2538</th>\n",
       "      <td>2014-12-01</td>\n",
       "      <td>NaN</td>\n",
       "      <td>NaN</td>\n",
       "      <td>NaN</td>\n",
       "    </tr>\n",
       "  </tbody>\n",
       "</table>\n",
       "<p>2539 rows × 4 columns</p>\n",
       "</div>"
      ],
      "text/plain": [
       "           date  두바이유_유가(종가)  브렌트유_유가(종가)  텍사스유_유가(종가)\n",
       "0    2021-11-12        81.48        82.17        80.79\n",
       "1    2021-11-11        81.67        82.87        81.59\n",
       "2    2021-11-10        81.27        82.64        81.34\n",
       "3    2021-11-09        82.58        84.78        84.15\n",
       "4    2021-11-08        81.62        83.43        81.93\n",
       "...         ...          ...          ...          ...\n",
       "2534 2014-12-05          NaN          NaN          NaN\n",
       "2535 2014-12-04          NaN          NaN          NaN\n",
       "2536 2014-12-03          NaN          NaN          NaN\n",
       "2537 2014-12-02          NaN          NaN          NaN\n",
       "2538 2014-12-01          NaN          NaN          NaN\n",
       "\n",
       "[2539 rows x 4 columns]"
      ]
     },
     "execution_count": 173,
     "metadata": {},
     "output_type": "execute_result"
    }
   ],
   "source": [
    "total_df"
   ]
  },
  {
   "cell_type": "code",
   "execution_count": 181,
   "id": "a6961eb5",
   "metadata": {},
   "outputs": [],
   "source": [
    "total_df = total_df[(total_df['date'] > '2015-12-30') & (total_df['date'] < '2021-11-01') ]"
   ]
  },
  {
   "cell_type": "code",
   "execution_count": 184,
   "id": "b1706f8e",
   "metadata": {},
   "outputs": [],
   "source": [
    "total_df.to_csv('total_oil.csv',encoding = 'utf-8-sig')"
   ]
  },
  {
   "cell_type": "code",
   "execution_count": 205,
   "id": "65a662bc",
   "metadata": {},
   "outputs": [],
   "source": [
    "ndf = total_df.dropna()"
   ]
  },
  {
   "cell_type": "code",
   "execution_count": 206,
   "id": "79374429",
   "metadata": {},
   "outputs": [],
   "source": [
    "ndf.index = ndf['date']"
   ]
  },
  {
   "cell_type": "code",
   "execution_count": 204,
   "id": "2193a171",
   "metadata": {},
   "outputs": [],
   "source": [
    "ndf = ndf.drop(ndf['date'], axis = 0)"
   ]
  },
  {
   "cell_type": "code",
   "execution_count": 207,
   "id": "98808eaa",
   "metadata": {},
   "outputs": [
    {
     "data": {
      "text/html": [
       "<div>\n",
       "<style scoped>\n",
       "    .dataframe tbody tr th:only-of-type {\n",
       "        vertical-align: middle;\n",
       "    }\n",
       "\n",
       "    .dataframe tbody tr th {\n",
       "        vertical-align: top;\n",
       "    }\n",
       "\n",
       "    .dataframe thead th {\n",
       "        text-align: right;\n",
       "    }\n",
       "</style>\n",
       "<table border=\"1\" class=\"dataframe\">\n",
       "  <thead>\n",
       "    <tr style=\"text-align: right;\">\n",
       "      <th></th>\n",
       "      <th>date</th>\n",
       "      <th>두바이유_유가(종가)</th>\n",
       "      <th>브렌트유_유가(종가)</th>\n",
       "      <th>텍사스유_유가(종가)</th>\n",
       "    </tr>\n",
       "    <tr>\n",
       "      <th>date</th>\n",
       "      <th></th>\n",
       "      <th></th>\n",
       "      <th></th>\n",
       "      <th></th>\n",
       "    </tr>\n",
       "  </thead>\n",
       "  <tbody>\n",
       "    <tr>\n",
       "      <th>2021-10-29</th>\n",
       "      <td>2021-10-29</td>\n",
       "      <td>81.37</td>\n",
       "      <td>83.72</td>\n",
       "      <td>83.57</td>\n",
       "    </tr>\n",
       "    <tr>\n",
       "      <th>2021-10-28</th>\n",
       "      <td>2021-10-28</td>\n",
       "      <td>81.27</td>\n",
       "      <td>83.66</td>\n",
       "      <td>82.81</td>\n",
       "    </tr>\n",
       "    <tr>\n",
       "      <th>2021-10-27</th>\n",
       "      <td>2021-10-27</td>\n",
       "      <td>81.44</td>\n",
       "      <td>83.87</td>\n",
       "      <td>82.66</td>\n",
       "    </tr>\n",
       "    <tr>\n",
       "      <th>2021-10-26</th>\n",
       "      <td>2021-10-26</td>\n",
       "      <td>83.23</td>\n",
       "      <td>85.65</td>\n",
       "      <td>84.65</td>\n",
       "    </tr>\n",
       "    <tr>\n",
       "      <th>2021-10-25</th>\n",
       "      <td>2021-10-25</td>\n",
       "      <td>82.72</td>\n",
       "      <td>85.17</td>\n",
       "      <td>83.76</td>\n",
       "    </tr>\n",
       "    <tr>\n",
       "      <th>...</th>\n",
       "      <td>...</td>\n",
       "      <td>...</td>\n",
       "      <td>...</td>\n",
       "      <td>...</td>\n",
       "    </tr>\n",
       "    <tr>\n",
       "      <th>2016-01-07</th>\n",
       "      <td>2016-01-07</td>\n",
       "      <td>29.00</td>\n",
       "      <td>33.75</td>\n",
       "      <td>33.27</td>\n",
       "    </tr>\n",
       "    <tr>\n",
       "      <th>2016-01-06</th>\n",
       "      <td>2016-01-06</td>\n",
       "      <td>28.99</td>\n",
       "      <td>34.23</td>\n",
       "      <td>33.97</td>\n",
       "    </tr>\n",
       "    <tr>\n",
       "      <th>2016-01-05</th>\n",
       "      <td>2016-01-05</td>\n",
       "      <td>30.84</td>\n",
       "      <td>36.42</td>\n",
       "      <td>35.97</td>\n",
       "    </tr>\n",
       "    <tr>\n",
       "      <th>2016-01-04</th>\n",
       "      <td>2016-01-04</td>\n",
       "      <td>32.10</td>\n",
       "      <td>37.22</td>\n",
       "      <td>36.76</td>\n",
       "    </tr>\n",
       "    <tr>\n",
       "      <th>2015-12-31</th>\n",
       "      <td>2015-12-31</td>\n",
       "      <td>34.59</td>\n",
       "      <td>37.28</td>\n",
       "      <td>37.04</td>\n",
       "    </tr>\n",
       "  </tbody>\n",
       "</table>\n",
       "<p>1463 rows × 4 columns</p>\n",
       "</div>"
      ],
      "text/plain": [
       "                 date  두바이유_유가(종가)  브렌트유_유가(종가)  텍사스유_유가(종가)\n",
       "date                                                        \n",
       "2021-10-29 2021-10-29        81.37        83.72        83.57\n",
       "2021-10-28 2021-10-28        81.27        83.66        82.81\n",
       "2021-10-27 2021-10-27        81.44        83.87        82.66\n",
       "2021-10-26 2021-10-26        83.23        85.65        84.65\n",
       "2021-10-25 2021-10-25        82.72        85.17        83.76\n",
       "...               ...          ...          ...          ...\n",
       "2016-01-07 2016-01-07        29.00        33.75        33.27\n",
       "2016-01-06 2016-01-06        28.99        34.23        33.97\n",
       "2016-01-05 2016-01-05        30.84        36.42        35.97\n",
       "2016-01-04 2016-01-04        32.10        37.22        36.76\n",
       "2015-12-31 2015-12-31        34.59        37.28        37.04\n",
       "\n",
       "[1463 rows x 4 columns]"
      ]
     },
     "execution_count": 207,
     "metadata": {},
     "output_type": "execute_result"
    }
   ],
   "source": [
    "ndf"
   ]
  },
  {
   "cell_type": "code",
   "execution_count": 208,
   "id": "6af979cf",
   "metadata": {},
   "outputs": [
    {
     "data": {
      "text/plain": [
       "Index(['date', '두바이유_유가(종가)', '브렌트유_유가(종가)', '텍사스유_유가(종가)'], dtype='object')"
      ]
     },
     "execution_count": 208,
     "metadata": {},
     "output_type": "execute_result"
    }
   ],
   "source": [
    "ndf.columns"
   ]
  },
  {
   "cell_type": "code",
   "execution_count": 209,
   "id": "7f1d8951",
   "metadata": {},
   "outputs": [],
   "source": [
    "ndf = ndf[['두바이유_유가(종가)', '브렌트유_유가(종가)', '텍사스유_유가(종가)']]"
   ]
  },
  {
   "cell_type": "code",
   "execution_count": 248,
   "id": "8e572b4f",
   "metadata": {},
   "outputs": [
    {
     "data": {
      "text/plain": [
       "[<matplotlib.lines.Line2D at 0x1d5d8f3f8e0>]"
      ]
     },
     "execution_count": 248,
     "metadata": {},
     "output_type": "execute_result"
    },
    {
     "data": {
      "image/png": "[encoded data removed]",
      "text/plain": [
       "<Figure size 1440x720 with 1 Axes>"
      ]
     },
     "metadata": {
      "needs_background": "light"
     },
     "output_type": "display_data"
    }
   ],
   "source": [
    "plt.figure(figsize = (20,10))\n",
    "plt.plot(ndf['두바이유_유가(종가)'], color = 'green')\n",
    "plt.plot(ndf['브렌트유_유가(종가)'], color = 'red')\n",
    "plt.plot(ndf['텍사스유_유가(종가)'], color = 'blue')"
   ]
  },
  {
   "cell_type": "code",
   "execution_count": 236,
   "id": "00192e3c",
   "metadata": {},
   "outputs": [
    {
     "data": {
      "text/html": [
       "<div>\n",
       "<style scoped>\n",
       "    .dataframe tbody tr th:only-of-type {\n",
       "        vertical-align: middle;\n",
       "    }\n",
       "\n",
       "    .dataframe tbody tr th {\n",
       "        vertical-align: top;\n",
       "    }\n",
       "\n",
       "    .dataframe thead th {\n",
       "        text-align: right;\n",
       "    }\n",
       "</style>\n",
       "<table border=\"1\" class=\"dataframe\">\n",
       "  <thead>\n",
       "    <tr style=\"text-align: right;\">\n",
       "      <th></th>\n",
       "      <th>두바이유_유가(종가)</th>\n",
       "      <th>브렌트유_유가(종가)</th>\n",
       "      <th>텍사스유_유가(종가)</th>\n",
       "    </tr>\n",
       "  </thead>\n",
       "  <tbody>\n",
       "    <tr>\n",
       "      <th>두바이유_유가(종가)</th>\n",
       "      <td>1.000000</td>\n",
       "      <td>0.987888</td>\n",
       "      <td>0.955772</td>\n",
       "    </tr>\n",
       "    <tr>\n",
       "      <th>브렌트유_유가(종가)</th>\n",
       "      <td>0.987888</td>\n",
       "      <td>1.000000</td>\n",
       "      <td>0.974065</td>\n",
       "    </tr>\n",
       "    <tr>\n",
       "      <th>텍사스유_유가(종가)</th>\n",
       "      <td>0.955772</td>\n",
       "      <td>0.974065</td>\n",
       "      <td>1.000000</td>\n",
       "    </tr>\n",
       "  </tbody>\n",
       "</table>\n",
       "</div>"
      ],
      "text/plain": [
       "             두바이유_유가(종가)  브렌트유_유가(종가)  텍사스유_유가(종가)\n",
       "두바이유_유가(종가)     1.000000     0.987888     0.955772\n",
       "브렌트유_유가(종가)     0.987888     1.000000     0.974065\n",
       "텍사스유_유가(종가)     0.955772     0.974065     1.000000"
      ]
     },
     "execution_count": 236,
     "metadata": {},
     "output_type": "execute_result"
    }
   ],
   "source": [
    "ndf.corr()"
   ]
  },
  {
   "cell_type": "code",
   "execution_count": 223,
   "id": "d5afe5be",
   "metadata": {},
   "outputs": [
    {
     "data": {
      "text/plain": [
       "<AxesSubplot:>"
      ]
     },
     "execution_count": 223,
     "metadata": {},
     "output_type": "execute_result"
    },
    {
     "data": {
      "image/png": "[encoded data removed]",
      "text/plain": [
       "<Figure size 432x288 with 2 Axes>"
      ]
     },
     "metadata": {
      "needs_background": "light"
     },
     "output_type": "display_data"
    }
   ],
   "source": [
    "sns.heatmap(ndf.corr())"
   ]
  },
  {
   "cell_type": "code",
   "execution_count": null,
   "id": "9a2b2790",
   "metadata": {},
   "outputs": [],
   "source": []
  },
  {
   "cell_type": "code",
   "execution_count": null,
   "id": "9ff20e82",
   "metadata": {},
   "outputs": [],
   "source": []
  },
  {
   "cell_type": "code",
   "execution_count": null,
   "id": "08339af3",
   "metadata": {},
   "outputs": [],
   "source": []
  },
  {
   "cell_type": "code",
   "execution_count": null,
   "id": "0ea84fb9",
   "metadata": {},
   "outputs": [],
   "source": [
    "# 두바이유\n",
    "\n",
    "url_du = 'https://finance.naver.com/marketindex/worldDailyQuote.naver?marketindexCd=OIL_DU&fdtc=2'\n",
    "L_d = []\n",
    "for i in range(1,250):\n",
    "    url_du_p = 'https://finance.naver.com/marketindex/worldDailyQuote.naver?marketindexCd=OIL_DU&fdtc=2&page={}'.format(i)\n",
    "    \n",
    "    res = requests.get(url_du_p)    \n",
    "    soup = BeautifulSoup(res.text, 'html.parser')    \n",
    "    path1 = 'body > div > table > tbody > tr'\n",
    "    date = soup.select(path1)\n",
    "\n",
    "    for i in date :\n",
    "        i = re.sub('[\\n\\t]', '', i.text)\n",
    "        L_d.append(i)\n",
    "\n",
    " # 추출된 리스트를 각 변수로 나눈다.\n",
    "date = np.array([i[:10] for i in L_d ])\n",
    "Close = np.array([i[10:15] for i in L_d ])\n",
    "\n",
    "dic = {'날짜' : date, '종가' : Close}   #, '전일대비' : before, '등락율' : ratio}\n",
    "df_Du = pd.DataFrame(dic)\n",
    "df_Du['날짜'] = df_Du['날짜'].astype('datetime64[ns]')\n",
    "df_Du['종가'] = df_Du['종가'].astype('float64')\n"
   ]
  },
  {
   "cell_type": "code",
   "execution_count": null,
   "id": "d281fe27",
   "metadata": {},
   "outputs": [],
   "source": []
  },
  {
   "cell_type": "code",
   "execution_count": null,
   "id": "fb93fff2",
   "metadata": {},
   "outputs": [],
   "source": []
  },
  {
   "cell_type": "code",
   "execution_count": null,
   "id": "1ee2ad0c",
   "metadata": {},
   "outputs": [],
   "source": []
  },
  {
   "cell_type": "code",
   "execution_count": null,
   "id": "1b1e177f",
   "metadata": {},
   "outputs": [],
   "source": []
  },
  {
   "cell_type": "code",
   "execution_count": null,
   "id": "a513259f",
   "metadata": {},
   "outputs": [],
   "source": []
  }
 ],
 "metadata": {
  "kernelspec": {
   "display_name": "Python 3",
   "language": "python",
   "name": "python3"
  },
  "language_info": {
   "codemirror_mode": {
    "name": "ipython",
    "version": 3
   },
   "file_extension": ".py",
   "mimetype": "text/x-python",
   "name": "python",
   "nbconvert_exporter": "python",
   "pygments_lexer": "ipython3",
   "version": "3.8.8"
  }
 },
 "nbformat": 4,
 "nbformat_minor": 5
}
